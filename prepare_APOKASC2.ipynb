{
 "cells": [
  {
   "cell_type": "code",
   "execution_count": 1,
   "metadata": {},
   "outputs": [],
   "source": [
    "from astropy import constants as const\n",
    "import numpy as np\n",
    "import pandas as pd\n",
    "import matplotlib.pyplot as plt\n",
    "import seaborn as sns\n",
    "sns.set_palette('colorblind',10)\n",
    "sns.set_context('notebook')\n",
    "import matplotlib\n",
    "matplotlib.rc('xtick', labelsize=20) \n",
    "matplotlib.rc('ytick', labelsize=20)\n",
    "matplotlib.rc('axes',labelsize=20) "
   ]
  },
  {
   "cell_type": "code",
   "execution_count": 2,
   "metadata": {},
   "outputs": [
    {
     "data": {
      "text/html": [
       "<div>\n",
       "<style scoped>\n",
       "    .dataframe tbody tr th:only-of-type {\n",
       "        vertical-align: middle;\n",
       "    }\n",
       "\n",
       "    .dataframe tbody tr th {\n",
       "        vertical-align: top;\n",
       "    }\n",
       "\n",
       "    .dataframe thead th {\n",
       "        text-align: right;\n",
       "    }\n",
       "</style>\n",
       "<table border=\"1\" class=\"dataframe\">\n",
       "  <thead>\n",
       "    <tr style=\"text-align: right;\">\n",
       "      <th></th>\n",
       "      <th>KICID</th>\n",
       "      <th>kepmag_x</th>\n",
       "      <th>Length_Quarters</th>\n",
       "      <th>Length_days</th>\n",
       "      <th>numax</th>\n",
       "      <th>numax_err</th>\n",
       "      <th>dnu</th>\n",
       "      <th>dnu_err</th>\n",
       "      <th>amplitude</th>\n",
       "      <th>err.2_x</th>\n",
       "      <th>...</th>\n",
       "      <th>Ebv</th>\n",
       "      <th>Aks</th>\n",
       "      <th>Aj</th>\n",
       "      <th>Ah</th>\n",
       "      <th>H17_Ag</th>\n",
       "      <th>L</th>\n",
       "      <th>L_err</th>\n",
       "      <th>Mbol</th>\n",
       "      <th>Mbol_err</th>\n",
       "      <th>Z</th>\n",
       "    </tr>\n",
       "  </thead>\n",
       "  <tbody>\n",
       "  </tbody>\n",
       "</table>\n",
       "<p>0 rows × 165 columns</p>\n",
       "</div>"
      ],
      "text/plain": [
       "Empty DataFrame\n",
       "Columns: [KICID, kepmag_x, Length_Quarters, Length_days, numax, numax_err, dnu, dnu_err, amplitude, err.2_x, fwhm, err.3_x, maxbg, err.4_x, Unnamed: 14, Yu_Teff, Yu_Teff_err, logg, logg_err, [Fe/H], err.2_y, M_noCorrection, M_noCorrection_err, R_noCorrection, R_noCorrection_err, M_RGB, M_RGB_err, R_RGB, R_RGB_err, M_Clump, M_Clump_err, R_Clump, R_Clump_err, stage, Unnamed: 20, designation, source_id, gaia_ref_epoch, ra, ra_error, dec, dec_error, parallax, parallax_error, parallax_over_error, pmra, pmra_error, pmdec, pmdec_error, ra_dec_corr, ra_parallax_corr, ra_pmra_corr, ra_pmdec_corr, dec_parallax_corr, dec_pmra_corr, dec_pmdec_corr, parallax_pmra_corr, parallax_pmdec_corr, pmra_pmdec_corr, astrometric_chi2_al, astrometric_excess_noise, astrometric_excess_noise_sig, astrometric_primary_flag, duplicated_source, phot_g_mean_flux, phot_g_mean_flux_error, GAIAmag, phot_bp_mean_flux, phot_bp_mean_flux_error, phot_bp_mean_mag, phot_rp_mean_flux, phot_rp_mean_flux_error, phot_rp_mean_mag, bp_rp, bp_g, g_rp, radial_velocity, radial_velocity_error, phot_variable_flag, l, b, ecl_lon, ecl_lat, teff_val, teff_percentile_lower, teff_percentile_upper, Ag, a_g_percentile_lower, a_g_percentile_upper, e_bp_min_rp_val, e_bp_min_rp_percentile_lower, e_bp_min_rp_percentile_upper, radius_val, radius_percentile_lower, radius_percentile_upper, lum_val, lum_percentile_lower, lum_percentile_upper, r_est, r_lo, ...]\n",
       "Index: []\n",
       "\n",
       "[0 rows x 165 columns]"
      ]
     },
     "execution_count": 2,
     "metadata": {},
     "output_type": "execute_result"
    }
   ],
   "source": [
    "h18 = pd.read_csv('/home/oliver/PhD/Gaia_Project/data/KepxDR2/rcxyu18.csv')\n",
    "h18.rename(columns={'Teff':'Yu_Teff', 'Teff_err':'Yu_Teff_err'},inplace=True)\n",
    "h18.head(0)"
   ]
  },
  {
   "cell_type": "code",
   "execution_count": 3,
   "metadata": {},
   "outputs": [
    {
     "data": {
      "text/plain": [
       "5576"
      ]
     },
     "execution_count": 3,
     "metadata": {},
     "output_type": "execute_result"
    }
   ],
   "source": [
    "len(h18)"
   ]
  },
  {
   "cell_type": "code",
   "execution_count": 4,
   "metadata": {},
   "outputs": [
    {
     "data": {
      "text/plain": [
       "1637"
      ]
     },
     "execution_count": 4,
     "metadata": {},
     "output_type": "execute_result"
    }
   ],
   "source": [
    "check = pd.read_csv('/home/oliver/PhD/Gaia_Project/data/KepxDR2/rcxyuxapokasc2.csv')\n",
    "len(check)"
   ]
  },
  {
   "cell_type": "code",
   "execution_count": 5,
   "metadata": {},
   "outputs": [],
   "source": [
    "a2 = pd.read_csv('/home/oliver/PhD/Catalogues/APOKASC-2/APOKASC2_Table5.txt',sep='\\t')\n",
    "a2.rename(columns={'KIC':'KICID',\n",
    "                   'S Teff':'Teff_err',\n",
    "                   'Nmax':'A_numax',\n",
    "                   'S Nmax':'A_numax_err',\n",
    "                   'Dnu':'A_dnu',\n",
    "                   'S Dnu':'A_dnu_err',\n",
    "                   'Fdnu':'A_fdnu',\n",
    "                   'S Fdnu':'A_fdnu_err'}, inplace=True)"
   ]
  },
  {
   "cell_type": "code",
   "execution_count": 6,
   "metadata": {},
   "outputs": [],
   "source": [
    "df = pd.merge(h18, a2, on='KICID', how='left')\n",
    "columns=['KICID','numax', 'numax_err', 'dnu', 'dnu_err','Yu_Teff','Yu_Teff_err','ra','dec','parallax','parallax_error',\n",
    "        'GAIAmag','Ag','e_GAIAmag','Kmag','e_Kmag','ccd','b17','Ebv','Aks','Z', 'Teff','Teff_err',\n",
    "         'M_Clump','M_Clump_err','R_Clump','R_Clump_err',\n",
    "        'A_numax','A_numax_err','A_dnu','A_dnu_err','A_fdnu','A_fdnu_err','[Fe/H]']\n",
    "df = df[columns].dropna().reset_index(drop=True)\n",
    "df.drop(df[df.Teff == '...'].index.values, inplace=True)\n",
    "df.drop(df[df.A_fdnu == '...'].index.values, inplace=True)"
   ]
  },
  {
   "cell_type": "code",
   "execution_count": 7,
   "metadata": {},
   "outputs": [],
   "source": [
    "df['A_numax'] = df.A_numax.astype(float)\n",
    "df['A_numax_err'] = df.A_numax_err.astype(float)\n",
    "df['A_dnu'] = df.A_dnu.astype(float)\n",
    "df['A_dnu_err'] = df.A_dnu_err.astype(float)\n",
    "df['A_fdnu'] = df.A_fdnu.astype(float)\n",
    "df['A_fdnu_err'] = df.A_fdnu_err.astype(float)"
   ]
  },
  {
   "cell_type": "code",
   "execution_count": 10,
   "metadata": {},
   "outputs": [],
   "source": [
    "df['Teff'] = df.Teff.astype(float)\n",
    "df['Teff_err'] = df.Teff_err.astype(float)"
   ]
  },
  {
   "cell_type": "code",
   "execution_count": 11,
   "metadata": {},
   "outputs": [
    {
     "data": {
      "text/plain": [
       "1637"
      ]
     },
     "execution_count": 11,
     "metadata": {},
     "output_type": "execute_result"
    }
   ],
   "source": [
    "len(df)"
   ]
  },
  {
   "cell_type": "code",
   "execution_count": 15,
   "metadata": {},
   "outputs": [],
   "source": [
    "df.to_csv('/home/oliver/PhD/Gaia_Project/data/KepxDR2/rcxyuxapokasc2.csv',index=False)"
   ]
  },
  {
   "cell_type": "markdown",
   "metadata": {},
   "source": [
    "## Lets do some quick comparisons for these stars to the Yu values"
   ]
  },
  {
   "cell_type": "code",
   "execution_count": null,
   "metadata": {},
   "outputs": [],
   "source": [
    "matplotlib.rcParams['text.usetex']=False\n",
    "\n",
    "sns.jointplot(df.numax, df.A_numax)\n",
    "plt.show()\n"
   ]
  },
  {
   "cell_type": "code",
   "execution_count": null,
   "metadata": {},
   "outputs": [],
   "source": [
    "sns.jointplot(df.dnu, df.A_dnu)\n",
    "plt.show()"
   ]
  },
  {
   "cell_type": "code",
   "execution_count": null,
   "metadata": {},
   "outputs": [],
   "source": [
    "plt.scatter(df.Teff, df.A_Teff)\n",
    "plt.plot(df.Teff, df.Teff,c='r')\n",
    "plt.show()"
   ]
  },
  {
   "cell_type": "code",
   "execution_count": null,
   "metadata": {},
   "outputs": [],
   "source": [
    "len(df)"
   ]
  },
  {
   "cell_type": "code",
   "execution_count": null,
   "metadata": {},
   "outputs": [],
   "source": []
  }
 ],
 "metadata": {
  "kernelspec": {
   "display_name": "Python 2",
   "language": "python",
   "name": "python2"
  },
  "language_info": {
   "codemirror_mode": {
    "name": "ipython",
    "version": 2
   },
   "file_extension": ".py",
   "mimetype": "text/x-python",
   "name": "python",
   "nbconvert_exporter": "python",
   "pygments_lexer": "ipython2",
   "version": "2.7.15rc1"
  }
 },
 "nbformat": 4,
 "nbformat_minor": 2
}
