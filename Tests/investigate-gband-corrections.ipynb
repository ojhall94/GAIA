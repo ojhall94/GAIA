{
 "cells": [
  {
   "cell_type": "code",
   "execution_count": 6,
   "metadata": {},
   "outputs": [],
   "source": [
    "# !/bin/env python\n",
    "# -*- coding: utf-8 -*-\n",
    "import numpy as np\n",
    "import matplotlib.pyplot as plt\n",
    "import seaborn as sns\n",
    "import matplotlib\n",
    "sns.set_palette('colorblind')\n",
    "matplotlib.rc('xtick', labelsize=15)\n",
    "matplotlib.rc('ytick', labelsize=15)\n",
    "matplotlib.rc('axes',labelsize=15)\n",
    "matplotlib.rcParams['text.usetex'] = False\n",
    "\n",
    "import pandas as pd\n",
    "import pystan\n",
    "import corner\n",
    "\n",
    "import pickle\n",
    "import glob\n",
    "\n",
    "import os\n",
    "import sys\n",
    "\n",
    "__outdir__ = os.path.expanduser('~')+'/PhD/Gaia_Project/Output/Parallax_Runs/Highruns/'\n",
    "__datdir__ = os.path.expanduser('~')+'/PhD/Gaia_Project/data/KepxDR2/'\n",
    "\n",
    "\n",
    "def read_data():\n",
    "    sfile = __datdir__+'rcxyu18.csv'\n",
    "    df = pd.read_csv(sfile)\n",
    "    return df\n",
    "\n",
    "df = read_data()\n",
    "\n",
    "#Correct the Gaia G mags as per Casagrande & Vandenberg 2018b\n",
    "mband = np.ones(len(df)) * df.GAIAmag.values\n",
    "sel = (mband > 6.) & (mband < 16.5)\n",
    "mband[sel] = 0.0505 + 0.9966*mband[sel]\n",
    "merr = np.ones(len(mband)) * 10.e-3 #Setting precision to 10mmag by default\n",
    "\n",
    "\n",
    "mband2 = np.ones(len(df)) * df.GAIAmag.values\n",
    "sel = (mband2 > 6.) & (mband2 < 16.)\n",
    "mband2[sel] = mband2[sel] - 0.0032*(mband2[sel] - 6.)"
   ]
  },
  {
   "cell_type": "code",
   "execution_count": 12,
   "metadata": {},
   "outputs": [
    {
     "data": {
      "text/plain": [
       "<matplotlib.lines.Line2D at 0x10b1dff98>"
      ]
     },
     "execution_count": 12,
     "metadata": {},
     "output_type": "execute_result"
    },
    {
     "data": {
      "image/png": "[encoded data removed]",
      "text/plain": [
       "<Figure size 864x576 with 1 Axes>"
      ]
     },
     "metadata": {
      "needs_background": "light"
     },
     "output_type": "display_data"
    }
   ],
   "source": [
    "fig = plt.figure(figsize=(12,8))\n",
    "plt.scatter(mband2, mband-mband2)\n",
    "plt.scatter(mband2, df.GAIAmag.values - mband2)\n",
    "plt.axhline(10.e-3)\n",
    "plt.axhline(-10.e-3)"
   ]
  },
  {
   "cell_type": "code",
   "execution_count": null,
   "metadata": {},
   "outputs": [],
   "source": []
  }
 ],
 "metadata": {
  "kernelspec": {
   "display_name": "Python 3",
   "language": "python",
   "name": "python3"
  },
  "language_info": {
   "codemirror_mode": {
    "name": "ipython",
    "version": 3
   },
   "file_extension": ".py",
   "mimetype": "text/x-python",
   "name": "python",
   "nbconvert_exporter": "python",
   "pygments_lexer": "ipython3",
   "version": "3.6.5"
  }
 },
 "nbformat": 4,
 "nbformat_minor": 2
}
