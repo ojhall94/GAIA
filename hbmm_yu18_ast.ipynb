{
 "cells": [
  {
   "cell_type": "markdown",
   "metadata": {},
   "source": [
    "# Code for fitting Astero RC data"
   ]
  },
  {
   "cell_type": "code",
   "execution_count": 1,
   "metadata": {},
   "outputs": [],
   "source": [
    "import numpy as np\n",
    "import matplotlib.pyplot as plt\n",
    "import seaborn as sns\n",
    "import matplotlib\n",
    "sns.set_palette('colorblind',20)\n",
    "sns.set_context('notebook')\n",
    "matplotlib.rc('xtick', labelsize=15) \n",
    "matplotlib.rc('ytick', labelsize=15)\n",
    "matplotlib.rc('axes',labelsize=15) \n",
    "import pandas as pd\n",
    "import pystan\n",
    "\n",
    "import os\n",
    "import pickle\n",
    "\n",
    "els = False\n",
    "\n",
    "import sys"
   ]
  },
  {
   "cell_type": "code",
   "execution_count": 2,
   "metadata": {},
   "outputs": [],
   "source": [
    "def read_data(els=False):\n",
    "    if els:\n",
    "        sfile = '../data/KepxDR2/elsxrcxyu18.csv'\n",
    "    else:\n",
    "        sfile = '../data/KepxDR2/rcxyu18.csv'\n",
    "    df = pd.read_csv(sfile)\n",
    "    return df\n",
    "\n",
    "def normal(x, mu, sigma):\n",
    "    return (1/np.sqrt(2*np.pi*sigma**2)) * np.exp(-(x - mu)**2/(2*sigma**2))"
   ]
  },
  {
   "cell_type": "code",
   "execution_count": 3,
   "metadata": {},
   "outputs": [
    {
     "name": "stdout",
     "output_type": "stream",
     "text": [
      "Size: 7497\n"
     ]
    },
    {
     "data": {
      "text/html": [
       "<div>\n",
       "<style scoped>\n",
       "    .dataframe tbody tr th:only-of-type {\n",
       "        vertical-align: middle;\n",
       "    }\n",
       "\n",
       "    .dataframe tbody tr th {\n",
       "        vertical-align: top;\n",
       "    }\n",
       "\n",
       "    .dataframe thead th {\n",
       "        text-align: right;\n",
       "    }\n",
       "</style>\n",
       "<table border=\"1\" class=\"dataframe\">\n",
       "  <thead>\n",
       "    <tr style=\"text-align: right;\">\n",
       "      <th></th>\n",
       "      <th>KICID</th>\n",
       "      <th>kepmag_x</th>\n",
       "      <th>Length_Quarters</th>\n",
       "      <th>Length_days</th>\n",
       "      <th>numax</th>\n",
       "      <th>numax_err</th>\n",
       "      <th>dnu</th>\n",
       "      <th>dnu_err</th>\n",
       "      <th>amplitude</th>\n",
       "      <th>err.2_x</th>\n",
       "      <th>...</th>\n",
       "      <th>BC_GBP</th>\n",
       "      <th>BC_GRP</th>\n",
       "      <th>BC_J</th>\n",
       "      <th>BC_H</th>\n",
       "      <th>BC_K</th>\n",
       "      <th>ast_MKs</th>\n",
       "      <th>ast_MH</th>\n",
       "      <th>ast_MJ</th>\n",
       "      <th>ast_MG</th>\n",
       "      <th>ast_M_err</th>\n",
       "    </tr>\n",
       "  </thead>\n",
       "  <tbody>\n",
       "    <tr>\n",
       "      <th>0</th>\n",
       "      <td>892760</td>\n",
       "      <td>13.23</td>\n",
       "      <td>6</td>\n",
       "      <td>380.8</td>\n",
       "      <td>29.48</td>\n",
       "      <td>0.48</td>\n",
       "      <td>3.962</td>\n",
       "      <td>0.116</td>\n",
       "      <td>149.7</td>\n",
       "      <td>8.3</td>\n",
       "      <td>...</td>\n",
       "      <td>-0.740</td>\n",
       "      <td>0.388</td>\n",
       "      <td>1.206</td>\n",
       "      <td>1.638</td>\n",
       "      <td>1.766</td>\n",
       "      <td>-1.671046</td>\n",
       "      <td>-1.543046</td>\n",
       "      <td>-1.111046</td>\n",
       "      <td>0.343954</td>\n",
       "      <td>0.206767</td>\n",
       "    </tr>\n",
       "    <tr>\n",
       "      <th>1</th>\n",
       "      <td>1026084</td>\n",
       "      <td>12.14</td>\n",
       "      <td>15</td>\n",
       "      <td>1139.0</td>\n",
       "      <td>41.17</td>\n",
       "      <td>0.90</td>\n",
       "      <td>4.414</td>\n",
       "      <td>0.061</td>\n",
       "      <td>63.8</td>\n",
       "      <td>2.9</td>\n",
       "      <td>...</td>\n",
       "      <td>-0.754</td>\n",
       "      <td>0.409</td>\n",
       "      <td>1.252</td>\n",
       "      <td>1.706</td>\n",
       "      <td>1.840</td>\n",
       "      <td>-1.878376</td>\n",
       "      <td>-1.744376</td>\n",
       "      <td>-1.290376</td>\n",
       "      <td>0.205624</td>\n",
       "      <td>0.166498</td>\n",
       "    </tr>\n",
       "  </tbody>\n",
       "</table>\n",
       "<p>2 rows × 170 columns</p>\n",
       "</div>"
      ],
      "text/plain": [
       "     KICID  kepmag_x  Length_Quarters  Length_days  numax  numax_err    dnu  \\\n",
       "0   892760     13.23                6        380.8  29.48       0.48  3.962   \n",
       "1  1026084     12.14               15       1139.0  41.17       0.90  4.414   \n",
       "\n",
       "   dnu_err  amplitude  err.2_x    ...      BC_GBP  BC_GRP   BC_J   BC_H  \\\n",
       "0    0.116      149.7      8.3    ...      -0.740   0.388  1.206  1.638   \n",
       "1    0.061       63.8      2.9    ...      -0.754   0.409  1.252  1.706   \n",
       "\n",
       "    BC_K   ast_MKs    ast_MH    ast_MJ    ast_MG  ast_M_err  \n",
       "0  1.766 -1.671046 -1.543046 -1.111046  0.343954   0.206767  \n",
       "1  1.840 -1.878376 -1.744376 -1.290376  0.205624   0.166498  \n",
       "\n",
       "[2 rows x 170 columns]"
      ]
     },
     "execution_count": 3,
     "metadata": {},
     "output_type": "execute_result"
    }
   ],
   "source": [
    "df = read_data(els)\n",
    "print('Size: '+str(len(df)))\n",
    "df.head(2)"
   ]
  },
  {
   "cell_type": "code",
   "execution_count": 4,
   "metadata": {},
   "outputs": [
    {
     "name": "stdout",
     "output_type": "stream",
     "text": [
      "Size: 7497\n"
     ]
    }
   ],
   "source": [
    "if els == False:\n",
    "#     df = df[(df.dnu > 3.5) & (df.dnu < 4.5)] #Cut in dnu\n",
    "#     df = df[(df.M < 2.0)] #Cut in mass\n",
    "    print('Size: '+str(len(df)))"
   ]
  },
  {
   "cell_type": "code",
   "execution_count": 5,
   "metadata": {},
   "outputs": [],
   "source": [
    "if els:\n",
    "    df = df[(df.elstage == 'RC') | (df.elstage =='RGB') | (df.elstage=='2CL')]\n",
    "#     df = df[(df.dnu > 3.5) & (df.dnu < 4.5)] #Cut in dnu\n",
    "    df = df[(df.M < 2.0)] #Cut in mass\n",
    "    sns.distplot(df.ast_MKs[df.elstage=='RC'],label='RC')\n",
    "    sns.distplot(df.ast_MKs[df.elstage=='2CL'],label='2CL')\n",
    "    sns.distplot(df.ast_MKs[df.elstage=='RGB'],label='RGB')\n",
    "    sns.distplot(df.ast_MKs, label='Full')\n",
    "    plt.legend(fontsize=15)\n",
    "    plt.show()    \n",
    "    print('Targets: '+str(len(df)))\n",
    "    print('Q: '+str(float(len(df[df.elstage=='RC']))/len(df)))"
   ]
  },
  {
   "cell_type": "code",
   "execution_count": 6,
   "metadata": {},
   "outputs": [
    {
     "data": {
      "image/png": "[encoded data removed]",
      "text/plain": [
       "<matplotlib.figure.Figure at 0x7fcacc5467d0>"
      ]
     },
     "metadata": {},
     "output_type": "display_data"
    },
    {
     "name": "stdout",
     "output_type": "stream",
     "text": [
      "-1.7155484516776585\n"
     ]
    }
   ],
   "source": [
    "'''Step one is figuring out the different distributions we want'''\n",
    "df.head(2)\n",
    "Ks = df.ast_MKs.values\n",
    "x = np.linspace(Ks.min(),Ks.max(),1000)\n",
    "\n",
    "rQ = 0.6\n",
    "rmu = np.median(Ks)\n",
    "rsigma = .05\n",
    "rsigo = .35\n",
    "\n",
    "rfg = normal(x, rmu, rsigma)\n",
    "rbg = normal(x, rmu, rsigo)\n",
    "pp = rQ*rfg + (1-rQ)*rbg\n",
    "\n",
    "sns.distplot(Ks, label='Observed')\n",
    "plt.plot(x,pp, label='Likelihood')\n",
    "plt.show()\n",
    "\n",
    "print(np.median(Ks))"
   ]
  },
  {
   "cell_type": "markdown",
   "metadata": {},
   "source": [
    "## Stan model for asteroseismic values"
   ]
  },
  {
   "cell_type": "code",
   "execution_count": 7,
   "metadata": {},
   "outputs": [
    {
     "name": "stdout",
     "output_type": "stream",
     "text": [
      "Loading in existing Stan Model\n"
     ]
    }
   ],
   "source": [
    "overwrite = False\n",
    "asterostan = '''\n",
    "data {\n",
    "    int<lower = 0> N;\n",
    "    real Mobs[N];\n",
    "    real Munc[N];\n",
    "}\n",
    "parameters {\n",
    "    //Hyperparameters\n",
    "    real mu;\n",
    "    real <lower=0.> sigma;\n",
    "    real <lower=0.,upper=1.> Q;\n",
    "    real <lower=.3> sigo;\n",
    "\n",
    "    //Latent Parameters\n",
    "    real Mtrue_std[N];\n",
    "}\n",
    "transformed parameters{\n",
    "    real Mtrue[N];\n",
    "    real tsigo;\n",
    "    \n",
    "    for (n in 1:N){\n",
    "        Mtrue[n] = mu + sigma*Mtrue_std[n];\n",
    "    }\n",
    "    tsigo = sigo / sigma;\n",
    "}\n",
    "model {\n",
    "    mu ~ uniform(-1.9, -1.5); //p(theta)\n",
    "    sigma ~ normal(.05, 0.02);//''\n",
    "    sigo ~ uniform (.3, 3.);  //''\n",
    "    Q ~ uniform(0., 1.);      //''  \n",
    "    \n",
    "    Mobs ~ normal(Mtrue, Munc); //p(D | theta, alpha)\n",
    "    \n",
    "    //p(alpha | theta)\n",
    "    for (n in 1:N)\n",
    "        target += log_mix(Q,\n",
    "                    normal_lpdf(Mtrue_std[n] | 0., 1.),\n",
    "                    normal_lpdf(Mtrue_std[n] | 0, tsigo));\n",
    "}\n",
    "'''\n",
    "model_path = 'asterostan.pkl'\n",
    "if overwrite:\n",
    "    print('Updating Stan model')\n",
    "    sm = pystan.StanModel(model_code = asterostan, model_name='asterostan')\n",
    "    with open(model_path, 'wb') as f:\n",
    "        pickle.dump(sm, f)\n",
    "else:\n",
    "    if os.path.isfile(model_path):\n",
    "        print('Loading in existing Stan Model') \n",
    "        sm = pickle.load(open(model_path, 'rb'))\n",
    "    else:\n",
    "        print('Saving Stan Model') \n",
    "        sm = pystan.StanModel(model_code = asterostan, model_name='asterostan')\n",
    "        with open(model_path, 'wb') as f:\n",
    "            pickle.dump(sm, f)"
   ]
  },
  {
   "cell_type": "code",
   "execution_count": null,
   "metadata": {},
   "outputs": [],
   "source": [
    "sel = df[:2000]\n",
    "Mobs = sel.ast_MKs.values\n",
    "Munc = sel.ast_M_err.values\n",
    "m = sel.Kmag.values\n",
    "dat = {'N': len(sel),\n",
    "      'Mobs': Mobs,\n",
    "      'Munc' : Munc}\n",
    "\n",
    "init = {'mu': rmu,\n",
    "       'sigma': rsigma,\n",
    "       'Q': rQ,\n",
    "       'sigo': rsigo}\n",
    "\n",
    "fit = sm.sampling(data=dat, iter=10000, chains=1, init=[init])"
   ]
  },
  {
   "cell_type": "code",
   "execution_count": null,
   "metadata": {},
   "outputs": [],
   "source": [
    "import corner\n",
    "chain = np.array([fit['mu'],fit['sigma'],fit['Q'],fit['sigo']])\n",
    "corner.corner(chain.T,labels=['mu','sigma','Q','sigo'],\n",
    "                  quantiles=[0.16, 0.5, 0.84],\\\n",
    "                  show_titles=True, title_kwargs={\"fontsize\": 12})\n",
    "plt.show()"
   ]
  },
  {
   "cell_type": "code",
   "execution_count": null,
   "metadata": {},
   "outputs": [],
   "source": [
    "fit.plot()\n",
    "plt.show()"
   ]
  },
  {
   "cell_type": "code",
   "execution_count": null,
   "metadata": {},
   "outputs": [],
   "source": [
    "mu = np.median(fit['mu'])\n",
    "sigma = np.median(fit['sigma'])\n",
    "sigo = (np.median(fit['sigo']))\n",
    "Q = np.median(fit['Q'])\n",
    "Mtrue = np.median(fit['Mtrue'],axis=0)\n",
    "\n",
    "x = np.linspace(Mobs.min(), Mobs.max(),1000)\n",
    "fg = normal(x, mu, sigma)\n",
    "bg = normal(x, mu, sigo)\n",
    "L = Q*fg + (1-Q)*bg"
   ]
  },
  {
   "cell_type": "code",
   "execution_count": null,
   "metadata": {},
   "outputs": [],
   "source": [
    "left, bottom, width, height = 0.1, 0.47, 1., 0.60\n",
    "fig = plt.figure(1, figsize=(8,8))\n",
    "sax = fig.add_axes([left, bottom, width, height])\n",
    "xax = fig.add_axes([left, 0.1, width, 0.3])\n",
    "\n",
    "sax.scatter(Mobs,m,s=5,zorder=1000)\n",
    "sax.errorbar(Mobs,m,xerr=Munc,c='grey',fmt='o',alpha=.1,zorder=999)\n",
    "\n",
    "sns.distplot(Mobs, ax=xax, label='M obs')\n",
    "xax.plot(x,fg,label='Foreground',zorder=999)\n",
    "xax.plot(x,bg,label='Background',zorder=998)\n",
    "xax.plot(x, L,label='True likelihood',zorder=997)\n",
    "xax.legend()\n",
    "\n",
    "sax.set_xlabel('Absmag in K')\n",
    "sax.set_ylabel('App mag in K')\n",
    "xax.set_ylabel('Units arbitrary')"
   ]
  },
  {
   "cell_type": "code",
   "execution_count": null,
   "metadata": {},
   "outputs": [],
   "source": [
    "left, bottom, width, height = 0.1, 0.47, 1., 0.60\n",
    "fig = plt.figure(1, figsize=(8,8))\n",
    "sax = fig.add_axes([left, bottom, width, height])\n",
    "xax = fig.add_axes([left, 0.1, width, 0.3])\n",
    "\n",
    "sax.scatter(Mtrue,m,s=5,zorder=1000)\n",
    "sax.errorbar(Mobs,m,xerr=Munc,c='grey',fmt='o',alpha=.1,zorder=999)\n",
    "\n",
    "sns.distplot(Mtrue,ax=xax, label='M True')\n",
    "xax.plot(x,fg,label='Foreground',zorder=999)\n",
    "xax.plot(x,bg,label='Background',zorder=998)\n",
    "xax.plot(x, L,label='True likelihood',zorder=997)\n",
    "xax.legend()\n",
    "\n",
    "sax.set_xlabel('Absmag in K')\n",
    "sax.set_ylabel('App mag in K')\n",
    "xax.set_ylabel('Units arbitrary')"
   ]
  },
  {
   "cell_type": "code",
   "execution_count": null,
   "metadata": {},
   "outputs": [],
   "source": [
    "fig = plt.figure(figsize=(10,10))\n",
    "sns.distplot(Mobs, label='Observed data')\n",
    "sns.distplot(Mtrue, label='Inferred truth')\n",
    "plt.plot(x, L, label='Fit distribution')\n",
    "plt.legend(fontsize=20)\n",
    "plt.show()"
   ]
  },
  {
   "cell_type": "code",
   "execution_count": null,
   "metadata": {},
   "outputs": [],
   "source": [
    "print(fit)"
   ]
  },
  {
   "cell_type": "code",
   "execution_count": null,
   "metadata": {},
   "outputs": [],
   "source": [
    "s = fit.summary()\n",
    "print(s['summary'][:,-1])\n",
    "rhat = s['summary'][:,-1]\n",
    "rhatfin = rhat[np.isfinite(rhat)]\n",
    "print('Total number of Rhats: '+str(len(rhat)))\n",
    "print('Total number of Rhats with the NaN values removed: '+str(len(rhatfin)))\n",
    "sns.distplot(rhatfin)\n",
    "plt.show()"
   ]
  },
  {
   "cell_type": "code",
   "execution_count": null,
   "metadata": {},
   "outputs": [],
   "source": [
    "sys.exit()"
   ]
  },
  {
   "cell_type": "markdown",
   "metadata": {},
   "source": [
    "## Other useful code"
   ]
  },
  {
   "cell_type": "code",
   "execution_count": null,
   "metadata": {},
   "outputs": [],
   "source": [
    "sns.distplot(Ks[heb])\n",
    "plt.scatter(Ks,fg,s=3)\n",
    "sns.distplot(Ks[~heb])\n",
    "plt.scatter(Ks,bg,s=3)\n",
    "plt.show()\n",
    "\n",
    "sns.distplot(Ks)\n",
    "plt.scatter(Ks,L,s=3)\n",
    "plt.show()"
   ]
  },
  {
   "cell_type": "code",
   "execution_count": null,
   "metadata": {},
   "outputs": [],
   "source": [
    "sys.exit()\n"
   ]
  },
  {
   "cell_type": "code",
   "execution_count": null,
   "metadata": {},
   "outputs": [],
   "source": [
    "#Calculate recall vs precision for various Kass+Raftery94 cut off scales\n",
    "'''Calculate the Kass+Raftery94 lnK values'''\n",
    "lnK = np.log(post_prob) - np.log(bg_pp)\n",
    "\n",
    "recall, precision = [], []\n",
    "for lim in np.linspace(lnK.min(),lnK.max(),1000):\n",
    "    mask = lnK > lim\n",
    "    cheb_correct = len(Ks[mask][stage[mask]==2])\n",
    "    cheb_total = len(Ks[stage==2])\n",
    "    identified_total = len(Ks[mask])\n",
    "    recall.append(float(cheb_correct)/float(cheb_total))\n",
    "    try:\n",
    "        precision.append(float(cheb_correct)/float(identified_total))\n",
    "    except:\n",
    "        precision.append(0.)\n",
    "        \n",
    "fig, ax = plt.subplots()\n",
    "col = ax.scatter(recall, precision, c=np.linspace(lnK.min(),lnK.max(),1000),vmin=0.)\n",
    "ax.axhline(0.9,c='r',label='0.9 precision')\n",
    "ax.set_xlabel('Recall')\n",
    "ax.set_ylabel('Precision')\n",
    "ax.grid()\n",
    "ax.set_axisbelow(True)\n",
    "fig.colorbar(col, label='lnK cut-off point',extend='min')\n",
    "plt.show()        \n"
   ]
  },
  {
   "cell_type": "code",
   "execution_count": null,
   "metadata": {},
   "outputs": [],
   "source": [
    "import barbershop\n",
    "%pylab inline\n",
    "barber = barbershop.open(df,'ast_MKs','M')\n",
    "barber.add_client('stage')\n",
    "barber.add_client('logg')\n",
    "barber.add_client('M')\n",
    "barber.histograms_on(x=True, y=True)\n",
    "barber.show_mirror()"
   ]
  },
  {
   "cell_type": "code",
   "execution_count": null,
   "metadata": {},
   "outputs": [],
   "source": [
    "list(df)\n",
    "import os\n",
    "os.path.isfile('../data/KepxDR2/MRCxyu18.csv')"
   ]
  },
  {
   "cell_type": "code",
   "execution_count": null,
   "metadata": {},
   "outputs": [],
   "source": [
    "'''\n",
    "generated quantities {\n",
    "    vector[N] post_prob;\n",
    "    vector[N] bg_pp;\n",
    "    real ll_fg;\n",
    "    real ll_bg;\n",
    "    \n",
    "    for (n in 1:N){\n",
    "        ll_fg = log(Q) + normal_lpdf(M_true_std[n] | 0, 1);\n",
    "        ll_bg = log(1-Q) + normal_lpdf(M_true_std[n] | tmuo, tsigo);\n",
    "        post_prob[n] = exp(ll_fg - log_sum_exp(ll_fg, ll_bg));\n",
    "        bg_pp[n] = exp(ll_bg - log_sum_exp(ll_fg, ll_bg));\n",
    "    }\n",
    "}\n",
    "'''"
   ]
  },
  {
   "cell_type": "code",
   "execution_count": null,
   "metadata": {},
   "outputs": [],
   "source": [
    "left, bottom, width, height = 0.1, 0.47, 0.85, 0.60\n",
    "fig = plt.figure(1, figsize=(8,8))\n",
    "sax = fig.add_axes([left, bottom, width, height])\n",
    "xax = fig.add_axes([left, 0.1, width, 0.3])\n",
    "\n",
    "# cax = fig.add_axes([left+width+0.01, bottom, 0.05, height])\n",
    "\n",
    "c = sax.scatter(M,m,s=5,c=post_prob,zorder=1000)\n",
    "# fig.colorbar(c, cax=cax, label='Posterior Probability')\n",
    "sax.errorbar(M,m,xerr=M_err,c='grey',fmt='none',alpha=.3,zorder=999)\n",
    "\n",
    "sns.distplot(M,ax=xax)\n",
    "\n",
    "xax.scatter(M,fg,s=3,label='Foreground', alpha=.5,c='orange',zorder=999)\n",
    "xax.scatter(M,bg,s=3,label='Background', alpha=.5,c='red',zorder=998)\n",
    "xax.scatter(M, L,s=3,label='True likelihood', alpha=.5,c='green',zorder=997)\n",
    "\n",
    "sax.set_xlabel('Absmag in K')\n",
    "sax.set_ylabel('App mag in K')\n",
    "xax.set_ylabel('Units arbitrary')"
   ]
  },
  {
   "cell_type": "code",
   "execution_count": null,
   "metadata": {},
   "outputs": [],
   "source": [
    "#Calculate recall vs precision for various Kass+Raftery94 cut off scales\n",
    "'''Calculate the Kass+Raftery94 lnK values'''\n",
    "lnK = np.log(post_prob) - np.log(bg_pp)\n",
    "mask = lnK > 1.\n",
    "\n",
    "cheb_correct = len(M[mask][sel.stage[mask]==2])\n",
    "cheb_total = len(M)\n",
    "identified_total = len(M[mask])\n",
    "recall = float(cheb_correct)/float(cheb_total)\n",
    "\n",
    "print('Total stars: '+str(cheb_total))\n",
    "print('Total IDd as inlier: '+str(cheb_correct))\n",
    "print('Total rejected: '+str(cheb_total-cheb_correct))\n",
    "print('This is a '+str((cheb_total-cheb_correct)*100./cheb_total)+'% rejection.')"
   ]
  },
  {
   "cell_type": "code",
   "execution_count": null,
   "metadata": {},
   "outputs": [],
   "source": [
    "fig, (ax,ax2)  = plt.subplots(2,figsize=(10,10))\n",
    "ax.scatter(M[~mask],m[~mask],s=5,c=post_prob[~mask],zorder=1000, label='Outliers')\n",
    "fig.colorbar(c,ax=ax, label='Posterior Probability')\n",
    "ax.errorbar(M[~mask],m[~mask],xerr=M_err[~mask],c='grey',fmt='none',alpha=.3,zorder=999,label='Unc')\n",
    "ax.scatter(M[mask],m[mask],s=1,alpha=.1,c='r', label='Inliers')\n",
    "ax.legend()\n",
    "\n",
    "ax2.scatter(M[mask],m[mask],s=5,c=post_prob[mask],zorder=1000, label='Inliers')\n",
    "fig.colorbar(c, ax = ax2, label='Posterior Probability')\n",
    "ax2.errorbar(M[mask],m[mask],xerr=M_err[mask],c='grey',fmt='none',alpha=.3,zorder=999,label='Unc')\n",
    "ax2.scatter(M[~mask],m[~mask],s=10,alpha=.5,c='r',label='Outliers')\n",
    "ax2.legend()\n",
    "\n",
    "ax.set_xlabel('Absmag in K')\n",
    "ax.set_ylabel('App mag in K')\n",
    "plt.show()"
   ]
  },
  {
   "cell_type": "markdown",
   "metadata": {},
   "source": [
    "What the above plot indicates is that inlier stars are defined by uncertainty more than anything else, and that allt he outlier stars have uncertainties that end near a similar limit, whereas the inlier stars can be more spread out, so long as their uncertainties have a chance at placing them at the overdensity."
   ]
  }
 ],
 "metadata": {
  "kernelspec": {
   "display_name": "Python 2",
   "language": "python",
   "name": "python2"
  },
  "language_info": {
   "codemirror_mode": {
    "name": "ipython",
    "version": 2
   },
   "file_extension": ".py",
   "mimetype": "text/x-python",
   "name": "python",
   "nbconvert_exporter": "python",
   "pygments_lexer": "ipython2",
   "version": "2.7.12"
  }
 },
 "nbformat": 4,
 "nbformat_minor": 2
}
