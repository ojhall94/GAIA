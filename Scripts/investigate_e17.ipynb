{
 "cells": [
  {
   "cell_type": "code",
   "execution_count": 16,
   "metadata": {},
   "outputs": [],
   "source": [
    "import omnitool\n",
    "from omnitool.literature_values import *\n",
    "import barbershop\n",
    "\n",
    "import numpy as np\n",
    "import pandas as pd\n",
    "import matplotlib.pyplot as plt\n",
    "import seaborn as sns"
   ]
  },
  {
   "cell_type": "code",
   "execution_count": 24,
   "metadata": {},
   "outputs": [
    {
     "data": {
      "text/html": [
       "<div>\n",
       "<style scoped>\n",
       "    .dataframe tbody tr th:only-of-type {\n",
       "        vertical-align: middle;\n",
       "    }\n",
       "\n",
       "    .dataframe tbody tr th {\n",
       "        vertical-align: top;\n",
       "    }\n",
       "\n",
       "    .dataframe thead th {\n",
       "        text-align: right;\n",
       "    }\n",
       "</style>\n",
       "<table border=\"1\" class=\"dataframe\">\n",
       "  <thead>\n",
       "    <tr style=\"text-align: right;\">\n",
       "      <th></th>\n",
       "      <th>KIC</th>\n",
       "      <th>astero_parallax</th>\n",
       "      <th>astero_parallax_err</th>\n",
       "      <th>parallax</th>\n",
       "      <th>parallax_error</th>\n",
       "      <th>2MASS</th>\n",
       "      <th>GLAT</th>\n",
       "      <th>GLON</th>\n",
       "      <th>Teff</th>\n",
       "      <th>e_Teff</th>\n",
       "      <th>...</th>\n",
       "      <th>e_Dnu</th>\n",
       "      <th>numax</th>\n",
       "      <th>e_numax</th>\n",
       "      <th>[M/H]1</th>\n",
       "      <th>e_[M/H]1</th>\n",
       "      <th>kic_jmag</th>\n",
       "      <th>kic_hmag</th>\n",
       "      <th>kic_kmag</th>\n",
       "      <th>stage</th>\n",
       "      <th>numstage</th>\n",
       "    </tr>\n",
       "  </thead>\n",
       "  <tbody>\n",
       "    <tr>\n",
       "      <th>0</th>\n",
       "      <td>1162746</td>\n",
       "      <td>0.704225</td>\n",
       "      <td>0.009423</td>\n",
       "      <td>0.952440</td>\n",
       "      <td>0.980712</td>\n",
       "      <td>J19252639+3649116</td>\n",
       "      <td>69.501</td>\n",
       "      <td>9.669</td>\n",
       "      <td>4711.0</td>\n",
       "      <td>84.0</td>\n",
       "      <td>...</td>\n",
       "      <td>0.08</td>\n",
       "      <td>27.98</td>\n",
       "      <td>0.97</td>\n",
       "      <td>-0.49</td>\n",
       "      <td>0.07</td>\n",
       "      <td>9.833</td>\n",
       "      <td>9.272</td>\n",
       "      <td>9.182</td>\n",
       "      <td>RC</td>\n",
       "      <td>1.0</td>\n",
       "    </tr>\n",
       "    <tr>\n",
       "      <th>1</th>\n",
       "      <td>1576469</td>\n",
       "      <td>1.236094</td>\n",
       "      <td>0.022919</td>\n",
       "      <td>1.354696</td>\n",
       "      <td>0.278362</td>\n",
       "      <td>J19281017+3706444</td>\n",
       "      <td>70.016</td>\n",
       "      <td>9.315</td>\n",
       "      <td>5004.0</td>\n",
       "      <td>96.0</td>\n",
       "      <td>...</td>\n",
       "      <td>0.16</td>\n",
       "      <td>88.63</td>\n",
       "      <td>2.18</td>\n",
       "      <td>0.10</td>\n",
       "      <td>0.05</td>\n",
       "      <td>8.887</td>\n",
       "      <td>8.444</td>\n",
       "      <td>8.333</td>\n",
       "      <td>2CL</td>\n",
       "      <td>2.0</td>\n",
       "    </tr>\n",
       "    <tr>\n",
       "      <th>2</th>\n",
       "      <td>3121940</td>\n",
       "      <td>0.609013</td>\n",
       "      <td>0.011498</td>\n",
       "      <td>0.782023</td>\n",
       "      <td>0.390568</td>\n",
       "      <td>J19304110+3814357</td>\n",
       "      <td>71.266</td>\n",
       "      <td>9.389</td>\n",
       "      <td>4567.0</td>\n",
       "      <td>78.0</td>\n",
       "      <td>...</td>\n",
       "      <td>0.08</td>\n",
       "      <td>27.75</td>\n",
       "      <td>0.95</td>\n",
       "      <td>-0.24</td>\n",
       "      <td>0.06</td>\n",
       "      <td>10.185</td>\n",
       "      <td>9.595</td>\n",
       "      <td>9.483</td>\n",
       "      <td>RC</td>\n",
       "      <td>1.0</td>\n",
       "    </tr>\n",
       "    <tr>\n",
       "      <th>3</th>\n",
       "      <td>2303367</td>\n",
       "      <td>1.312336</td>\n",
       "      <td>0.016361</td>\n",
       "      <td>1.447492</td>\n",
       "      <td>0.322575</td>\n",
       "      <td>J19260880+3740242</td>\n",
       "      <td>70.339</td>\n",
       "      <td>9.928</td>\n",
       "      <td>4716.0</td>\n",
       "      <td>76.0</td>\n",
       "      <td>...</td>\n",
       "      <td>0.10</td>\n",
       "      <td>33.59</td>\n",
       "      <td>0.74</td>\n",
       "      <td>0.12</td>\n",
       "      <td>0.05</td>\n",
       "      <td>8.483</td>\n",
       "      <td>7.980</td>\n",
       "      <td>7.834</td>\n",
       "      <td>RC</td>\n",
       "      <td>1.0</td>\n",
       "    </tr>\n",
       "    <tr>\n",
       "      <th>4</th>\n",
       "      <td>2988638</td>\n",
       "      <td>0.604961</td>\n",
       "      <td>0.009149</td>\n",
       "      <td>1.135288</td>\n",
       "      <td>0.607884</td>\n",
       "      <td>J19244988+3807300</td>\n",
       "      <td>70.631</td>\n",
       "      <td>10.362</td>\n",
       "      <td>4863.0</td>\n",
       "      <td>86.0</td>\n",
       "      <td>...</td>\n",
       "      <td>0.21</td>\n",
       "      <td>91.21</td>\n",
       "      <td>2.20</td>\n",
       "      <td>0.11</td>\n",
       "      <td>0.05</td>\n",
       "      <td>10.544</td>\n",
       "      <td>10.083</td>\n",
       "      <td>9.945</td>\n",
       "      <td>2CL</td>\n",
       "      <td>2.0</td>\n",
       "    </tr>\n",
       "  </tbody>\n",
       "</table>\n",
       "<p>5 rows × 21 columns</p>\n",
       "</div>"
      ],
      "text/plain": [
       "       KIC  astero_parallax  astero_parallax_err  parallax  parallax_error  \\\n",
       "0  1162746         0.704225             0.009423  0.952440        0.980712   \n",
       "1  1576469         1.236094             0.022919  1.354696        0.278362   \n",
       "2  3121940         0.609013             0.011498  0.782023        0.390568   \n",
       "3  2303367         1.312336             0.016361  1.447492        0.322575   \n",
       "4  2988638         0.604961             0.009149  1.135288        0.607884   \n",
       "\n",
       "               2MASS    GLAT    GLON    Teff  e_Teff   ...     e_Dnu  numax  \\\n",
       "0  J19252639+3649116  69.501   9.669  4711.0    84.0   ...      0.08  27.98   \n",
       "1  J19281017+3706444  70.016   9.315  5004.0    96.0   ...      0.16  88.63   \n",
       "2  J19304110+3814357  71.266   9.389  4567.0    78.0   ...      0.08  27.75   \n",
       "3  J19260880+3740242  70.339   9.928  4716.0    76.0   ...      0.10  33.59   \n",
       "4  J19244988+3807300  70.631  10.362  4863.0    86.0   ...      0.21  91.21   \n",
       "\n",
       "   e_numax  [M/H]1  e_[M/H]1  kic_jmag  kic_hmag  kic_kmag  stage numstage  \n",
       "0     0.97   -0.49      0.07     9.833     9.272     9.182     RC      1.0  \n",
       "1     2.18    0.10      0.05     8.887     8.444     8.333    2CL      2.0  \n",
       "2     0.95   -0.24      0.06    10.185     9.595     9.483     RC      1.0  \n",
       "3     0.74    0.12      0.05     8.483     7.980     7.834     RC      1.0  \n",
       "4     2.20    0.11      0.05    10.544    10.083     9.945    2CL      2.0  \n",
       "\n",
       "[5 rows x 21 columns]"
      ]
     },
     "execution_count": 24,
     "metadata": {},
     "output_type": "execute_result"
    }
   ],
   "source": [
    "#Lets read in the sample\n",
    "sfile = '/home/oliver/PhD/Catalogues/RC_catalogues/Elsworth_x_TGAS.csv'\n",
    "columns=['KIC','2MASS','astero_parallax','astero_parallax_err','parallax','parallax_error',\\\n",
    "         'GLAT','GLON','Teff','e_Teff','Dnu','e_Dnu','numax','e_numax',\\\n",
    "        '[M/H]1','e_[M/H]1','kic_kmag','kic_jmag','kic_hmag','stage','numstage']\n",
    "df = pd.read_csv(sfile,usecols=columns)\n",
    "df.head(5)"
   ]
  },
  {
   "cell_type": "code",
   "execution_count": 84,
   "metadata": {},
   "outputs": [
    {
     "ename": "ValueError",
     "evalue": "Usecols do not match names.",
     "output_type": "error",
     "traceback": [
      "\u001b[0;31m---------------------------------------------------------------------------\u001b[0m",
      "\u001b[0;31mValueError\u001b[0m                                Traceback (most recent call last)",
      "\u001b[0;32m<ipython-input-84-9fe55f8b9760>\u001b[0m in \u001b[0;36m<module>\u001b[0;34m()\u001b[0m\n\u001b[1;32m      1\u001b[0m \u001b[0msfile\u001b[0m \u001b[0;34m=\u001b[0m \u001b[0;34m'/home/oliver/PhD/Catalogues/APOKASC/APOKASC_cat_v3.6.5.txt'\u001b[0m\u001b[0;34m\u001b[0m\u001b[0m\n\u001b[1;32m      2\u001b[0m \u001b[0mcolumns\u001b[0m\u001b[0;34m=\u001b[0m \u001b[0;34m[\u001b[0m\u001b[0;34m'KEPLER_ID'\u001b[0m\u001b[0;34m,\u001b[0m\u001b[0;34m'2MASS_ID'\u001b[0m\u001b[0;34m,\u001b[0m\u001b[0;34m'TEFF_COR_POST'\u001b[0m\u001b[0;34m,\u001b[0m\u001b[0;34m'TEFF_COR_ERR'\u001b[0m\u001b[0;34m,\u001b[0m          \u001b[0;34m'LOGG_COR_POST'\u001b[0m\u001b[0;34m,\u001b[0m\u001b[0;34m'COR_NU_MAX'\u001b[0m\u001b[0;34m,\u001b[0m\u001b[0;34m'COR_NU_MAX_ERR'\u001b[0m\u001b[0;34m,\u001b[0m          \u001b[0;34m'COR_DELTA_NU'\u001b[0m\u001b[0;34m,\u001b[0m\u001b[0;34m'COR_DELTA_NU_ERR'\u001b[0m\u001b[0;34m,\u001b[0m\u001b[0;34m'DR12_FE_H_ADOP_COR'\u001b[0m         \u001b[0;34m'J_MAG_2M'\u001b[0m\u001b[0;34m,\u001b[0m\u001b[0;34m'J_MAG_ERR'\u001b[0m\u001b[0;34m,\u001b[0m\u001b[0;34m'K_MAG_2M'\u001b[0m\u001b[0;34m,\u001b[0m\u001b[0;34m'K_MAG_ERR'\u001b[0m\u001b[0;34m,\u001b[0m\u001b[0;34m'H_MAG_2M'\u001b[0m\u001b[0;34m,\u001b[0m\u001b[0;34m'H_MAG_ERR'\u001b[0m\u001b[0;34m,\u001b[0m         \u001b[0;34m'RA'\u001b[0m\u001b[0;34m,\u001b[0m\u001b[0;34m'DEC'\u001b[0m\u001b[0;34m]\u001b[0m\u001b[0;34m\u001b[0m\u001b[0m\n\u001b[0;32m----> 3\u001b[0;31m \u001b[0mdf\u001b[0m \u001b[0;34m=\u001b[0m \u001b[0mpd\u001b[0m\u001b[0;34m.\u001b[0m\u001b[0mread_table\u001b[0m\u001b[0;34m(\u001b[0m\u001b[0msfile\u001b[0m\u001b[0;34m,\u001b[0m \u001b[0musecols\u001b[0m\u001b[0;34m=\u001b[0m\u001b[0mcolumns\u001b[0m\u001b[0;34m,\u001b[0m\u001b[0mskiprows\u001b[0m\u001b[0;34m=\u001b[0m\u001b[0;36m644\u001b[0m\u001b[0;34m,\u001b[0m\u001b[0msep\u001b[0m\u001b[0;34m=\u001b[0m\u001b[0;34m'\\s+'\u001b[0m\u001b[0;34m)\u001b[0m\u001b[0;34m\u001b[0m\u001b[0m\n\u001b[0m\u001b[1;32m      4\u001b[0m \u001b[0;32mprint\u001b[0m\u001b[0;34m(\u001b[0m\u001b[0mdf\u001b[0m\u001b[0;34m.\u001b[0m\u001b[0mhead\u001b[0m\u001b[0;34m(\u001b[0m\u001b[0;36m0\u001b[0m\u001b[0;34m)\u001b[0m\u001b[0;34m)\u001b[0m\u001b[0;34m\u001b[0m\u001b[0m\n\u001b[1;32m      5\u001b[0m \u001b[0;32mprint\u001b[0m\u001b[0;34m(\u001b[0m\u001b[0mdf\u001b[0m\u001b[0;34m[\u001b[0m\u001b[0;34m'KEPLER_ID'\u001b[0m\u001b[0;34m]\u001b[0m\u001b[0;34m)\u001b[0m\u001b[0;34m\u001b[0m\u001b[0m\n",
      "\u001b[0;32m/usr/local/lib/python2.7/dist-packages/pandas/io/parsers.pyc\u001b[0m in \u001b[0;36mparser_f\u001b[0;34m(filepath_or_buffer, sep, delimiter, header, names, index_col, usecols, squeeze, prefix, mangle_dupe_cols, dtype, engine, converters, true_values, false_values, skipinitialspace, skiprows, nrows, na_values, keep_default_na, na_filter, verbose, skip_blank_lines, parse_dates, infer_datetime_format, keep_date_col, date_parser, dayfirst, iterator, chunksize, compression, thousands, decimal, lineterminator, quotechar, quoting, escapechar, comment, encoding, dialect, tupleize_cols, error_bad_lines, warn_bad_lines, skipfooter, skip_footer, doublequote, delim_whitespace, as_recarray, compact_ints, use_unsigned, low_memory, buffer_lines, memory_map, float_precision)\u001b[0m\n\u001b[1;32m    707\u001b[0m                     skip_blank_lines=skip_blank_lines)\n\u001b[1;32m    708\u001b[0m \u001b[0;34m\u001b[0m\u001b[0m\n\u001b[0;32m--> 709\u001b[0;31m         \u001b[0;32mreturn\u001b[0m \u001b[0m_read\u001b[0m\u001b[0;34m(\u001b[0m\u001b[0mfilepath_or_buffer\u001b[0m\u001b[0;34m,\u001b[0m \u001b[0mkwds\u001b[0m\u001b[0;34m)\u001b[0m\u001b[0;34m\u001b[0m\u001b[0m\n\u001b[0m\u001b[1;32m    710\u001b[0m \u001b[0;34m\u001b[0m\u001b[0m\n\u001b[1;32m    711\u001b[0m     \u001b[0mparser_f\u001b[0m\u001b[0;34m.\u001b[0m\u001b[0m__name__\u001b[0m \u001b[0;34m=\u001b[0m \u001b[0mname\u001b[0m\u001b[0;34m\u001b[0m\u001b[0m\n",
      "\u001b[0;32m/usr/local/lib/python2.7/dist-packages/pandas/io/parsers.pyc\u001b[0m in \u001b[0;36m_read\u001b[0;34m(filepath_or_buffer, kwds)\u001b[0m\n\u001b[1;32m    447\u001b[0m \u001b[0;34m\u001b[0m\u001b[0m\n\u001b[1;32m    448\u001b[0m     \u001b[0;31m# Create the parser.\u001b[0m\u001b[0;34m\u001b[0m\u001b[0;34m\u001b[0m\u001b[0m\n\u001b[0;32m--> 449\u001b[0;31m     \u001b[0mparser\u001b[0m \u001b[0;34m=\u001b[0m \u001b[0mTextFileReader\u001b[0m\u001b[0;34m(\u001b[0m\u001b[0mfilepath_or_buffer\u001b[0m\u001b[0;34m,\u001b[0m \u001b[0;34m**\u001b[0m\u001b[0mkwds\u001b[0m\u001b[0;34m)\u001b[0m\u001b[0;34m\u001b[0m\u001b[0m\n\u001b[0m\u001b[1;32m    450\u001b[0m \u001b[0;34m\u001b[0m\u001b[0m\n\u001b[1;32m    451\u001b[0m     \u001b[0;32mif\u001b[0m \u001b[0mchunksize\u001b[0m \u001b[0;32mor\u001b[0m \u001b[0miterator\u001b[0m\u001b[0;34m:\u001b[0m\u001b[0;34m\u001b[0m\u001b[0m\n",
      "\u001b[0;32m/usr/local/lib/python2.7/dist-packages/pandas/io/parsers.pyc\u001b[0m in \u001b[0;36m__init__\u001b[0;34m(self, f, engine, **kwds)\u001b[0m\n\u001b[1;32m    816\u001b[0m             \u001b[0mself\u001b[0m\u001b[0;34m.\u001b[0m\u001b[0moptions\u001b[0m\u001b[0;34m[\u001b[0m\u001b[0;34m'has_index_names'\u001b[0m\u001b[0;34m]\u001b[0m \u001b[0;34m=\u001b[0m \u001b[0mkwds\u001b[0m\u001b[0;34m[\u001b[0m\u001b[0;34m'has_index_names'\u001b[0m\u001b[0;34m]\u001b[0m\u001b[0;34m\u001b[0m\u001b[0m\n\u001b[1;32m    817\u001b[0m \u001b[0;34m\u001b[0m\u001b[0m\n\u001b[0;32m--> 818\u001b[0;31m         \u001b[0mself\u001b[0m\u001b[0;34m.\u001b[0m\u001b[0m_make_engine\u001b[0m\u001b[0;34m(\u001b[0m\u001b[0mself\u001b[0m\u001b[0;34m.\u001b[0m\u001b[0mengine\u001b[0m\u001b[0;34m)\u001b[0m\u001b[0;34m\u001b[0m\u001b[0m\n\u001b[0m\u001b[1;32m    819\u001b[0m \u001b[0;34m\u001b[0m\u001b[0m\n\u001b[1;32m    820\u001b[0m     \u001b[0;32mdef\u001b[0m \u001b[0mclose\u001b[0m\u001b[0;34m(\u001b[0m\u001b[0mself\u001b[0m\u001b[0;34m)\u001b[0m\u001b[0;34m:\u001b[0m\u001b[0;34m\u001b[0m\u001b[0m\n",
      "\u001b[0;32m/usr/local/lib/python2.7/dist-packages/pandas/io/parsers.pyc\u001b[0m in \u001b[0;36m_make_engine\u001b[0;34m(self, engine)\u001b[0m\n\u001b[1;32m   1047\u001b[0m     \u001b[0;32mdef\u001b[0m \u001b[0m_make_engine\u001b[0m\u001b[0;34m(\u001b[0m\u001b[0mself\u001b[0m\u001b[0;34m,\u001b[0m \u001b[0mengine\u001b[0m\u001b[0;34m=\u001b[0m\u001b[0;34m'c'\u001b[0m\u001b[0;34m)\u001b[0m\u001b[0;34m:\u001b[0m\u001b[0;34m\u001b[0m\u001b[0m\n\u001b[1;32m   1048\u001b[0m         \u001b[0;32mif\u001b[0m \u001b[0mengine\u001b[0m \u001b[0;34m==\u001b[0m \u001b[0;34m'c'\u001b[0m\u001b[0;34m:\u001b[0m\u001b[0;34m\u001b[0m\u001b[0m\n\u001b[0;32m-> 1049\u001b[0;31m             \u001b[0mself\u001b[0m\u001b[0;34m.\u001b[0m\u001b[0m_engine\u001b[0m \u001b[0;34m=\u001b[0m \u001b[0mCParserWrapper\u001b[0m\u001b[0;34m(\u001b[0m\u001b[0mself\u001b[0m\u001b[0;34m.\u001b[0m\u001b[0mf\u001b[0m\u001b[0;34m,\u001b[0m \u001b[0;34m**\u001b[0m\u001b[0mself\u001b[0m\u001b[0;34m.\u001b[0m\u001b[0moptions\u001b[0m\u001b[0;34m)\u001b[0m\u001b[0;34m\u001b[0m\u001b[0m\n\u001b[0m\u001b[1;32m   1050\u001b[0m         \u001b[0;32melse\u001b[0m\u001b[0;34m:\u001b[0m\u001b[0;34m\u001b[0m\u001b[0m\n\u001b[1;32m   1051\u001b[0m             \u001b[0;32mif\u001b[0m \u001b[0mengine\u001b[0m \u001b[0;34m==\u001b[0m \u001b[0;34m'python'\u001b[0m\u001b[0;34m:\u001b[0m\u001b[0;34m\u001b[0m\u001b[0m\n",
      "\u001b[0;32m/usr/local/lib/python2.7/dist-packages/pandas/io/parsers.pyc\u001b[0m in \u001b[0;36m__init__\u001b[0;34m(self, src, **kwds)\u001b[0m\n\u001b[1;32m   1738\u001b[0m             if (self.usecols_dtype == 'string' and\n\u001b[1;32m   1739\u001b[0m                     not set(usecols).issubset(self.orig_names)):\n\u001b[0;32m-> 1740\u001b[0;31m                 \u001b[0;32mraise\u001b[0m \u001b[0mValueError\u001b[0m\u001b[0;34m(\u001b[0m\u001b[0;34m\"Usecols do not match names.\"\u001b[0m\u001b[0;34m)\u001b[0m\u001b[0;34m\u001b[0m\u001b[0m\n\u001b[0m\u001b[1;32m   1741\u001b[0m \u001b[0;34m\u001b[0m\u001b[0m\n\u001b[1;32m   1742\u001b[0m             \u001b[0;32mif\u001b[0m \u001b[0mlen\u001b[0m\u001b[0;34m(\u001b[0m\u001b[0mself\u001b[0m\u001b[0;34m.\u001b[0m\u001b[0mnames\u001b[0m\u001b[0;34m)\u001b[0m \u001b[0;34m>\u001b[0m \u001b[0mlen\u001b[0m\u001b[0;34m(\u001b[0m\u001b[0musecols\u001b[0m\u001b[0;34m)\u001b[0m\u001b[0;34m:\u001b[0m\u001b[0;34m\u001b[0m\u001b[0m\n",
      "\u001b[0;31mValueError\u001b[0m: Usecols do not match names."
     ]
    }
   ],
   "source": [
    "sfile = '/home/oliver/PhD/Catalogues/APOKASC/APOKASC_cat_v3.6.5.txt'\n",
    "columns= ['KEPLER_ID','2MASS_ID','TEFF_COR_POST','TEFF_COR_ERR',\\\n",
    "          'LOGG_COR_POST','COR_NU_MAX','COR_NU_MAX_ERR',\\\n",
    "          'COR_DELTA_NU','COR_DELTA_NU_ERR','DR12_FE_H_ADOP_COR'\\\n",
    "         'J_MAG_2M','J_MAG_ERR','K_MAG_2M','K_MAG_ERR','H_MAG_2M','H_MAG_ERR',\\\n",
    "         'RA','DEC']\n",
    "df = pd.read_table(sfile, usecols=columns,skiprows=644,sep='\\s+')\n",
    "print(df.head(0))\n",
    "print(df['KEPLER_ID'])"
   ]
  },
  {
   "cell_type": "code",
   "execution_count": 28,
   "metadata": {},
   "outputs": [],
   "source": [
    "#Lets run the scaling relations\n",
    "sc = omnitool.scalings(df, df.numax, df.Dnu, df. Teff,\\\n",
    "                        _numax_err = df.e_numax, _dnu_err = df.e_Dnu, _Teff_err = df.e_Teff)\n",
    "df['R'] = sc.get_radius()/Rsol\n",
    "df['R_err'] = sc.get_radius_err()/Rsol\n",
    "df['M'] = sc.get_mass()/Msol\n",
    "df['M_err'] = sc.get_mass_err()/Msol\n",
    "df['logg'] = sc.get_logg()\n",
    "df['logg_err'] = sc.get_logg_err()\n",
    "df['L'] = sc.get_luminosity()/Lsol\n",
    "df['L_err'] = sc.get_luminosity_err()/Lsol\n",
    "df['Mbol'] = sc.get_bolmag()\n",
    "df['Mbol_err'] = sc.get_bolmag_err()"
   ]
  },
  {
   "cell_type": "code",
   "execution_count": 47,
   "metadata": {},
   "outputs": [],
   "source": [
    "#Lets get the bolometric corrections in K, J, and H\n",
    "#Per Salaris et al. 1993, [M/H] = [Fe/H] + log(0.638*fa + 0.362)\n",
    "#where fa is the alpha abundance. We will assume for now that fa = 1\n",
    "#Therefore, [Fe/H] == [M/H]\n",
    "df['Z'] = Zsol * 10 ** df['[M/H]1']\n",
    "\n",
    "get_bc = omnitool.bolometric_correction(df.Teff.values,\\\n",
    "                                       df.logg.values,\\\n",
    "                                       df.L.values,\\\n",
    "                                       df.Z.values)"
   ]
  },
  {
   "cell_type": "code",
   "execution_count": 48,
   "metadata": {},
   "outputs": [
    {
     "name": "stderr",
     "output_type": "stream",
     "text": [
      "100%|██████████| 886/886 [00:00<00:00, 1755.62it/s]\n",
      "100%|██████████| 886/886 [00:00<00:00, 1757.38it/s]\n",
      "100%|██████████| 886/886 [00:00<00:00, 1786.41it/s]\n"
     ]
    }
   ],
   "source": [
    "#Lets get and apply the bolometric corrections\n",
    "KBC = get_bc(band='Ks')\n",
    "HBC = get_bc(band='H')\n",
    "JBC = get_bc(band='J')"
   ]
  },
  {
   "cell_type": "code",
   "execution_count": 50,
   "metadata": {},
   "outputs": [],
   "source": [
    "#Calculate absolute magnitudes and appropriate error\n",
    "df['MKs'] = df.Mbol - KBC\n",
    "df['MH'] = df.Mbol - JBC\n",
    "df['MJ'] = df.Mbol - HBC\n",
    "df['absmag_err'] = np.sqrt(df.Mbol_err**2 + err_bc**2)"
   ]
  },
  {
   "cell_type": "code",
   "execution_count": 62,
   "metadata": {},
   "outputs": [
    {
     "name": "stdout",
     "output_type": "stream",
     "text": [
      "Number of seats in use : 1/5.\n"
     ]
    },
    {
     "data": {
      "image/png": "[encoded data removed]",
      "text/plain": [
       "<matplotlib.figure.Figure at 0x7f372f5cb050>"
      ]
     },
     "metadata": {},
     "output_type": "display_data"
    },
    {
     "data": {
      "image/png": "[encoded data removed]",
      "text/plain": [
       "<matplotlib.figure.Figure at 0x7f372e782d90>"
      ]
     },
     "metadata": {},
     "output_type": "display_data"
    },
    {
     "data": {
      "image/png": "[encoded data removed]",
      "text/plain": [
       "<matplotlib.figure.Figure at 0x7f372f8cd090>"
      ]
     },
     "metadata": {},
     "output_type": "display_data"
    }
   ],
   "source": [
    "#Lets plot a simple distplot against magnitude\n",
    "barber = barbershop.open(df,'MKs','kic_kmag')\n",
    "barber.add_client('numstage',1,2)\n",
    "barber.histograms_on(x=True)\n",
    "barber.show_mirror()"
   ]
  },
  {
   "cell_type": "code",
   "execution_count": null,
   "metadata": {},
   "outputs": [],
   "source": []
  }
 ],
 "metadata": {
  "kernelspec": {
   "display_name": "Python 2",
   "language": "python",
   "name": "python2"
  },
  "language_info": {
   "codemirror_mode": {
    "name": "ipython",
    "version": 2
   },
   "file_extension": ".py",
   "mimetype": "text/x-python",
   "name": "python",
   "nbconvert_exporter": "python",
   "pygments_lexer": "ipython2",
   "version": "2.7.12"
  }
 },
 "nbformat": 4,
 "nbformat_minor": 2
}
