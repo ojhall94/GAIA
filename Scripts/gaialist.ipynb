{
 "cells": [
  {
   "cell_type": "code",
   "execution_count": 3,
   "metadata": {},
   "outputs": [],
   "source": [
    "import numpy as np\n",
    "import pandas as pd\n",
    "import matplotlib.pyplot as plt\n",
    "import seaborn as sns"
   ]
  },
  {
   "cell_type": "code",
   "execution_count": 9,
   "metadata": {},
   "outputs": [],
   "source": [
    "#Now lets read in the KICID and relevant information from APOKASC\n",
    "sfile = '/home/oliver/PhD/Catalogues/APOKASC/APOKASC_cat_v3.6.5.txt'\n",
    "cols= ['KEPLER_ID','2MASS_ID','RA','DEC',\\\n",
    "       'G_MAG_KIC', 'R_MAG_KIC', 'I_MAG_KIC', 'Z_MAG_KIC', 'J_MAG_2M', 'J_MAG_ERR', 'H_MAG_2M', 'H_MAG_ERR', 'K_MAG_2M', 'K_MAG_ERR', 'U_SDSS', 'U_SDSS_ERR', 'G_SDSS', 'G_SDSS_ERR', 'R_SDSS', 'R_SDSS_ERR', 'I_SDSS', 'I_SDSS_ERR', 'Z_SDSS', 'Z_SDSS_ERR', 'W1', 'W1_ERR', 'W2', 'W2_ERR', 'W3', 'W3_ERR', 'W4', 'W4_ERR']\n",
    "\n",
    "apokasc = pd.read_csv(sfile,usecols=cols,skiprows=644,sep='\\s+')\n",
    "apokasc.rename(columns={'KEPLER_ID':'KICID'},inplace=True)\n",
    "\n",
    "apokasc.head(2)\n",
    "apokasc.to_csv('/home/oliver/PhD/Catalogues/APOKASC/OJH_list')"
   ]
  },
  {
   "cell_type": "code",
   "execution_count": null,
   "metadata": {},
   "outputs": [],
   "source": []
  }
 ],
 "metadata": {
  "kernelspec": {
   "display_name": "Python 2",
   "language": "python",
   "name": "python2"
  },
  "language_info": {
   "codemirror_mode": {
    "name": "ipython",
    "version": 2
   },
   "file_extension": ".py",
   "mimetype": "text/x-python",
   "name": "python",
   "nbconvert_exporter": "python",
   "pygments_lexer": "ipython2",
   "version": "2.7.12"
  }
 },
 "nbformat": 4,
 "nbformat_minor": 2
}
