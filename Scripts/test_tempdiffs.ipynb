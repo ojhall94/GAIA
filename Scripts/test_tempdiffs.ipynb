{
 "cells": [
  {
   "cell_type": "markdown",
   "metadata": {},
   "source": [
    "# Testing the Asfgrid code"
   ]
  },
  {
   "cell_type": "markdown",
   "metadata": {},
   "source": [
    "## Tomorrow:\n",
    "- Set up a routine to:\n",
    " - Find Radius\n",
    " - Compare radius to Yu radius\n",
    " - Calculate appropriate error\n",
    " - Compare error to Yu error\n",
    " - Incorporate into existing structure"
   ]
  },
  {
   "cell_type": "code",
   "execution_count": 1,
   "metadata": {},
   "outputs": [],
   "source": [
    "import numpy as np\n",
    "import matplotlib.pyplot as plt\n",
    "import seaborn as sns\n",
    "import matplotlib\n",
    "sns.set_palette('colorblind')\n",
    "matplotlib.rc('xtick', labelsize=15)\n",
    "matplotlib.rc('ytick', labelsize=15)\n",
    "matplotlib.rc('axes',labelsize=15)\n",
    "import os\n",
    "import pandas as pd"
   ]
  },
  {
   "cell_type": "code",
   "execution_count": 2,
   "metadata": {},
   "outputs": [],
   "source": [
    "__datdir__ = os.path.expanduser('~')+'/PhD/Gaia_Project/data/KepxDR2/'\n",
    "\n",
    "def read_data():\n",
    "    '''Reads in the Yu et al. 2018 data'''\n",
    "    sfile = __datdir__+'rcxyu18.csv'\n",
    "    df = pd.read_csv(sfile)\n",
    "    return df"
   ]
  },
  {
   "cell_type": "code",
   "execution_count": 3,
   "metadata": {},
   "outputs": [],
   "source": [
    "df = read_data()\n",
    "tempdiff = 0."
   ]
  },
  {
   "cell_type": "code",
   "execution_count": 4,
   "metadata": {},
   "outputs": [
    {
     "name": "stderr",
     "output_type": "stream",
     "text": [
      "/usr/local/lib/python2.7/dist-packages/h5py/__init__.py:36: FutureWarning: Conversion of the second argument of issubdtype from `float` to `np.floating` is deprecated. In future, it will be treated as `np.float64 == np.dtype(float).type`.\n",
      "  from ._conv import register_converters as _register_converters\n"
     ]
    }
   ],
   "source": [
    "from omnitool.literature_values import Av_coeffs\n",
    "from omnitool import scalings\n",
    "SC = scalings(df, df.numax, df.dnu, df.Teff + tempdiff,\n",
    "                _numax_err = df.numax_err, _dnu_err = df.dnu_err, _Teff_err = df.Teff_err)"
   ]
  },
  {
   "cell_type": "markdown",
   "metadata": {},
   "source": [
    "## Lets load in the asfgrid functions and try to get it working"
   ]
  },
  {
   "cell_type": "code",
   "execution_count": 5,
   "metadata": {},
   "outputs": [],
   "source": [
    "import sys\n",
    "sys.path.append('/home/oliver/PhD/Hacks_and_Mocks/asfgrid/')\n",
    "import asfgrid"
   ]
  },
  {
   "cell_type": "code",
   "execution_count": 6,
   "metadata": {},
   "outputs": [
    {
     "name": "stdout",
     "output_type": "stream",
     "text": [
      "['KICID', 'kepmag_x', 'Length_Quarters', 'Length_days', 'numax', 'numax_err', 'dnu', 'dnu_err', 'amplitude', 'err.2_x', 'fwhm', 'err.3_x', 'maxbg', 'err.4_x', 'Unnamed: 14', 'Teff', 'Teff_err', 'yu_logg', 'yu_logg_err', '[Fe/H]', 'err.2_y', 'M_noCorrection', 'M_noCorrection_err', 'R_noCorrection', 'R_noCorrection_err', 'M_RGB', 'M_RGB_err', 'R_RGB', 'R_RGB_err', 'M_Clump', 'M_Clump_err', 'R_Clump', 'R_Clump_err', 'stage', 'Unnamed: 20', 'designation', 'source_id', 'gaia_ref_epoch', 'ra', 'ra_error', 'dec', 'dec_error', 'parallax', 'parallax_error', 'parallax_over_error', 'pmra', 'pmra_error', 'pmdec', 'pmdec_error', 'ra_dec_corr', 'ra_parallax_corr', 'ra_pmra_corr', 'ra_pmdec_corr', 'dec_parallax_corr', 'dec_pmra_corr', 'dec_pmdec_corr', 'parallax_pmra_corr', 'parallax_pmdec_corr', 'pmra_pmdec_corr', 'astrometric_chi2_al', 'astrometric_excess_noise', 'astrometric_excess_noise_sig', 'astrometric_primary_flag', 'duplicated_source', 'phot_g_mean_flux', 'phot_g_mean_flux_error', 'phot_g_mean_mag', 'phot_bp_mean_flux', 'phot_bp_mean_flux_error', 'phot_bp_mean_mag', 'phot_rp_mean_flux', 'phot_rp_mean_flux_error', 'phot_rp_mean_mag', 'bp_rp', 'bp_g', 'g_rp', 'radial_velocity', 'radial_velocity_error', 'phot_variable_flag', 'l', 'b', 'ecl_lon', 'ecl_lat', 'teff_val', 'teff_percentile_lower', 'teff_percentile_upper', 'a_g_val', 'a_g_percentile_lower', 'a_g_percentile_upper', 'e_bp_min_rp_val', 'e_bp_min_rp_percentile_lower', 'e_bp_min_rp_percentile_upper', 'radius_val', 'radius_percentile_lower', 'radius_percentile_upper', 'lum_val', 'lum_percentile_lower', 'lum_percentile_upper', 'r_est', 'r_lo', 'r_hi', 'r_length_prior', 'r_result_flag', 'r_modality_flag', 'tm_designation', 'ra_kepler', 'dec_kepler', 'kepmag_y', 'teff', 'teff_err1', 'teff_err2', 'teff_prov', 'logg', 'logg_err1', 'logg_err2', 'logg_prov', 'feh', 'feh_err1', 'feh_err2', 'feh_prov', 'radius', 'radius_err1', 'radius_err2', 'mass', 'mass_err1', 'mass_err2', 'prov_sec', 'nconfp', 'nkoi', 'ntce', 'jmag', 'hmag', 'kmag', 'planet?', 'kepler_gaia_ang_dist_x', '_1', '_r', '2MASS', 'Jmag', 'e_Jmag', 'Hmag', 'e_Hmag', 'Kmag', 'e_Kmag', 'Ebv', 'Aks', 'Aj', 'Ah', 'Ag', 'L', 'L_err', 'Mbol', 'Mbol_err', 'Z', 'Unnamed: 0', 'kepler_gaia_ang_dist_y', 'BC_GAIA', 'BC_GBP', 'BC_GRP', 'BC_J', 'BC_H', 'BC_K', 'ast_MKs', 'ast_MH', 'ast_MJ', 'ast_MG', 'ast_M_err']\n"
     ]
    }
   ],
   "source": [
    "print(list(df))"
   ]
  },
  {
   "cell_type": "code",
   "execution_count": 16,
   "metadata": {},
   "outputs": [],
   "source": [
    "evstate = [1,2]\n",
    "logz = [np.log10(df.Z[0]), np.log10(df.Z[0])]\n",
    "teff = [df.Teff[0], df.Teff[0]]\n",
    "dnu = [df.dnu[0], df.dnu[0]]\n",
    "numax = [df.numax[0], df.numax[0]]\n",
    "\n",
    "s = asfgrid.Seism()"
   ]
  },
  {
   "cell_type": "code",
   "execution_count": 19,
   "metadata": {},
   "outputs": [
    {
     "name": "stdout",
     "output_type": "stream",
     "text": [
      "(array([1.03946651, 1.00333303]), array([10.72250733, 10.53449339]))\n",
      "([3.962, 3.962], [29.48, 29.48])\n",
      "(array([3.96399856, 3.96416782]), array([29.48, 29.48]))\n",
      "[1.01045602 1.00160068]\n"
     ]
    }
   ],
   "source": [
    "mass, radius = s.get_mass_radius(evstate, logz, teff, dnu, numax)\n",
    "print(mass, radius)\n",
    "logg = s.mr2logg(mass, radius)\n",
    "dnu0, numax0, fdnu = s.get_dnu_numax(evstate, logz, teff, mass, mass, logg)\n",
    "print(dnu, numax)\n",
    "print(dnu0, numax0)\n",
    "print(fdnu)"
   ]
  },
  {
   "cell_type": "code",
   "execution_count": 13,
   "metadata": {},
   "outputs": [
    {
     "name": "stdout",
     "output_type": "stream",
     "text": [
      "1.0\n",
      "1.04\n",
      "1.0\n",
      "10.51\n",
      "10.74\n",
      "10.52\n"
     ]
    }
   ],
   "source": [
    "print(df.M_noCorrection[0])\n",
    "print(df.M_RGB[0])\n",
    "print(df.M_Clump[0])\n",
    "print(df.R_noCorrection[0])\n",
    "print(df.R_RGB[0])\n",
    "print(df.R_Clump[0])"
   ]
  },
  {
   "cell_type": "code",
   "execution_count": null,
   "metadata": {},
   "outputs": [],
   "source": []
  }
 ],
 "metadata": {
  "kernelspec": {
   "display_name": "Python 2",
   "language": "python",
   "name": "python2"
  },
  "language_info": {
   "codemirror_mode": {
    "name": "ipython",
    "version": 2
   },
   "file_extension": ".py",
   "mimetype": "text/x-python",
   "name": "python",
   "nbconvert_exporter": "python",
   "pygments_lexer": "ipython2",
   "version": "2.7.15rc1"
  }
 },
 "nbformat": 4,
 "nbformat_minor": 2
}
