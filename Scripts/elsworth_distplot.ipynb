{
 "cells": [
  {
   "cell_type": "code",
   "execution_count": 1,
   "metadata": {},
   "outputs": [
    {
     "name": "stderr",
     "output_type": "stream",
     "text": [
      "/usr/local/lib/python2.7/dist-packages/h5py/__init__.py:36: FutureWarning: Conversion of the second argument of issubdtype from `float` to `np.floating` is deprecated. In future, it will be treated as `np.float64 == np.dtype(float).type`.\n",
      "  from ._conv import register_converters as _register_converters\n"
     ]
    }
   ],
   "source": [
    "#Call in my packages\n",
    "import numpy as np\n",
    "import matplotlib.pyplot as plt\n",
    "import seaborn as sns\n",
    "import pandas as pd\n",
    "\n",
    "from Starclass import Star\n",
    "import ClosePlots as cp\n",
    "\n",
    "import glob\n",
    "from tqdm import tqdm\n",
    "import sys\n",
    "import os"
   ]
  },
  {
   "cell_type": "code",
   "execution_count": 2,
   "metadata": {},
   "outputs": [],
   "source": [
    "#Import useful data\n",
    "sfile = glob.glob('../../data/Elsworth+/Elsworth_x_TGAS*')[0]\n",
    "# columns = ['KIC','astero_parallax','astero_parallax_err','GLAT','GLON','_RA','_DE','kic_kmag']\n",
    "# df = pd.read_csv(sfile, usecols=columns)\n",
    "df = pd.read_csv(sfile)"
   ]
  },
  {
   "cell_type": "code",
   "execution_count": 3,
   "metadata": {},
   "outputs": [
    {
     "name": "stdout",
     "output_type": "stream",
     "text": [
      "886\n",
      "389\n",
      "['level_0', 'index', '0', 'KIC', 'astero_parallax', 'astero_parallax_err', 'parallax', 'parallax_error', 'duplicated_source', 'Unnamed: 0.1', 'P12', 'G', '2MASS', 'GLAT', 'GLON', 'Teffc', 'e_Teffc', 'Teff', 'e_Teff', 'Dnu', 'e_Dnu', 'numax', 'e_numax', 'Notes', 'Teff1', 'e_Teff1', '[M/H]1', 'e_[M/H]1', 'M1', 'E_M1', 'e_M1', 'R1', 'E_R1', 'e_R1', 'log.g1', 'E_log.g1', 'e_log.g1', 'rho1', 'E_rho1', 'e_rho1', 'Teff2', 'e_Teff2', '[M/H]2', 'e_[M/H]2', 'M2', 'E_M2', 'e_M2', 'R2', 'E_R2', 'e_R2', 'log.g2', 'E_log.g2', 'e_log.g2', 'rho2', 'E_rho2', 'e_rho2', '_RA', '_DE', 'Unnamed: 0.1.1', 'kic_ra', 'kic_dec', 'kic_pmra', 'kic_pmdec', 'kic_umag', 'kic_gmag', 'kic_rmag', 'kic_imag', 'kic_zmag', 'kic_gredmag', 'kic_d51mag', 'kic_jmag', 'kic_hmag', 'kic_kmag', 'kic_kepmag', 'kic_kepler_id', 'kic_tmid', 'kic_scpid', 'kic_altid', 'kic_altsource', 'kic_galaxy', 'kic_blend', 'kic_variable', 'kic_teff', 'kic_logg', 'kic_feh', 'kic_ebminusv', 'kic_av', 'kic_radius', 'kic_cq', 'kic_pq', 'kic_aq', 'kic_catkey', 'kic_scpkey', 'kic_parallax', 'kic_glon', 'kic_glat', 'kic_pmtotal', 'kic_grcolor', 'kic_jkcolor', 'kic_gkcolor', 'kic_degree_ra', 'kic_fov_flag', 'kic_tm_designation', 'stage', 'numstage']\n"
     ]
    }
   ],
   "source": [
    "#Kill data where parallax error > 30% of the parallax value\n",
    "print(len(df))\n",
    "df = df[df.astero_parallax_err <= .3*df.astero_parallax].reset_index()\n",
    "#Kill non-RC stars\n",
    "df = df[df.stage == 'RC'].reset_index()\n",
    "print(len(df))"
   ]
  },
  {
   "cell_type": "code",
   "execution_count": 5,
   "metadata": {},
   "outputs": [
    {
     "name": "stderr",
     "output_type": "stream",
     "text": [
      "  3%|▎         | 11/389 [00:02<01:24,  4.49it/s]\n"
     ]
    },
    {
     "ename": "NameError",
     "evalue": "global name 'HTTPError' is not defined",
     "output_type": "error",
     "traceback": [
      "\u001b[0;31m---------------------------------------------------------------------------\u001b[0m",
      "\u001b[0;31mNameError\u001b[0m                                 Traceback (most recent call last)",
      "\u001b[0;32m<ipython-input-5-52515de01903>\u001b[0m in \u001b[0;36m<module>\u001b[0;34m()\u001b[0m\n\u001b[1;32m      9\u001b[0m     \u001b[0mS\u001b[0m\u001b[0;34m.\u001b[0m\u001b[0mpass_position\u001b[0m\u001b[0;34m(\u001b[0m\u001b[0mdf\u001b[0m\u001b[0;34m.\u001b[0m\u001b[0mGLON\u001b[0m\u001b[0;34m[\u001b[0m\u001b[0midx\u001b[0m\u001b[0;34m]\u001b[0m\u001b[0;34m,\u001b[0m \u001b[0mdf\u001b[0m\u001b[0;34m.\u001b[0m\u001b[0mGLAT\u001b[0m\u001b[0;34m[\u001b[0m\u001b[0midx\u001b[0m\u001b[0;34m]\u001b[0m\u001b[0;34m,\u001b[0m \u001b[0mframe\u001b[0m\u001b[0;34m=\u001b[0m\u001b[0;34m'galactic'\u001b[0m\u001b[0;34m)\u001b[0m\u001b[0;34m\u001b[0m\u001b[0m\n\u001b[1;32m     10\u001b[0m     \u001b[0mS\u001b[0m\u001b[0;34m.\u001b[0m\u001b[0mpass_magnitude\u001b[0m\u001b[0;34m(\u001b[0m\u001b[0mdf\u001b[0m\u001b[0;34m.\u001b[0m\u001b[0mkic_kmag\u001b[0m\u001b[0;34m[\u001b[0m\u001b[0midx\u001b[0m\u001b[0;34m]\u001b[0m\u001b[0;34m,\u001b[0m\u001b[0merr\u001b[0m\u001b[0;34m=\u001b[0m\u001b[0mNone\u001b[0m\u001b[0;34m,\u001b[0m \u001b[0mband\u001b[0m\u001b[0;34m=\u001b[0m\u001b[0;34m'Ks'\u001b[0m\u001b[0;34m)\u001b[0m\u001b[0;34m\u001b[0m\u001b[0m\n\u001b[0;32m---> 11\u001b[0;31m     \u001b[0mM_gal\u001b[0m\u001b[0;34m[\u001b[0m\u001b[0midx\u001b[0m\u001b[0;34m]\u001b[0m\u001b[0;34m,\u001b[0m \u001b[0mM_gal_err\u001b[0m\u001b[0;34m[\u001b[0m\u001b[0midx\u001b[0m\u001b[0;34m]\u001b[0m \u001b[0;34m=\u001b[0m \u001b[0mS\u001b[0m\u001b[0;34m.\u001b[0m\u001b[0mget_M\u001b[0m\u001b[0;34m(\u001b[0m\u001b[0;34m)\u001b[0m\u001b[0;34m\u001b[0m\u001b[0m\n\u001b[0m",
      "\u001b[0;32m/home/oliver/PhD/Gaia_Project/GAIA/Scripts/Starclass.pyc\u001b[0m in \u001b[0;36mget_M\u001b[0;34m(self)\u001b[0m\n\u001b[1;32m    130\u001b[0m         \u001b[0mm\u001b[0m \u001b[0;34m=\u001b[0m \u001b[0mself\u001b[0m\u001b[0;34m.\u001b[0m\u001b[0mm\u001b[0m       \u001b[0;31m#Call in the magnitude\u001b[0m\u001b[0;34m\u001b[0m\u001b[0m\n\u001b[1;32m    131\u001b[0m         \u001b[0mmu0\u001b[0m \u001b[0;34m=\u001b[0m \u001b[0mself\u001b[0m\u001b[0;34m.\u001b[0m\u001b[0mget_mu0\u001b[0m\u001b[0;34m(\u001b[0m\u001b[0;34m)\u001b[0m  \u001b[0;31m#Call in the distance modulus\u001b[0m\u001b[0;34m\u001b[0m\u001b[0m\n\u001b[0;32m--> 132\u001b[0;31m         \u001b[0mA\u001b[0m \u001b[0;34m=\u001b[0m \u001b[0mself\u001b[0m\u001b[0;34m.\u001b[0m\u001b[0mget_A\u001b[0m\u001b[0;34m(\u001b[0m\u001b[0;34m)\u001b[0m      \u001b[0;31m#Call in the extinction coefficient\u001b[0m\u001b[0;34m\u001b[0m\u001b[0m\n\u001b[0m\u001b[1;32m    133\u001b[0m \u001b[0;34m\u001b[0m\u001b[0m\n\u001b[1;32m    134\u001b[0m         \u001b[0mM_err\u001b[0m \u001b[0;34m=\u001b[0m \u001b[0mself\u001b[0m\u001b[0;34m.\u001b[0m\u001b[0mget_error\u001b[0m\u001b[0;34m(\u001b[0m\u001b[0;34m)\u001b[0m   \u001b[0;31m#Propagate the error through\u001b[0m\u001b[0;34m\u001b[0m\u001b[0m\n",
      "\u001b[0;32m/home/oliver/PhD/Gaia_Project/GAIA/Scripts/Starclass.pyc\u001b[0m in \u001b[0;36mget_A\u001b[0;34m(self)\u001b[0m\n\u001b[1;32m     98\u001b[0m         \u001b[0;32mtry\u001b[0m\u001b[0;34m:\u001b[0m\u001b[0;34m\u001b[0m\u001b[0m\n\u001b[1;32m     99\u001b[0m             \u001b[0mAv\u001b[0m \u001b[0;34m=\u001b[0m \u001b[0mbayestar\u001b[0m\u001b[0;34m(\u001b[0m\u001b[0mcoords\u001b[0m\u001b[0;34m,\u001b[0m \u001b[0mmode\u001b[0m\u001b[0;34m=\u001b[0m\u001b[0;34m'median'\u001b[0m\u001b[0;34m)\u001b[0m\u001b[0;34m\u001b[0m\u001b[0m\n\u001b[0;32m--> 100\u001b[0;31m         \u001b[0;32mexcept\u001b[0m \u001b[0mHTTPError\u001b[0m\u001b[0;34m:\u001b[0m\u001b[0;34m\u001b[0m\u001b[0m\n\u001b[0m\u001b[1;32m    101\u001b[0m             \u001b[0;32mprint\u001b[0m\u001b[0;34m(\u001b[0m\u001b[0;34m'No Av values for this star. Set Av to 0. for now.'\u001b[0m\u001b[0;34m)\u001b[0m\u001b[0;34m\u001b[0m\u001b[0m\n\u001b[1;32m    102\u001b[0m             \u001b[0mAv\u001b[0m \u001b[0;34m=\u001b[0m \u001b[0;36m0.\u001b[0m\u001b[0;34m\u001b[0m\u001b[0m\n",
      "\u001b[0;31mNameError\u001b[0m: global name 'HTTPError' is not defined"
     ]
    }
   ],
   "source": [
    "#Build a sample of 100 or so stars to test functionality in current build\n",
    "length = len(df)\n",
    "#First we're going to use galactic coordinates\n",
    "M_gal = np.zeros(length)\n",
    "M_gal_err = np.zeros(length)\n",
    "for idx in tqdm(range(length)):\n",
    "    S = Star(str(df.KIC[idx])) #Call class\n",
    "    S.pass_parallax(df.astero_parallax[idx], err=df.astero_parallax_err[idx])\n",
    "    S.pass_position(df.GLON[idx], df.GLAT[idx], frame='galactic')\n",
    "    S.pass_magnitude(df.kic_kmag[idx],err=None, band='Ks')\n",
    "    M_gal[idx], M_gal_err[idx] = S.get_M()"
   ]
  },
  {
   "cell_type": "code",
   "execution_count": null,
   "metadata": {},
   "outputs": [],
   "source": [
    "#Build a distplot\n",
    "g=sns.jointplot(M_gal, df.kic_kmag[:length],color=\"m\",s=1)\n",
    "g.plot_joint(sns.kdeplot, zorder=0, nlevels=10)"
   ]
  },
  {
   "cell_type": "code",
   "execution_count": null,
   "metadata": {},
   "outputs": [],
   "source": [
    "#Plot a m - M plot with errorbars\n",
    "fig, ax = plt.subplots()\n",
    "ax.scatter(M_gal, df.kic_kmag[:length],s=1)\n",
    "ax.errorbar(M_gal, df.kic_kmag[:length], xerr=M_gal_err,alpha=.5,fmt=None,c='grey')\n",
    "ax.set_xlabel(r'M$_{Ks}$')\n",
    "ax.set_ylabel(r'm$_{Ks}$')"
   ]
  },
  {
   "cell_type": "code",
   "execution_count": null,
   "metadata": {},
   "outputs": [],
   "source": [
    "#Plot the Davies+17 Ks - parallax plot\n",
    "fig, ax = plt.subplots()\n",
    "ax.scatter(df.astero_parallax, df.kic_kmag, s=1)\n",
    "ax.errorbar(df.astero_parallax,df.kic_kmag, xerr=df.astero_parallax_err, alpha=.5, fmt=None, c='grey')\n",
    "ax.set_xlabel('Astero parallax')\n",
    "ax.set_ylabel(r'$m_{Ks}$')"
   ]
  },
  {
   "cell_type": "code",
   "execution_count": null,
   "metadata": {},
   "outputs": [],
   "source": [
    "#Kill the code. Code graveyard below\n",
    "sys.exit()"
   ]
  },
  {
   "cell_type": "code",
   "execution_count": null,
   "metadata": {},
   "outputs": [],
   "source": [
    "import barbershop\n",
    "%pylab qt\n",
    "sfile = glob.glob('../../data/Elsworth+/Elsworth_x_TGAS*')[0]\n",
    "df = pd.read_csv(sfile)\n",
    "df = df[df.M1 > 0.]\n",
    "len(df)\n",
    "\n",
    "df.stage[df.stage=='RGB']=0\n",
    "df.stage[df.stage=='RC']=1\n",
    "df.stage[df.stage=='2CL']=2\n",
    "df.stage[df.stage=='U'] = 3\n",
    "df.stage = df.stage.fillna(3)\n",
    "print(df.stage)\n",
    "\n",
    "barber = barbershop.open(df,'astero_parallax','kic_kmag')\n",
    "barber.add_client('M1')\n",
    "barber.add_client('stage')\n",
    "barber.show_mirror()\n"
   ]
  },
  {
   "cell_type": "code",
   "execution_count": null,
   "metadata": {},
   "outputs": [],
   "source": [
    "#Now lets do the same again but for RA and DEC\n",
    "M_icrs = np.zeros(length)\n",
    "M_icrs_err = np.zeros(length)\n",
    "for idx in tqdm(range(length)):\n",
    "    S = Star(str(df.KIC[idx])) #Call class\n",
    "    S.pass_parallax(df.parallax[idx], err=df.parallax_error[idx])\n",
    "    S.pass_position(df._RA[idx], df._DE[idx], frame='icrs')\n",
    "    S.pass_magnitude(df.kic_kmag[idx],err=None, band='Ks')\n",
    "    M_icrs[idx], M_icrs_err[idx] = S.get_M()    "
   ]
  },
  {
   "cell_type": "code",
   "execution_count": null,
   "metadata": {},
   "outputs": [],
   "source": [
    "#Perfect match\n",
    "#Lets compare these two first before doing the distplot\n",
    "fig, (ax, axr) = plt.subplots(2)\n",
    "ax.scatter(M_gal, M_icrs, s=3, zorder=1000)\n",
    "ax.errorbar(M_gal, M_icrs, xerr = M_gal_err, c='grey',yerr = M_icrs_err, alpha=.3, fmt='o', zorder=999)\n",
    "ax.plot(M_gal, M_gal, c='r', alpha=.7, linestyle='--',zorder=1001)\n",
    "ax.set_ylabel('M (icrs coords)')\n",
    "ax.set_xlabel('M (galactic coords)')\n",
    "\n",
    "axr.scatter(M_gal, M_gal - M_icrs, s=3, zorder=1000)\n",
    "axr.errorbar(M_gal, M_gal - M_icrs, c='grey', alpha=.3, fmt='o',\n",
    "            yerr = np.sqrt(M_gal_err**2 + M_icrs_err**2), zorder=999)\n",
    "axr.set_ylabel('M (galactic) - M (icrs)')\n",
    "axr.set_xlabel('M (galactic)')\n",
    "axr.axhline(0., c='r', linestyle='--', alpha=.7)\n",
    "\n",
    "axr.grid()\n",
    "ax.grid()\n",
    "fig.tight_layout()"
   ]
  }
 ],
 "metadata": {
  "kernelspec": {
   "display_name": "Python 2",
   "language": "python",
   "name": "python2"
  },
  "language_info": {
   "codemirror_mode": {
    "name": "ipython",
    "version": 2
   },
   "file_extension": ".py",
   "mimetype": "text/x-python",
   "name": "python",
   "nbconvert_exporter": "python",
   "pygments_lexer": "ipython2",
   "version": "2.7.12"
  }
 },
 "nbformat": 4,
 "nbformat_minor": 2
}
