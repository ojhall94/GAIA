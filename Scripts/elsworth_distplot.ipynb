{
 "cells": [
  {
   "cell_type": "code",
   "execution_count": 13,
   "metadata": {},
   "outputs": [],
   "source": [
    "#Call in my packages\n",
    "import numpy as np\n",
    "import matplotlib.pyplot as plt\n",
    "import seaborn as sns\n",
    "import pandas as pd\n",
    "\n",
    "from Starclass import Star\n",
    "import ClosePlots as cp\n",
    "\n",
    "import glob\n",
    "from tqdm import tqdm\n",
    "import sys\n",
    "import os"
   ]
  },
  {
   "cell_type": "code",
   "execution_count": 14,
   "metadata": {},
   "outputs": [
    {
     "name": "stdout",
     "output_type": "stream",
     "text": [
      "['0', 'KIC', 'astero_parallax', 'astero_parallax_err', 'parallax', 'parallax_error', 'duplicated_source', 'Unnamed: 0.1', 'P12', 'G', '2MASS', 'GLAT', 'GLON', 'Teffc', 'e_Teffc', 'Teff', 'e_Teff', 'Dnu', 'e_Dnu', 'numax', 'e_numax', 'Notes', 'Teff1', 'e_Teff1', '[M/H]1', 'e_[M/H]1', 'M1', 'E_M1', 'e_M1', 'R1', 'E_R1', 'e_R1', 'log.g1', 'E_log.g1', 'e_log.g1', 'rho1', 'E_rho1', 'e_rho1', 'Teff2', 'e_Teff2', '[M/H]2', 'e_[M/H]2', 'M2', 'E_M2', 'e_M2', 'R2', 'E_R2', 'e_R2', 'log.g2', 'E_log.g2', 'e_log.g2', 'rho2', 'E_rho2', 'e_rho2', '_RA', '_DE', 'Unnamed: 0.1.1', 'kic_ra', 'kic_dec', 'kic_pmra', 'kic_pmdec', 'kic_umag', 'kic_gmag', 'kic_rmag', 'kic_imag', 'kic_zmag', 'kic_gredmag', 'kic_d51mag', 'kic_jmag', 'kic_hmag', 'kic_kmag', 'kic_kepmag', 'kic_kepler_id', 'kic_tmid', 'kic_scpid', 'kic_altid', 'kic_altsource', 'kic_galaxy', 'kic_blend', 'kic_variable', 'kic_teff', 'kic_logg', 'kic_feh', 'kic_ebminusv', 'kic_av', 'kic_radius', 'kic_cq', 'kic_pq', 'kic_aq', 'kic_catkey', 'kic_scpkey', 'kic_parallax', 'kic_glon', 'kic_glat', 'kic_pmtotal', 'kic_grcolor', 'kic_jkcolor', 'kic_gkcolor', 'kic_degree_ra', 'kic_fov_flag', 'kic_tm_designation', 'stage', 'numstage']\n"
     ]
    }
   ],
   "source": [
    "#Import useful data\n",
    "sfile = glob.glob('../../data/Elsworth+/Elsworth_x_TGAS*')[0]\n",
    "# columns = ['KIC','astero_parallax','astero_parallax_err','GLAT','GLON','_RA','_DE','kic_kmag']\n",
    "# df = pd.read_csv(sfile, usecols=columns)\n",
    "df = pd.read_csv(sfile)\n",
    "print(list(df))"
   ]
  },
  {
   "cell_type": "code",
   "execution_count": 15,
   "metadata": {},
   "outputs": [
    {
     "name": "stdout",
     "output_type": "stream",
     "text": [
      "886\n",
      "886\n"
     ]
    }
   ],
   "source": [
    "#Kill data where parallax error > 30% of the parallax value\n",
    "print(len(df))\n",
    "df = df[df.astero_parallax_err <= .3*df.astero_parallax].reset_index()\n",
    "#Kill non-RC stars\n",
    "# df = df[df.stage == 'RC'].reset_index()\n",
    "print(len(df))"
   ]
  },
  {
   "cell_type": "code",
   "execution_count": null,
   "metadata": {},
   "outputs": [
    {
     "name": "stderr",
     "output_type": "stream",
     "text": [
      " 74%|███████▍  | 655/886 [02:23<00:50,  4.57it/s]"
     ]
    }
   ],
   "source": [
    "#Build a sample of 100 or so stars to test functionality in current build\n",
    "length = len(df)\n",
    "#First we're going to use galactic coordinates\n",
    "M_gal = np.zeros(length)\n",
    "M_gal_err = np.zeros(length)\n",
    "for idx in tqdm(range(length)):\n",
    "    S = Star(str(df.KIC[idx])) #Call class\n",
    "    S.pass_parallax(df.astero_parallax[idx], err=df.astero_parallax_err[idx])\n",
    "    S.pass_position(df.GLON[idx], df.GLAT[idx], frame='galactic')\n",
    "    S.pass_magnitude(df.kic_kmag[idx],err=None, band='Ks')\n",
    "    M_gal[idx], M_gal_err[idx] = S.get_M()"
   ]
  },
  {
   "cell_type": "code",
   "execution_count": null,
   "metadata": {},
   "outputs": [],
   "source": [
    "#Build a distplot\n",
    "g=sns.jointplot(M_gal, df.kic_kmag[:length],color=\"m\",s=1)\n",
    "g.plot_joint(sns.kdeplot, zorder=0, nlevels=10)"
   ]
  },
  {
   "cell_type": "code",
   "execution_count": null,
   "metadata": {},
   "outputs": [],
   "source": [
    "#Plot a m - M plot with errorbars\n",
    "fig, ax = plt.subplots()\n",
    "ax.scatter(M_gal, df.kic_kmag[:length],s=1)\n",
    "ax.errorbar(M_gal, df.kic_kmag[:length], xerr=M_gal_err,alpha=.5,fmt=None,c='grey')\n",
    "ax.set_xlabel(r'M$_{Ks}$')\n",
    "ax.set_ylabel(r'm$_{Ks}$')"
   ]
  },
  {
   "cell_type": "code",
   "execution_count": null,
   "metadata": {},
   "outputs": [],
   "source": [
    "#Plot the Davies+17 Ks - parallax plot\n",
    "fig, ax = plt.subplots()\n",
    "ax.scatter(df.astero_parallax, df.kic_kmag, s=1)\n",
    "ax.errorbar(df.astero_parallax,df.kic_kmag, xerr=df.astero_parallax_err, alpha=.5, fmt=None, c='grey')\n",
    "ax.set_xlabel('Astero parallax')\n",
    "ax.set_ylabel(r'$m_{Ks}$')"
   ]
  },
  {
   "cell_type": "code",
   "execution_count": null,
   "metadata": {},
   "outputs": [],
   "source": [
    "#Plot the absolute magnitude against mass\n",
    "%pylab qt\n",
    "fig, ax = plt.subplots()\n",
    "ax.scatter(df.M1,M_gal)#,c=df.stage)\n",
    "ax.errorbar(df.M1, M_gal, yerr=M_gal_err, alpha=.5, fmt='None', c='grey')\n",
    "ax.set_xlim(0)\n",
    "ax.set_xlabel('Mass (Msol)')\n",
    "ax.set_ylabel('Absolute Mag in Ks')"
   ]
  },
  {
   "cell_type": "code",
   "execution_count": null,
   "metadata": {},
   "outputs": [],
   "source": [
    "#Kill the code. Code graveyard below\n",
    "sys.exit()"
   ]
  },
  {
   "cell_type": "code",
   "execution_count": null,
   "metadata": {},
   "outputs": [],
   "source": [
    "import barbershop\n",
    "%pylab qt\n",
    "sfile = glob.glob('../../data/Elsworth+/Elsworth_x_TGAS*')[0]\n",
    "df = pd.read_csv(sfile)\n",
    "df = df[df.M1 > 0.]\n",
    "len(df)\n",
    "\n",
    "df.stage[df.stage=='RGB']=0\n",
    "df.stage[df.stage=='RC']=1\n",
    "df.stage[df.stage=='2CL']=2\n",
    "df.stage[df.stage=='U'] = 3\n",
    "df.stage = df.stage.fillna(3)\n",
    "print(df.stage)\n",
    "\n",
    "barber = barbershop.open(df,'astero_parallax','kic_kmag')\n",
    "barber.add_client('M1')\n",
    "barber.add_client('stage')\n",
    "barber.show_mirror()\n"
   ]
  },
  {
   "cell_type": "code",
   "execution_count": null,
   "metadata": {},
   "outputs": [],
   "source": [
    "#Now lets do the same again but for RA and DEC\n",
    "M_icrs = np.zeros(length)\n",
    "M_icrs_err = np.zeros(length)\n",
    "for idx in tqdm(range(length)):\n",
    "    S = Star(str(df.KIC[idx])) #Call class\n",
    "    S.pass_parallax(df.parallax[idx], err=df.parallax_error[idx])\n",
    "    S.pass_position(df._RA[idx], df._DE[idx], frame='icrs')\n",
    "    S.pass_magnitude(df.kic_kmag[idx],err=None, band='Ks')\n",
    "    M_icrs[idx], M_icrs_err[idx] = S.get_M()    "
   ]
  },
  {
   "cell_type": "code",
   "execution_count": null,
   "metadata": {},
   "outputs": [],
   "source": [
    "#Perfect match\n",
    "#Lets compare these two first before doing the distplot\n",
    "fig, (ax, axr) = plt.subplots(2)\n",
    "ax.scatter(M_gal, M_icrs, s=3, zorder=1000)\n",
    "ax.errorbar(M_gal, M_icrs, xerr = M_gal_err, c='grey',yerr = M_icrs_err, alpha=.3, fmt='o', zorder=999)\n",
    "ax.plot(M_gal, M_gal, c='r', alpha=.7, linestyle='--',zorder=1001)\n",
    "ax.set_ylabel('M (icrs coords)')\n",
    "ax.set_xlabel('M (galactic coords)')\n",
    "\n",
    "axr.scatter(M_gal, M_gal - M_icrs, s=3, zorder=1000)\n",
    "axr.errorbar(M_gal, M_gal - M_icrs, c='grey', alpha=.3, fmt='o',\n",
    "            yerr = np.sqrt(M_gal_err**2 + M_icrs_err**2), zorder=999)\n",
    "axr.set_ylabel('M (galactic) - M (icrs)')\n",
    "axr.set_xlabel('M (galactic)')\n",
    "axr.axhline(0., c='r', linestyle='--', alpha=.7)\n",
    "\n",
    "axr.grid()\n",
    "ax.grid()\n",
    "fig.tight_layout()"
   ]
  }
 ],
 "metadata": {
  "kernelspec": {
   "display_name": "Python 2",
   "language": "python",
   "name": "python2"
  },
  "language_info": {
   "codemirror_mode": {
    "name": "ipython",
    "version": 2
   },
   "file_extension": ".py",
   "mimetype": "text/x-python",
   "name": "python",
   "nbconvert_exporter": "python",
   "pygments_lexer": "ipython2",
   "version": "2.7.12"
  }
 },
 "nbformat": 4,
 "nbformat_minor": 2
}
