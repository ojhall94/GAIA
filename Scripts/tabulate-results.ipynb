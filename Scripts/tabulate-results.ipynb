{
 "cells": [
  {
   "cell_type": "code",
   "execution_count": 1,
   "metadata": {},
   "outputs": [],
   "source": [
    "import numpy as np\n",
    "import pandas as pd\n",
    "import pickle\n",
    "import os\n",
    "import glob\n",
    "\n",
    "__outdir__ = os.path.expanduser('~')+'/PhD/Gaia_Project/Output/'\n",
    "__datdir__ = os.path.expanduser('~')+'/PhD/Gaia_Project/data/KepxDR2/'"
   ]
  },
  {
   "cell_type": "code",
   "execution_count": 2,
   "metadata": {},
   "outputs": [],
   "source": [
    "def get_table(mls, typ):\n",
    "    if type(mls) == str:\n",
    "        mls=[mls]\n",
    "    if typ == 'astero':\n",
    "        labels=['mu','mulo','muhi','sigma','siglo','sighi',\n",
    "            'Q','Qlo','Qhi','sigo','sigolo','sigohi']\n",
    "        labels_c=[i+'_c' for i in labels]\n",
    "        indices = [str(ts) for ts in np.arange(-50., 60., 10.)]\n",
    "        df = pd.DataFrame(columns=labels+labels_c, index=indices)\n",
    "\n",
    "    elif typ == 'gaia':\n",
    "        labels=['mu','mulo','muhi','sigma','siglo','sighi',\n",
    "            'Q','Qlo','Qhi','sigo','sigolo','sigohi',\n",
    "            'L', 'Llo', 'Lhi', 'oozp', 'oozplo','oozphi']\n",
    "        indices = [str(ts) for ts in np.arange(-50., 100., 50.)]\n",
    "        df = pd.DataFrame(columns=labels, index=indices)\n",
    "\n",
    "    for n, ml in enumerate(mls):\n",
    "        print('\\n'+ml.replace('_',' ')+'\\n')\n",
    "        if n == 0:\n",
    "            wlabels=labels\n",
    "        if n == 1:\n",
    "            wlabels=labels_c\n",
    "        for idx in indices:\n",
    "            sfile = glob.glob(__outdir__+ml+'/'+typ+'_'+str(idx)+'_chains.txt')\n",
    "            chain = np.genfromtxt(sfile[0])\n",
    "            for lis in np.arange(0, len(wlabels), 3):\n",
    "                if lis >= 6:\n",
    "                    rnd = 2\n",
    "                else:\n",
    "                    rnd = 3\n",
    "                df.loc[idx][wlabels[lis]] = np.round(np.median(chain[lis/3]), rnd)\n",
    "                df.loc[idx][wlabels[lis+1]] = np.round(np.median(chain[lis/3]) - np.percentile(chain[lis/3], [15.9])[0],rnd)\n",
    "                df.loc[idx][wlabels[lis+2]] = np.round(np.percentile(chain[lis/3], [84.1])[0] - np.median(chain[lis/3]),rnd)\n",
    "    return df"
   ]
  },
  {
   "cell_type": "markdown",
   "metadata": {},
   "source": [
    "# Asteroseismic runs"
   ]
  },
  {
   "cell_type": "code",
   "execution_count": 3,
   "metadata": {},
   "outputs": [],
   "source": [
    "mlk = ['K_tempscale_noCorrection','K_tempscale_Clump',\n",
    "       'APOKASC_K_tempscale_noCorrection', 'APOKASC_K_tempscale_Clump']\n",
    "mlg = ['GAIA_tempscale_noCorrection','GAIA_tempscale_Clump', \n",
    "       'APOKASC_GAIA_tempscale_noCorrection', 'APOKASC_GAIA_tempscale_Clump']"
   ]
  },
  {
   "cell_type": "code",
   "execution_count": 4,
   "metadata": {
    "scrolled": true
   },
   "outputs": [
    {
     "name": "stdout",
     "output_type": "stream",
     "text": [
      "\n",
      "K tempscale noCorrection\n",
      "\n",
      "\n",
      "K tempscale Clump\n",
      "\n",
      "\\begin{tabular}{lllllllllllllllllllllllll}\n",
      "\\toprule\n",
      "{} &     mu &   mulo &   muhi &  sigma &  siglo &  sighi &     Q &   Qlo &   Qhi &   sigo & sigolo & sigohi &   mu\\_c & mulo\\_c & muhi\\_c & sigma\\_c & siglo\\_c & sighi\\_c &   Q\\_c & Qlo\\_c & Qhi\\_c & sigo\\_c & sigolo\\_c & sigohi\\_c \\\\\n",
      "\\midrule\n",
      "\\textbf{-50.0} & -1.704 &  0.002 &  0.002 &   0.03 &  0.003 &  0.003 &  0.92 &  0.01 &  0.01 &  10.35 &   1.01 &   1.17 & -1.713 &  0.002 &  0.002 &   0.034 &   0.004 &   0.004 &  0.91 &  0.01 &  0.01 &   8.85 &     0.93 &     1.09 \\\\\n",
      "\\textbf{-40.0} & -1.709 &  0.002 &  0.002 &   0.03 &  0.004 &  0.003 &  0.92 &  0.01 &  0.01 &  10.33 &   1.01 &   1.22 & -1.718 &  0.002 &  0.002 &   0.033 &   0.004 &   0.004 &  0.91 &  0.01 &  0.01 &   9.11 &     1.04 &     1.12 \\\\\n",
      "\\textbf{-30.0} & -1.714 &  0.002 &  0.002 &   0.03 &  0.003 &  0.003 &  0.92 &  0.01 &  0.01 &   10.4 &   1.04 &   1.15 & -1.724 &  0.002 &  0.002 &   0.033 &   0.004 &   0.004 &  0.91 &  0.01 &  0.01 &   9.16 &     0.96 &     1.12 \\\\\n",
      "\\textbf{-20.0} & -1.719 &  0.002 &  0.002 &  0.029 &  0.003 &  0.003 &  0.92 &  0.01 &  0.01 &  10.55 &   1.05 &   1.15 &  -1.73 &  0.002 &  0.002 &   0.033 &   0.004 &   0.004 &  0.91 &  0.01 &  0.01 &   9.22 &     0.91 &     1.05 \\\\\n",
      "\\textbf{-10.0} & -1.724 &  0.002 &  0.002 &   0.03 &  0.003 &  0.003 &  0.92 &  0.01 &  0.01 &  10.49 &   1.03 &   1.13 & -1.735 &  0.002 &  0.002 &   0.033 &   0.004 &   0.004 &  0.91 &  0.01 &  0.01 &   9.16 &     0.98 &     1.09 \\\\\n",
      "\\textbf{0.0  } & -1.729 &  0.002 &  0.002 &   0.03 &  0.003 &  0.003 &  0.92 &  0.01 &  0.01 &  10.33 &   1.01 &   1.19 & -1.741 &  0.002 &  0.002 &   0.033 &   0.004 &   0.004 &  0.91 &  0.01 &  0.01 &   9.18 &     0.92 &     1.09 \\\\\n",
      "\\textbf{10.0 } & -1.734 &  0.002 &  0.002 &  0.029 &  0.003 &  0.003 &  0.92 &  0.01 &  0.01 &  10.44 &   0.97 &   1.07 & -1.746 &  0.002 &  0.002 &   0.032 &   0.004 &   0.004 &  0.91 &  0.01 &  0.01 &   9.36 &     1.05 &      1.2 \\\\\n",
      "\\textbf{20.0 } & -1.739 &  0.002 &  0.002 &   0.03 &  0.003 &  0.004 &  0.92 &  0.01 &  0.01 &  10.32 &   1.02 &   1.17 & -1.752 &  0.002 &  0.002 &   0.033 &   0.004 &   0.004 &  0.91 &  0.01 &  0.01 &   9.19 &     1.01 &     1.16 \\\\\n",
      "\\textbf{30.0 } & -1.744 &  0.002 &  0.002 &   0.03 &  0.003 &  0.003 &  0.92 &  0.01 &  0.01 &  10.41 &   0.99 &   1.06 & -1.757 &  0.002 &  0.002 &   0.032 &   0.004 &   0.004 &  0.91 &  0.01 &  0.01 &   9.37 &     1.02 &     1.16 \\\\\n",
      "\\textbf{40.0 } & -1.749 &  0.002 &  0.002 &   0.03 &  0.003 &  0.003 &  0.92 &  0.01 &  0.01 &  10.41 &   1.02 &   1.18 & -1.762 &  0.002 &  0.002 &   0.032 &   0.004 &   0.004 &  0.91 &  0.01 &  0.01 &   9.37 &     0.97 &     1.14 \\\\\n",
      "\\textbf{50.0 } & -1.754 &  0.002 &  0.002 &   0.03 &  0.003 &  0.003 &  0.92 &  0.01 &  0.01 &  10.27 &   1.01 &   1.12 & -1.768 &  0.002 &  0.002 &   0.032 &   0.004 &   0.004 &  0.91 &  0.01 &  0.01 &   9.25 &        1 &     1.16 \\\\\n",
      "\\bottomrule\n",
      "\\end{tabular}\n",
      "\n",
      "\n",
      "APOKASC K tempscale noCorrection\n",
      "\n",
      "\n",
      "APOKASC K tempscale Clump\n",
      "\n",
      "\\begin{tabular}{lllllllllllllllllllllllll}\n",
      "\\toprule\n",
      "{} &     mu &   mulo &   muhi &  sigma &  siglo &  sighi &    Q &   Qlo &   Qhi &  sigo & sigolo & sigohi &   mu\\_c & mulo\\_c & muhi\\_c & sigma\\_c & siglo\\_c & sighi\\_c &   Q\\_c & Qlo\\_c & Qhi\\_c & sigo\\_c & sigolo\\_c & sigohi\\_c \\\\\n",
      "\\midrule\n",
      "\\textbf{-50.0} & -1.659 &  0.003 &  0.003 &  0.029 &  0.004 &  0.004 &  0.9 &  0.02 &  0.02 &   9.2 &   1.09 &    1.2 & -1.663 &  0.003 &  0.003 &   0.031 &   0.004 &   0.005 &  0.89 &  0.02 &  0.02 &   8.46 &     1.06 &     1.19 \\\\\n",
      "\\textbf{-40.0} & -1.664 &  0.003 &  0.003 &  0.029 &  0.004 &  0.004 &  0.9 &  0.02 &  0.02 &  9.14 &   1.08 &   1.18 & -1.669 &  0.003 &  0.003 &   0.032 &   0.004 &   0.005 &  0.89 &  0.02 &  0.02 &    8.4 &      1.1 &     1.16 \\\\\n",
      "\\textbf{-30.0} & -1.669 &  0.003 &  0.003 &  0.029 &  0.004 &  0.004 &  0.9 &  0.02 &  0.02 &  9.13 &   1.11 &   1.23 & -1.675 &  0.003 &  0.003 &   0.031 &   0.004 &   0.005 &  0.89 &  0.02 &  0.02 &   8.53 &     1.06 &     1.16 \\\\\n",
      "\\textbf{-20.0} & -1.674 &  0.003 &  0.003 &  0.029 &  0.004 &  0.004 &  0.9 &  0.02 &  0.02 &  9.15 &    1.1 &   1.26 & -1.681 &  0.003 &  0.003 &   0.031 &   0.004 &   0.005 &  0.89 &  0.02 &  0.02 &   8.43 &     1.06 &     1.24 \\\\\n",
      "\\textbf{-10.0} & -1.679 &  0.003 &  0.003 &   0.03 &  0.004 &  0.004 &  0.9 &  0.02 &  0.02 &  9.11 &   1.09 &   1.18 & -1.687 &  0.003 &  0.003 &   0.032 &   0.004 &   0.005 &  0.89 &  0.02 &  0.02 &   8.37 &     1.11 &     1.23 \\\\\n",
      "\\textbf{0.0  } & -1.684 &  0.003 &  0.003 &  0.029 &  0.004 &  0.004 &  0.9 &  0.02 &  0.02 &  9.13 &    1.1 &   1.25 & -1.693 &  0.003 &  0.003 &   0.031 &   0.004 &   0.005 &  0.89 &  0.02 &  0.02 &    8.5 &     1.08 &     1.18 \\\\\n",
      "\\textbf{10.0 } & -1.689 &  0.003 &  0.003 &   0.03 &  0.004 &  0.004 &  0.9 &  0.02 &  0.02 &  9.08 &   1.08 &    1.2 & -1.698 &  0.003 &  0.003 &   0.032 &   0.005 &   0.005 &  0.89 &  0.02 &  0.02 &   8.41 &     1.06 &      1.2 \\\\\n",
      "\\textbf{20.0 } & -1.694 &  0.003 &  0.003 &   0.03 &  0.004 &  0.004 &  0.9 &  0.02 &  0.02 &  9.04 &   1.06 &   1.26 & -1.704 &  0.003 &  0.003 &   0.032 &   0.004 &   0.005 &  0.89 &  0.02 &  0.02 &   8.44 &     1.08 &     1.21 \\\\\n",
      "\\textbf{30.0 } & -1.699 &  0.003 &  0.003 &  0.029 &  0.004 &  0.004 &  0.9 &  0.02 &  0.02 &   9.1 &   1.07 &   1.17 &  -1.71 &  0.003 &  0.003 &   0.033 &   0.004 &   0.005 &   0.9 &  0.02 &  0.02 &   8.29 &     1.05 &     1.21 \\\\\n",
      "\\textbf{40.0 } & -1.704 &  0.003 &  0.003 &  0.029 &  0.004 &  0.004 &  0.9 &  0.02 &  0.02 &  9.12 &    1.1 &   1.18 & -1.715 &  0.003 &  0.003 &   0.032 &   0.005 &   0.005 &  0.89 &  0.02 &  0.02 &   8.43 &     1.07 &     1.23 \\\\\n",
      "\\textbf{50.0 } & -1.709 &  0.003 &  0.003 &  0.029 &  0.004 &  0.004 &  0.9 &  0.02 &  0.02 &  9.15 &   1.09 &   1.24 & -1.721 &  0.003 &  0.003 &   0.032 &   0.004 &   0.005 &  0.89 &  0.02 &  0.02 &   8.39 &     1.07 &     1.19 \\\\\n",
      "\\bottomrule\n",
      "\\end{tabular}\n",
      "\n",
      "\n",
      "GAIA tempscale noCorrection\n",
      "\n"
     ]
    },
    {
     "ename": "IndexError",
     "evalue": "list index out of range",
     "output_type": "error",
     "traceback": [
      "\u001b[0;31m---------------------------------------------------------------------------\u001b[0m",
      "\u001b[0;31mIndexError\u001b[0m                                Traceback (most recent call last)",
      "\u001b[0;32m<ipython-input-4-402d4c2bb71e>\u001b[0m in \u001b[0;36m<module>\u001b[0;34m()\u001b[0m\n\u001b[1;32m      1\u001b[0m \u001b[0;32mprint\u001b[0m\u001b[0;34m(\u001b[0m\u001b[0mget_table\u001b[0m\u001b[0;34m(\u001b[0m\u001b[0mmlk\u001b[0m\u001b[0;34m[\u001b[0m\u001b[0;34m:\u001b[0m\u001b[0;36m2\u001b[0m\u001b[0;34m]\u001b[0m\u001b[0;34m,\u001b[0m \u001b[0;34m'astero'\u001b[0m\u001b[0;34m)\u001b[0m\u001b[0;34m.\u001b[0m\u001b[0mto_latex\u001b[0m\u001b[0;34m(\u001b[0m\u001b[0mbold_rows\u001b[0m\u001b[0;34m=\u001b[0m\u001b[0mTrue\u001b[0m\u001b[0;34m)\u001b[0m\u001b[0;34m)\u001b[0m\u001b[0;34m\u001b[0m\u001b[0m\n\u001b[1;32m      2\u001b[0m \u001b[0;32mprint\u001b[0m\u001b[0;34m(\u001b[0m\u001b[0mget_table\u001b[0m\u001b[0;34m(\u001b[0m\u001b[0mmlk\u001b[0m\u001b[0;34m[\u001b[0m\u001b[0;36m2\u001b[0m\u001b[0;34m:\u001b[0m\u001b[0;34m]\u001b[0m\u001b[0;34m,\u001b[0m \u001b[0;34m'astero'\u001b[0m\u001b[0;34m)\u001b[0m\u001b[0;34m.\u001b[0m\u001b[0mto_latex\u001b[0m\u001b[0;34m(\u001b[0m\u001b[0mbold_rows\u001b[0m\u001b[0;34m=\u001b[0m\u001b[0mTrue\u001b[0m\u001b[0;34m)\u001b[0m\u001b[0;34m)\u001b[0m\u001b[0;34m\u001b[0m\u001b[0m\n\u001b[0;32m----> 3\u001b[0;31m \u001b[0;32mprint\u001b[0m\u001b[0;34m(\u001b[0m\u001b[0mget_table\u001b[0m\u001b[0;34m(\u001b[0m\u001b[0mmlg\u001b[0m\u001b[0;34m[\u001b[0m\u001b[0;34m:\u001b[0m\u001b[0;36m2\u001b[0m\u001b[0;34m]\u001b[0m\u001b[0;34m,\u001b[0m \u001b[0;34m'astero'\u001b[0m\u001b[0;34m)\u001b[0m\u001b[0;34m.\u001b[0m\u001b[0mto_latex\u001b[0m\u001b[0;34m(\u001b[0m\u001b[0mbold_rows\u001b[0m\u001b[0;34m=\u001b[0m\u001b[0mTrue\u001b[0m\u001b[0;34m)\u001b[0m\u001b[0;34m)\u001b[0m\u001b[0;34m\u001b[0m\u001b[0m\n\u001b[0m\u001b[1;32m      4\u001b[0m \u001b[0;32mprint\u001b[0m\u001b[0;34m(\u001b[0m\u001b[0mget_table\u001b[0m\u001b[0;34m(\u001b[0m\u001b[0mmlg\u001b[0m\u001b[0;34m[\u001b[0m\u001b[0;36m2\u001b[0m\u001b[0;34m:\u001b[0m\u001b[0;34m]\u001b[0m\u001b[0;34m,\u001b[0m \u001b[0;34m'astero'\u001b[0m\u001b[0;34m)\u001b[0m\u001b[0;34m.\u001b[0m\u001b[0mto_latex\u001b[0m\u001b[0;34m(\u001b[0m\u001b[0mbold_rows\u001b[0m\u001b[0;34m=\u001b[0m\u001b[0mTrue\u001b[0m\u001b[0;34m)\u001b[0m\u001b[0;34m)\u001b[0m\u001b[0;34m\u001b[0m\u001b[0m\n",
      "\u001b[0;32m<ipython-input-2-02a73616840d>\u001b[0m in \u001b[0;36mget_table\u001b[0;34m(mls, typ)\u001b[0m\n\u001b[1;32m     24\u001b[0m         \u001b[0;32mfor\u001b[0m \u001b[0midx\u001b[0m \u001b[0;32min\u001b[0m \u001b[0mindices\u001b[0m\u001b[0;34m:\u001b[0m\u001b[0;34m\u001b[0m\u001b[0m\n\u001b[1;32m     25\u001b[0m             \u001b[0msfile\u001b[0m \u001b[0;34m=\u001b[0m \u001b[0mglob\u001b[0m\u001b[0;34m.\u001b[0m\u001b[0mglob\u001b[0m\u001b[0;34m(\u001b[0m\u001b[0m__outdir__\u001b[0m\u001b[0;34m+\u001b[0m\u001b[0mml\u001b[0m\u001b[0;34m+\u001b[0m\u001b[0;34m'/'\u001b[0m\u001b[0;34m+\u001b[0m\u001b[0mtyp\u001b[0m\u001b[0;34m+\u001b[0m\u001b[0;34m'_'\u001b[0m\u001b[0;34m+\u001b[0m\u001b[0mstr\u001b[0m\u001b[0;34m(\u001b[0m\u001b[0midx\u001b[0m\u001b[0;34m)\u001b[0m\u001b[0;34m+\u001b[0m\u001b[0;34m'_chains.txt'\u001b[0m\u001b[0;34m)\u001b[0m\u001b[0;34m\u001b[0m\u001b[0m\n\u001b[0;32m---> 26\u001b[0;31m             \u001b[0mchain\u001b[0m \u001b[0;34m=\u001b[0m \u001b[0mnp\u001b[0m\u001b[0;34m.\u001b[0m\u001b[0mgenfromtxt\u001b[0m\u001b[0;34m(\u001b[0m\u001b[0msfile\u001b[0m\u001b[0;34m[\u001b[0m\u001b[0;36m0\u001b[0m\u001b[0;34m]\u001b[0m\u001b[0;34m)\u001b[0m\u001b[0;34m\u001b[0m\u001b[0m\n\u001b[0m\u001b[1;32m     27\u001b[0m             \u001b[0;32mfor\u001b[0m \u001b[0mlis\u001b[0m \u001b[0;32min\u001b[0m \u001b[0mnp\u001b[0m\u001b[0;34m.\u001b[0m\u001b[0marange\u001b[0m\u001b[0;34m(\u001b[0m\u001b[0;36m0\u001b[0m\u001b[0;34m,\u001b[0m \u001b[0mlen\u001b[0m\u001b[0;34m(\u001b[0m\u001b[0mwlabels\u001b[0m\u001b[0;34m)\u001b[0m\u001b[0;34m,\u001b[0m \u001b[0;36m3\u001b[0m\u001b[0;34m)\u001b[0m\u001b[0;34m:\u001b[0m\u001b[0;34m\u001b[0m\u001b[0m\n\u001b[1;32m     28\u001b[0m                 \u001b[0;32mif\u001b[0m \u001b[0mlis\u001b[0m \u001b[0;34m>=\u001b[0m \u001b[0;36m6\u001b[0m\u001b[0;34m:\u001b[0m\u001b[0;34m\u001b[0m\u001b[0m\n",
      "\u001b[0;31mIndexError\u001b[0m: list index out of range"
     ]
    }
   ],
   "source": [
    "print(get_table(mlk[:2], 'astero').to_latex(bold_rows=True))\n",
    "print(get_table(mlk[2:], 'astero').to_latex(bold_rows=True))\n",
    "print(get_table(mlg[:2], 'astero').to_latex(bold_rows=True))\n",
    "print(get_table(mlg[2:], 'astero').to_latex(bold_rows=True))"
   ]
  },
  {
   "cell_type": "markdown",
   "metadata": {},
   "source": [
    "# Gaia runs"
   ]
  },
  {
   "cell_type": "code",
   "execution_count": 6,
   "metadata": {},
   "outputs": [],
   "source": [
    "mlk = ['Gaia_K_tempscale_Clump','Gaia_APOKASC_K_tempscale_Clump']\n",
    "mlg = ['Gaia_GAIA_tempscale_Clump', 'Gaia_APOKASC_GAIA_tempscale_Clump']"
   ]
  },
  {
   "cell_type": "code",
   "execution_count": 7,
   "metadata": {
    "scrolled": false
   },
   "outputs": [
    {
     "name": "stdout",
     "output_type": "stream",
     "text": [
      "\n",
      "Gaia K tempscale Clump\n",
      "\n",
      "\\begin{tabular}{lllllllllllllllllll}\n",
      "\\toprule\n",
      "{} &     mu &   mulo &   muhi &  sigma &  siglo &  sighi &     Q &   Qlo &   Qhi &  sigo & sigolo & sigohi &       L &    Llo &    Lhi &   oozp & oozplo & oozphi \\\\\n",
      "\\midrule\n",
      "\\textbf{-50.0} &  -1.71 &  0.002 &  0.002 &  0.041 &  0.003 &  0.004 &  0.58 &  0.05 &  0.05 &   5.5 &   0.48 &   0.52 &  908.54 &   16.3 &  16.84 & -24.33 &  12.51 &  12.84 \\\\\n",
      "\\textbf{0.0  } & -1.737 &  0.002 &  0.002 &  0.039 &  0.003 &  0.003 &  0.55 &  0.03 &  0.05 &  5.67 &   0.46 &   0.52 &  920.12 &  16.06 &  16.39 & -19.54 &  12.58 &  12.61 \\\\\n",
      "\\textbf{50.0 } & -1.764 &  0.002 &  0.002 &  0.041 &  0.003 &  0.003 &  0.54 &  0.03 &  0.04 &  5.47 &   0.47 &   0.51 &  931.18 &  16.79 &  17.21 & -14.78 &  12.97 &  12.92 \\\\\n",
      "\\bottomrule\n",
      "\\end{tabular}\n",
      "\n",
      "\n",
      "Gaia APOKASC K tempscale Clump\n",
      "\n",
      "\\begin{tabular}{lllllllllllllllllll}\n",
      "\\toprule\n",
      "{} &     mu &   mulo &   muhi &  sigma &  siglo &  sighi &     Q &   Qlo &   Qhi &  sigo & sigolo & sigohi &       L &    Llo &    Lhi &   oozp & oozplo & oozphi \\\\\n",
      "\\midrule\n",
      "\\textbf{-50.0} & -1.661 &  0.003 &  0.003 &   0.04 &  0.003 &  0.003 &   0.6 &  0.05 &  0.05 &  5.75 &   0.49 &   0.54 &  887.96 &  16.15 &  16.77 & -33.68 &  12.87 &  12.75 \\\\\n",
      "\\textbf{0.0  } & -1.689 &  0.003 &  0.003 &   0.04 &  0.004 &  0.004 &  0.59 &  0.05 &  0.05 &  5.66 &   0.51 &   0.53 &  899.36 &  16.04 &  16.72 & -28.33 &  12.92 &  12.96 \\\\\n",
      "\\textbf{50.0 } & -1.715 &  0.003 &  0.003 &  0.041 &  0.004 &  0.004 &  0.57 &  0.05 &  0.05 &  5.51 &   0.49 &   0.55 &  910.68 &   16.4 &  16.83 & -23.47 &  13.13 &  13.25 \\\\\n",
      "\\bottomrule\n",
      "\\end{tabular}\n",
      "\n",
      "\n",
      "Gaia GAIA tempscale Clump\n",
      "\n",
      "\\begin{tabular}{lllllllllllllllllll}\n",
      "\\toprule\n",
      "{} &     mu &   mulo &   muhi &  sigma &  siglo &  sighi &     Q &   Qlo &   Qhi &  sigo & sigolo & sigohi &        L &    Llo &    Lhi &   oozp & oozplo & oozphi \\\\\n",
      "\\midrule\n",
      "\\textbf{-50.0} &  0.346 &  0.003 &  0.003 &   0.19 &  0.003 &  0.003 &  0.97 &  0.02 &  0.01 &   3.1 &    0.7 &   0.79 &   948.41 &  17.96 &  18.15 &  -9.96 &  13.18 &   13.1 \\\\\n",
      "\\textbf{0.0  } &  0.277 &  0.003 &  0.003 &  0.188 &  0.004 &  0.003 &  0.95 &  0.05 &  0.02 &  2.64 &   0.63 &   0.77 &    978.9 &  17.46 &  18.35 &   1.14 &  12.81 &   12.8 \\\\\n",
      "\\textbf{50.0 } &  0.209 &  0.003 &  0.003 &  0.184 &  0.004 &  0.004 &  0.74 &  0.13 &  0.12 &  1.71 &    0.2 &   0.36 &  1008.77 &  18.48 &  18.85 &  10.76 &  13.21 &  13.13 \\\\\n",
      "\\bottomrule\n",
      "\\end{tabular}\n",
      "\n",
      "\n",
      "Gaia APOKASC GAIA tempscale Clump\n",
      "\n",
      "\\begin{tabular}{lllllllllllllllllll}\n",
      "\\toprule\n",
      "{} &     mu &   mulo &   muhi &  sigma &  siglo &  sighi &     Q &   Qlo &   Qhi &  sigo & sigolo & sigohi &       L &    Llo &    Lhi &   oozp & oozplo & oozphi \\\\\n",
      "\\midrule\n",
      "\\textbf{-50.0} &  0.527 &  0.004 &  0.004 &   0.13 &  0.005 &  0.005 &  0.82 &  0.07 &  0.05 &  2.53 &    0.3 &   0.36 &  874.12 &   16.1 &  16.56 & -39.02 &  13.16 &  12.98 \\\\\n",
      "\\textbf{0.0  } &  0.455 &  0.004 &  0.004 &  0.129 &  0.005 &  0.005 &  0.79 &  0.08 &  0.07 &  2.42 &   0.29 &   0.36 &  903.23 &  16.68 &   16.8 & -26.84 &  12.97 &   13.1 \\\\\n",
      "\\textbf{50.0 } &  0.385 &  0.004 &  0.004 &  0.127 &  0.005 &  0.005 &  0.68 &   0.1 &  0.09 &  2.22 &   0.22 &   0.27 &  931.92 &     17 &  17.53 & -14.94 &  13.04 &  12.58 \\\\\n",
      "\\bottomrule\n",
      "\\end{tabular}\n",
      "\n"
     ]
    }
   ],
   "source": [
    "print(get_table(mlk[0], 'gaia').to_latex(bold_rows=True))\n",
    "print(get_table(mlk[1], 'gaia').to_latex(bold_rows=True))\n",
    "print(get_table(mlg[0], 'gaia').to_latex(bold_rows=True))\n",
    "print(get_table(mlg[1], 'gaia').to_latex(bold_rows=True))"
   ]
  },
  {
   "cell_type": "markdown",
   "metadata": {},
   "source": [
    "# Parallax runs"
   ]
  },
  {
   "cell_type": "code",
   "execution_count": 14,
   "metadata": {},
   "outputs": [],
   "source": [
    "oozps = pd.DataFrame(index=['Lindegren','Zinn','Riess','Sahlholdt','Stassun','Hawkins','Uninformed'],\n",
    "                     columns=['mu','spread'])\n",
    "oozps.loc['Lindegren']['mu'] = -29.\n",
    "oozps.loc['Lindegren']['spread'] = 1.\n",
    "oozps.loc['Zinn']['mu'] = -52.8\n",
    "oozps.loc['Zinn']['spread'] = 3.4\n",
    "oozps.loc['Riess']['mu'] = -46.\n",
    "oozps.loc['Riess']['spread'] = 13.\n",
    "oozps.loc['Sahlholdt']['mu'] = -35.\n",
    "oozps.loc['Sahlholdt']['spread'] = 16.\n",
    "oozps.loc['Stassun']['mu'] = -82.\n",
    "oozps.loc['Stassun']['spread'] = 33.\n",
    "oozps.loc['Hawkins']['mu'] = 0.\n",
    "oozps.loc['Hawkins']['spread'] = 1.\n",
    "oozps.loc['Uninformed']['mu'] = 0.\n",
    "oozps.loc['Uninformed']['spread'] = 1000.\n",
    "# oozps.loc['Khan']['mu'] = -47.02\n",
    "# oozps.loc['Khan']['spread'] = 0.80"
   ]
  },
  {
   "cell_type": "code",
   "execution_count": 15,
   "metadata": {},
   "outputs": [
    {
     "name": "stdout",
     "output_type": "stream",
     "text": [
      "\\mathcal{N}(-29.0,1.0)\n"
     ]
    }
   ],
   "source": [
    "ind = oozps.index.values\n",
    "a = oozps.loc['Lindegren']['mu']\n",
    "b = oozps.loc['Lindegren']['spread']\n",
    "print(\"\\mathcal{N}(\"+str(a)+','+str(b)+\")\")"
   ]
  },
  {
   "cell_type": "code",
   "execution_count": 16,
   "metadata": {},
   "outputs": [],
   "source": [
    "def get_table_plx(oozps, band):\n",
    "    print('\\n'+band.replace('_',' ')+'\\n')\n",
    "\n",
    "    labels=['prior','mu','mulo','muhi','sigma','siglo','sighi',\n",
    "        'Q','Qlo','Qhi','sigo','sigolo','sigohi',\n",
    "        'L', 'Llo', 'Lhi', 'oozp', 'oozplo','oozphi']\n",
    "    indices = oozps.index.values\n",
    "    df = pd.DataFrame(columns=labels, index=indices)\n",
    "\n",
    "    for idx in indices:\n",
    "        sfile = glob.glob(__outdir__+'Parallax_Runs/Highruns/'+band+'_'+idx+'_chains.txt')\n",
    "        chain = np.genfromtxt(sfile[0])\n",
    "        df.loc[idx]['prior'] = \"\\mathcal{N}(\"+str(oozps.loc[idx]['mu'])+' , '+str(oozps.loc[idx]['spread'])+\")\"\n",
    "        for lis in np.arange(1, len(labels), 3):\n",
    "            if lis >= 6:\n",
    "                rnd = 2\n",
    "            else:\n",
    "                rnd = 3\n",
    "            df.loc[idx][labels[lis]] = np.round(np.median(chain[lis/3]), rnd)\n",
    "            df.loc[idx][labels[lis+1]] = np.round(np.median(chain[lis/3]) - np.percentile(chain[lis/3], [15.9])[0],rnd)\n",
    "            df.loc[idx][labels[lis+2]] = np.round(np.percentile(chain[lis/3], [84.1])[0] - np.median(chain[lis/3]),rnd)\n",
    "    return df"
   ]
  },
  {
   "cell_type": "code",
   "execution_count": 17,
   "metadata": {},
   "outputs": [
    {
     "name": "stdout",
     "output_type": "stream",
     "text": [
      "\n",
      "K\n",
      "\n",
      "\\begin{tabular}{llllllllllllllllllll}\n",
      "\\toprule\n",
      "{} &                      prior &     mu &   mulo &   muhi &  sigma &  siglo &  sighi &     Q &   Qlo &   Qhi &  sigo & sigolo & sigohi &       L &    Llo &    Lhi &   oozp & oozplo & oozphi \\\\\n",
      "\\midrule\n",
      "\\textbf{Lindegren } &   \\textbackslashmathcal\\{N\\}(-29.0 , 1.0) &  -1.64 &  0.012 &  0.013 &   0.08 &  0.015 &  0.015 &  0.77 &  0.08 &  0.07 &  3.73 &   0.42 &   0.53 &  879.29 &  17.26 &  18.55 & -29.04 &   1.04 &   0.97 \\\\\n",
      "\\textbf{Zinn      } &   \\textbackslashmathcal\\{N\\}(-52.8 , 3.4) & -1.637 &  0.013 &  0.013 &  0.081 &  0.015 &  0.013 &  0.78 &  0.08 &  0.07 &  3.68 &   0.44 &   0.54 &  878.58 &  17.19 &  16.38 & -51.98 &   3.14 &   3.41 \\\\\n",
      "\\textbf{Riess     } &  \\textbackslashmathcal\\{N\\}(-46.0 , 13.0) & -1.638 &  0.013 &  0.012 &  0.084 &  0.013 &  0.015 &  0.79 &  0.07 &  0.07 &  3.62 &   0.39 &   0.48 &  878.73 &  16.49 &   16.5 & -41.92 &   9.45 &   8.52 \\\\\n",
      "\\textbf{Sahlholdt } &  \\textbackslashmathcal\\{N\\}(-35.0 , 16.0) &  -1.64 &  0.013 &  0.013 &  0.082 &  0.015 &  0.015 &  0.78 &  0.08 &  0.08 &   3.7 &   0.45 &   0.48 &  878.95 &  16.35 &  17.92 & -36.47 &  10.24 &  10.03 \\\\\n",
      "\\textbf{Stassun   } &  \\textbackslashmathcal\\{N\\}(-82.0 , 33.0) & -1.638 &  0.013 &  0.013 &  0.084 &  0.011 &  0.014 &  0.79 &  0.06 &  0.06 &   3.6 &   0.39 &   0.45 &  878.97 &  17.16 &  16.27 & -43.61 &  11.75 &  11.97 \\\\\n",
      "\\textbf{Hawkins   } &     \\textbackslashmathcal\\{N\\}(0.0 , 1.0) & -1.646 &  0.013 &  0.013 &  0.083 &  0.014 &  0.017 &  0.79 &  0.08 &  0.08 &  3.65 &   0.43 &    0.5 &  882.67 &  16.36 &  18.44 &  -0.17 &   1.07 &   1.04 \\\\\n",
      "\\textbf{Uninformed} &  \\textbackslashmathcal\\{N\\}(0.0 , 1000.0) & -1.638 &  0.011 &  0.013 &  0.081 &  0.016 &  0.014 &  0.77 &  0.08 &  0.07 &  3.73 &   0.46 &    0.5 &  878.88 &  16.99 &  16.63 & -38.03 &  13.47 &  13.03 \\\\\n",
      "\\bottomrule\n",
      "\\end{tabular}\n",
      "\n",
      "\n",
      "GAIA\n",
      "\n",
      "\\begin{tabular}{llllllllllllllllllll}\n",
      "\\toprule\n",
      "{} &                      prior &     mu &   mulo &   muhi &  sigma &  siglo &  sighi &     Q &   Qlo &   Qhi &  sigo & sigolo & sigohi &       L &    Llo &    Lhi &   oozp & oozplo & oozphi \\\\\n",
      "\\midrule\n",
      "\\textbf{Lindegren } &   \\textbackslashmathcal\\{N\\}(-29.0 , 1.0) &  0.542 &  0.016 &  0.016 &  0.138 &  0.018 &  0.014 &  0.86 &  0.12 &  0.07 &  2.61 &   0.34 &   0.48 &   868.2 &  17.09 &  17.41 & -29.06 &   1.01 &   0.98 \\\\\n",
      "\\textbf{Zinn      } &   \\textbackslashmathcal\\{N\\}(-52.8 , 3.4) &  0.548 &  0.016 &  0.016 &  0.139 &  0.018 &  0.014 &  0.86 &  0.12 &  0.07 &  2.62 &   0.35 &   0.49 &  865.44 &  17.15 &  16.95 & -52.18 &   3.31 &   3.27 \\\\\n",
      "\\textbf{Riess     } &  \\textbackslashmathcal\\{N\\}(-46.0 , 13.0) &  0.545 &  0.017 &  0.016 &   0.14 &  0.017 &  0.013 &  0.87 &  0.11 &  0.07 &  2.62 &   0.34 &   0.48 &  867.13 &  17.55 &  17.23 & -44.23 &   9.32 &   9.06 \\\\\n",
      "\\textbf{Sahlholdt } &  \\textbackslashmathcal\\{N\\}(-35.0 , 16.0) &  0.545 &  0.016 &  0.016 &  0.136 &  0.021 &  0.015 &  0.85 &  0.14 &  0.08 &  2.62 &   0.34 &   0.47 &  867.15 &  17.05 &   17.3 & -39.29 &  10.27 &   9.86 \\\\\n",
      "\\textbf{Stassun   } &  \\textbackslashmathcal\\{N\\}(-82.0 , 33.0) &  0.546 &  0.016 &  0.017 &  0.138 &  0.018 &  0.014 &  0.86 &  0.12 &  0.07 &  2.61 &   0.33 &   0.46 &  866.11 &  17.02 &  17.76 & -47.86 &  12.51 &  12.18 \\\\\n",
      "\\textbf{Hawkins   } &     \\textbackslashmathcal\\{N\\}(0.0 , 1.0) &  0.534 &  0.016 &  0.015 &   0.14 &  0.018 &  0.013 &  0.87 &  0.12 &  0.06 &  2.64 &   0.35 &    0.5 &  872.01 &  17.38 &   17.8 &  -0.23 &   1.01 &      1 \\\\\n",
      "\\textbf{Uninformed} &  \\textbackslashmathcal\\{N\\}(0.0 , 1000.0) &  0.546 &  0.017 &  0.016 &  0.139 &  0.019 &  0.013 &  0.87 &  0.13 &  0.07 &  2.62 &   0.34 &   0.49 &  866.26 &  16.86 &  17.53 & -42.66 &  13.14 &  13.48 \\\\\n",
      "\\bottomrule\n",
      "\\end{tabular}\n",
      "\n"
     ]
    }
   ],
   "source": [
    "print(get_table_plx(oozps, band='K').to_latex(bold_rows=True))\n",
    "print(get_table_plx(oozps, band='GAIA').to_latex(bold_rows=True))"
   ]
  },
  {
   "cell_type": "code",
   "execution_count": 29,
   "metadata": {},
   "outputs": [
    {
     "data": {
      "text/plain": [
       "'/home/oliver/PhD/Gaia_Project/Output/Parallax_Runs/K_Stassun_chains.txt'"
      ]
     },
     "execution_count": 29,
     "metadata": {},
     "output_type": "execute_result"
    }
   ],
   "source": [
    "__outdir__+'Parallax_Runs/'+band+'_'+idx+'_chains.txt'"
   ]
  },
  {
   "cell_type": "code",
   "execution_count": null,
   "metadata": {},
   "outputs": [],
   "source": []
  }
 ],
 "metadata": {
  "kernelspec": {
   "display_name": "Python 2",
   "language": "python",
   "name": "python2"
  },
  "language_info": {
   "codemirror_mode": {
    "name": "ipython",
    "version": 2
   },
   "file_extension": ".py",
   "mimetype": "text/x-python",
   "name": "python",
   "nbconvert_exporter": "python",
   "pygments_lexer": "ipython2",
   "version": "2.7.15rc1"
  }
 },
 "nbformat": 4,
 "nbformat_minor": 2
}
