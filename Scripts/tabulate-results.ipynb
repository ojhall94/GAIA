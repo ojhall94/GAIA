{
 "cells": [
  {
   "cell_type": "code",
   "execution_count": 1,
   "metadata": {},
   "outputs": [],
   "source": [
    "import numpy as np\n",
    "import pandas as pd\n",
    "import pickle\n",
    "import os\n",
    "import glob\n",
    "\n",
    "__outdir__ = os.path.expanduser('~')+'/PhD/Gaia_Project/Output/'\n",
    "__datdir__ = os.path.expanduser('~')+'/PhD/Gaia_Project/data/KepxDR2/'"
   ]
  },
  {
   "cell_type": "code",
   "execution_count": 19,
   "metadata": {},
   "outputs": [
    {
     "data": {
      "text/plain": [
       "str"
      ]
     },
     "execution_count": 19,
     "metadata": {},
     "output_type": "execute_result"
    }
   ],
   "source": [
    "type(mls[0])"
   ]
  },
  {
   "cell_type": "code",
   "execution_count": 34,
   "metadata": {},
   "outputs": [],
   "source": [
    "def get_table(mls, typ):\n",
    "    if type(mls) == str:\n",
    "        mls=[mls]\n",
    "    if typ == 'astero':\n",
    "        labels=['mu','mulo','muhi','sigma','siglo','sighi',\n",
    "            'Q','Qlo','Qhi','sigo','sigolo','sigohi']\n",
    "        labels_c=[i+'_c' for i in labels]\n",
    "        indices = [str(ts) for ts in np.arange(-50., 60., 10.)]\n",
    "        df = pd.DataFrame(columns=labels+labels_c, index=indices)\n",
    "\n",
    "    elif typ == 'gaia':\n",
    "        labels=['mu','mulo','muhi','sigma','siglo','sighi',\n",
    "            'Q','Qlo','Qhi','sigo','sigolo','sigohi',\n",
    "            'L', 'Llo', 'Lhi', 'oozp', 'oozplo','oozphi']\n",
    "        indices = [str(ts) for ts in np.arange(-50., 100., 50.)]\n",
    "        df = pd.DataFrame(columns=labels, index=indices)\n",
    "\n",
    "    for n, ml in enumerate(mls):\n",
    "        print('\\n'+ml.replace('_',' ')+'\\n')\n",
    "        if n == 0:\n",
    "            wlabels=labels\n",
    "        if n == 1:\n",
    "            wlabels=labels_c\n",
    "        for idx in indices:\n",
    "            sfile = glob.glob(__outdir__+ml+'/'+typ+'_'+str(idx)+'_chains.txt')\n",
    "            chain = np.genfromtxt(sfile[0])\n",
    "            for lis in np.arange(0, len(wlabels), 3):\n",
    "                if lis >= 6:\n",
    "                    rnd = 2\n",
    "                else:\n",
    "                    rnd = 3\n",
    "                df.loc[idx][wlabels[lis]] = np.round(np.median(chain[lis/3]), rnd)\n",
    "                df.loc[idx][wlabels[lis+1]] = np.round(np.median(chain[lis/3]) - np.percentile(chain[lis/3], [15.9])[0],rnd)\n",
    "                df.loc[idx][wlabels[lis+2]] = np.round(np.percentile(chain[lis/3], [84.1])[0] - np.median(chain[lis/3]),rnd)\n",
    "    return df"
   ]
  },
  {
   "cell_type": "markdown",
   "metadata": {},
   "source": [
    "# Asteroseismic runs"
   ]
  },
  {
   "cell_type": "code",
   "execution_count": 25,
   "metadata": {},
   "outputs": [],
   "source": [
    "mlk = ['K_tempscale_noCorrection','K_tempscale_Clump',\n",
    "       'APOKASC_K_tempscale_noCorrection', 'APOKASC_K_tempscale_Clump']\n",
    "mlg = ['GAIA_tempscale_noCorrection','GAIA_tempscale_Clump', \n",
    "       'APOKASC_GAIA_tempscale_noCorrection', 'APOKASC_GAIA_tempscale_Clump']"
   ]
  },
  {
   "cell_type": "code",
   "execution_count": 27,
   "metadata": {
    "scrolled": true
   },
   "outputs": [
    {
     "name": "stdout",
     "output_type": "stream",
     "text": [
      "\n",
      "K tempscale noCorrection\n",
      "\n",
      "\n",
      "K tempscale Clump\n",
      "\n",
      "\\begin{tabular}{lllllllllllllllllllllllll}\n",
      "\\toprule\n",
      "{} &     mu &   mulo &   muhi &  sigma &  siglo &  sighi &     Q &   Qlo &   Qhi &  sigo & sigolo & sigohi &   mu\\_c & mulo\\_c & muhi\\_c & sigma\\_c & siglo\\_c & sighi\\_c &   Q\\_c & Qlo\\_c & Qhi\\_c & sigo\\_c & sigolo\\_c & sigohi\\_c \\\\\n",
      "\\midrule\n",
      "\\textbf{-50.0} & -1.705 &  0.002 &  0.002 &  0.032 &  0.004 &  0.004 &  0.89 &  0.01 &  0.01 &  9.29 &   0.97 &   1.12 & -1.714 &  0.002 &  0.002 &   0.039 &   0.006 &   0.006 &  0.87 &  0.02 &  0.02 &   7.22 &     0.83 &      1.1 \\\\\n",
      "\\textbf{-40.0} &  -1.71 &  0.002 &  0.002 &  0.032 &  0.004 &  0.004 &  0.89 &  0.01 &  0.01 &  9.17 &   0.97 &   1.07 &  -1.72 &  0.002 &  0.002 &   0.039 &   0.005 &   0.005 &  0.87 &  0.02 &  0.02 &   7.27 &     0.79 &     0.94 \\\\\n",
      "\\textbf{-30.0} & -1.715 &  0.002 &  0.002 &  0.032 &  0.004 &  0.004 &  0.88 &  0.01 &  0.01 &  9.12 &   0.93 &   1.15 & -1.725 &  0.002 &  0.002 &   0.039 &   0.006 &   0.006 &  0.87 &  0.02 &  0.02 &   7.45 &     0.89 &     1.11 \\\\\n",
      "\\textbf{-20.0} &  -1.72 &  0.002 &  0.002 &  0.033 &  0.004 &  0.004 &  0.89 &  0.01 &  0.01 &  8.92 &   0.91 &   1.06 & -1.731 &  0.002 &  0.002 &   0.038 &   0.005 &   0.005 &  0.87 &  0.02 &  0.02 &   7.53 &     0.83 &     1.03 \\\\\n",
      "\\textbf{-10.0} & -1.725 &  0.002 &  0.002 &  0.033 &  0.004 &  0.004 &  0.89 &  0.01 &  0.01 &  9.05 &   0.97 &   1.16 & -1.736 &  0.002 &  0.002 &   0.039 &   0.006 &   0.006 &  0.88 &  0.02 &  0.02 &   7.39 &     0.84 &     1.05 \\\\\n",
      "\\textbf{0.0  } &  -1.73 &  0.002 &  0.002 &  0.032 &  0.004 &  0.005 &  0.88 &  0.02 &  0.01 &  9.12 &   1.08 &   1.15 & -1.742 &  0.002 &  0.002 &   0.038 &   0.005 &   0.006 &  0.87 &  0.02 &  0.02 &   7.54 &     0.85 &     0.98 \\\\\n",
      "\\textbf{10.0 } & -1.735 &  0.002 &  0.002 &  0.032 &  0.004 &  0.004 &  0.88 &  0.01 &  0.01 &  9.16 &   0.99 &   1.05 & -1.747 &  0.002 &  0.002 &   0.039 &   0.005 &   0.005 &  0.87 &  0.02 &  0.02 &    7.4 &     0.79 &     1.04 \\\\\n",
      "\\textbf{20.0 } &  -1.74 &  0.002 &  0.002 &  0.032 &  0.004 &  0.004 &  0.88 &  0.01 &  0.01 &  9.13 &   0.96 &    1.1 & -1.753 &  0.002 &  0.002 &   0.039 &   0.006 &   0.005 &  0.87 &  0.02 &  0.02 &   7.38 &     0.78 &     1.02 \\\\\n",
      "\\textbf{30.0 } & -1.745 &  0.002 &  0.002 &  0.033 &  0.004 &  0.005 &  0.88 &  0.02 &  0.01 &  8.99 &      1 &   1.11 & -1.758 &  0.002 &  0.002 &   0.038 &   0.005 &   0.005 &  0.87 &  0.02 &  0.02 &   7.55 &     0.82 &     1.03 \\\\\n",
      "\\textbf{40.0 } &  -1.75 &  0.002 &  0.002 &  0.031 &  0.004 &  0.005 &  0.88 &  0.01 &  0.01 &  9.29 &   1.05 &   1.14 & -1.763 &  0.002 &  0.002 &   0.038 &   0.005 &   0.005 &  0.87 &  0.02 &  0.02 &   7.47 &     0.84 &     1.05 \\\\\n",
      "\\textbf{50.0 } & -1.755 &  0.002 &  0.002 &  0.032 &  0.004 &  0.004 &  0.88 &  0.01 &  0.01 &  9.08 &   0.96 &   1.11 & -1.769 &  0.002 &  0.002 &   0.038 &   0.005 &   0.005 &  0.87 &  0.02 &  0.02 &   7.51 &      0.8 &     1.04 \\\\\n",
      "\\bottomrule\n",
      "\\end{tabular}\n",
      "\n",
      "\n",
      "APOKASC K tempscale noCorrection\n",
      "\n",
      "\n",
      "APOKASC K tempscale Clump\n",
      "\n",
      "\\begin{tabular}{lllllllllllllllllllllllll}\n",
      "\\toprule\n",
      "{} &     mu &   mulo &   muhi &  sigma &  siglo &  sighi &     Q &   Qlo &   Qhi &  sigo & sigolo & sigohi &   mu\\_c & mulo\\_c & muhi\\_c & sigma\\_c & siglo\\_c & sighi\\_c &   Q\\_c & Qlo\\_c & Qhi\\_c & sigo\\_c & sigolo\\_c & sigohi\\_c \\\\\n",
      "\\midrule\n",
      "\\textbf{-50.0} & -1.658 &  0.003 &  0.003 &  0.032 &  0.004 &  0.005 &  0.87 &  0.02 &  0.02 &  8.29 &   1.02 &   1.18 & -1.663 &  0.003 &  0.003 &   0.037 &   0.005 &   0.006 &  0.87 &  0.02 &  0.02 &   7.07 &      0.9 &     1.08 \\\\\n",
      "\\textbf{-40.0} & -1.663 &  0.003 &  0.003 &  0.032 &  0.005 &  0.005 &  0.87 &  0.02 &  0.02 &  8.26 &   1.03 &   1.24 & -1.669 &  0.003 &  0.003 &   0.036 &   0.006 &   0.006 &  0.87 &  0.02 &  0.02 &   7.23 &     0.95 &     1.17 \\\\\n",
      "\\textbf{-30.0} & -1.668 &  0.003 &  0.003 &  0.031 &  0.004 &  0.005 &  0.87 &  0.02 &  0.02 &  8.32 &   1.03 &   1.16 & -1.674 &  0.003 &  0.003 &   0.036 &   0.005 &   0.006 &  0.87 &  0.02 &  0.02 &   7.25 &     0.96 &     1.09 \\\\\n",
      "\\textbf{-20.0} & -1.673 &  0.003 &  0.003 &  0.032 &  0.004 &  0.005 &  0.87 &  0.02 &  0.02 &  8.28 &      1 &   1.19 &  -1.68 &  0.003 &  0.003 &   0.036 &   0.006 &   0.006 &  0.87 &  0.03 &  0.02 &   7.24 &     0.98 &     1.17 \\\\\n",
      "\\textbf{-10.0} & -1.678 &  0.003 &  0.003 &  0.032 &  0.004 &  0.005 &  0.87 &  0.02 &  0.02 &  8.28 &   0.99 &   1.12 & -1.686 &  0.003 &  0.003 &   0.036 &   0.006 &   0.006 &  0.87 &  0.02 &  0.02 &   7.24 &     0.97 &     1.16 \\\\\n",
      "\\textbf{0.0  } & -1.683 &  0.003 &  0.003 &  0.032 &  0.004 &  0.005 &  0.87 &  0.02 &  0.02 &   8.3 &   1.04 &    1.2 & -1.692 &  0.003 &  0.003 &   0.036 &   0.005 &   0.006 &  0.87 &  0.03 &  0.02 &   7.27 &     0.94 &     1.08 \\\\\n",
      "\\textbf{10.0 } & -1.688 &  0.003 &  0.003 &  0.032 &  0.004 &  0.005 &  0.87 &  0.02 &  0.02 &  8.25 &   1.06 &   1.17 & -1.698 &  0.003 &  0.003 &   0.036 &   0.005 &   0.006 &  0.87 &  0.02 &  0.02 &   7.22 &     0.92 &     1.07 \\\\\n",
      "\\textbf{20.0 } & -1.693 &  0.003 &  0.003 &  0.032 &  0.004 &  0.005 &  0.87 &  0.02 &  0.02 &  8.25 &      1 &   1.18 & -1.703 &  0.003 &  0.003 &   0.036 &   0.005 &   0.006 &  0.87 &  0.02 &  0.02 &   7.26 &     0.94 &     1.14 \\\\\n",
      "\\textbf{30.0 } & -1.699 &  0.003 &  0.003 &  0.032 &  0.004 &  0.005 &  0.87 &  0.02 &  0.02 &   8.2 &   1.03 &   1.16 & -1.709 &  0.003 &  0.003 &   0.036 &   0.005 &   0.006 &  0.87 &  0.02 &  0.02 &   7.23 &     0.92 &      1.1 \\\\\n",
      "\\textbf{40.0 } & -1.704 &  0.003 &  0.003 &  0.032 &  0.004 &  0.005 &  0.87 &  0.02 &  0.02 &  8.23 &   1.02 &   1.15 & -1.714 &  0.003 &  0.003 &   0.036 &   0.006 &   0.006 &  0.87 &  0.02 &  0.02 &   7.21 &     0.96 &     1.13 \\\\\n",
      "\\textbf{50.0 } & -1.709 &  0.003 &  0.003 &  0.032 &  0.004 &  0.005 &  0.87 &  0.02 &  0.02 &   8.2 &   1.03 &   1.17 &  -1.72 &  0.003 &  0.003 &   0.036 &   0.006 &   0.006 &  0.87 &  0.02 &  0.02 &    7.2 &     0.95 &     1.13 \\\\\n",
      "\\bottomrule\n",
      "\\end{tabular}\n",
      "\n",
      "\n",
      "GAIA tempscale noCorrection\n",
      "\n",
      "\n",
      "GAIA tempscale Clump\n",
      "\n",
      "\\begin{tabular}{lllllllllllllllllllllllll}\n",
      "\\toprule\n",
      "{} &     mu &   mulo &   muhi &  sigma &  siglo &  sighi &     Q &   Qlo &   Qhi &  sigo & sigolo & sigohi &   mu\\_c & mulo\\_c & muhi\\_c & sigma\\_c & siglo\\_c & sighi\\_c &   Q\\_c & Qlo\\_c & Qhi\\_c & sigo\\_c & sigolo\\_c & sigohi\\_c \\\\\n",
      "\\midrule\n",
      "\\textbf{-50.0} &   0.35 &  0.003 &  0.003 &  0.183 &  0.004 &  0.004 &  0.98 &  0.01 &  0.01 &  2.71 &    0.4 &   0.54 &   0.34 &  0.003 &  0.003 &   0.194 &   0.004 &   0.004 &  0.99 &  0.01 &  0.01 &   2.77 &     0.45 &     0.68 \\\\\n",
      "\\textbf{-40.0} &  0.336 &  0.003 &  0.003 &  0.182 &  0.004 &  0.004 &  0.98 &  0.01 &  0.01 &  2.69 &   0.39 &   0.54 &  0.325 &  0.003 &  0.003 &   0.193 &   0.004 &   0.004 &  0.99 &  0.01 &  0.01 &   2.78 &     0.46 &     0.67 \\\\\n",
      "\\textbf{-30.0} &  0.322 &  0.003 &  0.003 &  0.181 &  0.004 &  0.004 &  0.98 &  0.01 &  0.01 &  2.71 &    0.4 &   0.54 &  0.311 &  0.003 &  0.003 &   0.191 &   0.004 &   0.004 &  0.99 &  0.01 &  0.01 &   2.76 &     0.41 &     0.61 \\\\\n",
      "\\textbf{-20.0} &  0.309 &  0.003 &  0.003 &   0.18 &  0.004 &  0.004 &  0.98 &  0.01 &  0.01 &  2.69 &   0.39 &   0.53 &  0.296 &  0.003 &  0.003 &    0.19 &   0.004 &   0.004 &  0.98 &  0.01 &  0.01 &    2.7 &      0.4 &     0.58 \\\\\n",
      "\\textbf{-10.0} &  0.295 &  0.003 &  0.003 &  0.179 &  0.004 &  0.004 &  0.98 &  0.01 &  0.01 &  2.69 &   0.39 &   0.51 &  0.282 &  0.003 &  0.003 &   0.189 &   0.004 &   0.004 &  0.98 &  0.01 &  0.01 &    2.7 &     0.42 &     0.58 \\\\\n",
      "\\textbf{0.0  } &  0.282 &  0.003 &  0.003 &  0.179 &  0.004 &  0.004 &  0.98 &  0.01 &  0.01 &  2.68 &   0.38 &   0.52 &  0.268 &  0.003 &  0.003 &   0.188 &   0.004 &   0.004 &  0.98 &  0.01 &  0.01 &   2.69 &     0.41 &     0.57 \\\\\n",
      "\\textbf{10.0 } &  0.268 &  0.003 &  0.003 &  0.178 &  0.004 &  0.004 &  0.98 &  0.01 &  0.01 &  2.67 &   0.36 &   0.51 &  0.254 &  0.003 &  0.003 &   0.187 &   0.004 &   0.004 &  0.98 &  0.01 &  0.01 &   2.69 &      0.4 &     0.57 \\\\\n",
      "\\textbf{20.0 } &  0.255 &  0.003 &  0.003 &  0.177 &  0.004 &  0.004 &  0.98 &  0.02 &  0.01 &  2.66 &   0.36 &   0.51 &   0.24 &  0.003 &  0.003 &   0.186 &   0.004 &   0.004 &  0.98 &  0.01 &  0.01 &   2.68 &      0.4 &     0.56 \\\\\n",
      "\\textbf{30.0 } &  0.241 &  0.003 &  0.003 &  0.176 &  0.004 &  0.004 &  0.98 &  0.01 &  0.01 &  2.66 &   0.37 &   0.48 &  0.227 &  0.003 &  0.003 &   0.185 &   0.004 &   0.004 &  0.98 &  0.01 &  0.01 &   2.69 &     0.39 &     0.54 \\\\\n",
      "\\textbf{40.0 } &  0.228 &  0.003 &  0.003 &  0.175 &  0.004 &  0.004 &  0.98 &  0.02 &  0.01 &  2.65 &   0.36 &    0.5 &  0.213 &  0.003 &  0.003 &   0.184 &   0.004 &   0.004 &  0.98 &  0.01 &  0.01 &    2.7 &     0.39 &     0.52 \\\\\n",
      "\\textbf{50.0 } &  0.215 &  0.003 &  0.003 &  0.175 &  0.004 &  0.004 &  0.98 &  0.02 &  0.01 &  2.65 &   0.36 &   0.47 &  0.199 &  0.003 &  0.003 &   0.182 &   0.004 &   0.004 &  0.98 &  0.01 &  0.01 &   2.69 &     0.39 &     0.53 \\\\\n",
      "\\bottomrule\n",
      "\\end{tabular}\n",
      "\n",
      "\n",
      "APOKASC GAIA tempscale noCorrection\n",
      "\n"
     ]
    },
    {
     "name": "stdout",
     "output_type": "stream",
     "text": [
      "\n",
      "APOKASC GAIA tempscale Clump\n",
      "\n",
      "\\begin{tabular}{lllllllllllllllllllllllll}\n",
      "\\toprule\n",
      "{} &     mu &   mulo &   muhi &  sigma &  siglo &  sighi &     Q &   Qlo &   Qhi &  sigo & sigolo & sigohi &   mu\\_c & mulo\\_c & muhi\\_c & sigma\\_c & siglo\\_c & sighi\\_c &   Q\\_c & Qlo\\_c & Qhi\\_c & sigo\\_c & sigolo\\_c & sigohi\\_c \\\\\n",
      "\\midrule\n",
      "\\textbf{-50.0} &   0.53 &  0.004 &  0.004 &   0.12 &  0.006 &  0.006 &  0.96 &  0.03 &  0.02 &  3.15 &   0.46 &   0.66 &  0.526 &  0.004 &  0.004 &   0.129 &   0.005 &   0.005 &  0.97 &  0.02 &  0.01 &   3.27 &     0.56 &     0.79 \\\\\n",
      "\\textbf{-40.0} &  0.516 &  0.004 &  0.004 &  0.119 &  0.006 &  0.005 &  0.96 &  0.03 &  0.02 &  3.15 &   0.46 &   0.65 &   0.51 &  0.004 &  0.004 &   0.129 &   0.005 &   0.005 &  0.97 &  0.02 &  0.01 &   3.25 &     0.54 &     0.78 \\\\\n",
      "\\textbf{-30.0} &  0.501 &  0.004 &  0.004 &  0.119 &  0.006 &  0.005 &  0.96 &  0.03 &  0.02 &  3.14 &   0.45 &   0.65 &  0.495 &  0.004 &  0.004 &   0.129 &   0.005 &   0.005 &  0.97 &  0.02 &  0.01 &   3.26 &     0.55 &     0.78 \\\\\n",
      "\\textbf{-20.0} &  0.486 &  0.004 &  0.004 &  0.118 &  0.006 &  0.006 &  0.96 &  0.03 &  0.02 &  3.15 &   0.45 &   0.64 &  0.479 &  0.004 &  0.004 &   0.128 &   0.005 &   0.005 &  0.97 &  0.02 &  0.01 &   3.25 &     0.54 &     0.77 \\\\\n",
      "\\textbf{-10.0} &  0.472 &  0.004 &  0.004 &  0.117 &  0.006 &  0.006 &  0.96 &  0.03 &  0.02 &  3.16 &   0.46 &   0.62 &  0.464 &  0.004 &  0.004 &   0.128 &   0.005 &   0.005 &  0.97 &  0.02 &  0.01 &   3.23 &     0.52 &     0.75 \\\\\n",
      "\\textbf{0.0  } &  0.457 &  0.004 &  0.004 &  0.116 &  0.006 &  0.006 &  0.96 &  0.03 &  0.02 &  3.15 &   0.45 &   0.62 &  0.449 &  0.004 &  0.004 &   0.127 &   0.005 &   0.005 &  0.97 &  0.02 &  0.01 &   3.24 &     0.54 &     0.77 \\\\\n",
      "\\textbf{10.0 } &  0.443 &  0.004 &  0.004 &  0.116 &  0.006 &  0.006 &  0.96 &  0.03 &  0.02 &  3.15 &   0.44 &   0.61 &  0.434 &  0.004 &  0.004 &   0.126 &   0.005 &   0.005 &  0.97 &  0.02 &  0.01 &   3.22 &     0.53 &     0.75 \\\\\n",
      "\\textbf{20.0 } &  0.429 &  0.004 &  0.004 &  0.115 &  0.006 &  0.006 &  0.95 &  0.03 &  0.02 &  3.14 &   0.43 &    0.6 &  0.419 &  0.004 &  0.004 &   0.126 &   0.005 &   0.005 &  0.97 &  0.02 &  0.01 &   3.21 &     0.52 &     0.73 \\\\\n",
      "\\textbf{30.0 } &  0.414 &  0.004 &  0.004 &  0.115 &  0.006 &  0.006 &  0.95 &  0.03 &  0.02 &  3.15 &   0.44 &    0.6 &  0.404 &  0.004 &  0.004 &   0.125 &   0.006 &   0.005 &  0.97 &  0.02 &  0.01 &   3.21 &     0.52 &     0.73 \\\\\n",
      "\\textbf{40.0 } &    0.4 &  0.004 &  0.004 &  0.114 &  0.006 &  0.006 &  0.95 &  0.03 &  0.02 &  3.15 &   0.42 &   0.58 &  0.389 &  0.004 &  0.004 &   0.124 &   0.006 &   0.005 &  0.97 &  0.02 &  0.01 &   3.19 &      0.5 &     0.72 \\\\\n",
      "\\textbf{50.0 } &  0.386 &  0.004 &  0.004 &  0.113 &  0.006 &  0.006 &  0.95 &  0.03 &  0.02 &  3.15 &   0.42 &   0.57 &  0.375 &  0.004 &  0.004 &   0.124 &   0.005 &   0.005 &  0.97 &  0.02 &  0.01 &   3.21 &     0.51 &     0.72 \\\\\n",
      "\\bottomrule\n",
      "\\end{tabular}\n",
      "\n"
     ]
    }
   ],
   "source": [
    "print(get_table(mlk[:2], 'astero').to_latex(bold_rows=True))\n",
    "print(get_table(mlk[2:], 'astero').to_latex(bold_rows=True))\n",
    "print(get_table(mlg[:2], 'astero').to_latex(bold_rows=True))\n",
    "print(get_table(mlg[2:], 'astero').to_latex(bold_rows=True))"
   ]
  },
  {
   "cell_type": "markdown",
   "metadata": {},
   "source": [
    "# Gaia runs"
   ]
  },
  {
   "cell_type": "code",
   "execution_count": 37,
   "metadata": {},
   "outputs": [],
   "source": [
    "mlk = ['Gaia_K_tempscale_Clump','Gaia_APOKASC_K_tempscale_Clump']\n",
    "mlg = ['Gaia_GAIA_tempscale_Clump', 'Gaia_APOKASC_GAIA_tempscale_Clump']"
   ]
  },
  {
   "cell_type": "code",
   "execution_count": 38,
   "metadata": {},
   "outputs": [
    {
     "name": "stdout",
     "output_type": "stream",
     "text": [
      "\n",
      "Gaia K tempscale Clump\n",
      "\n",
      "\\begin{tabular}{lllllllllllllllllll}\n",
      "\\toprule\n",
      "{} &     mu &   mulo &   muhi &  sigma &  siglo &  sighi &     Q &   Qlo &   Qhi &  sigo & sigolo & sigohi &       L &    Llo &    Lhi &   oozp & oozplo & oozphi \\\\\n",
      "\\midrule\n",
      "\\textbf{-50.0} & -1.714 &  0.002 &  0.002 &  0.042 &  0.005 &  0.005 &  0.65 &   0.1 &  0.11 &  3.57 &   0.58 &   0.65 &  906.16 &   36.8 &  38.35 & -20.62 &  12.58 &  12.51 \\\\\n",
      "\\textbf{0.0  } & -1.741 &  0.002 &  0.002 &  0.041 &  0.005 &  0.005 &  0.63 &  0.09 &   0.1 &  3.69 &   0.57 &   0.67 &  917.52 &  36.52 &  39.04 & -15.72 &  12.34 &  12.57 \\\\\n",
      "\\textbf{50.0 } & -1.768 &  0.002 &  0.002 &   0.04 &  0.004 &  0.005 &  0.61 &  0.07 &   0.1 &  3.78 &   0.57 &   0.61 &  929.66 &  37.34 &  38.59 & -11.15 &   12.5 &  12.82 \\\\\n",
      "\\bottomrule\n",
      "\\end{tabular}\n",
      "\n",
      "\n",
      "Gaia APOKASC K tempscale Clump\n",
      "\n",
      "\\begin{tabular}{lllllllllllllllllll}\n",
      "\\toprule\n",
      "{} &     mu &   mulo &   muhi &  sigma &  siglo &  sighi &     Q &   Qlo &   Qhi &  sigo & sigolo & sigohi &       L &    Llo &    Lhi &   oozp & oozplo & oozphi \\\\\n",
      "\\midrule\n",
      "\\textbf{-50.0} & -1.631 &  0.004 &  0.003 &  0.064 &  0.008 &  0.008 &  0.81 &  0.14 &   0.1 &  2.99 &   0.62 &   0.75 &   872.8 &  35.52 &   36.4 & -36.21 &  13.01 &  12.83 \\\\\n",
      "\\textbf{0.0  } & -1.659 &  0.003 &  0.003 &  0.064 &  0.008 &  0.008 &  0.82 &  0.13 &  0.09 &  2.94 &   0.65 &   0.77 &   884.1 &  35.09 &  36.77 & -30.91 &  12.93 &  12.83 \\\\\n",
      "\\textbf{50.0 } & -1.686 &  0.003 &  0.003 &  0.065 &  0.008 &  0.008 &  0.82 &  0.14 &   0.1 &  2.87 &   0.63 &   0.74 &  894.89 &  35.93 &  38.14 & -25.51 &  13.06 &  12.92 \\\\\n",
      "\\bottomrule\n",
      "\\end{tabular}\n",
      "\n",
      "\n",
      "Gaia GAIA tempscale Clump\n",
      "\n",
      "\\begin{tabular}{lllllllllllllllllll}\n",
      "\\toprule\n",
      "{} &     mu &   mulo &   muhi &  sigma &  siglo &  sighi &     Q &   Qlo &   Qhi &  sigo & sigolo & sigohi &        L &    Llo &    Lhi &   oozp & oozplo & oozphi \\\\\n",
      "\\midrule\n",
      "\\textbf{-50.0} &  0.341 &  0.003 &  0.003 &  0.191 &  0.004 &  0.004 &  0.99 &  0.05 &  0.01 &  2.35 &   1.08 &   1.21 &   946.19 &  37.96 &  40.69 &  -6.56 &  13.03 &  13.17 \\\\\n",
      "\\textbf{0.0  } &   0.27 &  0.003 &  0.003 &  0.186 &  0.004 &  0.004 &  0.98 &  0.06 &  0.02 &  2.26 &   0.98 &   1.19 &   978.41 &  39.77 &  41.31 &   4.58 &  13.09 &  12.81 \\\\\n",
      "\\textbf{50.0 } &  0.201 &  0.003 &  0.003 &  0.182 &  0.004 &  0.004 &  0.97 &   0.1 &  0.03 &  2.09 &   0.77 &    1.2 &  1009.01 &  41.46 &  42.14 &  15.22 &  13.33 &  13.25 \\\\\n",
      "\\bottomrule\n",
      "\\end{tabular}\n",
      "\n",
      "\n",
      "Gaia APOKASC GAIA tempscale Clump\n",
      "\n",
      "\\begin{tabular}{lllllllllllllllllll}\n",
      "\\toprule\n",
      "{} &     mu &   mulo &   muhi &  sigma &  siglo &  sighi &     Q &   Qlo &   Qhi &  sigo & sigolo & sigohi &       L &    Llo &    Lhi &   oozp & oozplo & oozphi \\\\\n",
      "\\midrule\n",
      "\\textbf{-50.0} &  0.505 &  0.004 &  0.004 &  0.122 &  0.006 &  0.006 &  0.92 &  0.12 &  0.06 &  2.17 &   0.63 &    0.9 &  878.66 &   36.7 &   37.8 & -32.06 &   12.9 &   12.9 \\\\\n",
      "\\textbf{0.0  } &  0.432 &  0.004 &  0.004 &   0.12 &  0.006 &  0.006 &  0.91 &  0.13 &  0.07 &  2.14 &   0.59 &    0.9 &  909.22 &  37.07 &  38.26 & -19.18 &  12.96 &  12.99 \\\\\n",
      "\\textbf{50.0 } &   0.36 &  0.004 &  0.004 &  0.118 &  0.006 &  0.006 &  0.87 &  0.14 &  0.09 &   2.1 &   0.51 &    0.8 &  939.28 &  38.72 &   38.9 &  -7.14 &  12.57 &  12.79 \\\\\n",
      "\\bottomrule\n",
      "\\end{tabular}\n",
      "\n"
     ]
    }
   ],
   "source": [
    "print(get_table(mlk[0], 'gaia').to_latex(bold_rows=True))\n",
    "print(get_table(mlk[1], 'gaia').to_latex(bold_rows=True))\n",
    "print(get_table(mlg[0], 'gaia').to_latex(bold_rows=True))\n",
    "print(get_table(mlg[1], 'gaia').to_latex(bold_rows=True))"
   ]
  },
  {
   "cell_type": "code",
   "execution_count": 32,
   "metadata": {},
   "outputs": [
    {
     "name": "stdout",
     "output_type": "stream",
     "text": [
      "Gaia_K_tempscale_Clump\n"
     ]
    }
   ],
   "source": [
    "for ml in [mlk[0]]:\n",
    "    print ml"
   ]
  },
  {
   "cell_type": "code",
   "execution_count": null,
   "metadata": {},
   "outputs": [],
   "source": []
  }
 ],
 "metadata": {
  "kernelspec": {
   "display_name": "Python 2",
   "language": "python",
   "name": "python2"
  },
  "language_info": {
   "codemirror_mode": {
    "name": "ipython",
    "version": 2
   },
   "file_extension": ".py",
   "mimetype": "text/x-python",
   "name": "python",
   "nbconvert_exporter": "python",
   "pygments_lexer": "ipython2",
   "version": "2.7.15rc1"
  }
 },
 "nbformat": 4,
 "nbformat_minor": 2
}
