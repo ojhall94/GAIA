{
 "cells": [
  {
   "cell_type": "code",
   "execution_count": 1,
   "metadata": {},
   "outputs": [],
   "source": [
    "import numpy as np\n",
    "import pandas as pd\n",
    "import pickle\n",
    "import os\n",
    "import glob\n",
    "\n",
    "__outdir__ = os.path.expanduser('~')+'/PhD/Gaia_Project/Output/'\n",
    "__datdir__ = os.path.expanduser('~')+'/PhD/Gaia_Project/data/KepxDR2/'"
   ]
  },
  {
   "cell_type": "code",
   "execution_count": 2,
   "metadata": {},
   "outputs": [],
   "source": [
    "def get_table(mls, typ):\n",
    "    if type(mls) == str:\n",
    "        mls=[mls]\n",
    "    if typ == 'astero':\n",
    "        labels=['mu','mulo','muhi','sigma','siglo','sighi',\n",
    "            'Q','Qlo','Qhi','sigo','sigolo','sigohi']\n",
    "        labels_c=[i+'_c' for i in labels]\n",
    "        indices = [str(ts) for ts in np.arange(-50., 60., 10.)]\n",
    "        df = pd.DataFrame(columns=labels+labels_c, index=indices)\n",
    "\n",
    "    elif typ == 'gaia':\n",
    "        labels=['mu','mulo','muhi','sigma','siglo','sighi',\n",
    "            'Q','Qlo','Qhi','sigo','sigolo','sigohi',\n",
    "            'L', 'Llo', 'Lhi', 'oozp', 'oozplo','oozphi']\n",
    "        indices = [str(ts) for ts in np.arange(-50., 100., 50.)]\n",
    "        df = pd.DataFrame(columns=labels, index=indices)\n",
    "\n",
    "    for n, ml in enumerate(mls):\n",
    "        print('\\n'+ml.replace('_',' ')+'\\n')\n",
    "        if n == 0:\n",
    "            wlabels=labels\n",
    "        if n == 1:\n",
    "            wlabels=labels_c\n",
    "        for idx in indices:\n",
    "            sfile = glob.glob(__outdir__+ml+'/'+typ+'_'+str(idx)+'_chains.txt')\n",
    "            chain = np.genfromtxt(sfile[0])\n",
    "            for lis in np.arange(0, len(wlabels), 3):\n",
    "                if lis >= 6:\n",
    "                    rnd = 2\n",
    "                else:\n",
    "                    rnd = 3\n",
    "                df.loc[idx][wlabels[lis]] = np.round(np.median(chain[lis/3]), rnd)\n",
    "                df.loc[idx][wlabels[lis+1]] = np.round(np.median(chain[lis/3]) - np.percentile(chain[lis/3], [15.9])[0],rnd)\n",
    "                df.loc[idx][wlabels[lis+2]] = np.round(np.percentile(chain[lis/3], [84.1])[0] - np.median(chain[lis/3]),rnd)\n",
    "    return df"
   ]
  },
  {
   "cell_type": "markdown",
   "metadata": {},
   "source": [
    "# Asteroseismic runs"
   ]
  },
  {
   "cell_type": "code",
   "execution_count": 3,
   "metadata": {},
   "outputs": [],
   "source": [
    "mlk = ['K_tempscale_noCorrection','K_tempscale_Clump',\n",
    "       'APOKASC_K_tempscale_noCorrection', 'APOKASC_K_tempscale_Clump']\n",
    "mlg = ['GAIA_tempscale_noCorrection','GAIA_tempscale_Clump', \n",
    "       'APOKASC_GAIA_tempscale_noCorrection', 'APOKASC_GAIA_tempscale_Clump']"
   ]
  },
  {
   "cell_type": "code",
   "execution_count": 4,
   "metadata": {
    "scrolled": true
   },
   "outputs": [
    {
     "name": "stdout",
     "output_type": "stream",
     "text": [
      "\n",
      "K tempscale noCorrection\n",
      "\n"
     ]
    },
    {
     "ename": "IndexError",
     "evalue": "list index out of range",
     "output_type": "error",
     "traceback": [
      "\u001b[0;31m---------------------------------------------------------------------------\u001b[0m",
      "\u001b[0;31mIndexError\u001b[0m                                Traceback (most recent call last)",
      "\u001b[0;32m<ipython-input-4-402d4c2bb71e>\u001b[0m in \u001b[0;36m<module>\u001b[0;34m()\u001b[0m\n\u001b[0;32m----> 1\u001b[0;31m \u001b[0;32mprint\u001b[0m\u001b[0;34m(\u001b[0m\u001b[0mget_table\u001b[0m\u001b[0;34m(\u001b[0m\u001b[0mmlk\u001b[0m\u001b[0;34m[\u001b[0m\u001b[0;34m:\u001b[0m\u001b[0;36m2\u001b[0m\u001b[0;34m]\u001b[0m\u001b[0;34m,\u001b[0m \u001b[0;34m'astero'\u001b[0m\u001b[0;34m)\u001b[0m\u001b[0;34m.\u001b[0m\u001b[0mto_latex\u001b[0m\u001b[0;34m(\u001b[0m\u001b[0mbold_rows\u001b[0m\u001b[0;34m=\u001b[0m\u001b[0mTrue\u001b[0m\u001b[0;34m)\u001b[0m\u001b[0;34m)\u001b[0m\u001b[0;34m\u001b[0m\u001b[0m\n\u001b[0m\u001b[1;32m      2\u001b[0m \u001b[0;32mprint\u001b[0m\u001b[0;34m(\u001b[0m\u001b[0mget_table\u001b[0m\u001b[0;34m(\u001b[0m\u001b[0mmlk\u001b[0m\u001b[0;34m[\u001b[0m\u001b[0;36m2\u001b[0m\u001b[0;34m:\u001b[0m\u001b[0;34m]\u001b[0m\u001b[0;34m,\u001b[0m \u001b[0;34m'astero'\u001b[0m\u001b[0;34m)\u001b[0m\u001b[0;34m.\u001b[0m\u001b[0mto_latex\u001b[0m\u001b[0;34m(\u001b[0m\u001b[0mbold_rows\u001b[0m\u001b[0;34m=\u001b[0m\u001b[0mTrue\u001b[0m\u001b[0;34m)\u001b[0m\u001b[0;34m)\u001b[0m\u001b[0;34m\u001b[0m\u001b[0m\n\u001b[1;32m      3\u001b[0m \u001b[0;32mprint\u001b[0m\u001b[0;34m(\u001b[0m\u001b[0mget_table\u001b[0m\u001b[0;34m(\u001b[0m\u001b[0mmlg\u001b[0m\u001b[0;34m[\u001b[0m\u001b[0;34m:\u001b[0m\u001b[0;36m2\u001b[0m\u001b[0;34m]\u001b[0m\u001b[0;34m,\u001b[0m \u001b[0;34m'astero'\u001b[0m\u001b[0;34m)\u001b[0m\u001b[0;34m.\u001b[0m\u001b[0mto_latex\u001b[0m\u001b[0;34m(\u001b[0m\u001b[0mbold_rows\u001b[0m\u001b[0;34m=\u001b[0m\u001b[0mTrue\u001b[0m\u001b[0;34m)\u001b[0m\u001b[0;34m)\u001b[0m\u001b[0;34m\u001b[0m\u001b[0m\n\u001b[1;32m      4\u001b[0m \u001b[0;32mprint\u001b[0m\u001b[0;34m(\u001b[0m\u001b[0mget_table\u001b[0m\u001b[0;34m(\u001b[0m\u001b[0mmlg\u001b[0m\u001b[0;34m[\u001b[0m\u001b[0;36m2\u001b[0m\u001b[0;34m:\u001b[0m\u001b[0;34m]\u001b[0m\u001b[0;34m,\u001b[0m \u001b[0;34m'astero'\u001b[0m\u001b[0;34m)\u001b[0m\u001b[0;34m.\u001b[0m\u001b[0mto_latex\u001b[0m\u001b[0;34m(\u001b[0m\u001b[0mbold_rows\u001b[0m\u001b[0;34m=\u001b[0m\u001b[0mTrue\u001b[0m\u001b[0;34m)\u001b[0m\u001b[0;34m)\u001b[0m\u001b[0;34m\u001b[0m\u001b[0m\n",
      "\u001b[0;32m<ipython-input-2-02a73616840d>\u001b[0m in \u001b[0;36mget_table\u001b[0;34m(mls, typ)\u001b[0m\n\u001b[1;32m     24\u001b[0m         \u001b[0;32mfor\u001b[0m \u001b[0midx\u001b[0m \u001b[0;32min\u001b[0m \u001b[0mindices\u001b[0m\u001b[0;34m:\u001b[0m\u001b[0;34m\u001b[0m\u001b[0m\n\u001b[1;32m     25\u001b[0m             \u001b[0msfile\u001b[0m \u001b[0;34m=\u001b[0m \u001b[0mglob\u001b[0m\u001b[0;34m.\u001b[0m\u001b[0mglob\u001b[0m\u001b[0;34m(\u001b[0m\u001b[0m__outdir__\u001b[0m\u001b[0;34m+\u001b[0m\u001b[0mml\u001b[0m\u001b[0;34m+\u001b[0m\u001b[0;34m'/'\u001b[0m\u001b[0;34m+\u001b[0m\u001b[0mtyp\u001b[0m\u001b[0;34m+\u001b[0m\u001b[0;34m'_'\u001b[0m\u001b[0;34m+\u001b[0m\u001b[0mstr\u001b[0m\u001b[0;34m(\u001b[0m\u001b[0midx\u001b[0m\u001b[0;34m)\u001b[0m\u001b[0;34m+\u001b[0m\u001b[0;34m'_chains.txt'\u001b[0m\u001b[0;34m)\u001b[0m\u001b[0;34m\u001b[0m\u001b[0m\n\u001b[0;32m---> 26\u001b[0;31m             \u001b[0mchain\u001b[0m \u001b[0;34m=\u001b[0m \u001b[0mnp\u001b[0m\u001b[0;34m.\u001b[0m\u001b[0mgenfromtxt\u001b[0m\u001b[0;34m(\u001b[0m\u001b[0msfile\u001b[0m\u001b[0;34m[\u001b[0m\u001b[0;36m0\u001b[0m\u001b[0;34m]\u001b[0m\u001b[0;34m)\u001b[0m\u001b[0;34m\u001b[0m\u001b[0m\n\u001b[0m\u001b[1;32m     27\u001b[0m             \u001b[0;32mfor\u001b[0m \u001b[0mlis\u001b[0m \u001b[0;32min\u001b[0m \u001b[0mnp\u001b[0m\u001b[0;34m.\u001b[0m\u001b[0marange\u001b[0m\u001b[0;34m(\u001b[0m\u001b[0;36m0\u001b[0m\u001b[0;34m,\u001b[0m \u001b[0mlen\u001b[0m\u001b[0;34m(\u001b[0m\u001b[0mwlabels\u001b[0m\u001b[0;34m)\u001b[0m\u001b[0;34m,\u001b[0m \u001b[0;36m3\u001b[0m\u001b[0;34m)\u001b[0m\u001b[0;34m:\u001b[0m\u001b[0;34m\u001b[0m\u001b[0m\n\u001b[1;32m     28\u001b[0m                 \u001b[0;32mif\u001b[0m \u001b[0mlis\u001b[0m \u001b[0;34m>=\u001b[0m \u001b[0;36m6\u001b[0m\u001b[0;34m:\u001b[0m\u001b[0;34m\u001b[0m\u001b[0m\n",
      "\u001b[0;31mIndexError\u001b[0m: list index out of range"
     ]
    }
   ],
   "source": [
    "print(get_table(mlk[:2], 'astero').to_latex(bold_rows=True))\n",
    "print(get_table(mlk[2:], 'astero').to_latex(bold_rows=True))\n",
    "print(get_table(mlg[:2], 'astero').to_latex(bold_rows=True))\n",
    "print(get_table(mlg[2:], 'astero').to_latex(bold_rows=True))"
   ]
  },
  {
   "cell_type": "markdown",
   "metadata": {},
   "source": [
    "# Gaia runs"
   ]
  },
  {
   "cell_type": "code",
   "execution_count": 3,
   "metadata": {},
   "outputs": [],
   "source": [
    "mlk = ['Gaia_K_tempscale_Clump','Gaia_APOKASC_K_tempscale_Clump']\n",
    "mlg = ['Gaia_GAIA_tempscale_Clump', 'Gaia_APOKASC_GAIA_tempscale_Clump']"
   ]
  },
  {
   "cell_type": "code",
   "execution_count": 4,
   "metadata": {
    "scrolled": false
   },
   "outputs": [
    {
     "name": "stdout",
     "output_type": "stream",
     "text": [
      "\n",
      "Gaia K tempscale Clump\n",
      "\n",
      "\\begin{tabular}{lllllllllllllllllll}\n",
      "\\toprule\n",
      "{} &     mu &   mulo &   muhi &  sigma &  siglo &  sighi &     Q &   Qlo &   Qhi &  sigo & sigolo & sigohi &       L &    Llo &    Lhi &   oozp & oozplo & oozphi \\\\\n",
      "\\midrule\n",
      "\\textbf{-50.0} &  -1.71 &  0.002 &  0.002 &  0.041 &  0.003 &  0.003 &  0.58 &  0.05 &  0.05 &  5.49 &   0.47 &   0.52 &  908.63 &  15.89 &  16.55 & -24.09 &  12.76 &  12.84 \\\\\n",
      "\\textbf{0.0  } & -1.737 &  0.002 &  0.002 &   0.04 &  0.003 &  0.003 &  0.55 &  0.03 &  0.05 &  5.61 &   0.47 &    0.5 &  920.12 &  16.61 &  17.18 &  -19.5 &  12.46 &   12.4 \\\\\n",
      "\\textbf{50.0 } & -1.764 &  0.002 &  0.002 &  0.041 &  0.003 &  0.004 &  0.53 &  0.02 &  0.04 &   5.5 &   0.48 &    0.5 &  930.95 &  16.83 &  18.07 & -14.81 &  12.98 &  12.57 \\\\\n",
      "\\bottomrule\n",
      "\\end{tabular}\n",
      "\n",
      "\n",
      "Gaia APOKASC K tempscale Clump\n",
      "\n",
      "\\begin{tabular}{lllllllllllllllllll}\n",
      "\\toprule\n",
      "{} &     mu &   mulo &   muhi &  sigma &  siglo &  sighi &     Q &   Qlo &   Qhi &  sigo & sigolo & sigohi &       L &    Llo &    Lhi &   oozp & oozplo & oozphi \\\\\n",
      "\\midrule\n",
      "\\textbf{-50.0} & -1.661 &  0.003 &  0.003 &   0.04 &  0.003 &  0.003 &   0.6 &  0.05 &  0.05 &  5.76 &    0.5 &   0.55 &     888 &  15.78 &  16.38 & -33.53 &  12.97 &  12.93 \\\\\n",
      "\\textbf{0.0  } & -1.689 &  0.003 &  0.003 &   0.04 &  0.004 &  0.004 &  0.59 &  0.05 &  0.05 &  5.66 &   0.51 &   0.53 &  899.36 &  16.04 &  16.72 & -28.33 &  12.92 &  12.96 \\\\\n",
      "\\textbf{50.0 } & -1.715 &  0.003 &  0.003 &  0.041 &  0.004 &  0.004 &  0.57 &  0.05 &  0.05 &  5.51 &   0.49 &   0.55 &  910.68 &   16.4 &  16.83 & -23.47 &  13.13 &  13.25 \\\\\n",
      "\\bottomrule\n",
      "\\end{tabular}\n",
      "\n",
      "\n",
      "Gaia GAIA tempscale Clump\n",
      "\n",
      "\\begin{tabular}{lllllllllllllllllll}\n",
      "\\toprule\n",
      "{} &     mu &   mulo &   muhi &  sigma &  siglo &  sighi &     Q &   Qlo &   Qhi &  sigo & sigolo & sigohi &        L &    Llo &    Lhi &   oozp & oozplo & oozphi \\\\\n",
      "\\midrule\n",
      "\\textbf{-50.0} &  0.346 &  0.003 &  0.003 &   0.19 &  0.003 &  0.003 &  0.97 &  0.02 &  0.01 &   3.1 &    0.7 &   0.79 &   948.41 &  17.96 &  18.15 &  -9.96 &  13.18 &   13.1 \\\\\n",
      "\\textbf{0.0  } &  0.277 &  0.003 &  0.003 &  0.188 &  0.004 &  0.003 &  0.95 &  0.05 &  0.02 &  2.64 &   0.63 &   0.77 &    978.9 &  17.46 &  18.35 &   1.14 &  12.81 &   12.8 \\\\\n",
      "\\textbf{50.0 } &  0.209 &  0.003 &  0.003 &  0.184 &  0.004 &  0.004 &  0.74 &  0.13 &  0.12 &  1.71 &    0.2 &   0.36 &  1008.77 &  18.48 &  18.85 &  10.76 &  13.21 &  13.13 \\\\\n",
      "\\bottomrule\n",
      "\\end{tabular}\n",
      "\n",
      "\n",
      "Gaia APOKASC GAIA tempscale Clump\n",
      "\n",
      "\\begin{tabular}{lllllllllllllllllll}\n",
      "\\toprule\n",
      "{} &     mu &   mulo &   muhi &  sigma &  siglo &  sighi &     Q &   Qlo &   Qhi &  sigo & sigolo & sigohi &       L &    Llo &    Lhi &   oozp & oozplo & oozphi \\\\\n",
      "\\midrule\n",
      "\\textbf{-50.0} &  0.527 &  0.004 &  0.004 &   0.13 &  0.005 &  0.005 &  0.82 &  0.07 &  0.05 &  2.53 &    0.3 &   0.36 &  874.12 &   16.1 &  16.56 & -39.02 &  13.16 &  12.98 \\\\\n",
      "\\textbf{0.0  } &  0.455 &  0.004 &  0.004 &  0.129 &  0.005 &  0.005 &  0.79 &  0.08 &  0.07 &  2.42 &   0.29 &   0.36 &  903.23 &  16.68 &   16.8 & -26.84 &  12.97 &   13.1 \\\\\n",
      "\\textbf{50.0 } &  0.385 &  0.004 &  0.004 &  0.127 &  0.005 &  0.005 &  0.68 &   0.1 &  0.09 &  2.22 &   0.22 &   0.27 &  931.92 &     17 &  17.53 & -14.94 &  13.04 &  12.58 \\\\\n",
      "\\bottomrule\n",
      "\\end{tabular}\n",
      "\n"
     ]
    }
   ],
   "source": [
    "print(get_table(mlk[0], 'gaia').to_latex(bold_rows=True))\n",
    "print(get_table(mlk[1], 'gaia').to_latex(bold_rows=True))\n",
    "print(get_table(mlg[0], 'gaia').to_latex(bold_rows=True))\n",
    "print(get_table(mlg[1], 'gaia').to_latex(bold_rows=True))"
   ]
  },
  {
   "cell_type": "markdown",
   "metadata": {},
   "source": [
    "# Parallax runs"
   ]
  },
  {
   "cell_type": "code",
   "execution_count": 4,
   "metadata": {},
   "outputs": [],
   "source": [
    "oozps = pd.DataFrame(index=['Lindegren','Zinn','Riess','Sahlholdt','Stassun','Hawkins','Uninformed','Khan'],\n",
    "                     columns=['mu','spread'])\n",
    "oozps.loc['Lindegren']['mu'] = -29.\n",
    "oozps.loc['Lindegren']['spread'] = 1.\n",
    "oozps.loc['Zinn']['mu'] = -52.8\n",
    "oozps.loc['Zinn']['spread'] = 3.4\n",
    "oozps.loc['Riess']['mu'] = -46.\n",
    "oozps.loc['Riess']['spread'] = 13.\n",
    "oozps.loc['Sahlholdt']['mu'] = -35.\n",
    "oozps.loc['Sahlholdt']['spread'] = 16.\n",
    "oozps.loc['Stassun']['mu'] = -82.\n",
    "oozps.loc['Stassun']['spread'] = 33.\n",
    "oozps.loc['Hawkins']['mu'] = 0.\n",
    "oozps.loc['Hawkins']['spread'] = 1.\n",
    "oozps.loc['Uninformed']['mu'] = 0.\n",
    "oozps.loc['Uninformed']['spread'] = 1000.\n",
    "oozps.loc['Khan']['mu'] = -47.02\n",
    "oozps.loc['Khan']['spread'] = 0.80"
   ]
  },
  {
   "cell_type": "code",
   "execution_count": 5,
   "metadata": {},
   "outputs": [
    {
     "name": "stdout",
     "output_type": "stream",
     "text": [
      "\\mathcal{N}(-29.0,1.0)\n"
     ]
    }
   ],
   "source": [
    "ind = oozps.index.values\n",
    "a = oozps.loc['Lindegren']['mu']\n",
    "b = oozps.loc['Lindegren']['spread']\n",
    "print(\"\\mathcal{N}(\"+str(a)+','+str(b)+\")\")"
   ]
  },
  {
   "cell_type": "code",
   "execution_count": 6,
   "metadata": {},
   "outputs": [],
   "source": [
    "def get_table_plx(oozps, band):\n",
    "    print('\\n'+band.replace('_',' ')+'\\n')\n",
    "\n",
    "    labels=['prior','mu','mulo','muhi','sigma','siglo','sighi',\n",
    "        'Q','Qlo','Qhi','sigo','sigolo','sigohi',\n",
    "        'L', 'Llo', 'Lhi', 'oozp', 'oozplo','oozphi']\n",
    "    indices = oozps.index.values\n",
    "    df = pd.DataFrame(columns=labels, index=indices)\n",
    "\n",
    "    for idx in indices:\n",
    "        sfile = glob.glob(__outdir__+'Parallax_Runs/'+band+'_'+idx+'_chains.txt')\n",
    "        chain = np.genfromtxt(sfile[0])\n",
    "        df.loc[idx]['prior'] = \"\\mathcal{N}(\"+str(oozps.loc[idx]['mu'])+' , '+str(oozps.loc[idx]['spread'])+\")\"\n",
    "        for lis in np.arange(1, len(labels), 3):\n",
    "            if lis >= 6:\n",
    "                rnd = 2\n",
    "            else:\n",
    "                rnd = 3\n",
    "            df.loc[idx][labels[lis]] = np.round(np.median(chain[lis/3]), rnd)\n",
    "            df.loc[idx][labels[lis+1]] = np.round(np.median(chain[lis/3]) - np.percentile(chain[lis/3], [15.9])[0],rnd)\n",
    "            df.loc[idx][labels[lis+2]] = np.round(np.percentile(chain[lis/3], [84.1])[0] - np.median(chain[lis/3]),rnd)\n",
    "    return df"
   ]
  },
  {
   "cell_type": "code",
   "execution_count": 7,
   "metadata": {},
   "outputs": [
    {
     "name": "stdout",
     "output_type": "stream",
     "text": [
      "\n",
      "K\n",
      "\n",
      "\\begin{tabular}{llllllllllllllllllll}\n",
      "\\toprule\n",
      "{} &                      prior &     mu &   mulo &   muhi &  sigma &  siglo &  sighi &     Q &   Qlo &   Qhi &  sigo & sigolo & sigohi &       L &    Llo &    Lhi &   oozp & oozplo & oozphi \\\\\n",
      "\\midrule\n",
      "\\textbf{Lindegren } &   \\textbackslashmathcal\\{N\\}(-29.0 , 1.0) & -1.638 &  0.017 &  0.017 &  0.075 &  0.015 &  0.016 &  0.78 &  0.11 &  0.09 &  3.28 &   0.56 &   0.64 &  888.56 &  24.36 &  25.41 & -29.07 &   0.99 &      1 \\\\\n",
      "\\textbf{Zinn      } &   \\textbackslashmathcal\\{N\\}(-52.8 , 3.4) & -1.631 &  0.017 &  0.017 &  0.074 &  0.015 &  0.016 &  0.77 &   0.1 &  0.09 &   3.3 &   0.57 &   0.65 &  885.76 &  23.73 &   24.4 & -51.92 &   3.21 &   3.21 \\\\\n",
      "\\textbf{Riess     } &  \\textbackslashmathcal\\{N\\}(-46.0 , 13.0) & -1.634 &  0.017 &  0.018 &  0.076 &  0.015 &  0.017 &  0.78 &  0.11 &  0.09 &  3.26 &   0.57 &   0.64 &  886.59 &  24.12 &     25 & -42.22 &   9.16 &   9.33 \\\\\n",
      "\\textbf{Sahlholdt } &  \\textbackslashmathcal\\{N\\}(-35.0 , 16.0) & -1.634 &  0.017 &  0.017 &  0.073 &  0.015 &  0.016 &  0.77 &  0.11 &  0.09 &  3.33 &   0.58 &   0.69 &  887.37 &  23.89 &  24.06 &    -37 &  10.42 &  10.17 \\\\\n",
      "\\textbf{Stassun   } &  \\textbackslashmathcal\\{N\\}(-82.0 , 33.0) & -1.632 &  0.017 &  0.017 &  0.072 &  0.016 &  0.017 &  0.76 &  0.11 &  0.09 &  3.36 &   0.59 &   0.64 &  885.77 &  23.01 &  24.33 & -44.55 &  12.59 &  12.62 \\\\\n",
      "\\textbf{Hawkins   } &     \\textbackslashmathcal\\{N\\}(0.0 , 1.0) & -1.648 &  0.018 &  0.018 &  0.075 &  0.015 &  0.017 &  0.78 &  0.11 &  0.09 &  3.31 &   0.57 &   0.64 &  893.39 &     24 &   24.6 &  -0.22 &   1.01 &   0.99 \\\\\n",
      "\\textbf{Uninformed} &  \\textbackslashmathcal\\{N\\}(0.0 , 1000.0) & -1.634 &  0.018 &  0.017 &  0.074 &  0.015 &  0.017 &  0.77 &  0.11 &  0.09 &   3.3 &   0.58 &   0.64 &  887.27 &  23.82 &  24.12 & -38.38 &  13.54 &  13.83 \\\\\n",
      "\\textbf{Khan      } &  \\textbackslashmathcal\\{N\\}(-47.02 , 0.8) & -1.632 &  0.018 &  0.018 &  0.074 &  0.015 &  0.016 &  0.77 &   0.1 &  0.09 &  3.29 &   0.57 &   0.63 &  885.79 &  23.44 &  24.54 & -46.98 &   0.81 &   0.79 \\\\\n",
      "\\bottomrule\n",
      "\\end{tabular}\n",
      "\n",
      "\n",
      "GAIA\n",
      "\n",
      "\\begin{tabular}{llllllllllllllllllll}\n",
      "\\toprule\n",
      "{} &                      prior &     mu &   mulo &   muhi &  sigma &  siglo &  sighi &     Q &   Qlo &   Qhi &  sigo & sigolo & sigohi &       L &    Llo &    Lhi &   oozp & oozplo & oozphi \\\\\n",
      "\\midrule\n",
      "\\textbf{Lindegren } &   \\textbackslashmathcal\\{N\\}(-29.0 , 1.0) &  0.543 &  0.022 &  0.021 &  0.123 &  0.028 &   0.02 &  0.85 &  0.17 &   0.1 &  2.82 &   0.51 &    0.7 &  878.86 &  24.54 &  24.58 & -29.09 &      1 &   0.99 \\\\\n",
      "\\textbf{Zinn      } &   \\textbackslashmathcal\\{N\\}(-52.8 , 3.4) &  0.554 &  0.022 &  0.022 &  0.122 &  0.029 &  0.021 &  0.84 &  0.18 &   0.1 &  2.82 &    0.5 &   0.69 &  873.26 &  23.83 &  24.96 & -52.28 &   3.35 &   3.29 \\\\\n",
      "\\textbf{Riess     } &  \\textbackslashmathcal\\{N\\}(-46.0 , 13.0) &  0.551 &  0.022 &  0.022 &  0.124 &  0.025 &   0.02 &  0.85 &  0.16 &  0.09 &  2.79 &   0.49 &   0.66 &  874.55 &  24.22 &     25 & -44.84 &   9.61 &   9.49 \\\\\n",
      "\\textbf{Sahlholdt } &  \\textbackslashmathcal\\{N\\}(-35.0 , 16.0) &   0.55 &  0.022 &  0.022 &  0.123 &  0.027 &   0.02 &  0.84 &  0.17 &   0.1 &  2.81 &   0.49 &   0.67 &     875 &  24.41 &  24.59 & -40.27 &  10.48 &  10.67 \\\\\n",
      "\\textbf{Stassun   } &  \\textbackslashmathcal\\{N\\}(-82.0 , 33.0) &  0.553 &  0.023 &  0.023 &  0.123 &  0.026 &  0.019 &  0.84 &  0.16 &   0.1 &   2.8 &   0.48 &   0.65 &   873.6 &  23.87 &   25.1 & -49.35 &  12.84 &   12.6 \\\\\n",
      "\\textbf{Hawkins   } &     \\textbackslashmathcal\\{N\\}(0.0 , 1.0) &   0.53 &  0.021 &  0.022 &  0.128 &  0.022 &  0.017 &  0.87 &  0.15 &  0.08 &  2.82 &   0.53 &    0.7 &  884.29 &  24.31 &  23.76 &  -0.22 &      1 &   0.98 \\\\\n",
      "\\textbf{Uninformed} &  \\textbackslashmathcal\\{N\\}(0.0 , 1000.0) &  0.552 &  0.023 &  0.023 &  0.121 &  0.031 &  0.022 &  0.83 &  0.18 &  0.11 &  2.83 &   0.51 &   0.68 &  874.45 &  24.75 &   24.8 & -43.79 &  13.75 &  13.46 \\\\\n",
      "\\textbf{Khan      } &  \\textbackslashmathcal\\{N\\}(-47.02 , 0.8) &  0.553 &  0.022 &  0.022 &  0.123 &  0.026 &   0.02 &  0.84 &  0.16 &   0.1 &  2.79 &    0.5 &   0.61 &  873.61 &  23.96 &  24.51 & -47.01 &    0.8 &   0.82 \\\\\n",
      "\\bottomrule\n",
      "\\end{tabular}\n",
      "\n"
     ]
    }
   ],
   "source": [
    "print(get_table_plx(oozps, band='K').to_latex(bold_rows=True))\n",
    "print(get_table_plx(oozps, band='GAIA').to_latex(bold_rows=True))"
   ]
  },
  {
   "cell_type": "code",
   "execution_count": 29,
   "metadata": {},
   "outputs": [
    {
     "data": {
      "text/plain": [
       "'/home/oliver/PhD/Gaia_Project/Output/Parallax_Runs/K_Stassun_chains.txt'"
      ]
     },
     "execution_count": 29,
     "metadata": {},
     "output_type": "execute_result"
    }
   ],
   "source": [
    "__outdir__+'Parallax_Runs/'+band+'_'+idx+'_chains.txt'"
   ]
  },
  {
   "cell_type": "code",
   "execution_count": null,
   "metadata": {},
   "outputs": [],
   "source": []
  }
 ],
 "metadata": {
  "kernelspec": {
   "display_name": "Python 2",
   "language": "python",
   "name": "python2"
  }
 },
 "nbformat": 4,
 "nbformat_minor": 2
}
