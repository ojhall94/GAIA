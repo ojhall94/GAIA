{
 "cells": [
  {
   "cell_type": "code",
   "execution_count": 1,
   "metadata": {},
   "outputs": [],
   "source": [
    "import numpy as np\n",
    "import pandas as pd\n",
    "import pickle\n",
    "import os\n",
    "import glob\n",
    "\n",
    "__outdir__ = os.path.expanduser('~')+'/PhD/Gaia_Project/Output/'\n",
    "__datdir__ = os.path.expanduser('~')+'/PhD/Gaia_Project/data/KepxDR2/'"
   ]
  },
  {
   "cell_type": "code",
   "execution_count": 3,
   "metadata": {},
   "outputs": [],
   "source": [
    "def get_table(mls, typ):\n",
    "    if type(mls) == str:\n",
    "        mls=[mls]\n",
    "    if typ == 'astero':\n",
    "        labels=['mu','mulo','muhi','sigma','siglo','sighi',\n",
    "            'Q','Qlo','Qhi','sigo','sigolo','sigohi']\n",
    "        labels_c=[i+'_c' for i in labels]\n",
    "        indices = [str(ts) for ts in np.arange(-50., 60., 10.)]\n",
    "        df = pd.DataFrame(columns=labels+labels_c, index=indices)\n",
    "\n",
    "    elif typ == 'gaia':\n",
    "        labels=['mu','mulo','muhi','sigma','siglo','sighi',\n",
    "            'Q','Qlo','Qhi','sigo','sigolo','sigohi',\n",
    "            'L', 'Llo', 'Lhi', 'oozp', 'oozplo','oozphi']\n",
    "        indices = [str(ts) for ts in np.arange(-50., 100., 50.)]\n",
    "        df = pd.DataFrame(columns=labels, index=indices)\n",
    "\n",
    "    for n, ml in enumerate(mls):\n",
    "        print('\\n'+ml.replace('_',' ')+'\\n')\n",
    "        if n == 0:\n",
    "            wlabels=labels\n",
    "        if n == 1:\n",
    "            wlabels=labels_c\n",
    "        for idx in indices:\n",
    "            sfile = glob.glob(__outdir__+ml+'/'+typ+'_'+str(idx)+'_chains.txt')\n",
    "            chain = np.genfromtxt(sfile[0])\n",
    "            for lis in np.arange(0, len(wlabels), 3):\n",
    "                if lis >= 6:\n",
    "                    rnd = 2\n",
    "                else:\n",
    "                    rnd = 3\n",
    "                df.loc[idx][wlabels[lis]] = np.round(np.median(chain[lis/3]), rnd)\n",
    "                df.loc[idx][wlabels[lis+1]] = np.round(np.median(chain[lis/3]) - np.percentile(chain[lis/3], [15.9])[0],rnd)\n",
    "                df.loc[idx][wlabels[lis+2]] = np.round(np.percentile(chain[lis/3], [84.1])[0] - np.median(chain[lis/3]),rnd)\n",
    "    return df"
   ]
  },
  {
   "cell_type": "markdown",
   "metadata": {},
   "source": [
    "# Asteroseismic runs"
   ]
  },
  {
   "cell_type": "code",
   "execution_count": 4,
   "metadata": {},
   "outputs": [],
   "source": [
    "mlk = ['K_tempscale_noCorrection','K_tempscale_Clump',\n",
    "       'APOKASC_K_tempscale_noCorrection', 'APOKASC_K_tempscale_Clump']\n",
    "mlg = ['GAIA_tempscale_noCorrection','GAIA_tempscale_Clump', \n",
    "       'APOKASC_GAIA_tempscale_noCorrection', 'APOKASC_GAIA_tempscale_Clump']"
   ]
  },
  {
   "cell_type": "code",
   "execution_count": 5,
   "metadata": {
    "scrolled": true
   },
   "outputs": [
    {
     "name": "stdout",
     "output_type": "stream",
     "text": [
      "\n",
      "K tempscale noCorrection\n",
      "\n",
      "\n",
      "K tempscale Clump\n",
      "\n",
      "\\begin{tabular}{lllllllllllllllllllllllll}\n",
      "\\toprule\n",
      "{} &     mu &   mulo &   muhi &  sigma &  siglo &  sighi &     Q &   Qlo &   Qhi &   sigo & sigolo & sigohi &   mu\\_c & mulo\\_c & muhi\\_c & sigma\\_c & siglo\\_c & sighi\\_c &   Q\\_c & Qlo\\_c & Qhi\\_c & sigo\\_c & sigolo\\_c & sigohi\\_c \\\\\n",
      "\\midrule\n",
      "\\textbf{-50.0} & -1.704 &  0.002 &  0.002 &   0.03 &  0.003 &  0.003 &  0.92 &  0.01 &  0.01 &  10.35 &   1.01 &   1.17 & -1.713 &  0.002 &  0.002 &   0.034 &   0.004 &   0.004 &  0.91 &  0.01 &  0.01 &   8.85 &     0.93 &     1.09 \\\\\n",
      "\\textbf{-40.0} & -1.709 &  0.002 &  0.002 &   0.03 &  0.004 &  0.003 &  0.92 &  0.01 &  0.01 &  10.33 &   1.01 &   1.22 & -1.718 &  0.002 &  0.002 &   0.033 &   0.004 &   0.004 &  0.91 &  0.01 &  0.01 &   9.11 &     1.04 &     1.12 \\\\\n",
      "\\textbf{-30.0} & -1.714 &  0.002 &  0.002 &   0.03 &  0.003 &  0.003 &  0.92 &  0.01 &  0.01 &   10.4 &   1.04 &   1.15 & -1.724 &  0.002 &  0.002 &   0.033 &   0.004 &   0.004 &  0.91 &  0.01 &  0.01 &   9.16 &     0.96 &     1.12 \\\\\n",
      "\\textbf{-20.0} & -1.719 &  0.002 &  0.002 &  0.029 &  0.003 &  0.003 &  0.92 &  0.01 &  0.01 &  10.55 &   1.05 &   1.15 &  -1.73 &  0.002 &  0.002 &   0.033 &   0.004 &   0.004 &  0.91 &  0.01 &  0.01 &   9.22 &     0.91 &     1.05 \\\\\n",
      "\\textbf{-10.0} & -1.724 &  0.002 &  0.002 &   0.03 &  0.003 &  0.003 &  0.92 &  0.01 &  0.01 &  10.49 &   1.03 &   1.13 & -1.735 &  0.002 &  0.002 &   0.033 &   0.004 &   0.004 &  0.91 &  0.01 &  0.01 &   9.16 &     0.98 &     1.09 \\\\\n",
      "\\textbf{0.0  } & -1.729 &  0.002 &  0.002 &   0.03 &  0.003 &  0.003 &  0.92 &  0.01 &  0.01 &  10.33 &   1.01 &   1.19 & -1.741 &  0.002 &  0.002 &   0.033 &   0.004 &   0.004 &  0.91 &  0.01 &  0.01 &   9.18 &     0.92 &     1.09 \\\\\n",
      "\\textbf{10.0 } & -1.734 &  0.002 &  0.002 &  0.029 &  0.003 &  0.003 &  0.92 &  0.01 &  0.01 &  10.44 &   0.97 &   1.07 & -1.746 &  0.002 &  0.002 &   0.032 &   0.004 &   0.004 &  0.91 &  0.01 &  0.01 &   9.36 &     1.05 &      1.2 \\\\\n",
      "\\textbf{20.0 } & -1.739 &  0.002 &  0.002 &   0.03 &  0.003 &  0.004 &  0.92 &  0.01 &  0.01 &  10.32 &   1.02 &   1.17 & -1.752 &  0.002 &  0.002 &   0.033 &   0.004 &   0.004 &  0.91 &  0.01 &  0.01 &   9.19 &     1.01 &     1.16 \\\\\n",
      "\\textbf{30.0 } & -1.744 &  0.002 &  0.002 &   0.03 &  0.003 &  0.003 &  0.92 &  0.01 &  0.01 &  10.41 &   0.99 &   1.06 & -1.757 &  0.002 &  0.002 &   0.032 &   0.004 &   0.004 &  0.91 &  0.01 &  0.01 &   9.37 &     1.02 &     1.16 \\\\\n",
      "\\textbf{40.0 } & -1.749 &  0.002 &  0.002 &   0.03 &  0.003 &  0.003 &  0.92 &  0.01 &  0.01 &  10.41 &   1.02 &   1.18 & -1.762 &  0.002 &  0.002 &   0.032 &   0.004 &   0.004 &  0.91 &  0.01 &  0.01 &   9.37 &     0.97 &     1.14 \\\\\n",
      "\\textbf{50.0 } & -1.754 &  0.002 &  0.002 &   0.03 &  0.003 &  0.003 &  0.92 &  0.01 &  0.01 &  10.27 &   1.01 &   1.12 & -1.768 &  0.002 &  0.002 &   0.032 &   0.004 &   0.004 &  0.91 &  0.01 &  0.01 &   9.25 &        1 &     1.16 \\\\\n",
      "\\bottomrule\n",
      "\\end{tabular}\n",
      "\n",
      "\n",
      "APOKASC K tempscale noCorrection\n",
      "\n",
      "\n",
      "APOKASC K tempscale Clump\n",
      "\n",
      "\\begin{tabular}{lllllllllllllllllllllllll}\n",
      "\\toprule\n",
      "{} &     mu &   mulo &   muhi &  sigma &  siglo &  sighi &    Q &   Qlo &   Qhi &  sigo & sigolo & sigohi &   mu\\_c & mulo\\_c & muhi\\_c & sigma\\_c & siglo\\_c & sighi\\_c &   Q\\_c & Qlo\\_c & Qhi\\_c & sigo\\_c & sigolo\\_c & sigohi\\_c \\\\\n",
      "\\midrule\n",
      "\\textbf{-50.0} & -1.659 &  0.003 &  0.003 &  0.029 &  0.004 &  0.004 &  0.9 &  0.02 &  0.02 &   9.2 &   1.09 &    1.2 & -1.663 &  0.003 &  0.003 &   0.031 &   0.004 &   0.005 &  0.89 &  0.02 &  0.02 &   8.46 &     1.06 &     1.19 \\\\\n",
      "\\textbf{-40.0} & -1.664 &  0.003 &  0.003 &  0.029 &  0.004 &  0.004 &  0.9 &  0.02 &  0.02 &  9.14 &   1.08 &   1.18 & -1.669 &  0.003 &  0.003 &   0.032 &   0.004 &   0.005 &  0.89 &  0.02 &  0.02 &    8.4 &      1.1 &     1.16 \\\\\n",
      "\\textbf{-30.0} & -1.669 &  0.003 &  0.003 &  0.029 &  0.004 &  0.004 &  0.9 &  0.02 &  0.02 &  9.13 &   1.11 &   1.23 & -1.675 &  0.003 &  0.003 &   0.031 &   0.004 &   0.005 &  0.89 &  0.02 &  0.02 &   8.53 &     1.06 &     1.16 \\\\\n",
      "\\textbf{-20.0} & -1.674 &  0.003 &  0.003 &  0.029 &  0.004 &  0.004 &  0.9 &  0.02 &  0.02 &  9.15 &    1.1 &   1.26 & -1.681 &  0.003 &  0.003 &   0.031 &   0.004 &   0.005 &  0.89 &  0.02 &  0.02 &   8.43 &     1.06 &     1.24 \\\\\n",
      "\\textbf{-10.0} & -1.679 &  0.003 &  0.003 &   0.03 &  0.004 &  0.004 &  0.9 &  0.02 &  0.02 &  9.11 &   1.09 &   1.18 & -1.687 &  0.003 &  0.003 &   0.032 &   0.004 &   0.005 &  0.89 &  0.02 &  0.02 &   8.37 &     1.11 &     1.23 \\\\\n",
      "\\textbf{0.0  } & -1.684 &  0.003 &  0.003 &  0.029 &  0.004 &  0.004 &  0.9 &  0.02 &  0.02 &  9.13 &    1.1 &   1.25 & -1.693 &  0.003 &  0.003 &   0.031 &   0.004 &   0.005 &  0.89 &  0.02 &  0.02 &    8.5 &     1.08 &     1.18 \\\\\n",
      "\\textbf{10.0 } & -1.689 &  0.003 &  0.003 &   0.03 &  0.004 &  0.004 &  0.9 &  0.02 &  0.02 &  9.08 &   1.08 &    1.2 & -1.698 &  0.003 &  0.003 &   0.032 &   0.005 &   0.005 &  0.89 &  0.02 &  0.02 &   8.41 &     1.06 &      1.2 \\\\\n",
      "\\textbf{20.0 } & -1.694 &  0.003 &  0.003 &   0.03 &  0.004 &  0.004 &  0.9 &  0.02 &  0.02 &  9.04 &   1.06 &   1.26 & -1.704 &  0.003 &  0.003 &   0.032 &   0.004 &   0.005 &  0.89 &  0.02 &  0.02 &   8.44 &     1.08 &     1.21 \\\\\n",
      "\\textbf{30.0 } & -1.699 &  0.003 &  0.003 &  0.029 &  0.004 &  0.004 &  0.9 &  0.02 &  0.02 &   9.1 &   1.07 &   1.17 &  -1.71 &  0.003 &  0.003 &   0.033 &   0.004 &   0.005 &   0.9 &  0.02 &  0.02 &   8.29 &     1.05 &     1.21 \\\\\n",
      "\\textbf{40.0 } & -1.704 &  0.003 &  0.003 &  0.029 &  0.004 &  0.004 &  0.9 &  0.02 &  0.02 &  9.12 &    1.1 &   1.18 & -1.715 &  0.003 &  0.003 &   0.032 &   0.005 &   0.005 &  0.89 &  0.02 &  0.02 &   8.43 &     1.07 &     1.23 \\\\\n",
      "\\textbf{50.0 } & -1.709 &  0.003 &  0.003 &  0.029 &  0.004 &  0.004 &  0.9 &  0.02 &  0.02 &  9.15 &   1.09 &   1.24 & -1.721 &  0.003 &  0.003 &   0.032 &   0.004 &   0.005 &  0.89 &  0.02 &  0.02 &   8.39 &     1.07 &     1.19 \\\\\n",
      "\\bottomrule\n",
      "\\end{tabular}\n",
      "\n",
      "\n",
      "GAIA tempscale noCorrection\n",
      "\n",
      "\n",
      "GAIA tempscale Clump\n",
      "\n",
      "\\begin{tabular}{lllllllllllllllllllllllll}\n",
      "\\toprule\n",
      "{} &     mu &   mulo &   muhi &  sigma &  siglo &  sighi &     Q &   Qlo &   Qhi &  sigo & sigolo & sigohi &   mu\\_c & mulo\\_c & muhi\\_c & sigma\\_c & siglo\\_c & sighi\\_c &   Q\\_c & Qlo\\_c & Qhi\\_c & sigo\\_c & sigolo\\_c & sigohi\\_c \\\\\n",
      "\\midrule\n",
      "\\textbf{-50.0} &   0.35 &  0.003 &  0.003 &  0.181 &  0.004 &  0.004 &  0.98 &  0.01 &  0.01 &  2.73 &   0.42 &   0.58 &   0.34 &  0.003 &  0.003 &   0.193 &   0.004 &   0.004 &  0.99 &  0.01 &  0.01 &   2.77 &     0.46 &     0.66 \\\\\n",
      "\\textbf{-40.0} &  0.336 &  0.003 &  0.003 &  0.181 &  0.004 &  0.004 &  0.98 &  0.01 &  0.01 &  2.73 &    0.4 &   0.56 &  0.325 &  0.003 &  0.003 &   0.192 &   0.004 &   0.004 &  0.99 &  0.01 &  0.01 &   2.78 &     0.45 &     0.66 \\\\\n",
      "\\textbf{-30.0} &  0.323 &  0.003 &  0.003 &   0.18 &  0.004 &  0.004 &  0.98 &  0.01 &  0.01 &  2.72 &    0.4 &   0.54 &  0.311 &  0.003 &  0.003 &    0.19 &   0.004 &   0.004 &  0.99 &  0.01 &  0.01 &   2.79 &     0.43 &     0.58 \\\\\n",
      "\\textbf{-20.0} &  0.309 &  0.003 &  0.003 &  0.179 &  0.004 &  0.004 &  0.98 &  0.01 &  0.01 &  2.72 &    0.4 &   0.54 &  0.297 &  0.003 &  0.003 &   0.188 &   0.004 &   0.004 &  0.98 &  0.01 &  0.01 &   2.72 &     0.41 &     0.58 \\\\\n",
      "\\textbf{-10.0} &  0.295 &  0.003 &  0.003 &  0.178 &  0.004 &  0.004 &  0.98 &  0.01 &  0.01 &  2.69 &   0.38 &   0.53 &  0.282 &  0.003 &  0.003 &   0.187 &   0.004 &   0.004 &  0.98 &  0.01 &  0.01 &   2.71 &      0.4 &     0.58 \\\\\n",
      "\\textbf{0.0  } &  0.282 &  0.003 &  0.003 &  0.177 &  0.004 &  0.004 &  0.98 &  0.01 &  0.01 &  2.68 &   0.38 &   0.52 &  0.268 &  0.003 &  0.003 &   0.187 &   0.004 &   0.004 &  0.98 &  0.01 &  0.01 &   2.73 &     0.42 &     0.58 \\\\\n",
      "\\textbf{10.0 } &  0.268 &  0.003 &  0.003 &  0.177 &  0.004 &  0.004 &  0.98 &  0.01 &  0.01 &  2.71 &   0.39 &   0.53 &  0.254 &  0.003 &  0.003 &   0.185 &   0.004 &   0.004 &  0.98 &  0.01 &  0.01 &    2.7 &     0.41 &     0.58 \\\\\n",
      "\\textbf{20.0 } &  0.255 &  0.003 &  0.003 &  0.176 &  0.004 &  0.004 &  0.98 &  0.01 &  0.01 &   2.7 &   0.37 &   0.51 &   0.24 &  0.003 &  0.003 &   0.184 &   0.004 &   0.004 &  0.98 &  0.01 &  0.01 &   2.71 &      0.4 &     0.56 \\\\\n",
      "\\textbf{30.0 } &  0.241 &  0.003 &  0.003 &  0.175 &  0.004 &  0.004 &  0.98 &  0.01 &  0.01 &  2.68 &   0.36 &   0.51 &  0.226 &  0.003 &  0.003 &   0.183 &   0.004 &   0.004 &  0.98 &  0.01 &  0.01 &    2.7 &      0.4 &     0.55 \\\\\n",
      "\\textbf{40.0 } &  0.228 &  0.003 &  0.003 &  0.174 &  0.004 &  0.004 &  0.98 &  0.02 &  0.01 &  2.67 &   0.36 &   0.48 &  0.213 &  0.003 &  0.003 &   0.182 &   0.004 &   0.004 &  0.98 &  0.01 &  0.01 &    2.7 &      0.4 &     0.52 \\\\\n",
      "\\textbf{50.0 } &  0.215 &  0.003 &  0.003 &  0.173 &  0.004 &  0.004 &  0.98 &  0.02 &  0.01 &  2.68 &   0.36 &   0.48 &  0.199 &  0.003 &  0.003 &   0.181 &   0.004 &   0.004 &  0.98 &  0.01 &  0.01 &   2.69 &     0.38 &     0.53 \\\\\n",
      "\\bottomrule\n",
      "\\end{tabular}\n",
      "\n",
      "\n",
      "APOKASC GAIA tempscale noCorrection\n",
      "\n"
     ]
    },
    {
     "name": "stdout",
     "output_type": "stream",
     "text": [
      "\n",
      "APOKASC GAIA tempscale Clump\n",
      "\n",
      "\\begin{tabular}{lllllllllllllllllllllllll}\n",
      "\\toprule\n",
      "{} &     mu &   mulo &   muhi &  sigma &  siglo &  sighi &     Q &   Qlo &   Qhi &  sigo & sigolo & sigohi &   mu\\_c & mulo\\_c & muhi\\_c & sigma\\_c & siglo\\_c & sighi\\_c &   Q\\_c & Qlo\\_c & Qhi\\_c & sigo\\_c & sigolo\\_c & sigohi\\_c \\\\\n",
      "\\midrule\n",
      "\\textbf{-50.0} &   0.53 &  0.004 &  0.004 &  0.118 &  0.006 &  0.006 &  0.96 &  0.03 &  0.02 &  3.19 &   0.46 &   0.65 &  0.526 &  0.004 &  0.004 &   0.128 &   0.005 &   0.005 &  0.97 &  0.02 &  0.01 &   3.29 &     0.55 &     0.81 \\\\\n",
      "\\textbf{-40.0} &  0.516 &  0.004 &  0.004 &  0.117 &  0.006 &  0.005 &  0.96 &  0.03 &  0.02 &  3.18 &   0.46 &   0.65 &   0.51 &  0.004 &  0.004 &   0.127 &   0.005 &   0.005 &  0.97 &  0.02 &  0.01 &   3.31 &     0.55 &      0.8 \\\\\n",
      "\\textbf{-30.0} &  0.501 &  0.004 &  0.004 &  0.116 &  0.006 &  0.006 &  0.96 &  0.03 &  0.02 &  3.19 &   0.45 &   0.62 &  0.495 &  0.004 &  0.004 &   0.127 &   0.005 &   0.005 &  0.97 &  0.02 &  0.01 &   3.29 &     0.54 &     0.76 \\\\\n",
      "\\textbf{-20.0} &  0.486 &  0.004 &  0.004 &  0.116 &  0.006 &  0.006 &  0.96 &  0.03 &  0.02 &  3.19 &   0.47 &   0.65 &  0.479 &  0.004 &  0.004 &   0.126 &   0.005 &   0.005 &  0.97 &  0.02 &  0.01 &   3.28 &     0.54 &     0.77 \\\\\n",
      "\\textbf{-10.0} &  0.472 &  0.004 &  0.004 &  0.115 &  0.006 &  0.006 &  0.96 &  0.03 &  0.02 &  3.19 &   0.45 &   0.63 &  0.464 &  0.004 &  0.004 &   0.126 &   0.005 &   0.005 &  0.97 &  0.02 &  0.01 &   3.29 &     0.55 &     0.74 \\\\\n",
      "\\textbf{0.0  } &  0.457 &  0.004 &  0.004 &  0.114 &  0.006 &  0.006 &  0.96 &  0.03 &  0.02 &   3.2 &   0.45 &   0.64 &  0.449 &  0.004 &  0.004 &   0.125 &   0.005 &   0.005 &  0.97 &  0.02 &  0.01 &   3.27 &     0.53 &     0.79 \\\\\n",
      "\\textbf{10.0 } &  0.443 &  0.004 &  0.004 &  0.113 &  0.006 &  0.006 &  0.95 &  0.03 &  0.02 &  3.17 &   0.44 &   0.63 &  0.434 &  0.004 &  0.004 &   0.124 &   0.006 &   0.005 &  0.97 &  0.02 &  0.01 &   3.25 &     0.52 &      0.8 \\\\\n",
      "\\textbf{20.0 } &  0.429 &  0.004 &  0.004 &  0.113 &  0.006 &  0.006 &  0.96 &  0.03 &  0.02 &  3.21 &   0.44 &   0.62 &  0.419 &  0.004 &  0.004 &   0.124 &   0.006 &   0.005 &  0.97 &  0.02 &  0.01 &   3.25 &     0.53 &     0.73 \\\\\n",
      "\\textbf{30.0 } &  0.414 &  0.004 &  0.004 &  0.112 &  0.006 &  0.006 &  0.95 &  0.03 &  0.02 &  3.18 &   0.43 &   0.61 &  0.404 &  0.004 &  0.004 &   0.123 &   0.006 &   0.005 &  0.97 &  0.02 &  0.01 &   3.25 &     0.54 &     0.72 \\\\\n",
      "\\textbf{40.0 } &    0.4 &  0.004 &  0.004 &  0.112 &  0.006 &  0.006 &  0.95 &  0.03 &  0.02 &  3.19 &   0.44 &   0.59 &  0.389 &  0.004 &  0.004 &   0.122 &   0.005 &   0.005 &  0.97 &  0.02 &  0.02 &   3.24 &      0.5 &     0.72 \\\\\n",
      "\\textbf{50.0 } &  0.386 &  0.004 &  0.004 &  0.111 &  0.006 &  0.006 &  0.95 &  0.03 &  0.02 &   3.2 &   0.43 &   0.57 &  0.375 &  0.004 &  0.004 &   0.122 &   0.005 &   0.006 &  0.97 &  0.02 &  0.01 &   3.25 &     0.51 &     0.71 \\\\\n",
      "\\bottomrule\n",
      "\\end{tabular}\n",
      "\n"
     ]
    }
   ],
   "source": [
    "print(get_table(mlk[:2], 'astero').to_latex(bold_rows=True))\n",
    "print(get_table(mlk[2:], 'astero').to_latex(bold_rows=True))\n",
    "print(get_table(mlg[:2], 'astero').to_latex(bold_rows=True))\n",
    "print(get_table(mlg[2:], 'astero').to_latex(bold_rows=True))"
   ]
  },
  {
   "cell_type": "markdown",
   "metadata": {},
   "source": [
    "# Gaia runs"
   ]
  },
  {
   "cell_type": "code",
   "execution_count": 6,
   "metadata": {},
   "outputs": [],
   "source": [
    "mlk = ['Gaia_K_tempscale_Clump','Gaia_APOKASC_K_tempscale_Clump']\n",
    "mlg = ['Gaia_GAIA_tempscale_Clump', 'Gaia_APOKASC_GAIA_tempscale_Clump']"
   ]
  },
  {
   "cell_type": "code",
   "execution_count": 8,
   "metadata": {
    "scrolled": true
   },
   "outputs": [
    {
     "name": "stdout",
     "output_type": "stream",
     "text": [
      "\n",
      "Gaia K tempscale Clump\n",
      "\n",
      "\\begin{tabular}{lllllllllllllllllll}\n",
      "\\toprule\n",
      "{} &     mu &   mulo &   muhi &  sigma &  siglo &  sighi &     Q &   Qlo &   Qhi &  sigo & sigolo & sigohi &       L &    Llo &    Lhi &   oozp & oozplo & oozphi \\\\\n",
      "\\midrule\n",
      "\\textbf{-50.0} &  -1.71 &  0.002 &  0.002 &  0.041 &  0.003 &  0.003 &  0.58 &  0.05 &  0.05 &  5.49 &   0.47 &   0.52 &  908.63 &  15.89 &  16.55 & -24.09 &  12.76 &  12.84 \\\\\n",
      "\\textbf{0.0  } & -1.737 &  0.002 &  0.002 &   0.04 &  0.003 &  0.003 &  0.55 &  0.03 &  0.05 &  5.61 &   0.47 &    0.5 &  920.12 &  16.61 &  17.18 &  -19.5 &  12.46 &   12.4 \\\\\n",
      "\\textbf{50.0 } & -1.764 &  0.002 &  0.002 &  0.041 &  0.003 &  0.004 &  0.53 &  0.02 &  0.04 &   5.5 &   0.48 &    0.5 &  930.95 &  16.83 &  18.07 & -14.81 &  12.98 &  12.57 \\\\\n",
      "\\bottomrule\n",
      "\\end{tabular}\n",
      "\n",
      "\n",
      "Gaia GAIA tempscale Clump\n",
      "\n",
      "\\begin{tabular}{lllllllllllllllllll}\n",
      "\\toprule\n",
      "{} &     mu &   mulo &   muhi &  sigma &  siglo &  sighi &     Q &   Qlo &   Qhi &  sigo & sigolo & sigohi &        L &    Llo &    Lhi &   oozp & oozplo & oozphi \\\\\n",
      "\\midrule\n",
      "\\textbf{-50.0} &  0.346 &  0.003 &  0.003 &   0.19 &  0.003 &  0.003 &  0.97 &  0.02 &  0.01 &   3.1 &    0.7 &   0.79 &   948.41 &  17.96 &  18.15 &  -9.96 &  13.18 &   13.1 \\\\\n",
      "\\textbf{0.0  } &  0.277 &  0.003 &  0.003 &  0.188 &  0.004 &  0.003 &  0.95 &  0.05 &  0.02 &  2.64 &   0.63 &   0.77 &    978.9 &  17.46 &  18.35 &   1.14 &  12.81 &   12.8 \\\\\n",
      "\\textbf{50.0 } &  0.209 &  0.003 &  0.003 &  0.184 &  0.004 &  0.004 &  0.74 &  0.13 &  0.12 &  1.71 &    0.2 &   0.36 &  1008.77 &  18.48 &  18.85 &  10.76 &  13.21 &  13.13 \\\\\n",
      "\\bottomrule\n",
      "\\end{tabular}\n",
      "\n"
     ]
    }
   ],
   "source": [
    "print(get_table(mlk[0], 'gaia').to_latex(bold_rows=True))\n",
    "# print(get_table(mlk[1], 'gaia').to_latex(bold_rows=True))\n",
    "print(get_table(mlg[0], 'gaia').to_latex(bold_rows=True))\n",
    "# print(get_table(mlg[1], 'gaia').to_latex(bold_rows=True))"
   ]
  },
  {
   "cell_type": "code",
   "execution_count": 32,
   "metadata": {},
   "outputs": [
    {
     "name": "stdout",
     "output_type": "stream",
     "text": [
      "Gaia_K_tempscale_Clump\n"
     ]
    }
   ],
   "source": [
    "for ml in [mlk[0]]:\n",
    "    print ml"
   ]
  },
  {
   "cell_type": "markdown",
   "metadata": {},
   "source": [
    "# Parallax runs"
   ]
  },
  {
   "cell_type": "code",
   "execution_count": 36,
   "metadata": {},
   "outputs": [],
   "source": [
    "oozps = pd.DataFrame(index=['Lindegren','Zinn','Riess','Sahlholdt','Stassun','Hawkins','Uninformed'],\n",
    "                     columns=['mu','spread'])\n",
    "oozps.loc['Lindegren']['mu'] = -29.\n",
    "oozps.loc['Lindegren']['spread'] = 1.\n",
    "oozps.loc['Zinn']['mu'] = -52.8\n",
    "oozps.loc['Zinn']['spread'] = 3.4\n",
    "oozps.loc['Riess']['mu'] = -46.\n",
    "oozps.loc['Riess']['spread'] = 13.\n",
    "oozps.loc['Sahlholdt']['mu'] = -35.\n",
    "oozps.loc['Sahlholdt']['spread'] = 16.\n",
    "oozps.loc['Stassun']['mu'] = -82.\n",
    "oozps.loc['Stassun']['spread'] = 33.\n",
    "oozps.loc['Hawkins']['mu'] = 0.\n",
    "oozps.loc['Hawkins']['spread'] = 1.\n",
    "oozps.loc['Uninformed']['mu'] = 0.\n",
    "oozps.loc['Uninformed']['spread'] = 1000.\n",
    "# oozps.loc['Khan']['mu'] = -47.02\n",
    "# oozps.loc['Khan']['spread'] = 0.80"
   ]
  },
  {
   "cell_type": "code",
   "execution_count": 37,
   "metadata": {},
   "outputs": [
    {
     "name": "stdout",
     "output_type": "stream",
     "text": [
      "\\mathcal{N}(-29.0,1.0)\n"
     ]
    }
   ],
   "source": [
    "ind = oozps.index.values\n",
    "a = oozps.loc['Lindegren']['mu']\n",
    "b = oozps.loc['Lindegren']['spread']\n",
    "print(\"\\mathcal{N}(\"+str(a)+','+str(b)+\")\")"
   ]
  },
  {
   "cell_type": "code",
   "execution_count": 44,
   "metadata": {},
   "outputs": [],
   "source": [
    "def get_table_plx(oozps, band):\n",
    "    labels=['prior','mu','mulo','muhi','sigma','siglo','sighi',\n",
    "        'Q','Qlo','Qhi','sigo','sigolo','sigohi',\n",
    "        'L', 'Llo', 'Lhi', 'oozp', 'oozplo','oozphi']\n",
    "    indices = oozps.index.values\n",
    "    df = pd.DataFrame(columns=labels, index=indices)\n",
    "\n",
    "    for idx in indices:\n",
    "        sfile = glob.glob(__outdir__+'Parallax_Runs/'+band+'_'+idx+'_chains.txt')\n",
    "        chain = np.genfromtxt(sfile[0])\n",
    "        df.loc[idx]['prior'] = \"\\mathcal{N}(\"+str(oozps.loc[idx]['mu'])+' , '+str(oozps.loc[idx]['spread'])+\")\"\n",
    "        for lis in np.arange(1, len(labels), 3):\n",
    "            if lis >= 6:\n",
    "                rnd = 2\n",
    "            else:\n",
    "                rnd = 3\n",
    "            df.loc[idx][labels[lis]] = np.round(np.median(chain[lis/3]), rnd)\n",
    "            df.loc[idx][labels[lis+1]] = np.round(np.median(chain[lis/3]) - np.percentile(chain[lis/3], [15.9])[0],rnd)\n",
    "            df.loc[idx][labels[lis+2]] = np.round(np.percentile(chain[lis/3], [84.1])[0] - np.median(chain[lis/3]),rnd)\n",
    "    return df"
   ]
  },
  {
   "cell_type": "code",
   "execution_count": 49,
   "metadata": {},
   "outputs": [
    {
     "data": {
      "text/plain": [
       "u'\\\\begin{tabular}{llllllllllllllllllll}\\n\\\\toprule\\n{} &                      prior &     mu &   mulo &   muhi &  sigma &  siglo &  sighi &     Q &   Qlo &   Qhi &  sigo & sigolo & sigohi &       L &    Llo &    Lhi &   oozp & oozplo & oozphi \\\\\\\\\\n\\\\midrule\\nLindegren  &   \\\\textbackslashmathcal\\\\{N\\\\}(-29.0 , 1.0) &  0.477 &  0.038 &  0.037 &  0.103 &  0.025 &  0.023 &  0.89 &  0.16 &  0.08 &  2.64 &   0.82 &   0.91 &  844.98 &  48.87 &  54.51 &    -29 &      1 &   1.03 \\\\\\\\\\nZinn       &   \\\\textbackslashmathcal\\\\{N\\\\}(-52.8 , 3.4) &  0.506 &  0.039 &  0.039 &  0.102 &  0.026 &  0.023 &  0.88 &  0.17 &  0.09 &  2.65 &   0.85 &   0.94 &  833.56 &  49.48 &  53.51 & -51.68 &   3.32 &    3.3 \\\\\\\\\\nRiess      &  \\\\textbackslashmathcal\\\\{N\\\\}(-46.0 , 13.0) &   0.49 &  0.042 &  0.043 &  0.103 &  0.027 &  0.023 &  0.89 &  0.16 &  0.09 &  2.65 &   0.86 &   0.95 &  839.97 &  48.52 &  54.02 & -38.79 &  10.01 &   9.94 \\\\\\\\\\nSahlholdt  &  \\\\textbackslashmathcal\\\\{N\\\\}(-35.0 , 16.0) &   0.48 &  0.041 &   0.04 &  0.103 &  0.025 &  0.022 &  0.89 &  0.16 &  0.08 &  2.63 &   0.83 &    0.9 &  842.87 &  46.93 &  54.04 & -31.61 &  10.66 &  11.22 \\\\\\\\\\nStassun    &  \\\\textbackslashmathcal\\\\{N\\\\}(-82.0 , 33.0) &   0.49 &  0.045 &  0.043 &  0.103 &  0.027 &  0.022 &  0.89 &  0.17 &  0.08 &  2.63 &   0.83 &   0.93 &  840.13 &     50 &  53.59 & -38.41 &  14.51 &  14.83 \\\\\\\\\\nHawkins    &     \\\\textbackslashmathcal\\\\{N\\\\}(0.0 , 1.0) &  0.439 &  0.039 &  0.037 &  0.106 &  0.025 &  0.022 &   0.9 &  0.16 &  0.08 &   2.6 &   0.86 &   0.97 &  861.66 &  49.97 &  53.79 &  -0.11 &   0.96 &   0.98 \\\\\\\\\\nUninformed &  \\\\textbackslashmathcal\\\\{N\\\\}(0.0 , 1000.0) &  0.476 &  0.042 &  0.044 &  0.103 &  0.027 &  0.023 &  0.89 &  0.17 &  0.08 &  2.65 &   0.83 &   0.95 &  845.12 &  50.01 &  54.66 & -28.54 &   15.4 &  15.45 \\\\\\\\\\n\\\\bottomrule\\n\\\\end{tabular}\\n'"
      ]
     },
     "execution_count": 49,
     "metadata": {},
     "output_type": "execute_result"
    }
   ],
   "source": [
    "get_table_plx(oozps, band='K').to_latex()\n",
    "get_table_plx(oozps, band='GAIA').to_latex()"
   ]
  },
  {
   "cell_type": "code",
   "execution_count": 29,
   "metadata": {},
   "outputs": [
    {
     "data": {
      "text/plain": [
       "'/home/oliver/PhD/Gaia_Project/Output/Parallax_Runs/K_Stassun_chains.txt'"
      ]
     },
     "execution_count": 29,
     "metadata": {},
     "output_type": "execute_result"
    }
   ],
   "source": [
    "__outdir__+'Parallax_Runs/'+band+'_'+idx+'_chains.txt'"
   ]
  },
  {
   "cell_type": "code",
   "execution_count": null,
   "metadata": {},
   "outputs": [],
   "source": []
  }
 ],
 "metadata": {
  "kernelspec": {
   "display_name": "Python 2",
   "language": "python",
   "name": "python2"
  },
  "language_info": {
   "codemirror_mode": {
    "name": "ipython",
    "version": 2
   },
   "file_extension": ".py",
   "mimetype": "text/x-python",
   "name": "python",
   "nbconvert_exporter": "python",
   "pygments_lexer": "ipython2",
   "version": "2.7.15rc1"
  }
 },
 "nbformat": 4,
 "nbformat_minor": 2
}
