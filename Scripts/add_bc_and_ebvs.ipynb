{
 "cells": [
  {
   "cell_type": "code",
   "execution_count": 1,
   "metadata": {},
   "outputs": [
    {
     "name": "stderr",
     "output_type": "stream",
     "text": [
      "/usr/local/lib/python2.7/dist-packages/h5py/__init__.py:36: FutureWarning: Conversion of the second argument of issubdtype from `float` to `np.floating` is deprecated. In future, it will be treated as `np.float64 == np.dtype(float).type`.\n",
      "  from ._conv import register_converters as _register_converters\n"
     ]
    }
   ],
   "source": [
    "import omnitool\n",
    "from omnitool.literature_values import *\n",
    "from omnitool import spyglass\n",
    "\n",
    "import numpy as np\n",
    "import pandas as pd\n",
    "import matplotlib.pyplot as plt\n",
    "import seaborn as sns"
   ]
  },
  {
   "cell_type": "code",
   "execution_count": 2,
   "metadata": {},
   "outputs": [],
   "source": [
    "def bolocorrs(df, Teff, logg, Z):\n",
    "    #Now lets call the bolometric correction class\n",
    "    get_bc = omnitool.bolometric_correction(Teff,\\\n",
    "                                            logg,\\\n",
    "                                            Z)\n",
    "\n",
    "    #Now lets calculate the bolometric correction for the relevant bands\n",
    "    try:\n",
    "        df['bc_Ks'] = get_bc(band='Ks')\n",
    "    except:\n",
    "        print('Ks didnt work?')\n",
    "        pass\n",
    "\n",
    "    try:\n",
    "        df['bc_J'] = get_bc(band='J')\n",
    "    except:\n",
    "        print('J didnt work?')\n",
    "        pass\n",
    "\n",
    "    try:\n",
    "        df['bc_B'] = get_bc(band='B')\n",
    "    except:\n",
    "        print('B didnt work?')\n",
    "        pass\n",
    "\n",
    "    try:\n",
    "        df['bc_V'] = get_bc(band='V')\n",
    "    except:\n",
    "        print('V didnt work?')\n",
    "        pass\n",
    "\n",
    "    try:\n",
    "        df['bc_R'] = get_bc(band='R')\n",
    "    except:\n",
    "        print('R didnt work?')\n",
    "        pass\n",
    "\n",
    "    try:\n",
    "        df['bc_I'] = get_bc(band='I')\n",
    "    except:\n",
    "        print('I didnt work?')\n",
    "        pass\n",
    "\n",
    "    try:\n",
    "        df['bc_H'] = get_bc(band='H')\n",
    "    except:\n",
    "        print('H didnt work?')\n",
    "        pass\n",
    "    \n",
    "    \n",
    "    try:\n",
    "        df['bc_Gaia'] = get_bc(band='Gaia')\n",
    "    except:\n",
    "        print('Gaia didnt work?')\n",
    "        pass\n",
    "\n",
    "    try:\n",
    "        df['bc_W1'] = get_bc(band='W1')\n",
    "    except:\n",
    "        print('W1 didnt work?')\n",
    "        pass\n",
    "\n",
    "    try:\n",
    "        df['bc_W2'] = get_bc(band='W2')\n",
    "    except:\n",
    "        print('W2 didnt work?')\n",
    "        pass\n",
    "\n",
    "    try:\n",
    "        df['bc_W3'] = get_bc(band='W3')\n",
    "    except:\n",
    "        print('W3 didnt work?')\n",
    "        pass\n",
    "\n",
    "    try:\n",
    "        df['bc_W4'] = get_bc(band='W4')\n",
    "    except:\n",
    "        print('W4 didnt work?')\n",
    "        pass\n",
    "    return df"
   ]
  },
  {
   "cell_type": "code",
   "execution_count": 3,
   "metadata": {},
   "outputs": [],
   "source": [
    "def reddenings(df, ra, dec, parallax, frame='icrs'):\n",
    "    sg = spyglass()\n",
    "    sg.pass_parallax(parallax)\n",
    "    sg.pass_position(ra, dec, frame=frame)\n",
    "    \n",
    "    df['E(b-v)'] = sg.get_Ebv()\n",
    "    return df"
   ]
  },
  {
   "cell_type": "code",
   "execution_count": 4,
   "metadata": {},
   "outputs": [],
   "source": [
    "'''APOKASC'''\n",
    "apokasc = pd.read_csv('APOKASC/APOKASC_cat_v3.6.5_DR2.csv')\n",
    "apokasc['Z_APOKASC'] = Zsol * 10 **(apokasc.FE_H_ADOP_COR.values)"
   ]
  },
  {
   "cell_type": "code",
   "execution_count": 5,
   "metadata": {},
   "outputs": [
    {
     "name": "stdout",
     "output_type": "stream",
     "text": [
      "Are you 100% certain that (all) parallax(es) is/are in units of milliarcsec?\n"
     ]
    }
   ],
   "source": [
    "apokasc = reddenings(apokasc, apokasc.ra_gaia, apokasc.dec_gaia, apokasc.parallax)"
   ]
  },
  {
   "cell_type": "code",
   "execution_count": 6,
   "metadata": {},
   "outputs": [
    {
     "name": "stderr",
     "output_type": "stream",
     "text": [
      "/usr/local/lib/python2.7/dist-packages/omnitool-0.3-py2.7.egg/omnitool/bolocorr_tools.py:39: RuntimeWarning: invalid value encountered in log10\n",
      "  logteff = np.log10(self.Teff)\n",
      "/usr/local/lib/python2.7/dist-packages/pystellibs-0.1-py2.7.egg/pystellibs/stellib.py:299: RuntimeWarning: divide by zero encountered in log10\n",
      "  logZ = np.log10(Z)\n",
      "100%|██████████| 13512/13512 [00:08<00:00, 1651.68it/s]\n",
      "100%|██████████| 13512/13512 [00:07<00:00, 1779.69it/s]\n",
      "100%|██████████| 13512/13512 [00:07<00:00, 1775.68it/s]\n",
      "100%|██████████| 13512/13512 [00:07<00:00, 1770.63it/s]\n"
     ]
    },
    {
     "name": "stdout",
     "output_type": "stream",
     "text": [
      "Downloading ftp://ftp.stsci.edu/cdbs/comp/nonhst/cousins_r_004_syn.fits [Done]\n"
     ]
    },
    {
     "name": "stderr",
     "output_type": "stream",
     "text": [
      "100%|██████████| 13512/13512 [00:07<00:00, 1762.51it/s]\n"
     ]
    },
    {
     "name": "stdout",
     "output_type": "stream",
     "text": [
      "Downloading ftp://ftp.stsci.edu/cdbs/comp/nonhst/cousins_i_004_syn.fits [Done]\n"
     ]
    },
    {
     "name": "stderr",
     "output_type": "stream",
     "text": [
      "100%|██████████| 13512/13512 [00:07<00:00, 1781.87it/s]\n",
      "100%|██████████| 13512/13512 [00:07<00:00, 1759.75it/s]\n",
      "100%|██████████| 13512/13512 [00:02<00:00, 5889.71it/s]\n",
      "100%|██████████| 13512/13512 [00:02<00:00, 5980.07it/s]\n",
      "100%|██████████| 13512/13512 [00:02<00:00, 5585.61it/s]\n",
      "/usr/local/lib/python2.7/dist-packages/omnitool-0.3-py2.7.egg/omnitool/bolocorr_tools.py:128: RuntimeWarning: invalid value encountered in log10\n",
      "  C = Mbolsol - Mbandsol[self.band].values - 2.5*np.log10(slfl/fl)\n",
      "/usr/local/lib/python2.7/dist-packages/omnitool-0.3-py2.7.egg/omnitool/bolocorr_tools.py:138: RuntimeWarning: invalid value encountered in log10\n",
      "  BC = 2.5*np.log10(slfl/fl) + C\n",
      "100%|██████████| 13512/13512 [00:02<00:00, 5398.33it/s]\n",
      "100%|██████████| 13512/13512 [00:02<00:00, 5605.12it/s]\n"
     ]
    }
   ],
   "source": [
    "apokasc = bolocorrs(apokasc, apokasc.TEFF_COR_POST.values, apokasc.LOGG_COR_POST.values, apokasc.Z_APOKASC.values)"
   ]
  },
  {
   "cell_type": "code",
   "execution_count": 7,
   "metadata": {},
   "outputs": [],
   "source": [
    "apokasc.to_csv('APOKASC/APOKASC_cat_v3.6.5_DR2_+.csv')"
   ]
  },
  {
   "cell_type": "code",
   "execution_count": 8,
   "metadata": {},
   "outputs": [],
   "source": [
    "'''Ben'''\n",
    "ben= pd.read_csv('Ben/GAP_Gaia_DR2.csv')\n",
    "ben['Z'] = Zsol * 10 **(ben['[Fe/H]'].values)"
   ]
  },
  {
   "cell_type": "code",
   "execution_count": 9,
   "metadata": {},
   "outputs": [
    {
     "name": "stdout",
     "output_type": "stream",
     "text": [
      "Are you 100% certain that (all) parallax(es) is/are in units of milliarcsec?\n"
     ]
    },
    {
     "name": "stderr",
     "output_type": "stream",
     "text": [
      "/usr/local/lib/python2.7/dist-packages/omnitool-0.3-py2.7.egg/omnitool/spyglass.py:99: RuntimeWarning: divide by zero encountered in divide\n",
      "  distance=(1000/self.oo.values)*units.pc,frame=self.frame)\n"
     ]
    }
   ],
   "source": [
    "ben = reddenings(ben, ben.ra_gaia, ben.dec_gaia, ben.parallax)"
   ]
  },
  {
   "cell_type": "code",
   "execution_count": 10,
   "metadata": {},
   "outputs": [
    {
     "name": "stderr",
     "output_type": "stream",
     "text": [
      "100%|██████████| 12769/12769 [00:07<00:00, 1747.94it/s]\n",
      "100%|██████████| 12769/12769 [00:07<00:00, 1746.30it/s]\n",
      "100%|██████████| 12769/12769 [00:07<00:00, 1755.64it/s]\n",
      "100%|██████████| 12769/12769 [00:07<00:00, 1736.48it/s]\n",
      "100%|██████████| 12769/12769 [00:07<00:00, 1744.88it/s]\n",
      "100%|██████████| 12769/12769 [00:07<00:00, 1708.75it/s]\n",
      "100%|██████████| 12769/12769 [00:07<00:00, 1637.29it/s]\n",
      "100%|██████████| 12769/12769 [00:02<00:00, 6052.91it/s]\n",
      "100%|██████████| 12769/12769 [00:02<00:00, 5975.86it/s]\n",
      "100%|██████████| 12769/12769 [00:02<00:00, 5901.07it/s]\n",
      "100%|██████████| 12769/12769 [00:02<00:00, 5651.49it/s]\n",
      "100%|██████████| 12769/12769 [00:02<00:00, 5726.15it/s]\n"
     ]
    }
   ],
   "source": [
    "ben = bolocorrs(ben, ben.Teff.values, ben.logg.values, ben.Z.values)"
   ]
  },
  {
   "cell_type": "code",
   "execution_count": 11,
   "metadata": {},
   "outputs": [],
   "source": [
    "ben.to_csv('Ben/GAP_Gaia_DR2_+.csv')"
   ]
  },
  {
   "cell_type": "code",
   "execution_count": 12,
   "metadata": {},
   "outputs": [],
   "source": [
    "'''Tom 1 & 2'''\n",
    "tom1 = pd.read_csv('Tom/good_short_cadence_kepler_tgts_DR2.csv')\n",
    "tom2 = pd.read_csv('Tom/interestingKOIs_DR2.csv')\n",
    "tom3 = pd.read_csv('Tom/North2017RetAstars_DR2.csv')\n",
    "tom4 = pd.read_csv('Tom/saniya_retired_A_stars_DR2.csv')\n",
    "tom5 = pd.read_csv('Tom/song_survey_hip_L_DR2.csv')\n",
    "\n",
    "tom1['Z'] = Zsol * 10 **(tom1.MH.values)\n",
    "tom2['Z'] = Zsol * 10 **(tom2.MH.values)\n",
    "tom3['Z'] = Zsol * 10 **(tom3.spec_feh.values)\n",
    "tom4['Z'] = Zsol * 10 **(tom4['[Fe/H]'].values)\n",
    "tom5['Z'] = Zsol * 10 **(tom5.MH.values)"
   ]
  },
  {
   "cell_type": "code",
   "execution_count": 13,
   "metadata": {},
   "outputs": [
    {
     "name": "stderr",
     "output_type": "stream",
     "text": [
      "100%|██████████| 586/586 [00:00<00:00, 1702.30it/s]\n",
      "100%|██████████| 586/586 [00:00<00:00, 1731.22it/s]\n",
      "100%|██████████| 586/586 [00:00<00:00, 1702.72it/s]\n",
      "100%|██████████| 586/586 [00:00<00:00, 1407.58it/s]\n",
      "100%|██████████| 586/586 [00:00<00:00, 1712.45it/s]\n",
      "100%|██████████| 586/586 [00:00<00:00, 1726.99it/s]\n",
      "100%|██████████| 586/586 [00:00<00:00, 1716.84it/s]\n",
      "100%|██████████| 586/586 [00:00<00:00, 6028.62it/s]\n",
      "100%|██████████| 586/586 [00:00<00:00, 6001.02it/s]\n",
      "100%|██████████| 586/586 [00:00<00:00, 5858.96it/s]\n",
      "100%|██████████| 586/586 [00:00<00:00, 5615.88it/s]\n",
      "100%|██████████| 586/586 [00:00<00:00, 5655.38it/s]\n",
      "100%|██████████| 2/2 [00:00<00:00, 1299.55it/s]\n",
      "100%|██████████| 2/2 [00:00<00:00, 1339.61it/s]\n",
      "100%|██████████| 2/2 [00:00<00:00, 924.67it/s]\n",
      "100%|██████████| 2/2 [00:00<00:00, 794.30it/s]\n",
      "100%|██████████| 2/2 [00:00<00:00, 1103.76it/s]\n",
      "100%|██████████| 2/2 [00:00<00:00, 1226.23it/s]\n",
      "100%|██████████| 2/2 [00:00<00:00, 1288.77it/s]\n",
      "100%|██████████| 2/2 [00:00<00:00, 2512.31it/s]\n",
      "100%|██████████| 2/2 [00:00<00:00, 3020.74it/s]\n",
      "100%|██████████| 2/2 [00:00<00:00, 2849.39it/s]\n",
      "100%|██████████| 2/2 [00:00<00:00, 3043.76it/s]\n",
      "100%|██████████| 2/2 [00:00<00:00, 2580.32it/s]\n",
      "100%|██████████| 6/6 [00:00<00:00, 1274.15it/s]\n",
      "100%|██████████| 6/6 [00:00<00:00, 1399.58it/s]\n",
      "100%|██████████| 6/6 [00:00<00:00, 1414.76it/s]\n",
      "100%|██████████| 6/6 [00:00<00:00, 1165.25it/s]\n",
      "100%|██████████| 6/6 [00:00<00:00, 1184.39it/s]\n",
      "100%|██████████| 6/6 [00:00<00:00, 1315.24it/s]\n",
      "100%|██████████| 6/6 [00:00<00:00, 1011.45it/s]\n",
      "100%|██████████| 6/6 [00:00<00:00, 4579.77it/s]\n",
      "100%|██████████| 6/6 [00:00<00:00, 2620.08it/s]\n",
      "100%|██████████| 6/6 [00:00<00:00, 3236.35it/s]\n",
      "100%|██████████| 6/6 [00:00<00:00, 3034.95it/s]\n",
      "100%|██████████| 6/6 [00:00<00:00, 3338.97it/s]\n",
      "100%|██████████| 602/602 [00:00<00:00, 1477.06it/s]\n",
      "100%|██████████| 602/602 [00:00<00:00, 1698.79it/s]\n",
      "100%|██████████| 602/602 [00:00<00:00, 1704.02it/s]\n",
      "100%|██████████| 602/602 [00:00<00:00, 1709.81it/s]\n",
      "100%|██████████| 602/602 [00:00<00:00, 1606.63it/s]\n",
      "100%|██████████| 602/602 [00:00<00:00, 1710.56it/s]\n",
      "100%|██████████| 602/602 [00:00<00:00, 1584.01it/s]\n",
      "100%|██████████| 602/602 [00:00<00:00, 6015.26it/s]\n",
      "100%|██████████| 602/602 [00:00<00:00, 5895.08it/s]\n",
      "100%|██████████| 602/602 [00:00<00:00, 5766.72it/s]\n",
      "100%|██████████| 602/602 [00:00<00:00, 5731.25it/s]\n",
      "100%|██████████| 602/602 [00:00<00:00, 5610.06it/s]\n",
      "100%|██████████| 84/84 [00:00<00:00, 1584.25it/s]\n",
      "100%|██████████| 84/84 [00:00<00:00, 1384.61it/s]\n",
      "100%|██████████| 84/84 [00:00<00:00, 1366.65it/s]\n",
      "100%|██████████| 84/84 [00:00<00:00, 1627.06it/s]\n",
      "100%|██████████| 84/84 [00:00<00:00, 1615.41it/s]\n",
      "100%|██████████| 84/84 [00:00<00:00, 1633.39it/s]\n",
      "100%|██████████| 84/84 [00:00<00:00, 1679.70it/s]\n",
      "100%|██████████| 84/84 [00:00<00:00, 5882.71it/s]\n",
      "100%|██████████| 84/84 [00:00<00:00, 5402.63it/s]\n",
      "100%|██████████| 84/84 [00:00<00:00, 5203.47it/s]\n",
      "100%|██████████| 84/84 [00:00<00:00, 5675.28it/s]\n",
      "100%|██████████| 84/84 [00:00<00:00, 5324.57it/s]\n"
     ]
    }
   ],
   "source": [
    "tom1 = bolocorrs(tom1, tom1.teff_x.values, tom1.logg_x.values, tom1.Z.values)\n",
    "tom2 = bolocorrs(tom2, tom2.Teff.values, tom2.logg_x.values, tom2.Z.values)\n",
    "tom3 = bolocorrs(tom3, tom3.Teff.values, tom3.spec_logg.values, tom3.Z.values)\n",
    "tom4 = bolocorrs(tom4, tom4.Teff.values, tom4.logg.values, tom4.Z.values)\n",
    "tom5 = bolocorrs(tom5, tom5.Teff.values, tom5.logg.values, tom5.Z.values)"
   ]
  },
  {
   "cell_type": "code",
   "execution_count": 14,
   "metadata": {},
   "outputs": [
    {
     "name": "stdout",
     "output_type": "stream",
     "text": [
      "Are you 100% certain that (all) parallax(es) is/are in units of milliarcsec?\n",
      "Are you 100% certain that (all) parallax(es) is/are in units of milliarcsec?\n",
      "Are you 100% certain that (all) parallax(es) is/are in units of milliarcsec?\n",
      "Are you 100% certain that (all) parallax(es) is/are in units of milliarcsec?\n"
     ]
    }
   ],
   "source": [
    "tom1 = reddenings(tom1, tom1.ra_gaia, tom1.dec_gaia, tom1.parallax)\n",
    "tom2 = reddenings(tom2, tom2.ra_gaia, tom2.dec_gaia, tom2.parallax)\n",
    "tom3 = reddenings(tom3, tom3.ra, tom3.dec, tom3.parallax)\n",
    "tom4 = reddenings(tom4, tom4.ra, tom4.dec, tom4.parallax)\n",
    "tom5 = reddenings(tom5, tom5.ra, tom5.dec, tom5.parallax)"
   ]
  },
  {
   "cell_type": "code",
   "execution_count": 15,
   "metadata": {},
   "outputs": [],
   "source": [
    "tom1.to_csv('Tom/good_short_cadence_kepler_tgts_DR2_+.csv')\n",
    "tom2.to_csv('Tom/interestingKOIs_DR2_+.csv')\n",
    "tom3.to_csv('Tom/North2017RetAstars_DR2_+.csv')\n",
    "tom4.to_csv('Tom/saniya_retired_A_stars_DR2_+.csv')\n",
    "tom5.to_csv('Tom/song_survey_hip_L_DR2_+.csv')"
   ]
  },
  {
   "cell_type": "code",
   "execution_count": 16,
   "metadata": {},
   "outputs": [],
   "source": [
    "warrick1 = pd.read_csv('Warrick/apokasc_all_DR2.csv')\n",
    "warrick2 = pd.read_csv('Warrick/chaplin_all_DR2.csv')\n",
    "\n",
    "warrick1['Z'] = Zsol * 10 **(warrick1['[M/H]_2'].values)\n",
    "warrick2['Z'] = Zsol * 10 **(warrick2['[Fe/H]_1'].values)"
   ]
  },
  {
   "cell_type": "code",
   "execution_count": 17,
   "metadata": {},
   "outputs": [
    {
     "name": "stderr",
     "output_type": "stream",
     "text": [
      "100%|██████████| 453/453 [00:00<00:00, 1729.12it/s]\n",
      "100%|██████████| 453/453 [00:00<00:00, 1762.06it/s]\n",
      "100%|██████████| 453/453 [00:00<00:00, 1753.90it/s]\n",
      "100%|██████████| 453/453 [00:00<00:00, 1765.71it/s]\n",
      "100%|██████████| 453/453 [00:00<00:00, 1587.66it/s]\n",
      "100%|██████████| 453/453 [00:00<00:00, 1781.49it/s]\n",
      "100%|██████████| 453/453 [00:00<00:00, 1662.08it/s]\n",
      "100%|██████████| 453/453 [00:00<00:00, 6029.15it/s]\n",
      "100%|██████████| 453/453 [00:00<00:00, 5616.16it/s]\n",
      "100%|██████████| 453/453 [00:00<00:00, 6003.51it/s]\n",
      "100%|██████████| 453/453 [00:00<00:00, 5660.60it/s]\n",
      "100%|██████████| 453/453 [00:00<00:00, 5687.75it/s]\n",
      "100%|██████████| 563/563 [00:00<00:00, 1733.66it/s]\n",
      "100%|██████████| 563/563 [00:00<00:00, 1731.84it/s]\n",
      "100%|██████████| 563/563 [00:00<00:00, 1759.72it/s]\n",
      "100%|██████████| 563/563 [00:00<00:00, 1718.96it/s]\n",
      "100%|██████████| 563/563 [00:00<00:00, 1708.09it/s]\n",
      "100%|██████████| 563/563 [00:00<00:00, 1718.02it/s]\n",
      "100%|██████████| 563/563 [00:00<00:00, 1709.67it/s]\n",
      "100%|██████████| 563/563 [00:00<00:00, 6049.08it/s]\n",
      "100%|██████████| 563/563 [00:00<00:00, 6007.70it/s]\n",
      "100%|██████████| 563/563 [00:00<00:00, 5963.42it/s]\n",
      "100%|██████████| 563/563 [00:00<00:00, 5484.23it/s]\n",
      "100%|██████████| 563/563 [00:00<00:00, 5715.79it/s]\n"
     ]
    }
   ],
   "source": [
    "warrick1 = bolocorrs(warrick1, warrick1.Teff_2.values, warrick1.logg_2.values, warrick1.Z.values)\n",
    "warrick2 = bolocorrs(warrick2, warrick2.Teff.values, warrick2['log(g)_3'].values, warrick2.Z.values)"
   ]
  },
  {
   "cell_type": "code",
   "execution_count": 18,
   "metadata": {},
   "outputs": [
    {
     "name": "stdout",
     "output_type": "stream",
     "text": [
      "Are you 100% certain that (all) parallax(es) is/are in units of milliarcsec?\n",
      "Are you 100% certain that (all) parallax(es) is/are in units of milliarcsec?\n"
     ]
    }
   ],
   "source": [
    "warrick1 = reddenings(warrick1, warrick1.ra_gaia, warrick1.dec_gaia, warrick1.parallax)\n",
    "warrick2 = reddenings(warrick2, warrick2.ra_gaia, warrick2.dec_gaia, warrick2.parallax)"
   ]
  },
  {
   "cell_type": "code",
   "execution_count": 19,
   "metadata": {},
   "outputs": [],
   "source": [
    "warrick1.to_csv('Warrick/apokasc_all_DR2_+.csv')\n",
    "warrick2.to_csv('Warrick/chaplin_all_DR2_+.csv')"
   ]
  },
  {
   "cell_type": "code",
   "execution_count": 23,
   "metadata": {},
   "outputs": [
    {
     "ename": "SystemExit",
     "evalue": "",
     "output_type": "error",
     "traceback": [
      "An exception has occurred, use %tb to see the full traceback.\n",
      "\u001b[0;31mSystemExit\u001b[0m\n"
     ]
    }
   ],
   "source": [
    "'''CODE GRAVEYARD'''\n",
    "import sys\n",
    "sys.exit()"
   ]
  },
  {
   "cell_type": "code",
   "execution_count": null,
   "metadata": {},
   "outputs": [],
   "source": [
    "get_bc = omnitool.bolometric_correction(np.array([Tsol,Tsol]), np.array([np.log10(gsol),np.log10(gsol)]), np.array([Zsol, Zsol]))\n",
    "BCG = get_bc(band='W1')"
   ]
  },
  {
   "cell_type": "code",
   "execution_count": null,
   "metadata": {},
   "outputs": [],
   "source": [
    "%pylab qt\n",
    "\n",
    "import numpy as np\n",
    "import pandas as pd\n",
    "import sys\n",
    "\n",
    "from omnitool.literature_values import *\n",
    "\n",
    "from astropy.table import Table\n",
    "from scipy import integrate\n",
    "from scipy import interpolate\n",
    "from pystellibs import Kurucz\n",
    "from synphot import SpectralElement\n",
    "\n",
    "from tqdm import tqdm\n",
    "\n",
    "Teff = np.array([Tsol,Tsol])\n",
    "logg = np.array([np.log10(gsol),np.log10(gsol)])\n",
    "Z = np.array([Zsol, Zsol])\n",
    "band='W2'\n",
    "\n",
    "datadir = '/home/oliver/PhD/Hacks_and_Mocks/omnitool/omnitool/data/'\n",
    "#get_band\n",
    "if band == 'W2':\n",
    "    df = np.genfromtxt(datadir+'/RSR-W2.txt').T\n",
    "    B = interpolate.interp1d(df[0]*1e5,df[1],fill_value='extrapolate',bounds_error=False)\n",
    "\n",
    "#get_spectra\n",
    "spect = Kurucz()\n",
    "logteff = np.log10(Teff)\n",
    "logg = logg\n",
    "logL = np.zeros(logg.shape)\n",
    "Z = Z\n",
    "ap = (logteff, logg, logL, Z)\n",
    "ap = Table(ap, names=('logT','logg','logL','Z'))\n",
    "_, spectra = spect.generate_individual_spectra(ap)\n",
    "spectra = np.array(spectra)\n",
    "\n",
    "plt.figure()\n",
    "plt.scatter(spect._wavelength, spectra[0])\n",
    "plt.scatter(spect._wavelength, B(spect._wavelength)*spectra[0])\n",
    "plt.scatter(df[0]*1e5, df[1]*spectra[0].max())\n",
    "plt.xscale('log')\n",
    "plt.show()\n",
    "\n",
    "#calculate bolocorr\n",
    "##integrate_spectra()\n",
    "fl = np.zeros(len(Teff))\n",
    "slfl = np.zeros(len(Teff))\n",
    "for idx in tqdm(range(len(Teff))):\n",
    "    fl[idx] = integrate.simps(spectra[idx], x=spect._wavelength)\n",
    "    slfl[idx] = integrate.simps(spectra[idx] * B(spect._wavelength), x=spect._wavelength)\n",
    "    if slfl[idx] < 0.:\n",
    "        slfl[idx] = 0.   \n",
    "    \n",
    "##Solve for C\n",
    "ap = (np.log10(Tsol), np.log10(gsol), np.log10(Lsol), Zsol)\n",
    "sb = spect.generate_stellar_spectrum(*ap)\n",
    "\n",
    "cfl = integrate.simps(sb, x=spect._wavelength)\n",
    "cslfl = integrate.simps(sb * B(spect._wavelength), x=spect._wavelength)\n",
    "\n",
    "C = Mbolsol - Mbandsol[band].values - 2.5*np.log10(cslfl/cfl)\n",
    "\n",
    "#<\n",
    "print(C)\n",
    "BC = 2.5*np.log10(slfl/fl) + C\n",
    "print(BC)\n",
    "    "
   ]
  },
  {
   "cell_type": "code",
   "execution_count": null,
   "metadata": {},
   "outputs": [],
   "source": [
    "'''First, lets test this on the sun'''\n",
    "sols = pd.DataFrame()\n",
    "sols = bolocorrs(sols, np.array([Tsol,Tsol]), np.array([np.log10(gsol),np.log10(gsol)]), np.array([Zsol, Zsol]))\n",
    "print(sols.head(10))"
   ]
  }
 ],
 "metadata": {
  "kernelspec": {
   "display_name": "Python 2",
   "language": "python",
   "name": "python2"
  },
  "language_info": {
   "codemirror_mode": {
    "name": "ipython",
    "version": 2
   },
   "file_extension": ".py",
   "mimetype": "text/x-python",
   "name": "python",
   "nbconvert_exporter": "python",
   "pygments_lexer": "ipython2",
   "version": "2.7.12"
  }
 },
 "nbformat": 4,
 "nbformat_minor": 2
}
