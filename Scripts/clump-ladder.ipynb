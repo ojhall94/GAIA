{
 "cells": [
  {
   "cell_type": "markdown",
   "metadata": {},
   "source": [
    "I want to write an equation that recreates the RC-as-a-distance-ladder precision value reported in Hawkins+17, and then do the calculation for the updated spread in $K$ for this work."
   ]
  },
  {
   "cell_type": "markdown",
   "metadata": {},
   "source": [
    "$m - M = 5log10(d) - 5 + A$\n",
    "\n",
    "Lets assume for these purposes that extinction is 0, or well known.\n",
    "Now, lets rearrange to solve for $d$.\n",
    "\n",
    "$d = 10^{(m - M + 5)/5}$"
   ]
  },
  {
   "cell_type": "markdown",
   "metadata": {},
   "source": [
    "Lets say we have a star which we know belongs to the Red Clump with a magnitude of $m_K = 13$. The RC parameters reported in Hawkins+17 are:\n",
    "\n",
    "$\\mu_{RC} = -1.61$\n",
    "\n",
    "$\\sigma_{RC} = 0.17$\n",
    "\n",
    "Lets treat $\\mu_{RC}$ as the value for $M$, and $\\sigma_{RC}$, the spread of the RC, as an uncertainty which we propagate. Lets assume there to be no uncertainty on apparent magnitude $m$."
   ]
  },
  {
   "cell_type": "code",
   "execution_count": 1,
   "metadata": {},
   "outputs": [],
   "source": [
    "import numpy as np\n",
    "from astropy import units as u\n",
    "\n",
    "def d(m, M):\n",
    "    return 10**((m - M + 5)/5) * u.pc"
   ]
  },
  {
   "cell_type": "code",
   "execution_count": 2,
   "metadata": {},
   "outputs": [
    {
     "name": "stdout",
     "output_type": "stream",
     "text": [
      "Distance : 8356.03 pc\n"
     ]
    }
   ],
   "source": [
    "m = 13.\n",
    "M = -1.61\n",
    "s = 0.17\n",
    "dist = d(m, M)\n",
    "print('Distance : {:.2f}'.format(dist))"
   ]
  },
  {
   "cell_type": "markdown",
   "metadata": {},
   "source": [
    "Now to calculate the uncertainty incurred from the spread of the RC."
   ]
  },
  {
   "cell_type": "code",
   "execution_count": 3,
   "metadata": {},
   "outputs": [],
   "source": [
    "def err(m, M, s):\n",
    "    return np.sqrt((-2**(0.2*(m - M + 5)) * 5**((m - M)/5) * np.log(10))**2 * s**2) * u.pc"
   ]
  },
  {
   "cell_type": "code",
   "execution_count": 4,
   "metadata": {},
   "outputs": [
    {
     "name": "stdout",
     "output_type": "stream",
     "text": [
      "Error : 654.18 pc\n",
      "Fractional Error : 7.83 %\n"
     ]
    }
   ],
   "source": [
    "error = err(m, M, s)\n",
    "print('Error : {:.2f}'.format(error))\n",
    "print('Fractional Error : {:.2f}'.format(error/dist * 100 * u.percent))"
   ]
  },
  {
   "cell_type": "markdown",
   "metadata": {},
   "source": [
    "This is in agreement with the values reported in Hawkins+17. Nice!"
   ]
  },
  {
   "cell_type": "markdown",
   "metadata": {},
   "source": [
    "In our Hall+19 work, we have the following RC parameters:\n",
    "\n",
    "$\\mu_{RC} = -1.638$\n",
    "\n",
    "$\\sigma_{RC} = 0.03$\n",
    "\n",
    "So we find a fractional error of:"
   ]
  },
  {
   "cell_type": "code",
   "execution_count": 5,
   "metadata": {},
   "outputs": [
    {
     "name": "stdout",
     "output_type": "stream",
     "text": [
      "Distance : 8464.47 pc\n",
      "Error : 116.94 pc\n",
      "Fractional Error : 1.38 %\n"
     ]
    }
   ],
   "source": [
    "m = 13.\n",
    "M = -1.638\n",
    "s = 0.03\n",
    "dist = d(m, M)\n",
    "error = err(m, M, s)\n",
    "\n",
    "print('Distance : {:.2f}'.format(dist))\n",
    "print('Error : {:.2f}'.format(error))\n",
    "print('Fractional Error : {:.2f}'.format(error/dist * 100 * u.percent))"
   ]
  },
  {
   "cell_type": "markdown",
   "metadata": {},
   "source": [
    "And in the G band:"
   ]
  },
  {
   "cell_type": "code",
   "execution_count": 6,
   "metadata": {},
   "outputs": [
    {
     "name": "stdout",
     "output_type": "stream",
     "text": [
      "Distance : 3095.99 pc\n",
      "Error : 185.35 pc\n",
      "Fractional Error : 5.99 %\n"
     ]
    }
   ],
   "source": [
    "m = 13.\n",
    "M = 0.546\n",
    "s = 0.13\n",
    "dist = d(m, M)\n",
    "error = err(m, M, s)\n",
    "\n",
    "print('Distance : {:.2f}'.format(dist))\n",
    "print('Error : {:.2f}'.format(error))\n",
    "print('Fractional Error : {:.2f}'.format(error/dist * 100 * u.percent))"
   ]
  },
  {
   "cell_type": "code",
   "execution_count": null,
   "metadata": {},
   "outputs": [],
   "source": []
  }
 ],
 "metadata": {
  "kernelspec": {
   "display_name": "Python 3",
   "language": "python",
   "name": "python3"
  },
  "language_info": {
   "codemirror_mode": {
    "name": "ipython",
    "version": 3
   },
   "file_extension": ".py",
   "mimetype": "text/x-python",
   "name": "python",
   "nbconvert_exporter": "python",
   "pygments_lexer": "ipython3",
   "version": "3.6.7"
  }
 },
 "nbformat": 4,
 "nbformat_minor": 2
}
