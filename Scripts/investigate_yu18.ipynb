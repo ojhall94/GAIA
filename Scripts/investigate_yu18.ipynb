{
 "cells": [
  {
   "cell_type": "code",
   "execution_count": 1,
   "metadata": {},
   "outputs": [
    {
     "name": "stderr",
     "output_type": "stream",
     "text": [
      "/usr/local/lib/python2.7/dist-packages/h5py/__init__.py:36: FutureWarning: Conversion of the second argument of issubdtype from `float` to `np.floating` is deprecated. In future, it will be treated as `np.float64 == np.dtype(float).type`.\n",
      "  from ._conv import register_converters as _register_converters\n"
     ]
    }
   ],
   "source": [
    "import omnitool\n",
    "from omnitool.literature_values import *\n",
    "import barbershop\n",
    "\n",
    "import numpy as np\n",
    "import pandas as pd\n",
    "import matplotlib.pyplot as plt\n",
    "import seaborn as sns\n"
   ]
  },
  {
   "cell_type": "code",
   "execution_count": 2,
   "metadata": {},
   "outputs": [
    {
     "data": {
      "text/html": [
       "<div>\n",
       "<style scoped>\n",
       "    .dataframe tbody tr th:only-of-type {\n",
       "        vertical-align: middle;\n",
       "    }\n",
       "\n",
       "    .dataframe tbody tr th {\n",
       "        vertical-align: top;\n",
       "    }\n",
       "\n",
       "    .dataframe thead th {\n",
       "        text-align: right;\n",
       "    }\n",
       "</style>\n",
       "<table border=\"1\" class=\"dataframe\">\n",
       "  <thead>\n",
       "    <tr style=\"text-align: right;\">\n",
       "      <th></th>\n",
       "      <th>KIC</th>\n",
       "      <th>kepmag</th>\n",
       "      <th>Length_Quarters</th>\n",
       "      <th>Length_days</th>\n",
       "      <th>numax</th>\n",
       "      <th>numax_err</th>\n",
       "      <th>dnu</th>\n",
       "      <th>dnu_err</th>\n",
       "      <th>amplitude</th>\n",
       "      <th>err.2_x</th>\n",
       "      <th>...</th>\n",
       "      <th>M_RGB</th>\n",
       "      <th>err.5</th>\n",
       "      <th>R_RGB</th>\n",
       "      <th>err.6</th>\n",
       "      <th>M_Clump</th>\n",
       "      <th>err.7</th>\n",
       "      <th>R_Clump</th>\n",
       "      <th>err.8</th>\n",
       "      <th>stage</th>\n",
       "      <th>Unnamed: 20</th>\n",
       "    </tr>\n",
       "  </thead>\n",
       "  <tbody>\n",
       "    <tr>\n",
       "      <th>0</th>\n",
       "      <td>757137</td>\n",
       "      <td>9.20</td>\n",
       "      <td>17</td>\n",
       "      <td>1308.7</td>\n",
       "      <td>29.99</td>\n",
       "      <td>0.60</td>\n",
       "      <td>3.399</td>\n",
       "      <td>0.011</td>\n",
       "      <td>104.9</td>\n",
       "      <td>4.6</td>\n",
       "      <td>...</td>\n",
       "      <td>1.55</td>\n",
       "      <td>0.13</td>\n",
       "      <td>13.26</td>\n",
       "      <td>0.39</td>\n",
       "      <td>1.72</td>\n",
       "      <td>0.14</td>\n",
       "      <td>13.97</td>\n",
       "      <td>0.41</td>\n",
       "      <td>1</td>\n",
       "      <td>NaN</td>\n",
       "    </tr>\n",
       "    <tr>\n",
       "      <th>1</th>\n",
       "      <td>892010</td>\n",
       "      <td>11.67</td>\n",
       "      <td>4</td>\n",
       "      <td>206.3</td>\n",
       "      <td>17.85</td>\n",
       "      <td>0.89</td>\n",
       "      <td>2.427</td>\n",
       "      <td>0.078</td>\n",
       "      <td>196.0</td>\n",
       "      <td>20.5</td>\n",
       "      <td>...</td>\n",
       "      <td>1.36</td>\n",
       "      <td>0.28</td>\n",
       "      <td>16.02</td>\n",
       "      <td>1.34</td>\n",
       "      <td>1.43</td>\n",
       "      <td>0.30</td>\n",
       "      <td>16.47</td>\n",
       "      <td>1.39</td>\n",
       "      <td>0</td>\n",
       "      <td>NaN</td>\n",
       "    </tr>\n",
       "  </tbody>\n",
       "</table>\n",
       "<p>2 rows × 35 columns</p>\n",
       "</div>"
      ],
      "text/plain": [
       "      KIC  kepmag  Length_Quarters  Length_days  numax  numax_err    dnu  \\\n",
       "0  757137    9.20               17       1308.7  29.99       0.60  3.399   \n",
       "1  892010   11.67                4        206.3  17.85       0.89  2.427   \n",
       "\n",
       "   dnu_err amplitude  err.2_x     ...      M_RGB err.5  R_RGB err.6  M_Clump  \\\n",
       "0    0.011     104.9      4.6     ...       1.55  0.13  13.26  0.39     1.72   \n",
       "1    0.078     196.0     20.5     ...       1.36  0.28  16.02  1.34     1.43   \n",
       "\n",
       "   err.7  R_Clump  err.8  stage  Unnamed: 20  \n",
       "0   0.14    13.97   0.41      1          NaN  \n",
       "1   0.30    16.47   1.39      0          NaN  \n",
       "\n",
       "[2 rows x 35 columns]"
      ]
     },
     "execution_count": 2,
     "metadata": {},
     "output_type": "execute_result"
    }
   ],
   "source": [
    "'''We'll use the asteroseismic data from Yu et al. 2018'''\n",
    "#Read in Jie Yu\n",
    "sfile = '/home/oliver/PhD/Catalogues/RC_catalogues/Yu+18_table1.txt'\n",
    "yu18_1 = pd.read_csv(sfile, sep='|')\n",
    "sfile = '/home/oliver/PhD/Catalogues/RC_catalogues/Yu+18_table2.txt'\n",
    "yu18_2 = pd.read_csv(sfile, sep='|')\n",
    "df = pd.merge(yu18_1, yu18_2, on='KICID',how='outer')\n",
    "df.rename(columns={'KICID':'KIC',\n",
    "                    'EvoPhase':'stage',\n",
    "                    'err_x':'numax_err',\n",
    "                    'err.1_x':'dnu_err',\n",
    "                    'err_y':'Teff_err',\n",
    "                     'Fe/H':'[Fe/H]',\n",
    "                    'err.2_y':'[Fe/H]_err',\n",
    "                    'err.1_y':'logg_err',\n",
    "                    'err.3_y':'M_err',\n",
    "                    'err.4_y':'R_err'},inplace=True) #For consistency\n",
    "df.head(2)"
   ]
  },
  {
   "cell_type": "code",
   "execution_count": 3,
   "metadata": {},
   "outputs": [],
   "source": [
    "#Lets run the scaling relations\n",
    "sc = omnitool.scalings(df, df.numax, df.dnu, df. Teff,\\\n",
    "                       _numax_err = df.numax_err, _dnu_err = df.dnu_err,\\\n",
    "                       _Teff_err = df.Teff_err)\n",
    "\n",
    "df['R'] = sc.get_radius()/Rsol\n",
    "df['R_err'] = sc.get_radius_err()/Rsol\n",
    "df['M'] = sc.get_mass()/Msol\n",
    "df['M_err'] = sc.get_mass_err()/Msol\n",
    "df['logg'] = sc.get_logg()\n",
    "df['logg_err'] = sc.get_logg_err()\n",
    "df['L'] = sc.get_luminosity()/Lsol\n",
    "df['L_err'] = sc.get_luminosity_err()/Lsol\n",
    "df['Mbol'] = sc.get_bolmag()\n",
    "df['Mbol_err'] = sc.get_bolmag_err()"
   ]
  },
  {
   "cell_type": "code",
   "execution_count": 4,
   "metadata": {},
   "outputs": [],
   "source": [
    "#Lets get the bolometric corrections in K, J, and H\n",
    "#Per Salaris et al. 1993, [M/H] = [Fe/H] + log(0.638*fa + 0.362)\n",
    "#where fa is the alpha abundance. We will assume for now that fa = 1\n",
    "#Therefore, [Fe/H] == [M/H]\n",
    "Z = Zsol * 10 ** df['[Fe/H]'].values\n",
    "Teff = df.Teff.values\n",
    "L = df.L.values\n",
    "logg = df.logg.values\n",
    "\n",
    "get_bc = omnitool.bolometric_correction(Teff,\\\n",
    "                                       logg,\\\n",
    "                                       L,\\\n",
    "                                       Z)"
   ]
  },
  {
   "cell_type": "code",
   "execution_count": 5,
   "metadata": {},
   "outputs": [
    {
     "name": "stderr",
     "output_type": "stream",
     "text": [
      "100%|██████████| 16094/16094 [00:08<00:00, 1914.09it/s]\n",
      "100%|██████████| 16094/16094 [00:08<00:00, 1916.41it/s]\n",
      "100%|██████████| 16094/16094 [00:08<00:00, 1916.65it/s]\n"
     ]
    }
   ],
   "source": [
    "#Lets get and apply the bolometric corrections\n",
    "KBC = get_bc(band='Ks')\n",
    "HBC = get_bc(band='H')\n",
    "JBC = get_bc(band='J')"
   ]
  },
  {
   "cell_type": "code",
   "execution_count": 6,
   "metadata": {},
   "outputs": [],
   "source": [
    "#Calculate absolute magnitudes and appropriate error\n",
    "df['MKs'] = df.Mbol - KBC\n",
    "df['MH'] = df.Mbol - JBC\n",
    "df['MJ'] = df.Mbol - HBC\n",
    "df['absmag_err'] = np.sqrt(df.Mbol_err**2 + err_bc**2)"
   ]
  },
  {
   "cell_type": "code",
   "execution_count": 7,
   "metadata": {},
   "outputs": [
    {
     "data": {
      "image/png": "[encoded data removed]",
      "text/plain": [
       "<matplotlib.figure.Figure at 0x7f20cbfc8750>"
      ]
     },
     "metadata": {},
     "output_type": "display_data"
    }
   ],
   "source": [
    "sns.jointplot(df.MKs,df.logg)\n",
    "plt.show()\n"
   ]
  },
  {
   "cell_type": "code",
   "execution_count": 11,
   "metadata": {},
   "outputs": [
    {
     "name": "stdout",
     "output_type": "stream",
     "text": [
      "Populating the interactive namespace from numpy and matplotlib\n",
      "Number of seats in use : 1/5.\n",
      "Number of seats in use : 2/5.\n",
      "Number of seats in use : 3/5.\n",
      "Number of seats in use : 4/5.\n"
     ]
    }
   ],
   "source": [
    "%pylab qt\n",
    "barber = barbershop.open(df,'MH','logg')\n",
    "barber.add_client('stage')\n",
    "barber.add_client('M')\n",
    "barber.add_client('[Fe/H]')\n",
    "barber.add_client('R')\n",
    "barber.histograms_on(x=True, y=True)\n",
    "barber.show_mirror()"
   ]
  },
  {
   "cell_type": "code",
   "execution_count": null,
   "metadata": {},
   "outputs": [],
   "source": []
  }
 ],
 "metadata": {
  "kernelspec": {
   "display_name": "Python 2",
   "language": "python",
   "name": "python2"
  },
  "language_info": {
   "codemirror_mode": {
    "name": "ipython",
    "version": 2
   },
   "file_extension": ".py",
   "mimetype": "text/x-python",
   "name": "python",
   "nbconvert_exporter": "python",
   "pygments_lexer": "ipython2",
   "version": "2.7.12"
  }
 },
 "nbformat": 4,
 "nbformat_minor": 2
}
