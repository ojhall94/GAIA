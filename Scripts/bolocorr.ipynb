{
 "cells": [
  {
   "cell_type": "code",
   "execution_count": 2,
   "metadata": {},
   "outputs": [
    {
     "name": "stderr",
     "output_type": "stream",
     "text": [
      "/usr/local/lib/python2.7/dist-packages/h5py/__init__.py:36: FutureWarning: Conversion of the second argument of issubdtype from `float` to `np.floating` is deprecated. In future, it will be treated as `np.float64 == np.dtype(float).type`.\n",
      "  from ._conv import register_converters as _register_converters\n"
     ]
    }
   ],
   "source": [
    "import numpy as np\n",
    "import matplotlib.pyplot as plt\n",
    "import seaborn as sns\n",
    "import pandas as pd\n",
    "\n",
    "import glob\n",
    "from tqdm import tqdm\n",
    "import sys\n",
    "import os\n",
    "\n",
    "import barbershop\n",
    "from inv_bol import Astero_Clump\n",
    "\n",
    "from astropy.table import Table\n",
    "from scipy import integrate\n",
    "from pystellibs import Kurucz\n",
    "from synphot import SpectralElement"
   ]
  },
  {
   "cell_type": "code",
   "execution_count": 3,
   "metadata": {},
   "outputs": [],
   "source": [
    "#Define solar parameters\n",
    "Rsol = 695700e3 #meters\n",
    "Tsol = 5778 #K\n",
    "Msol = 1.989e30 #Kg\n",
    "Numaxsol = 3090 #Huber et al 2011ish\n",
    "Dnusol = 135.1\n",
    "stefboltz = 5.670367e-8 #Wm-2K-4\n",
    "Lsol = 4 * np.pi * stefboltz * Rsol**2 * Tsol**4\n",
    "gsol = 27400. #cms^2\n",
    "Zsol = 0.01756\n",
    "Asol = 4 * np.pi * (Rsol*100)**2\n",
    "\n",
    "Mbolsol = 4.74  #Torres 2010?\n",
    "Mksol = 3.28 #Bohlin & Gilliland 2004\n",
    "Mksol_err = 0.09"
   ]
  },
  {
   "cell_type": "code",
   "execution_count": 4,
   "metadata": {},
   "outputs": [
    {
     "name": "stdout",
     "output_type": "stream",
     "text": [
      "Reading in Yu+2018\n"
     ]
    },
    {
     "name": "stderr",
     "output_type": "stream",
     "text": [
      "/usr/local/lib/python2.7/dist-packages/ipykernel_launcher.py:10: SettingWithCopyWarning: \n",
      "A value is trying to be set on a copy of a slice from a DataFrame\n",
      "\n",
      "See the caveats in the documentation: http://pandas.pydata.org/pandas-docs/stable/indexing.html#indexing-view-versus-copy\n",
      "  # Remove the CWD from sys.path while we load stuff.\n"
     ]
    }
   ],
   "source": [
    "def get_yu():\n",
    "    #Read in Jie Yu\n",
    "    print('Reading in Yu+2018')\n",
    "    sfile = '/home/oliver/PhD/Catalogues/RC_catalogues/Yu+18_table1.txt'\n",
    "    yu18_1 = pd.read_csv(sfile, sep='|')\n",
    "    sfile = '/home/oliver/PhD/Catalogues/RC_catalogues/Yu+18_table2.txt'\n",
    "    yu18_2 = pd.read_csv(sfile, sep='|')\n",
    "    yu18 = pd.merge(yu18_1, yu18_2, on='KICID',how='outer')\n",
    "    yu18.rename(columns={'KICID':'KIC','EvoPhase':'stage'},inplace=True) #For consistency\n",
    "    yu18.stage[yu18.stage == 0] = 'U'\n",
    "    yu18.stage[yu18.stage == 1] = 'RGB'\n",
    "    yu18.stage[yu18.stage == 2] = 'HeB'\n",
    "\n",
    "    #Lets build our new dataframe!\n",
    "    df = pd.DataFrame()\n",
    "    HeB = yu18.stage == 'HeB'\n",
    "    df['KIC'] = yu18.KIC[HeB]\n",
    "    df['numax'] = yu18.numax[HeB]\n",
    "    df['numax_err'] = yu18['err_x'][HeB]\n",
    "    df['dnu'] = yu18.dnu\n",
    "    df['dnu_err'] = yu18['err.1_x'][HeB]\n",
    "    df['Teff'] = yu18.Teff[HeB]\n",
    "    df['Teff_err'] = yu18['err_y'][HeB]\n",
    "    df['[Fe/H]'] = yu18['Fe/H'][HeB]\n",
    "    df['[Fe/H]_err'] = yu18['err.2_y'][HeB]\n",
    "    df['logg'] = yu18['logg'][HeB]\n",
    "    df['logg_err'] = yu18['err.1_y'][HeB]\n",
    "    df['M'] = yu18['M_noCorrection'][HeB]\n",
    "    df['M_err'] = yu18['err.3_y'][HeB]\n",
    "    df['R'] = yu18['R_noCorrection'][HeB]\n",
    "    df['R_err'] = yu18['err.4_y'][HeB]\n",
    "    df['Z'] = Zsol * 10**df['[Fe/H]']\n",
    "    return df\n",
    "\n",
    "df = get_yu()"
   ]
  },
  {
   "cell_type": "code",
   "execution_count": 5,
   "metadata": {},
   "outputs": [],
   "source": [
    "'''Lets build up the catalogue to Mbol for these stars\n",
    "The asteroseismic values are already computed in Yu+18'''\n",
    "AC = Astero_Clump(df, df.numax, df.dnu, df.Teff,\\\n",
    "                 _numax_err = df.numax_err, _dnu_err = df.dnu_err, _Teff_err = df.Teff_err)\n",
    "df['L'] = AC.get_luminosity()/Lsol\n",
    "df['L_err'] = AC.get_luminosity_err()/Lsol\n",
    "df['Mbol'] = AC.get_bolmag()\n",
    "df['Mbol_err'] = AC.get_bolmag_err()"
   ]
  },
  {
   "cell_type": "code",
   "execution_count": 6,
   "metadata": {},
   "outputs": [],
   "source": [
    "'''Generate a spectrum for every star in our sample'''\n",
    "spect = Kurucz() #Call in the spectrum\n",
    "tracks = 'Kurucz'\n",
    "\n",
    "logteff = np.log10(df.Teff.values)\n",
    "logg = df.logg.values\n",
    "logL = np.log10(df.L.values)\n",
    "Z = df.Z.values\n",
    "Mbol = df.Mbol.values\n",
    "ap = (logteff, logg, logL, Z)\n",
    "ap = Table(ap, names=('logT','logg','logL','Z'))\n",
    "\n",
    "_, spectra = spect.generate_individual_spectra(ap)\n"
   ]
  },
  {
   "cell_type": "code",
   "execution_count": 7,
   "metadata": {},
   "outputs": [
    {
     "name": "stdout",
     "output_type": "stream",
     "text": [
      "[0.00000000e+00 0.00000000e+00 0.00000000e+00 ... 3.42047095e+23\n",
      " 1.84100446e+23 1.07599442e+23] erg / angstrom * second\n",
      "[0.00000000e+00 0.00000000e+00 0.00000000e+00 ... 3.42047095e+23\n",
      " 1.84100446e+23 1.07599442e+23]\n"
     ]
    }
   ],
   "source": [
    "'''Turning the annoying spectra array into a numpy array'''\n",
    "print(spectra[0])\n",
    "spectra = np.array(spectra)\n",
    "print(spectra[0])"
   ]
  },
  {
   "cell_type": "code",
   "execution_count": 14,
   "metadata": {},
   "outputs": [],
   "source": [
    "'''Lets get the J H and K filters'''\n",
    "J = SpectralElement.from_filter('bessel_j')\n",
    "H = SpectralElement.from_filter('bessel_h')\n",
    "K = SpectralElement.from_filter('bessel_k')\n",
    "Kj = SpectralElement.from_filter('johnson_k')"
   ]
  },
  {
   "cell_type": "code",
   "execution_count": 16,
   "metadata": {},
   "outputs": [
    {
     "name": "stdout",
     "output_type": "stream",
     "text": [
      "Populating the interactive namespace from numpy and matplotlib\n"
     ]
    }
   ],
   "source": [
    "%pylab qt\n",
    "\n",
    "'''Lets plot a single spectra with the relevant passbands for illustration'''\n",
    "sb = spectra[0]\n",
    "plt.figure()\n",
    "plt.semilogx(spect._wavelength, sb, label=tracks)\n",
    "plt.semilogx(spect._wavelength, K(spect._wavelength)*sb.max(), label='K')\n",
    "plt.semilogx(spect._wavelength, sb*K(spect._wavelength), label='Spectrum in K')\n",
    "plt.semilogx(spect._wavelength, Kj(spect._wavelength)*sb.max(), label='Kj')\n",
    "plt.semilogx(spect._wavelength, sb*Kj(spect._wavelength), label='Spectrum in Kj')\n",
    "plt.semilogx(spect._wavelength, J(spect._wavelength)*sb.max(), label='J')\n",
    "plt.semilogx(spect._wavelength, sb*J(spect._wavelength), label='Spectrum in J')\n",
    "plt.semilogx(spect._wavelength, H(spect._wavelength)*sb.max(), label='H')\n",
    "plt.semilogx(spect._wavelength, sb*H(spect._wavelength), label='Spectrum in H')\n",
    "plt.legend(frameon=False, loc='upper left')\n",
    "plt.xlabel('Wavelength [{0}]'.format(spect.wavelength_unit))\n",
    "plt.xlim(800, 4e4)\n",
    "plt.ylabel('Flux [{0}]'.format(spect.flux_units))\n",
    "plt.tight_layout()\n",
    "plt.show()"
   ]
  },
  {
   "cell_type": "code",
   "execution_count": 11,
   "metadata": {},
   "outputs": [
    {
     "name": "stderr",
     "output_type": "stream",
     "text": [
      "100%|██████████| 7703/7703 [00:11<00:00, 689.19it/s]\n"
     ]
    }
   ],
   "source": [
    "'''Now lets integrate all the spectra!'''\n",
    "fl = np.zeros(len(df))\n",
    "Kslfl = np.zeros(len(df))\n",
    "Jslfl = np.zeros(len(df))\n",
    "Hslfl = np.zeros(len(df))\n",
    "\n",
    "for idx in tqdm(range(len(df))):\n",
    "    fl[idx] = integrate.simps(spectra[idx], x=spect._wavelength)\n",
    "    Kslfl[idx] = integrate.simps(spectra[idx] * K(spect._wavelength), x=spect._wavelength)\n",
    "    Jslfl[idx] = integrate.simps(spectra[idx] * J(spect._wavelength), x=spect._wavelength)\n",
    "    Hslfl[idx] = integrate.simps(spectra[idx] * H(spect._wavelength), x=spect._wavelength)"
   ]
  },
  {
   "cell_type": "code",
   "execution_count": 12,
   "metadata": {},
   "outputs": [],
   "source": [
    "'''NEED TO PROPAGATE ERRORS THROUGH ON BC FIRST'''\n",
    "BCk = 2.5*np.log10(Kslfl/fl) + 5.6646\n",
    "BCj = 2.5*np.log10(Jslfl/fl) + 4.1493\n",
    "BCh = 2.5*np.log10(Hslfl/fl) + 4.7712"
   ]
  },
  {
   "cell_type": "code",
   "execution_count": 16,
   "metadata": {},
   "outputs": [
    {
     "name": "stdout",
     "output_type": "stream",
     "text": [
      "Mk: -1.7042809684582982 $\\pm$ 0.20579723532902242\n",
      "Mj: -1.2202418770825498 $\\pm$ 0.20579723532902242\n",
      "Mh: -1.6465881489914986 $\\pm$ 0.20579723532902242\n"
     ]
    }
   ],
   "source": [
    "'''Calculate absolute magnitudes'''\n",
    "Mk_ast = df.Mbol.values - BCk\n",
    "Mj_ast = df.Mbol.values - BCj\n",
    "Mh_ast = df.Mbol.values - BCh\n",
    "print('Mk: '+str(Mk_ast[0]) + r' $\\pm$ ' + str(df.Mbol_err.values[0]))\n",
    "print('Mj: '+str(Mj_ast[0]) + r' $\\pm$ ' + str(df.Mbol_err.values[0]))\n",
    "print('Mh: '+str(Mh_ast[0]) + r' $\\pm$ ' + str(df.Mbol_err.values[0]))"
   ]
  },
  {
   "cell_type": "code",
   "execution_count": 17,
   "metadata": {},
   "outputs": [
    {
     "data": {
      "image/png": "[encoded data removed]",
      "text/plain": [
       "<matplotlib.figure.Figure at 0x7fd1e9453d90>"
      ]
     },
     "metadata": {},
     "output_type": "display_data"
    }
   ],
   "source": [
    "'''Make some distplots to compare to Hawkins'''\n",
    "hawkvals = dict({'Ks':-1.61,'J':-0.93,'H':-1.46})\n",
    "hawkerr = 0.01\n",
    "\n",
    "sns.distplot(Mk_ast)\n",
    "plt.axvspan(hawkvals['Ks']-hawkerr,hawkvals['Ks']+hawkerr,alpha=.2,color='r')\n",
    "plt.xlabel('Absmag in K')\n",
    "plt.axvline(np.median(Mk_ast),linestyle='-.')\n",
    "plt.show()"
   ]
  },
  {
   "cell_type": "code",
   "execution_count": 18,
   "metadata": {},
   "outputs": [
    {
     "data": {
      "image/png": "[encoded data removed]",
      "text/plain": [
       "<matplotlib.figure.Figure at 0x7fd1e8c02650>"
      ]
     },
     "metadata": {},
     "output_type": "display_data"
    }
   ],
   "source": [
    "sns.distplot(Mj_ast)\n",
    "plt.axvspan(hawkvals['J']-hawkerr,hawkvals['J']+hawkerr,alpha=.2,color='r')\n",
    "plt.xlabel('Absmag in J')\n",
    "plt.axvline(np.median(Mj_ast),linestyle='-.')\n",
    "plt.show()"
   ]
  },
  {
   "cell_type": "code",
   "execution_count": 19,
   "metadata": {},
   "outputs": [
    {
     "data": {
      "image/png": "[encoded data removed]",
      "text/plain": [
       "<matplotlib.figure.Figure at 0x7fd1f70510d0>"
      ]
     },
     "metadata": {},
     "output_type": "display_data"
    }
   ],
   "source": [
    "sns.distplot(Mh_ast)\n",
    "plt.axvspan(hawkvals['H']-hawkerr,hawkvals['H']+hawkerr,alpha=.2,color='r')\n",
    "plt.xlabel('Absmag in H')\n",
    "plt.axvline(np.median(Mh_ast),linestyle='-.')\n",
    "plt.show()"
   ]
  },
  {
   "cell_type": "code",
   "execution_count": null,
   "metadata": {},
   "outputs": [],
   "source": []
  }
 ],
 "metadata": {
  "kernelspec": {
   "display_name": "Python 2",
   "language": "python",
   "name": "python2"
  },
  "language_info": {
   "codemirror_mode": {
    "name": "ipython",
    "version": 2
   },
   "file_extension": ".py",
   "mimetype": "text/x-python",
   "name": "python",
   "nbconvert_exporter": "python",
   "pygments_lexer": "ipython2",
   "version": "2.7.12"
  }
 },
 "nbformat": 4,
 "nbformat_minor": 2
}
