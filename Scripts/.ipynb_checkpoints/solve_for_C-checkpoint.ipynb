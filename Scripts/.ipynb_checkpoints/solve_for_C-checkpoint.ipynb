{
 "cells": [
  {
   "cell_type": "code",
   "execution_count": 1,
   "metadata": {},
   "outputs": [
    {
     "name": "stderr",
     "output_type": "stream",
     "text": [
      "/usr/local/lib/python2.7/dist-packages/h5py/__init__.py:36: FutureWarning: Conversion of the second argument of issubdtype from `float` to `np.floating` is deprecated. In future, it will be treated as `np.float64 == np.dtype(float).type`.\n",
      "  from ._conv import register_converters as _register_converters\n"
     ]
    }
   ],
   "source": [
    "import numpy as np\n",
    "import matplotlib.pyplot as plt\n",
    "import seaborn as sns\n",
    "import pandas as pd\n",
    "\n",
    "import glob\n",
    "from tqdm import tqdm\n",
    "import sys\n",
    "import os\n",
    "\n",
    "import barbershop\n",
    "from inv_bol import Astero_Clump\n",
    "\n",
    "from scipy import integrate\n",
    "from pystellibs import Kurucz\n",
    "from synphot import SpectralElement"
   ]
  },
  {
   "cell_type": "code",
   "execution_count": 15,
   "metadata": {},
   "outputs": [],
   "source": [
    "#Define solar parameters\n",
    "Rsol = 695700e3 #meters\n",
    "Tsol = 5778 #K\n",
    "Msol = 1.989e30 #Kg\n",
    "Numaxsol = 3090 #Huber et al 2011ish\n",
    "Dnusol = 135.1\n",
    "stefboltz = 5.670367e-8 #Wm-2K-4\n",
    "Lsol = 4 * np.pi * stefboltz * Rsol**2 * Tsol**4\n",
    "gsol = 27400. #cms^2\n",
    "Zsol = 0.01756\n",
    "Asol = 4 * np.pi * (Rsol*100)**2\n",
    "\n",
    "Mbolsol = 4.74  #Torres 2010?\n",
    "Mksol = 3.28 #Bohlin & Gilliland 2004\n",
    "Mksol_err = 0.09"
   ]
  },
  {
   "cell_type": "code",
   "execution_count": 3,
   "metadata": {},
   "outputs": [
    {
     "name": "stdout",
     "output_type": "stream",
     "text": [
      "Reading in Yu+2018\n"
     ]
    },
    {
     "name": "stderr",
     "output_type": "stream",
     "text": [
      "/usr/local/lib/python2.7/dist-packages/ipykernel_launcher.py:10: SettingWithCopyWarning: \n",
      "A value is trying to be set on a copy of a slice from a DataFrame\n",
      "\n",
      "See the caveats in the documentation: http://pandas.pydata.org/pandas-docs/stable/indexing.html#indexing-view-versus-copy\n",
      "  # Remove the CWD from sys.path while we load stuff.\n"
     ]
    }
   ],
   "source": [
    "def get_yu():\n",
    "    #Read in Jie Yu\n",
    "    print('Reading in Yu+2018')\n",
    "    sfile = '/home/oliver/PhD/Catalogues/RC_catalogues/Yu+18_table1.txt'\n",
    "    yu18_1 = pd.read_csv(sfile, sep='|')\n",
    "    sfile = '/home/oliver/PhD/Catalogues/RC_catalogues/Yu+18_table2.txt'\n",
    "    yu18_2 = pd.read_csv(sfile, sep='|')\n",
    "    yu18 = pd.merge(yu18_1, yu18_2, on='KICID',how='outer')\n",
    "    yu18.rename(columns={'KICID':'KIC','EvoPhase':'stage'},inplace=True) #For consistency\n",
    "    yu18.stage[yu18.stage == 0] = 'U'\n",
    "    yu18.stage[yu18.stage == 1] = 'RGB'\n",
    "    yu18.stage[yu18.stage == 2] = 'HeB'\n",
    "\n",
    "    #Lets build our new dataframe!\n",
    "    df = pd.DataFrame()\n",
    "    HeB = yu18.stage == 'HeB'\n",
    "    df['KIC'] = yu18.KIC[HeB]\n",
    "    df['numax'] = yu18.numax[HeB]\n",
    "    df['numax_err'] = yu18['err_x'][HeB]\n",
    "    df['dnu'] = yu18.dnu\n",
    "    df['dnu_err'] = yu18['err.1_x'][HeB]\n",
    "    df['Teff'] = yu18.Teff[HeB]\n",
    "    df['Teff_err'] = yu18['err_y'][HeB]\n",
    "    df['[Fe/H]'] = yu18['Fe/H'][HeB]\n",
    "    df['[Fe/H]_err'] = yu18['err.2_y'][HeB]\n",
    "    df['logg'] = yu18['logg'][HeB]\n",
    "    df['logg_err'] = yu18['err.1_y'][HeB]\n",
    "    df['M'] = yu18['M_noCorrection'][HeB]\n",
    "    df['M_err'] = yu18['err.3_y'][HeB]\n",
    "    df['R'] = yu18['R_noCorrection'][HeB]\n",
    "    df['R_err'] = yu18['err.4_y'][HeB]\n",
    "    df['Z'] = Zsol * 10**df['[Fe/H]']\n",
    "    return df\n",
    "\n",
    "df = get_yu()"
   ]
  },
  {
   "cell_type": "code",
   "execution_count": 5,
   "metadata": {},
   "outputs": [],
   "source": [
    "'''Lets build up the catalogue to Mbol for these stars\n",
    "The asteroseismic values are already computed in Yu+18'''\n",
    "AC = Astero_Clump(df, df.numax, df.dnu, df.Teff,\\\n",
    "                 _numax_err = df.numax_err, _dnu_err = df.dnu_err, _Teff_err = df.Teff_err)\n",
    "df['L'] = AC.get_luminosity()/Lsol\n",
    "df['L_err'] = AC.get_luminosity_err()/Lsol\n",
    "df['Mbol'] = AC.get_bolmag()\n",
    "df['Mbol_err'] = AC.get_bolmag_err()"
   ]
  },
  {
   "cell_type": "code",
   "execution_count": 6,
   "metadata": {},
   "outputs": [],
   "source": [
    "'''Now lets make a simple call for the spectrum on one of these'''\n",
    "spect = Kurucz() #Call in the spectrum\n",
    "tracks = 'Kurucz'\n",
    "\n",
    "'''[logT, logg, logL, Z]'''\n",
    "ap = (np.log10(Tsol), np.log10(gsol), np.log10(Lsol), Zsol) \n",
    "print(ap)\n",
    "sb = spect.generate_stellar_spectrum(*ap)"
   ]
  },
  {
   "cell_type": "code",
   "execution_count": 9,
   "metadata": {},
   "outputs": [],
   "source": [
    "'''We want Bessel K'''\n",
    "K = SpectralElement.from_filter('bessel_k')"
   ]
  },
  {
   "cell_type": "code",
   "execution_count": 13,
   "metadata": {},
   "outputs": [
    {
     "data": {
      "image/png": "[encoded data removed]",
      "text/plain": [
       "<matplotlib.figure.Figure at 0x7f865fafe050>"
      ]
     },
     "metadata": {},
     "output_type": "display_data"
    }
   ],
   "source": [
    "plt.figure()\n",
    "plt.semilogx(spect._wavelength, sb, label=tracks)\n",
    "plt.semilogx(spect._wavelength, K(spect._wavelength)*sb.max(), label='K')\n",
    "plt.semilogx(spect._wavelength, sb*K(spect._wavelength), label='Spectrum in K')\n",
    "plt.legend(frameon=False, loc='upper left')\n",
    "plt.xlabel('Wavelength [{0}]'.format(spect.wavelength_unit))\n",
    "plt.xlim(800, 4e4)\n",
    "plt.ylabel('Flux [{0}]'.format(spect.flux_units))\n",
    "plt.tight_layout()\n",
    "plt.show()"
   ]
  },
  {
   "cell_type": "code",
   "execution_count": 14,
   "metadata": {},
   "outputs": [
    {
     "name": "stdout",
     "output_type": "stream",
     "text": [
      "1.4768221182950963e+60\n",
      "3.072564819091579e+58\n",
      "0.020805246488579635\n"
     ]
    }
   ],
   "source": [
    "'''Now lets do the integration'''\n",
    "fl = integrate.simps(sb, x=spect._wavelength)\n",
    "slfl = integrate.simps(sb*K(spect._wavelength), x=spect._wavelength)\n",
    "print(fl)\n",
    "print(slfl)\n",
    "print(slfl/fl)"
   ]
  },
  {
   "cell_type": "code",
   "execution_count": 17,
   "metadata": {},
   "outputs": [
    {
     "name": "stdout",
     "output_type": "stream",
     "text": [
      "5.664567836424057\n"
     ]
    }
   ],
   "source": [
    "'''Now lets follow the Torres+10 calculation'''\n",
    "C = Mbolsol - Mksol - 2.5*np.log10(slfl/fl)\n",
    "print(C)"
   ]
  },
  {
   "cell_type": "code",
   "execution_count": null,
   "metadata": {},
   "outputs": [],
   "source": []
  }
 ],
 "metadata": {
  "kernelspec": {
   "display_name": "Python 2",
   "language": "python",
   "name": "python2"
  },
  "language_info": {
   "codemirror_mode": {
    "name": "ipython",
    "version": 2
   },
   "file_extension": ".py",
   "mimetype": "text/x-python",
   "name": "python",
   "nbconvert_exporter": "python",
   "pygments_lexer": "ipython2",
   "version": "2.7.12"
  }
 },
 "nbformat": 4,
 "nbformat_minor": 2
}
