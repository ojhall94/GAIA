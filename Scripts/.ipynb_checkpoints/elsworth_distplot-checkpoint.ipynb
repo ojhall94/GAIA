{
 "cells": [
  {
   "cell_type": "code",
   "execution_count": 1,
   "metadata": {},
   "outputs": [
    {
     "name": "stderr",
     "output_type": "stream",
     "text": [
      "/usr/local/lib/python2.7/dist-packages/h5py/__init__.py:36: FutureWarning: Conversion of the second argument of issubdtype from `float` to `np.floating` is deprecated. In future, it will be treated as `np.float64 == np.dtype(float).type`.\n",
      "  from ._conv import register_converters as _register_converters\n"
     ]
    }
   ],
   "source": [
    "#Call in my packages\n",
    "import numpy as np\n",
    "import matplotlib.pyplot as plt\n",
    "import seaborn as sns\n",
    "import pandas as pd\n",
    "\n",
    "from Starclass import Star\n",
    "import ClosePlots as cp\n",
    "\n",
    "import glob\n",
    "from tqdm import tqdm\n",
    "import sys\n",
    "import os"
   ]
  },
  {
   "cell_type": "code",
   "execution_count": 2,
   "metadata": {},
   "outputs": [],
   "source": [
    "#Import useful data\n",
    "sfile = glob.glob('../../data/Elsworth+/Elsworth_x_TGAS*')[0]\n",
    "columns = ['KIC','parallax','parallax_error','GLAT','GLON','_RA','_DE','kic_kmag']\n",
    "df = pd.read_csv(sfile, usecols=columns)"
   ]
  },
  {
   "cell_type": "code",
   "execution_count": 3,
   "metadata": {},
   "outputs": [
    {
     "name": "stdout",
     "output_type": "stream",
     "text": [
      "886\n",
      "304\n"
     ]
    }
   ],
   "source": [
    "#Kill data where parallax error > 30% of the parallax value\n",
    "print(len(df))\n",
    "df = df[df.parallax_error <= .3*df.parallax].reset_index()\n",
    "print(len(df))"
   ]
  },
  {
   "cell_type": "code",
   "execution_count": null,
   "metadata": {},
   "outputs": [
    {
     "name": "stderr",
     "output_type": "stream",
     "text": [
      " 23%|██▎       | 70/304 [00:15<00:52,  4.44it/s]"
     ]
    }
   ],
   "source": [
    "#Build a sample of 100 or so stars to test functionality in current build\n",
    "length = 304\n",
    "#First we're going to use galactic coordinates\n",
    "M_gal = np.zeros(length)\n",
    "M_gal_err = np.zeros(length)\n",
    "for idx in tqdm(range(length)):\n",
    "    S = Star(str(df.KIC[idx])) #Call class\n",
    "    S.pass_parallax(df.parallax[idx], err=df.parallax_error[idx])\n",
    "    S.pass_position(df.GLON[idx], df.GLAT[idx], frame='galactic')\n",
    "    S.pass_magnitude(df.kic_kmag[idx],err=None, band='Ks')\n",
    "    M_gal[idx], M_gal_err[idx] = S.get_M()"
   ]
  },
  {
   "cell_type": "code",
   "execution_count": null,
   "metadata": {},
   "outputs": [],
   "source": [
    "#Build a distplot\n",
    "g=sns.jointplot(M_gal, df.kic_kmag[:length],color=\"m\",s=1)\n",
    "g.plot_joint(sns.kdeplot, zorder=0, nlevels=10)"
   ]
  },
  {
   "cell_type": "code",
   "execution_count": null,
   "metadata": {},
   "outputs": [],
   "source": [
    "#Plot a m - M plot with errorbars\n",
    "fig, ax = plt.subplots()\n",
    "ax.scatter(M_gal, df.kic_kmag[:length],s=1)\n",
    "ax.errorbar(M_gal, df.kic_kmag[:length], xerr=M_gal_err,alpha=.5,fmt=None,c='grey')"
   ]
  },
  {
   "cell_type": "code",
   "execution_count": null,
   "metadata": {},
   "outputs": [],
   "source": [
    "#Plot the Davies+17 Ks - parallax plot\n",
    "\n"
   ]
  },
  {
   "cell_type": "code",
   "execution_count": null,
   "metadata": {},
   "outputs": [],
   "source": [
    "#Kill the code. Code graveyard below\n",
    "sys.exit()"
   ]
  },
  {
   "cell_type": "code",
   "execution_count": null,
   "metadata": {},
   "outputs": [],
   "source": [
    "#Now lets do the same again but for RA and DEC\n",
    "M_icrs = np.zeros(length)\n",
    "M_icrs_err = np.zeros(length)\n",
    "for idx in tqdm(range(length)):\n",
    "    S = Star(str(df.KIC[idx])) #Call class\n",
    "    S.pass_parallax(df.parallax[idx], err=df.parallax_error[idx])\n",
    "    S.pass_position(df._RA[idx], df._DE[idx], frame='icrs')\n",
    "    S.pass_magnitude(df.kic_kmag[idx],err=None, band='Ks')\n",
    "    M_icrs[idx], M_icrs_err[idx] = S.get_M()    "
   ]
  },
  {
   "cell_type": "code",
   "execution_count": null,
   "metadata": {},
   "outputs": [],
   "source": [
    "#Perfect match\n",
    "#Lets compare these two first before doing the distplot\n",
    "fig, (ax, axr) = plt.subplots(2)\n",
    "ax.scatter(M_gal, M_icrs, s=3, zorder=1000)\n",
    "ax.errorbar(M_gal, M_icrs, xerr = M_gal_err, c='grey',yerr = M_icrs_err, alpha=.3, fmt='o', zorder=999)\n",
    "ax.plot(M_gal, M_gal, c='r', alpha=.7, linestyle='--',zorder=1001)\n",
    "ax.set_ylabel('M (icrs coords)')\n",
    "ax.set_xlabel('M (galactic coords)')\n",
    "\n",
    "axr.scatter(M_gal, M_gal - M_icrs, s=3, zorder=1000)\n",
    "axr.errorbar(M_gal, M_gal - M_icrs, c='grey', alpha=.3, fmt='o',\n",
    "            yerr = np.sqrt(M_gal_err**2 + M_icrs_err**2), zorder=999)\n",
    "axr.set_ylabel('M (galactic) - M (icrs)')\n",
    "axr.set_xlabel('M (galactic)')\n",
    "axr.axhline(0., c='r', linestyle='--', alpha=.7)\n",
    "\n",
    "axr.grid()\n",
    "ax.grid()\n",
    "fig.tight_layout()"
   ]
  }
 ],
 "metadata": {
  "kernelspec": {
   "display_name": "Python 2",
   "language": "python",
   "name": "python2"
  },
  "language_info": {
   "codemirror_mode": {
    "name": "ipython",
    "version": 2
   },
   "file_extension": ".py",
   "mimetype": "text/x-python",
   "name": "python",
   "nbconvert_exporter": "python",
   "pygments_lexer": "ipython2",
   "version": "2.7.12"
  }
 },
 "nbformat": 4,
 "nbformat_minor": 2
}
