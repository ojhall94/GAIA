{
 "cells": [
  {
   "cell_type": "code",
   "execution_count": 1,
   "metadata": {},
   "outputs": [
    {
     "name": "stderr",
     "output_type": "stream",
     "text": [
      "/usr/local/lib/python2.7/dist-packages/h5py/__init__.py:36: FutureWarning: Conversion of the second argument of issubdtype from `float` to `np.floating` is deprecated. In future, it will be treated as `np.float64 == np.dtype(float).type`.\n",
      "  from ._conv import register_converters as _register_converters\n"
     ]
    }
   ],
   "source": [
    "import omnitool\n",
    "from omnitool.literature_values import *\n",
    "\n",
    "import numpy as np\n",
    "import pandas as pd\n",
    "import matplotlib.pyplot as plt\n",
    "import seaborn as sns"
   ]
  },
  {
   "cell_type": "code",
   "execution_count": 10,
   "metadata": {},
   "outputs": [
    {
     "data": {
      "text/html": [
       "<div>\n",
       "<style scoped>\n",
       "    .dataframe tbody tr th:only-of-type {\n",
       "        vertical-align: middle;\n",
       "    }\n",
       "\n",
       "    .dataframe tbody tr th {\n",
       "        vertical-align: top;\n",
       "    }\n",
       "\n",
       "    .dataframe thead th {\n",
       "        text-align: right;\n",
       "    }\n",
       "</style>\n",
       "<table border=\"1\" class=\"dataframe\">\n",
       "  <thead>\n",
       "    <tr style=\"text-align: right;\">\n",
       "      <th></th>\n",
       "      <th>KICID</th>\n",
       "      <th>numax</th>\n",
       "      <th>numax_err</th>\n",
       "      <th>dnu</th>\n",
       "      <th>dnu_err</th>\n",
       "      <th>Teff</th>\n",
       "      <th>Teff_err</th>\n",
       "      <th>logg</th>\n",
       "      <th>logg_err</th>\n",
       "      <th>[Fe/H]</th>\n",
       "      <th>[Fe/H]_err</th>\n",
       "      <th>stage</th>\n",
       "    </tr>\n",
       "  </thead>\n",
       "  <tbody>\n",
       "    <tr>\n",
       "      <th>0</th>\n",
       "      <td>757137</td>\n",
       "      <td>29.99</td>\n",
       "      <td>0.60</td>\n",
       "      <td>3.399</td>\n",
       "      <td>0.011</td>\n",
       "      <td>4751</td>\n",
       "      <td>139</td>\n",
       "      <td>2.383</td>\n",
       "      <td>0.012</td>\n",
       "      <td>-0.08</td>\n",
       "      <td>0.3</td>\n",
       "      <td>1</td>\n",
       "    </tr>\n",
       "    <tr>\n",
       "      <th>1</th>\n",
       "      <td>892010</td>\n",
       "      <td>17.85</td>\n",
       "      <td>0.89</td>\n",
       "      <td>2.427</td>\n",
       "      <td>0.078</td>\n",
       "      <td>4834</td>\n",
       "      <td>151</td>\n",
       "      <td>2.161</td>\n",
       "      <td>0.023</td>\n",
       "      <td>0.21</td>\n",
       "      <td>0.3</td>\n",
       "      <td>0</td>\n",
       "    </tr>\n",
       "  </tbody>\n",
       "</table>\n",
       "</div>"
      ],
      "text/plain": [
       "    KICID  numax  numax_err    dnu  dnu_err  Teff  Teff_err   logg  logg_err  \\\n",
       "0  757137  29.99       0.60  3.399    0.011  4751       139  2.383     0.012   \n",
       "1  892010  17.85       0.89  2.427    0.078  4834       151  2.161     0.023   \n",
       "\n",
       "   [Fe/H]  [Fe/H]_err  stage  \n",
       "0   -0.08         0.3      1  \n",
       "1    0.21         0.3      0  "
      ]
     },
     "execution_count": 10,
     "metadata": {},
     "output_type": "execute_result"
    }
   ],
   "source": [
    "#Read in Jie Yu\n",
    "sfile = '/home/oliver/PhD/Catalogues/RC_catalogues/Yu+18_table1.txt'\n",
    "cols = ['KICID','numax','err','dnu','err.1']\n",
    "yu18_1 = pd.read_csv(sfile, usecols=cols, sep='|')\n",
    "\n",
    "sfile = '/home/oliver/PhD/Catalogues/RC_catalogues/Yu+18_table2.txt'\n",
    "cols = ['KICID','Teff','logg','err.1','err','Fe/H','err.2','EvoPhase']\n",
    "yu18_2 = pd.read_csv(sfile, usecols=cols, sep='|')\n",
    "yu18 = pd.merge(yu18_1, yu18_2, on='KICID',how='outer')\n",
    "yu18.rename(columns={'EvoPhase':'stage',\n",
    "                    'err_x':'numax_err',\n",
    "                    'err.1_x':'dnu_err',\n",
    "                    'err_y':'Teff_err',\n",
    "                     'Fe/H':'[Fe/H]',\n",
    "                    'err.2':'[Fe/H]_err',\n",
    "                    'err.1_y':'logg_err',\n",
    "                    'err.3_y':'M_err',\n",
    "                    'err.4_y':'R_err'},inplace=True) #For consistency\n",
    "yu18.head(2)"
   ]
  },
  {
   "cell_type": "code",
   "execution_count": 11,
   "metadata": {},
   "outputs": [
    {
     "data": {
      "text/html": [
       "<div>\n",
       "<style scoped>\n",
       "    .dataframe tbody tr th:only-of-type {\n",
       "        vertical-align: middle;\n",
       "    }\n",
       "\n",
       "    .dataframe tbody tr th {\n",
       "        vertical-align: top;\n",
       "    }\n",
       "\n",
       "    .dataframe thead th {\n",
       "        text-align: right;\n",
       "    }\n",
       "</style>\n",
       "<table border=\"1\" class=\"dataframe\">\n",
       "  <thead>\n",
       "    <tr style=\"text-align: right;\">\n",
       "      <th></th>\n",
       "      <th>KICID</th>\n",
       "      <th>RA</th>\n",
       "      <th>DEC</th>\n",
       "      <th>GAIA_PARALLAX</th>\n",
       "      <th>GAIA_PARALLAX_ERR</th>\n",
       "      <th>J_MAG_2M</th>\n",
       "      <th>J_MAG_ERR</th>\n",
       "      <th>H_MAG_2M</th>\n",
       "      <th>H_MAG_ERR</th>\n",
       "      <th>K_MAG_2M</th>\n",
       "      <th>K_MAG_ERR</th>\n",
       "    </tr>\n",
       "  </thead>\n",
       "  <tbody>\n",
       "    <tr>\n",
       "      <th>0</th>\n",
       "      <td>10000207</td>\n",
       "      <td>286.374415</td>\n",
       "      <td>46.910336</td>\n",
       "      <td>-9999.0</td>\n",
       "      <td>-9999.0</td>\n",
       "      <td>10.811</td>\n",
       "      <td>0.021</td>\n",
       "      <td>10.261</td>\n",
       "      <td>0.017</td>\n",
       "      <td>10.172</td>\n",
       "      <td>0.012</td>\n",
       "    </tr>\n",
       "    <tr>\n",
       "      <th>1</th>\n",
       "      <td>10000547</td>\n",
       "      <td>286.591376</td>\n",
       "      <td>46.950447</td>\n",
       "      <td>-9999.0</td>\n",
       "      <td>-9999.0</td>\n",
       "      <td>10.712</td>\n",
       "      <td>0.021</td>\n",
       "      <td>10.247</td>\n",
       "      <td>0.019</td>\n",
       "      <td>10.161</td>\n",
       "      <td>0.014</td>\n",
       "    </tr>\n",
       "  </tbody>\n",
       "</table>\n",
       "</div>"
      ],
      "text/plain": [
       "      KICID          RA        DEC  GAIA_PARALLAX  GAIA_PARALLAX_ERR  \\\n",
       "0  10000207  286.374415  46.910336        -9999.0            -9999.0   \n",
       "1  10000547  286.591376  46.950447        -9999.0            -9999.0   \n",
       "\n",
       "   J_MAG_2M  J_MAG_ERR  H_MAG_2M  H_MAG_ERR  K_MAG_2M  K_MAG_ERR  \n",
       "0    10.811      0.021    10.261      0.017    10.172      0.012  \n",
       "1    10.712      0.021    10.247      0.019    10.161      0.014  "
      ]
     },
     "execution_count": 11,
     "metadata": {},
     "output_type": "execute_result"
    }
   ],
   "source": [
    "#Now lets read in the KICID and relevant information from APOKASC\n",
    "sfile = '/home/oliver/PhD/Catalogues/APOKASC/APOKASC_cat_v3.6.5.txt'\n",
    "cols= ['KEPLER_ID','GAIA_PARALLAX','GAIA_PARALLAX_ERR',\\\n",
    "      'J_MAG_2M', 'J_MAG_ERR', 'H_MAG_2M', 'H_MAG_ERR',\\\n",
    "       'K_MAG_2M', 'K_MAG_ERR','RA','DEC']\n",
    "\n",
    "apokasc = pd.read_csv(sfile, usecols=cols, skiprows=644,sep='\\s+')\n",
    "apokasc.rename(columns={'KEPLER_ID':'KICID'},inplace=True)\n",
    "\n",
    "apokasc.head(2)"
   ]
  },
  {
   "cell_type": "code",
   "execution_count": 12,
   "metadata": {},
   "outputs": [
    {
     "name": "stdout",
     "output_type": "stream",
     "text": [
      "X-matching Yu18 and APOKASC...\n",
      "Before: 16094\n",
      "After: 16094\n"
     ]
    },
    {
     "data": {
      "text/html": [
       "<div>\n",
       "<style scoped>\n",
       "    .dataframe tbody tr th:only-of-type {\n",
       "        vertical-align: middle;\n",
       "    }\n",
       "\n",
       "    .dataframe tbody tr th {\n",
       "        vertical-align: top;\n",
       "    }\n",
       "\n",
       "    .dataframe thead th {\n",
       "        text-align: right;\n",
       "    }\n",
       "</style>\n",
       "<table border=\"1\" class=\"dataframe\">\n",
       "  <thead>\n",
       "    <tr style=\"text-align: right;\">\n",
       "      <th></th>\n",
       "      <th>KICID</th>\n",
       "      <th>numax</th>\n",
       "      <th>numax_err</th>\n",
       "      <th>dnu</th>\n",
       "      <th>dnu_err</th>\n",
       "      <th>Teff</th>\n",
       "      <th>Teff_err</th>\n",
       "      <th>logg</th>\n",
       "      <th>logg_err</th>\n",
       "      <th>[Fe/H]</th>\n",
       "      <th>...</th>\n",
       "      <th>RA</th>\n",
       "      <th>DEC</th>\n",
       "      <th>GAIA_PARALLAX</th>\n",
       "      <th>GAIA_PARALLAX_ERR</th>\n",
       "      <th>J_MAG_2M</th>\n",
       "      <th>J_MAG_ERR</th>\n",
       "      <th>H_MAG_2M</th>\n",
       "      <th>H_MAG_ERR</th>\n",
       "      <th>K_MAG_2M</th>\n",
       "      <th>K_MAG_ERR</th>\n",
       "    </tr>\n",
       "  </thead>\n",
       "  <tbody>\n",
       "    <tr>\n",
       "      <th>0</th>\n",
       "      <td>757137</td>\n",
       "      <td>29.99</td>\n",
       "      <td>0.60</td>\n",
       "      <td>3.399</td>\n",
       "      <td>0.011</td>\n",
       "      <td>4751.0</td>\n",
       "      <td>139.0</td>\n",
       "      <td>2.383</td>\n",
       "      <td>0.012</td>\n",
       "      <td>-0.08</td>\n",
       "      <td>...</td>\n",
       "      <td>NaN</td>\n",
       "      <td>NaN</td>\n",
       "      <td>NaN</td>\n",
       "      <td>NaN</td>\n",
       "      <td>NaN</td>\n",
       "      <td>NaN</td>\n",
       "      <td>NaN</td>\n",
       "      <td>NaN</td>\n",
       "      <td>NaN</td>\n",
       "      <td>NaN</td>\n",
       "    </tr>\n",
       "    <tr>\n",
       "      <th>1</th>\n",
       "      <td>892010</td>\n",
       "      <td>17.85</td>\n",
       "      <td>0.89</td>\n",
       "      <td>2.427</td>\n",
       "      <td>0.078</td>\n",
       "      <td>4834.0</td>\n",
       "      <td>151.0</td>\n",
       "      <td>2.161</td>\n",
       "      <td>0.023</td>\n",
       "      <td>0.21</td>\n",
       "      <td>...</td>\n",
       "      <td>NaN</td>\n",
       "      <td>NaN</td>\n",
       "      <td>NaN</td>\n",
       "      <td>NaN</td>\n",
       "      <td>NaN</td>\n",
       "      <td>NaN</td>\n",
       "      <td>NaN</td>\n",
       "      <td>NaN</td>\n",
       "      <td>NaN</td>\n",
       "      <td>NaN</td>\n",
       "    </tr>\n",
       "  </tbody>\n",
       "</table>\n",
       "<p>2 rows × 22 columns</p>\n",
       "</div>"
      ],
      "text/plain": [
       "    KICID  numax  numax_err    dnu  dnu_err    Teff  Teff_err   logg  \\\n",
       "0  757137  29.99       0.60  3.399    0.011  4751.0     139.0  2.383   \n",
       "1  892010  17.85       0.89  2.427    0.078  4834.0     151.0  2.161   \n",
       "\n",
       "   logg_err  [Fe/H]    ...      RA  DEC  GAIA_PARALLAX  GAIA_PARALLAX_ERR  \\\n",
       "0     0.012   -0.08    ...     NaN  NaN            NaN                NaN   \n",
       "1     0.023    0.21    ...     NaN  NaN            NaN                NaN   \n",
       "\n",
       "   J_MAG_2M  J_MAG_ERR  H_MAG_2M  H_MAG_ERR  K_MAG_2M  K_MAG_ERR  \n",
       "0       NaN        NaN       NaN        NaN       NaN        NaN  \n",
       "1       NaN        NaN       NaN        NaN       NaN        NaN  \n",
       "\n",
       "[2 rows x 22 columns]"
      ]
     },
     "execution_count": 12,
     "metadata": {},
     "output_type": "execute_result"
    }
   ],
   "source": [
    "#Now lets combine and make cuts\n",
    "print('X-matching Yu18 and APOKASC...')\n",
    "print('Before: '+str(len(yu18)))\n",
    "df = pd.merge(yu18, apokasc, on='KICID',how='outer').reindex()\n",
    "df = df[~df.numax.isnull()].reindex()\n",
    "print('After: '+str(len(df)))\n",
    "df.head(2)"
   ]
  },
  {
   "cell_type": "code",
   "execution_count": 13,
   "metadata": {},
   "outputs": [
    {
     "name": "stdout",
     "output_type": "stream",
     "text": [
      "X-matching Yu18xAPOKASC and Gaia Data\n",
      "Before: 16094\n",
      "After: 2212\n"
     ]
    },
    {
     "data": {
      "text/html": [
       "<div>\n",
       "<style scoped>\n",
       "    .dataframe tbody tr th:only-of-type {\n",
       "        vertical-align: middle;\n",
       "    }\n",
       "\n",
       "    .dataframe tbody tr th {\n",
       "        vertical-align: top;\n",
       "    }\n",
       "\n",
       "    .dataframe thead th {\n",
       "        text-align: right;\n",
       "    }\n",
       "</style>\n",
       "<table border=\"1\" class=\"dataframe\">\n",
       "  <thead>\n",
       "    <tr style=\"text-align: right;\">\n",
       "      <th></th>\n",
       "      <th>KICID</th>\n",
       "      <th>numax</th>\n",
       "      <th>numax_err</th>\n",
       "      <th>dnu</th>\n",
       "      <th>dnu_err</th>\n",
       "      <th>Teff</th>\n",
       "      <th>Teff_err</th>\n",
       "      <th>logg</th>\n",
       "      <th>logg_err</th>\n",
       "      <th>[Fe/H]</th>\n",
       "      <th>...</th>\n",
       "      <th>RA</th>\n",
       "      <th>DEC</th>\n",
       "      <th>GAIA_PARALLAX</th>\n",
       "      <th>GAIA_PARALLAX_ERR</th>\n",
       "      <th>J_MAG_2M</th>\n",
       "      <th>J_MAG_ERR</th>\n",
       "      <th>H_MAG_2M</th>\n",
       "      <th>H_MAG_ERR</th>\n",
       "      <th>K_MAG_2M</th>\n",
       "      <th>K_MAG_ERR</th>\n",
       "    </tr>\n",
       "  </thead>\n",
       "  <tbody>\n",
       "    <tr>\n",
       "      <th>16</th>\n",
       "      <td>1160789</td>\n",
       "      <td>24.72</td>\n",
       "      <td>0.62</td>\n",
       "      <td>3.509</td>\n",
       "      <td>0.048</td>\n",
       "      <td>4724.0</td>\n",
       "      <td>80.0</td>\n",
       "      <td>2.297</td>\n",
       "      <td>0.012</td>\n",
       "      <td>-0.27</td>\n",
       "      <td>...</td>\n",
       "      <td>290.886667</td>\n",
       "      <td>36.872429</td>\n",
       "      <td>1.34998</td>\n",
       "      <td>0.321796</td>\n",
       "      <td>8.133</td>\n",
       "      <td>0.021</td>\n",
       "      <td>7.593</td>\n",
       "      <td>0.021</td>\n",
       "      <td>7.497</td>\n",
       "      <td>0.017</td>\n",
       "    </tr>\n",
       "    <tr>\n",
       "      <th>18</th>\n",
       "      <td>1161618</td>\n",
       "      <td>34.32</td>\n",
       "      <td>0.50</td>\n",
       "      <td>4.108</td>\n",
       "      <td>0.028</td>\n",
       "      <td>4747.0</td>\n",
       "      <td>80.0</td>\n",
       "      <td>2.441</td>\n",
       "      <td>0.009</td>\n",
       "      <td>0.08</td>\n",
       "      <td>...</td>\n",
       "      <td>291.108918</td>\n",
       "      <td>36.813293</td>\n",
       "      <td>1.22824</td>\n",
       "      <td>0.357921</td>\n",
       "      <td>8.542</td>\n",
       "      <td>0.018</td>\n",
       "      <td>7.974</td>\n",
       "      <td>0.026</td>\n",
       "      <td>7.887</td>\n",
       "      <td>0.018</td>\n",
       "    </tr>\n",
       "  </tbody>\n",
       "</table>\n",
       "<p>2 rows × 22 columns</p>\n",
       "</div>"
      ],
      "text/plain": [
       "      KICID  numax  numax_err    dnu  dnu_err    Teff  Teff_err   logg  \\\n",
       "16  1160789  24.72       0.62  3.509    0.048  4724.0      80.0  2.297   \n",
       "18  1161618  34.32       0.50  4.108    0.028  4747.0      80.0  2.441   \n",
       "\n",
       "    logg_err  [Fe/H]    ...              RA        DEC  GAIA_PARALLAX  \\\n",
       "16     0.012   -0.27    ...      290.886667  36.872429        1.34998   \n",
       "18     0.009    0.08    ...      291.108918  36.813293        1.22824   \n",
       "\n",
       "    GAIA_PARALLAX_ERR  J_MAG_2M  J_MAG_ERR  H_MAG_2M  H_MAG_ERR  K_MAG_2M  \\\n",
       "16           0.321796     8.133      0.021     7.593      0.021     7.497   \n",
       "18           0.357921     8.542      0.018     7.974      0.026     7.887   \n",
       "\n",
       "    K_MAG_ERR  \n",
       "16      0.017  \n",
       "18      0.018  \n",
       "\n",
       "[2 rows x 22 columns]"
      ]
     },
     "execution_count": 13,
     "metadata": {},
     "output_type": "execute_result"
    }
   ],
   "source": [
    "#Now lets combine and make cuts\n",
    "print('X-matching Yu18xAPOKASC and Gaia Data')\n",
    "print('Before: '+str(len(df)))\n",
    "df = df[~df.GAIA_PARALLAX.isnull()].reindex()\n",
    "df = df[df.GAIA_PARALLAX > -9000.].reindex()\n",
    "print('After: '+str(len(df)))\n",
    "df.head(2)"
   ]
  },
  {
   "cell_type": "code",
   "execution_count": 14,
   "metadata": {},
   "outputs": [
    {
     "name": "stdout",
     "output_type": "stream",
     "text": [
      "Removing negative parallaxes & those with error < 40%\n",
      "Before: 2212\n",
      "After: 1256\n"
     ]
    },
    {
     "data": {
      "text/html": [
       "<div>\n",
       "<style scoped>\n",
       "    .dataframe tbody tr th:only-of-type {\n",
       "        vertical-align: middle;\n",
       "    }\n",
       "\n",
       "    .dataframe tbody tr th {\n",
       "        vertical-align: top;\n",
       "    }\n",
       "\n",
       "    .dataframe thead th {\n",
       "        text-align: right;\n",
       "    }\n",
       "</style>\n",
       "<table border=\"1\" class=\"dataframe\">\n",
       "  <thead>\n",
       "    <tr style=\"text-align: right;\">\n",
       "      <th></th>\n",
       "      <th>KICID</th>\n",
       "      <th>numax</th>\n",
       "      <th>numax_err</th>\n",
       "      <th>dnu</th>\n",
       "      <th>dnu_err</th>\n",
       "      <th>Teff</th>\n",
       "      <th>Teff_err</th>\n",
       "      <th>logg</th>\n",
       "      <th>logg_err</th>\n",
       "      <th>[Fe/H]</th>\n",
       "      <th>...</th>\n",
       "      <th>RA</th>\n",
       "      <th>DEC</th>\n",
       "      <th>GAIA_PARALLAX</th>\n",
       "      <th>GAIA_PARALLAX_ERR</th>\n",
       "      <th>J_MAG_2M</th>\n",
       "      <th>J_MAG_ERR</th>\n",
       "      <th>H_MAG_2M</th>\n",
       "      <th>H_MAG_ERR</th>\n",
       "      <th>K_MAG_2M</th>\n",
       "      <th>K_MAG_ERR</th>\n",
       "    </tr>\n",
       "  </thead>\n",
       "  <tbody>\n",
       "    <tr>\n",
       "      <th>16</th>\n",
       "      <td>1160789</td>\n",
       "      <td>24.72</td>\n",
       "      <td>0.62</td>\n",
       "      <td>3.509</td>\n",
       "      <td>0.048</td>\n",
       "      <td>4724.0</td>\n",
       "      <td>80.0</td>\n",
       "      <td>2.297</td>\n",
       "      <td>0.012</td>\n",
       "      <td>-0.27</td>\n",
       "      <td>...</td>\n",
       "      <td>290.886667</td>\n",
       "      <td>36.872429</td>\n",
       "      <td>1.34998</td>\n",
       "      <td>0.321796</td>\n",
       "      <td>8.133</td>\n",
       "      <td>0.021</td>\n",
       "      <td>7.593</td>\n",
       "      <td>0.021</td>\n",
       "      <td>7.497</td>\n",
       "      <td>0.017</td>\n",
       "    </tr>\n",
       "    <tr>\n",
       "      <th>18</th>\n",
       "      <td>1161618</td>\n",
       "      <td>34.32</td>\n",
       "      <td>0.50</td>\n",
       "      <td>4.108</td>\n",
       "      <td>0.028</td>\n",
       "      <td>4747.0</td>\n",
       "      <td>80.0</td>\n",
       "      <td>2.441</td>\n",
       "      <td>0.009</td>\n",
       "      <td>0.08</td>\n",
       "      <td>...</td>\n",
       "      <td>291.108918</td>\n",
       "      <td>36.813293</td>\n",
       "      <td>1.22824</td>\n",
       "      <td>0.357921</td>\n",
       "      <td>8.542</td>\n",
       "      <td>0.018</td>\n",
       "      <td>7.974</td>\n",
       "      <td>0.026</td>\n",
       "      <td>7.887</td>\n",
       "      <td>0.018</td>\n",
       "    </tr>\n",
       "  </tbody>\n",
       "</table>\n",
       "<p>2 rows × 22 columns</p>\n",
       "</div>"
      ],
      "text/plain": [
       "      KICID  numax  numax_err    dnu  dnu_err    Teff  Teff_err   logg  \\\n",
       "16  1160789  24.72       0.62  3.509    0.048  4724.0      80.0  2.297   \n",
       "18  1161618  34.32       0.50  4.108    0.028  4747.0      80.0  2.441   \n",
       "\n",
       "    logg_err  [Fe/H]    ...              RA        DEC  GAIA_PARALLAX  \\\n",
       "16     0.012   -0.27    ...      290.886667  36.872429        1.34998   \n",
       "18     0.009    0.08    ...      291.108918  36.813293        1.22824   \n",
       "\n",
       "    GAIA_PARALLAX_ERR  J_MAG_2M  J_MAG_ERR  H_MAG_2M  H_MAG_ERR  K_MAG_2M  \\\n",
       "16           0.321796     8.133      0.021     7.593      0.021     7.497   \n",
       "18           0.357921     8.542      0.018     7.974      0.026     7.887   \n",
       "\n",
       "    K_MAG_ERR  \n",
       "16      0.017  \n",
       "18      0.018  \n",
       "\n",
       "[2 rows x 22 columns]"
      ]
     },
     "execution_count": 14,
     "metadata": {},
     "output_type": "execute_result"
    }
   ],
   "source": [
    "#Kill negative parallaxes\n",
    "print('Removing negative parallaxes & those with error < 40%')\n",
    "print('Before: '+str(len(df)))\n",
    "sel = (df.GAIA_PARALLAX_ERR < 0.4*df.GAIA_PARALLAX) & (df.GAIA_PARALLAX > 0.)\n",
    "df = df[sel].reindex()\n",
    "print('After: '+str(len(df)))\n",
    "df.head(2)"
   ]
  },
  {
   "cell_type": "code",
   "execution_count": 15,
   "metadata": {},
   "outputs": [
    {
     "name": "stderr",
     "output_type": "stream",
     "text": [
      "/usr/local/lib/python2.7/dist-packages/ipykernel_launcher.py:3: SettingWithCopyWarning: \n",
      "A value is trying to be set on a copy of a slice from a DataFrame\n",
      "\n",
      "See the caveats in the documentation: http://pandas.pydata.org/pandas-docs/stable/indexing.html#indexing-view-versus-copy\n",
      "  This is separate from the ipykernel package so we can avoid doing imports until\n",
      "/usr/local/lib/python2.7/dist-packages/ipykernel_launcher.py:5: SettingWithCopyWarning: \n",
      "A value is trying to be set on a copy of a slice from a DataFrame\n",
      "\n",
      "See the caveats in the documentation: http://pandas.pydata.org/pandas-docs/stable/indexing.html#indexing-view-versus-copy\n",
      "  \"\"\"\n",
      "/usr/local/lib/python2.7/dist-packages/ipykernel_launcher.py:7: SettingWithCopyWarning: \n",
      "A value is trying to be set on a copy of a slice from a DataFrame\n",
      "\n",
      "See the caveats in the documentation: http://pandas.pydata.org/pandas-docs/stable/indexing.html#indexing-view-versus-copy\n",
      "  import sys\n",
      "/usr/local/lib/python2.7/dist-packages/ipykernel_launcher.py:11: SettingWithCopyWarning: \n",
      "A value is trying to be set on a copy of a slice from a DataFrame\n",
      "\n",
      "See the caveats in the documentation: http://pandas.pydata.org/pandas-docs/stable/indexing.html#indexing-view-versus-copy\n",
      "  # This is added back by InteractiveShellApp.init_path()\n",
      "/usr/local/lib/python2.7/dist-packages/ipykernel_launcher.py:13: SettingWithCopyWarning: \n",
      "A value is trying to be set on a copy of a slice from a DataFrame\n",
      "\n",
      "See the caveats in the documentation: http://pandas.pydata.org/pandas-docs/stable/indexing.html#indexing-view-versus-copy\n",
      "  del sys.path[0]\n",
      "/usr/local/lib/python2.7/dist-packages/ipykernel_launcher.py:15: SettingWithCopyWarning: \n",
      "A value is trying to be set on a copy of a slice from a DataFrame\n",
      "\n",
      "See the caveats in the documentation: http://pandas.pydata.org/pandas-docs/stable/indexing.html#indexing-view-versus-copy\n",
      "  from ipykernel import kernelapp as app\n"
     ]
    }
   ],
   "source": [
    "#Replacing negative magnitude error spaces with 0. errors\n",
    "sel = df.K_MAG_ERR <0.\n",
    "df['K_MAG_ERR'][sel] = 0.\n",
    "sel = df.H_MAG_ERR <0.\n",
    "df['H_MAG_ERR'][sel] = 0.\n",
    "sel = df.J_MAG_ERR <0.\n",
    "df['J_MAG_ERR'][sel] = 0.\n",
    "\n",
    "#Finally, killing any ridiculous magnitude error outliers as unrealistic\n",
    "sel = df.K_MAG_ERR >9.\n",
    "df['K_MAG_ERR'][sel] = 0.\n",
    "sel = df.H_MAG_ERR >9.\n",
    "df['H_MAG_ERR'][sel] = 0.\n",
    "sel = df.J_MAG_ERR >9.\n",
    "df['J_MAG_ERR'][sel] = 0.\n"
   ]
  },
  {
   "cell_type": "code",
   "execution_count": 16,
   "metadata": {},
   "outputs": [
    {
     "data": {
      "text/plain": [
       "'Now lets get run the scaling relations and get the abs magnitudes'"
      ]
     },
     "execution_count": 16,
     "metadata": {},
     "output_type": "execute_result"
    }
   ],
   "source": [
    "'''Now lets get run the scaling relations and get the abs magnitudes'''"
   ]
  },
  {
   "cell_type": "code",
   "execution_count": 17,
   "metadata": {},
   "outputs": [],
   "source": [
    "#First, lets use asteroseismology scaling relations\n",
    "sc = omnitool.scalings(df, df.numax, df.dnu, df. Teff,\\\n",
    "                      _numax_err = df.numax_err, _dnu_err = df.dnu_err,\\\n",
    "                      _Teff_err = df.Teff_err)\n",
    "df['R'] = sc.get_radius()/Rsol\n",
    "df['R_err'] = sc.get_radius_err()/Rsol\n",
    "df['M'] = sc.get_mass()/Msol\n",
    "df['M_err'] = sc.get_mass_err()/Msol\n",
    "df['logg'] = sc.get_logg()\n",
    "df['logg_err'] = sc.get_logg_err()\n",
    "df['L'] = sc.get_luminosity()/Lsol\n",
    "df['L_err'] = sc.get_luminosity_err()/Lsol\n",
    "df['Mbol'] = sc.get_bolmag()\n",
    "df['Mbol_err'] = sc.get_bolmag_err()\n",
    "df['Z'] = Zsol * 10 ** df['[Fe/H]'].values"
   ]
  },
  {
   "cell_type": "code",
   "execution_count": 18,
   "metadata": {},
   "outputs": [
    {
     "name": "stderr",
     "output_type": "stream",
     "text": [
      "100%|██████████| 1256/1256 [00:00<00:00, 1751.51it/s]\n",
      "100%|██████████| 1256/1256 [00:00<00:00, 1762.22it/s]\n",
      "100%|██████████| 1256/1256 [00:00<00:00, 1765.84it/s]\n"
     ]
    }
   ],
   "source": [
    "#Now lets get the bolometric corrections\n",
    "get_bc = omnitool.bolometric_correction(df.Teff.values,\\\n",
    "                                       df.logg.values,\\\n",
    "                                       df.Z.values,)\n",
    "KBC = get_bc(band='Ks')\n",
    "HBC = get_bc(band='H')\n",
    "JBC = get_bc(band='J')"
   ]
  },
  {
   "cell_type": "code",
   "execution_count": 19,
   "metadata": {},
   "outputs": [],
   "source": [
    "#And finally, calculate the absolute magnitudes with appropriate error\n",
    "df['ast_MKs'] = df.Mbol - KBC\n",
    "df['ast_MH'] = df.Mbol - HBC\n",
    "df['ast_MJ'] = df.Mbol - JBC\n",
    "df['ast_M_err'] = np.sqrt(df.Mbol_err**2 + err_bc**2)"
   ]
  },
  {
   "cell_type": "code",
   "execution_count": 25,
   "metadata": {},
   "outputs": [
    {
     "name": "stdout",
     "output_type": "stream",
     "text": [
      "Are you 100% certain that (all) parallax(es) is/are in units of milliarcsec?\n"
     ]
    }
   ],
   "source": [
    "#Now, lets use photometry\n",
    "sg = omnitool.spyglass()\n",
    "sg.pass_parallax(df.GAIA_PARALLAX, err = df.GAIA_PARALLAX_ERR)\n",
    "sg.pass_position(df.RA, df.DEC, frame='icrs')"
   ]
  },
  {
   "cell_type": "code",
   "execution_count": 26,
   "metadata": {},
   "outputs": [],
   "source": [
    "#Now lets read in the various magnitude values and get out the results\n",
    "sg.pass_magnitude(df.K_MAG_2M, err = df.K_MAG_ERR, band='Ks')\n",
    "df['phot_MKs'], df['phot_MKs_err'] = sg.get_M()\n",
    "\n",
    "sg.pass_magnitude(df.H_MAG_2M, err = df.H_MAG_ERR, band='H')\n",
    "df['phot_MH'], df['phot_MH_err'] = sg.get_M()\n",
    "\n",
    "sg.pass_magnitude(df.J_MAG_2M, err = df.J_MAG_ERR, band='J')\n",
    "df['phot_MJ'], df['phot_MJ_err'] = sg.get_M()"
   ]
  },
  {
   "cell_type": "code",
   "execution_count": 27,
   "metadata": {},
   "outputs": [
    {
     "data": {
      "text/plain": [
       "'Now its time for plots!'"
      ]
     },
     "execution_count": 27,
     "metadata": {},
     "output_type": "execute_result"
    }
   ],
   "source": [
    "'''Now its time for plots!'''"
   ]
  },
  {
   "cell_type": "code",
   "execution_count": 28,
   "metadata": {},
   "outputs": [
    {
     "data": {
      "image/png": "[encoded data removed]",
      "text/plain": [
       "<matplotlib.figure.Figure at 0x7f976333df50>"
      ]
     },
     "metadata": {},
     "output_type": "display_data"
    },
    {
     "data": {
      "image/png": "[encoded data removed]",
      "text/plain": [
       "<matplotlib.figure.Figure at 0x7f97632e9d90>"
      ]
     },
     "metadata": {},
     "output_type": "display_data"
    }
   ],
   "source": [
    "sns.distplot(df.ast_MKs, label='Ks')\n",
    "sns.distplot(df.ast_MH,label='H')\n",
    "sns.distplot(df.ast_MJ,label='J')\n",
    "plt.axvspan(hawkvals['Ks']-hawkerr,hawkvals['Ks']+hawkerr,alpha=.5,color='k',label='Hawkins in K,H,J')\n",
    "plt.axvspan(hawkvals['H']-hawkerr,hawkvals['H']+hawkerr,alpha=.5,color='k')\n",
    "plt.axvspan(hawkvals['J']-hawkerr,hawkvals['J']+hawkerr,alpha=.5,color='k')\n",
    "plt.title('Absolute magnitudes obtained through seismology')\n",
    "plt.xlabel('Absolute Magnitude')\n",
    "plt.legend()\n",
    "plt.show()\n",
    "\n",
    "sns.distplot(df.phot_MKs, label='Ks')\n",
    "sns.distplot(df.phot_MH,label='H')\n",
    "sns.distplot(df.phot_MJ,label='J')\n",
    "plt.axvspan(hawkvals['Ks']-hawkerr,hawkvals['Ks']+hawkerr,alpha=.5,color='k',label='Hawkins in K,H,J')\n",
    "plt.axvspan(hawkvals['H']-hawkerr,hawkvals['H']+hawkerr,alpha=.5,color='k')\n",
    "plt.axvspan(hawkvals['J']-hawkerr,hawkvals['J']+hawkerr,alpha=.5,color='k')\n",
    "plt.title('Absolute magnitudes obtained through astrometry')\n",
    "plt.xlabel('Absolute Magnitude')\n",
    "plt.legend()\n",
    "plt.show()"
   ]
  },
  {
   "cell_type": "code",
   "execution_count": null,
   "metadata": {},
   "outputs": [],
   "source": [
    "sel = df.stage == 2\n",
    "sns.distplot(df.ast_MKs[sel], label='Ks')\n",
    "sns.distplot(df.ast_MKs[~sel])\n",
    "plt.show()"
   ]
  },
  {
   "cell_type": "code",
   "execution_count": 21,
   "metadata": {},
   "outputs": [
    {
     "ename": "AttributeError",
     "evalue": "'DataFrame' object has no attribute 'phot_MKs'",
     "output_type": "error",
     "traceback": [
      "\u001b[0;31m---------------------------------------------------------------------------\u001b[0m",
      "\u001b[0;31mAttributeError\u001b[0m                            Traceback (most recent call last)",
      "\u001b[0;32m<ipython-input-21-a274fe52df53>\u001b[0m in \u001b[0;36m<module>\u001b[0;34m()\u001b[0m\n\u001b[1;32m      1\u001b[0m \u001b[0;31m#Lets calculate the magnitude differences\u001b[0m\u001b[0;34m\u001b[0m\u001b[0;34m\u001b[0m\u001b[0m\n\u001b[0;32m----> 2\u001b[0;31m \u001b[0mKdiff\u001b[0m \u001b[0;34m=\u001b[0m \u001b[0mdf\u001b[0m\u001b[0;34m.\u001b[0m\u001b[0mast_MKs\u001b[0m \u001b[0;34m-\u001b[0m \u001b[0mdf\u001b[0m\u001b[0;34m.\u001b[0m\u001b[0mphot_MKs\u001b[0m\u001b[0;34m\u001b[0m\u001b[0m\n\u001b[0m\u001b[1;32m      3\u001b[0m \u001b[0mKdiff_err\u001b[0m \u001b[0;34m=\u001b[0m \u001b[0mnp\u001b[0m\u001b[0;34m.\u001b[0m\u001b[0msqrt\u001b[0m\u001b[0;34m(\u001b[0m\u001b[0mdf\u001b[0m\u001b[0;34m.\u001b[0m\u001b[0mphot_MKs_err\u001b[0m\u001b[0;34m**\u001b[0m\u001b[0;36m2\u001b[0m \u001b[0;34m+\u001b[0m \u001b[0mdf\u001b[0m\u001b[0;34m.\u001b[0m\u001b[0mast_M_err\u001b[0m\u001b[0;34m**\u001b[0m\u001b[0;36m2\u001b[0m\u001b[0;34m)\u001b[0m\u001b[0;34m\u001b[0m\u001b[0m\n\u001b[1;32m      4\u001b[0m \u001b[0;34m\u001b[0m\u001b[0m\n\u001b[1;32m      5\u001b[0m \u001b[0mHdiff\u001b[0m \u001b[0;34m=\u001b[0m \u001b[0mdf\u001b[0m\u001b[0;34m.\u001b[0m\u001b[0mast_MH\u001b[0m \u001b[0;34m-\u001b[0m \u001b[0mdf\u001b[0m\u001b[0;34m.\u001b[0m\u001b[0mphot_MH\u001b[0m\u001b[0;34m\u001b[0m\u001b[0m\n",
      "\u001b[0;32m/usr/local/lib/python2.7/dist-packages/pandas/core/generic.pyc\u001b[0m in \u001b[0;36m__getattr__\u001b[0;34m(self, name)\u001b[0m\n\u001b[1;32m   3612\u001b[0m             \u001b[0;32mif\u001b[0m \u001b[0mname\u001b[0m \u001b[0;32min\u001b[0m \u001b[0mself\u001b[0m\u001b[0;34m.\u001b[0m\u001b[0m_info_axis\u001b[0m\u001b[0;34m:\u001b[0m\u001b[0;34m\u001b[0m\u001b[0m\n\u001b[1;32m   3613\u001b[0m                 \u001b[0;32mreturn\u001b[0m \u001b[0mself\u001b[0m\u001b[0;34m[\u001b[0m\u001b[0mname\u001b[0m\u001b[0;34m]\u001b[0m\u001b[0;34m\u001b[0m\u001b[0m\n\u001b[0;32m-> 3614\u001b[0;31m             \u001b[0;32mreturn\u001b[0m \u001b[0mobject\u001b[0m\u001b[0;34m.\u001b[0m\u001b[0m__getattribute__\u001b[0m\u001b[0;34m(\u001b[0m\u001b[0mself\u001b[0m\u001b[0;34m,\u001b[0m \u001b[0mname\u001b[0m\u001b[0;34m)\u001b[0m\u001b[0;34m\u001b[0m\u001b[0m\n\u001b[0m\u001b[1;32m   3615\u001b[0m \u001b[0;34m\u001b[0m\u001b[0m\n\u001b[1;32m   3616\u001b[0m     \u001b[0;32mdef\u001b[0m \u001b[0m__setattr__\u001b[0m\u001b[0;34m(\u001b[0m\u001b[0mself\u001b[0m\u001b[0;34m,\u001b[0m \u001b[0mname\u001b[0m\u001b[0;34m,\u001b[0m \u001b[0mvalue\u001b[0m\u001b[0;34m)\u001b[0m\u001b[0;34m:\u001b[0m\u001b[0;34m\u001b[0m\u001b[0m\n",
      "\u001b[0;31mAttributeError\u001b[0m: 'DataFrame' object has no attribute 'phot_MKs'"
     ]
    }
   ],
   "source": [
    "#Lets calculate the magnitude differences\n",
    "Kdiff = df.ast_MKs - df.phot_MKs\n",
    "Kdiff_err = np.sqrt(df.phot_MKs_err**2 + df.ast_M_err**2)\n",
    "\n",
    "Hdiff = df.ast_MH - df.phot_MH\n",
    "Hdiff_err = np.sqrt(df.phot_MH_err**2 + df.ast_M_err**2)\n",
    "\n",
    "Jdiff = df.ast_MJ - df.phot_MJ\n",
    "Jdiff_err = np.sqrt(df.phot_MJ_err**2 + df.ast_M_err**2)"
   ]
  },
  {
   "cell_type": "code",
   "execution_count": 22,
   "metadata": {},
   "outputs": [
    {
     "ename": "AttributeError",
     "evalue": "'DataFrame' object has no attribute 'phot_MKs'",
     "output_type": "error",
     "traceback": [
      "\u001b[0;31m---------------------------------------------------------------------------\u001b[0m",
      "\u001b[0;31mAttributeError\u001b[0m                            Traceback (most recent call last)",
      "\u001b[0;32m<ipython-input-22-5497cc573347>\u001b[0m in \u001b[0;36m<module>\u001b[0;34m()\u001b[0m\n\u001b[1;32m      1\u001b[0m \u001b[0;31m#Plot differences between the two magnitudes\u001b[0m\u001b[0;34m\u001b[0m\u001b[0;34m\u001b[0m\u001b[0m\n\u001b[1;32m      2\u001b[0m \u001b[0mfig\u001b[0m\u001b[0;34m,\u001b[0m \u001b[0max\u001b[0m \u001b[0;34m=\u001b[0m \u001b[0mplt\u001b[0m\u001b[0;34m.\u001b[0m\u001b[0msubplots\u001b[0m\u001b[0;34m(\u001b[0m\u001b[0;34m)\u001b[0m\u001b[0;34m\u001b[0m\u001b[0m\n\u001b[0;32m----> 3\u001b[0;31m \u001b[0mdiff\u001b[0m \u001b[0;34m=\u001b[0m \u001b[0mdf\u001b[0m\u001b[0;34m.\u001b[0m\u001b[0mast_MKs\u001b[0m \u001b[0;34m-\u001b[0m \u001b[0mdf\u001b[0m\u001b[0;34m.\u001b[0m\u001b[0mphot_MKs\u001b[0m\u001b[0;34m\u001b[0m\u001b[0m\n\u001b[0m\u001b[1;32m      4\u001b[0m \u001b[0merr\u001b[0m \u001b[0;34m=\u001b[0m \u001b[0mnp\u001b[0m\u001b[0;34m.\u001b[0m\u001b[0msqrt\u001b[0m\u001b[0;34m(\u001b[0m\u001b[0mdf\u001b[0m\u001b[0;34m.\u001b[0m\u001b[0mphot_MKs_err\u001b[0m\u001b[0;34m**\u001b[0m\u001b[0;36m2\u001b[0m \u001b[0;34m+\u001b[0m \u001b[0mdf\u001b[0m\u001b[0;34m.\u001b[0m\u001b[0mast_M_err\u001b[0m\u001b[0;34m**\u001b[0m\u001b[0;36m2\u001b[0m\u001b[0;34m)\u001b[0m\u001b[0;34m\u001b[0m\u001b[0m\n\u001b[1;32m      5\u001b[0m \u001b[0max\u001b[0m\u001b[0;34m.\u001b[0m\u001b[0mscatter\u001b[0m\u001b[0;34m(\u001b[0m\u001b[0mdf\u001b[0m\u001b[0;34m.\u001b[0m\u001b[0mast_MKs\u001b[0m\u001b[0;34m,\u001b[0m\u001b[0mdiff\u001b[0m\u001b[0;34m,\u001b[0m\u001b[0ms\u001b[0m\u001b[0;34m=\u001b[0m\u001b[0;36m1\u001b[0m\u001b[0;34m,\u001b[0m\u001b[0mc\u001b[0m\u001b[0;34m=\u001b[0m\u001b[0mdf\u001b[0m\u001b[0;34m.\u001b[0m\u001b[0mstage\u001b[0m\u001b[0;34m,\u001b[0m\u001b[0mzorder\u001b[0m\u001b[0;34m=\u001b[0m\u001b[0;36m1000\u001b[0m\u001b[0;34m)\u001b[0m\u001b[0;34m\u001b[0m\u001b[0m\n",
      "\u001b[0;32m/usr/local/lib/python2.7/dist-packages/pandas/core/generic.pyc\u001b[0m in \u001b[0;36m__getattr__\u001b[0;34m(self, name)\u001b[0m\n\u001b[1;32m   3612\u001b[0m             \u001b[0;32mif\u001b[0m \u001b[0mname\u001b[0m \u001b[0;32min\u001b[0m \u001b[0mself\u001b[0m\u001b[0;34m.\u001b[0m\u001b[0m_info_axis\u001b[0m\u001b[0;34m:\u001b[0m\u001b[0;34m\u001b[0m\u001b[0m\n\u001b[1;32m   3613\u001b[0m                 \u001b[0;32mreturn\u001b[0m \u001b[0mself\u001b[0m\u001b[0;34m[\u001b[0m\u001b[0mname\u001b[0m\u001b[0;34m]\u001b[0m\u001b[0;34m\u001b[0m\u001b[0m\n\u001b[0;32m-> 3614\u001b[0;31m             \u001b[0;32mreturn\u001b[0m \u001b[0mobject\u001b[0m\u001b[0;34m.\u001b[0m\u001b[0m__getattribute__\u001b[0m\u001b[0;34m(\u001b[0m\u001b[0mself\u001b[0m\u001b[0;34m,\u001b[0m \u001b[0mname\u001b[0m\u001b[0;34m)\u001b[0m\u001b[0;34m\u001b[0m\u001b[0m\n\u001b[0m\u001b[1;32m   3615\u001b[0m \u001b[0;34m\u001b[0m\u001b[0m\n\u001b[1;32m   3616\u001b[0m     \u001b[0;32mdef\u001b[0m \u001b[0m__setattr__\u001b[0m\u001b[0;34m(\u001b[0m\u001b[0mself\u001b[0m\u001b[0;34m,\u001b[0m \u001b[0mname\u001b[0m\u001b[0;34m,\u001b[0m \u001b[0mvalue\u001b[0m\u001b[0;34m)\u001b[0m\u001b[0;34m:\u001b[0m\u001b[0;34m\u001b[0m\u001b[0m\n",
      "\u001b[0;31mAttributeError\u001b[0m: 'DataFrame' object has no attribute 'phot_MKs'"
     ]
    },
    {
     "data": {
      "image/png": "[encoded data removed]",
      "text/plain": [
       "<matplotlib.figure.Figure at 0x7f9762efd110>"
      ]
     },
     "metadata": {},
     "output_type": "display_data"
    }
   ],
   "source": [
    "#Plot differences between the two magnitudes\n",
    "fig, ax = plt.subplots()\n",
    "diff = df.ast_MKs - df.phot_MKs\n",
    "err = np.sqrt(df.phot_MKs_err**2 + df.ast_M_err**2)\n",
    "ax.scatter(df.ast_MKs,diff,s=1,c=df.stage,zorder=1000)\n",
    "ax.errorbar(df.ast_MKs,diff,xerr=df.ast_M_err,yerr=err,alpha=.5,fmt='none',c='grey',zorder=999)\n",
    "ax.axhline(0.,linestyle='-.',c='r')\n",
    "ax.set_xlabel('Asteroseismic K-band absmag')\n",
    "ax.set_ylabel('Asteroseismic - asterometric K-band absmag')\n",
    "plt.show()\n",
    "\n",
    "fig, ax = plt.subplots()\n",
    "diff = df.ast_MH - df.phot_MH\n",
    "err = np.sqrt(df.phot_MH_err**2 + df.ast_M_err**2)\n",
    "ax.scatter(df.ast_MH,diff,s=1,c=df.stage,zorder=1000)\n",
    "ax.errorbar(df.ast_MH,diff,xerr=df.ast_M_err,yerr=err,alpha=.5,fmt='none',c='grey',zorder=999)\n",
    "ax.axhline(0.,linestyle='-.',c='r')\n",
    "ax.set_xlabel('Asteroseismic H-band absmag')\n",
    "ax.set_ylabel('Asteroseismic - asterometric H-band absmag')\n",
    "plt.show()\n",
    "\n",
    "fig, ax = plt.subplots()\n",
    "diff = df.ast_MJ - df.phot_MJ\n",
    "err = np.sqrt(df.phot_MJ_err**2 + df.ast_M_err**2)\n",
    "ax.scatter(df.ast_MJ,diff,s=1,c=df.stage,zorder=1000)\n",
    "ax.errorbar(df.ast_MJ,diff,xerr=df.ast_M_err,yerr=err,alpha=.5,fmt='none',c='grey',zorder=999)\n",
    "ax.axhline(0.,linestyle='-.',c='r')\n",
    "ax.set_xlabel('Asteroseismic J-band absmag')\n",
    "ax.set_ylabel('Asteroseismic - asterometric J-band absmag')\n",
    "plt.show()"
   ]
  },
  {
   "cell_type": "code",
   "execution_count": 23,
   "metadata": {},
   "outputs": [
    {
     "ename": "NameError",
     "evalue": "name 'Kdiff' is not defined",
     "output_type": "error",
     "traceback": [
      "\u001b[0;31m---------------------------------------------------------------------------\u001b[0m",
      "\u001b[0;31mNameError\u001b[0m                                 Traceback (most recent call last)",
      "\u001b[0;32m<ipython-input-23-8d9454175a84>\u001b[0m in \u001b[0;36m<module>\u001b[0;34m()\u001b[0m\n\u001b[1;32m      1\u001b[0m \u001b[0;31m#Now lets plot the difference against distance\u001b[0m\u001b[0;34m\u001b[0m\u001b[0;34m\u001b[0m\u001b[0m\n\u001b[1;32m      2\u001b[0m \u001b[0mfig\u001b[0m\u001b[0;34m,\u001b[0m \u001b[0max\u001b[0m \u001b[0;34m=\u001b[0m \u001b[0mplt\u001b[0m\u001b[0;34m.\u001b[0m\u001b[0msubplots\u001b[0m\u001b[0;34m(\u001b[0m\u001b[0;34m)\u001b[0m\u001b[0;34m\u001b[0m\u001b[0m\n\u001b[0;32m----> 3\u001b[0;31m \u001b[0max\u001b[0m\u001b[0;34m.\u001b[0m\u001b[0mscatter\u001b[0m\u001b[0;34m(\u001b[0m\u001b[0mdf\u001b[0m\u001b[0;34m.\u001b[0m\u001b[0mGAIA_PARALLAX\u001b[0m\u001b[0;34m,\u001b[0m\u001b[0mKdiff\u001b[0m\u001b[0;34m,\u001b[0m\u001b[0ms\u001b[0m\u001b[0;34m=\u001b[0m\u001b[0;36m1\u001b[0m\u001b[0;34m,\u001b[0m\u001b[0mc\u001b[0m\u001b[0;34m=\u001b[0m\u001b[0mdf\u001b[0m\u001b[0;34m.\u001b[0m\u001b[0mstage\u001b[0m\u001b[0;34m,\u001b[0m\u001b[0mzorder\u001b[0m\u001b[0;34m=\u001b[0m\u001b[0;36m1000\u001b[0m\u001b[0;34m)\u001b[0m\u001b[0;34m\u001b[0m\u001b[0m\n\u001b[0m\u001b[1;32m      4\u001b[0m \u001b[0max\u001b[0m\u001b[0;34m.\u001b[0m\u001b[0merrorbar\u001b[0m\u001b[0;34m(\u001b[0m\u001b[0mdf\u001b[0m\u001b[0;34m.\u001b[0m\u001b[0mGAIA_PARALLAX\u001b[0m\u001b[0;34m,\u001b[0m\u001b[0mKdiff\u001b[0m\u001b[0;34m,\u001b[0m\u001b[0mxerr\u001b[0m\u001b[0;34m=\u001b[0m\u001b[0mdf\u001b[0m\u001b[0;34m.\u001b[0m\u001b[0mGAIA_PARALLAX_ERR\u001b[0m\u001b[0;34m,\u001b[0m\u001b[0myerr\u001b[0m\u001b[0;34m=\u001b[0m\u001b[0mKdiff_err\u001b[0m\u001b[0;34m,\u001b[0m\u001b[0malpha\u001b[0m\u001b[0;34m=\u001b[0m\u001b[0;36m.5\u001b[0m\u001b[0;34m,\u001b[0m\u001b[0mfmt\u001b[0m\u001b[0;34m=\u001b[0m\u001b[0;34m'none'\u001b[0m\u001b[0;34m,\u001b[0m\u001b[0mc\u001b[0m\u001b[0;34m=\u001b[0m\u001b[0;34m'grey'\u001b[0m\u001b[0;34m,\u001b[0m\u001b[0mzorder\u001b[0m\u001b[0;34m=\u001b[0m\u001b[0;36m999\u001b[0m\u001b[0;34m)\u001b[0m\u001b[0;34m\u001b[0m\u001b[0m\n\u001b[1;32m      5\u001b[0m \u001b[0max\u001b[0m\u001b[0;34m.\u001b[0m\u001b[0maxhline\u001b[0m\u001b[0;34m(\u001b[0m\u001b[0;36m0.\u001b[0m\u001b[0;34m,\u001b[0m\u001b[0mlinestyle\u001b[0m\u001b[0;34m=\u001b[0m\u001b[0;34m'-.'\u001b[0m\u001b[0;34m,\u001b[0m\u001b[0mc\u001b[0m\u001b[0;34m=\u001b[0m\u001b[0;34m'r'\u001b[0m\u001b[0;34m)\u001b[0m\u001b[0;34m\u001b[0m\u001b[0m\n",
      "\u001b[0;31mNameError\u001b[0m: name 'Kdiff' is not defined"
     ]
    },
    {
     "data": {
      "image/png": "[encoded data removed]",
      "text/plain": [
       "<matplotlib.figure.Figure at 0x7f9763e24190>"
      ]
     },
     "metadata": {},
     "output_type": "display_data"
    }
   ],
   "source": [
    "#Now lets plot the difference against distance\n",
    "fig, ax = plt.subplots()\n",
    "ax.scatter(df.GAIA_PARALLAX,Kdiff,s=1,c=df.stage,zorder=1000)\n",
    "ax.errorbar(df.GAIA_PARALLAX,Kdiff,xerr=df.GAIA_PARALLAX_ERR,yerr=Kdiff_err,alpha=.5,fmt='none',c='grey',zorder=999)\n",
    "ax.axhline(0.,linestyle='-.',c='r')\n",
    "ax.set_xlabel('Gaia DR1 Parallax (mas)')\n",
    "ax.set_ylabel('Asteroseismic - asterometric K-band absmag')\n",
    "plt.show()\n",
    "\n",
    "fig, ax = plt.subplots()\n",
    "ax.scatter(df.GAIA_PARALLAX,Hdiff,s=1,c=df.stage,zorder=1000)\n",
    "ax.errorbar(df.GAIA_PARALLAX,Hdiff,xerr=df.GAIA_PARALLAX_ERR,yerr=Hdiff_err,alpha=.5,fmt='none',c='grey',zorder=999)\n",
    "ax.axhline(0.,linestyle='-.',c='r')\n",
    "ax.set_xlabel('Gaia DR1 Parallax (mas)')\n",
    "ax.set_ylabel('Asteroseismic - asterometric H-band absmag')\n",
    "plt.show()\n",
    "\n",
    "fig, ax = plt.subplots()\n",
    "ax.scatter(df.GAIA_PARALLAX,Jdiff,s=1,c=df.stage,zorder=1000)\n",
    "ax.errorbar(df.GAIA_PARALLAX,Jdiff,xerr=df.GAIA_PARALLAX_ERR,yerr=Jdiff_err,alpha=.5,fmt='none',c='grey',zorder=999)\n",
    "ax.axhline(0.,linestyle='-.',c='r')\n",
    "ax.set_xlabel('Gaia DR1 Parallax (mas)')\n",
    "ax.set_ylabel('Asteroseismic - asterometric J-band absmag')\n",
    "plt.show()"
   ]
  },
  {
   "cell_type": "code",
   "execution_count": null,
   "metadata": {},
   "outputs": [],
   "source": [
    "#Lets plot the absolute vs apparent magnitude for both types for the K band\n",
    "fig, (ax1, ax2) = plt.subplots(2,sharex=True,figsize=(12,12))\n",
    "ax1.scatter(df.ast_MKs,df.K_MAG_2M,s=5,c=df.stage,zorder=1000)\n",
    "ax1.errorbar(df.ast_MKs,df.K_MAG_2M,xerr=df.ast_M_err,yerr=df.K_MAG_ERR,alpha=.5,fmt='none',c='grey',zorder=999)\n",
    "ax1.set_xlabel('Asteroseismic Absolute Magnitude (K)')\n",
    "ax1.set_ylabel('2MASS Apparent Magnitude (K)')\n",
    "\n",
    "# fig, ax = plt.subplots()\n",
    "ax2.scatter(df.phot_MKs,df.K_MAG_2M,s=5,c=df.stage,zorder=1000)\n",
    "ax2.errorbar(df.phot_MKs,df.K_MAG_2M,xerr=df.phot_MKs_err,yerr=df.K_MAG_ERR,alpha=.5,fmt='none',c='grey',zorder=999)\n",
    "ax2.set_xlabel('Astrometric Absolute Magnitude (K)')\n",
    "ax2.set_ylabel('2MASS Apparent Magnitude (K)')\n",
    "plt.show()"
   ]
  },
  {
   "cell_type": "code",
   "execution_count": null,
   "metadata": {},
   "outputs": [],
   "source": [
    "#Finally, lets barbershop a bunch of parameters\n",
    "import barbershop\n",
    "df.rename(columns={'GAIA_PARALLAX':'parallax'},inplace=True)\n",
    "barber = barbershop.open(df,'ast_MKs','phot_MKs')\n",
    "barber.histograms_on(x=True,y=True)\n",
    "barber.add_client('stage')\n",
    "barber.add_client('numax')\n",
    "barber.add_client('dnu')\n",
    "barber.add_client('parallax')\n",
    "barber.add_client('[Fe/H]')\n",
    "barber.show_mirror()"
   ]
  },
  {
   "cell_type": "code",
   "execution_count": null,
   "metadata": {},
   "outputs": [],
   "source": []
  },
  {
   "cell_type": "code",
   "execution_count": null,
   "metadata": {},
   "outputs": [],
   "source": []
  },
  {
   "cell_type": "code",
   "execution_count": null,
   "metadata": {},
   "outputs": [],
   "source": []
  }
 ],
 "metadata": {
  "kernelspec": {
   "display_name": "Python 2",
   "language": "python",
   "name": "python2"
  },
  "language_info": {
   "codemirror_mode": {
    "name": "ipython",
    "version": 2
   },
   "file_extension": ".py",
   "mimetype": "text/x-python",
   "name": "python",
   "nbconvert_exporter": "python",
   "pygments_lexer": "ipython2",
   "version": "2.7.12"
  }
 },
 "nbformat": 4,
 "nbformat_minor": 2
}
