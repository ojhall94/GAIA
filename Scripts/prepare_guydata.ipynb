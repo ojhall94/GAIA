{
 "cells": [
  {
   "cell_type": "code",
   "execution_count": 1,
   "metadata": {},
   "outputs": [],
   "source": [
    "import numpy as np\n",
    "import matplotlib.pyplot as plt\n",
    "import pandas as pd\n",
    "import seaborn as sns\n",
    "import glob\n",
    "import matplotlib\n",
    "sns.set_palette('colorblind',10)\n",
    "sns.set_context('notebook')\n",
    "matplotlib.rc('xtick', labelsize=25) \n",
    "matplotlib.rc('ytick', labelsize=25)\n",
    "matplotlib.rc('axes',labelsize=25) \n",
    "from astropy.table import Table\n",
    "import os\n",
    "__outdir__ = os.path.expanduser('~')+'/PhD/Gaia_Project/Output/'\n",
    "__datdir__ = os.path.expanduser('~')+'/PhD/Gaia_Project/data/KepxDR2/'"
   ]
  },
  {
   "cell_type": "code",
   "execution_count": 2,
   "metadata": {},
   "outputs": [],
   "source": [
    "def read_data():\n",
    "    '''Reads in the Yu et al. 2018 data'''\n",
    "    sfile = __datdir__+'rcxyu18.csv'\n",
    "    df = pd.read_csv(sfile)\n",
    "    return df"
   ]
  },
  {
   "cell_type": "code",
   "execution_count": 3,
   "metadata": {},
   "outputs": [],
   "source": [
    "def read_paramdict(majorlabel, minorlabel='', sort='astero'):\n",
    "    '''Reads in results for either:\n",
    "        -A full run series (majorlabel) where the minorlabel is included as a\n",
    "            column in the output.\n",
    "        -A single run (majorlabel and minorlabel).\n",
    "\n",
    "        Returns a pandas dataframe.\n",
    "    '''\n",
    "    loc = __outdir__+majorlabel+'/'\n",
    "\n",
    "    if minorlabel != '':\n",
    "        globlist = glob.glob(loc+sort+'_'+str(float(minorlabel))+'_*pars*.csv')\n",
    "    else:\n",
    "        globlist = glob.glob(loc+sort+'*_*pars*.csv')\n",
    "\n",
    "    minorlabels = [os.path.basename(globloc).split('_')[1] for globloc in globlist]\n",
    "    if sort == 'gaia':\n",
    "        ccdlabels = [os.path.basename(globloc).split('_')[-2] for globloc in globlist]\n",
    "        \n",
    "    df = pd.DataFrame()\n",
    "    for n, globloc in enumerate(globlist):\n",
    "        sdf = pd.read_csv(globloc, index_col = 0)\n",
    "        if minorlabels[n] != 'pars.csv':\n",
    "            sdf[majorlabel] = minorlabels[n]\n",
    "            if sort == 'gaia':\n",
    "                sdf['ccdlabel'] = ccdlabels[n]\n",
    "        df = df.append(sdf)\n",
    "\n",
    "    return df.sort_values(by=majorlabel)"
   ]
  },
  {
   "cell_type": "code",
   "execution_count": 12,
   "metadata": {},
   "outputs": [],
   "source": [
    "loc = 'Gaia_APOKASC_K_tempscale_Clump'\n",
    "gr = read_paramdict(loc, '-50.0', 'gaia')\n",
    "gr.rename(columns={'Gaia_APOKASC_K_tempscale_Clump':'DTeff'},inplace=True)\n",
    "gr.to_csv('/home/oliver/PhD/Gaia_Project/Output/K_apokascteffs_-50K_pars.csv')"
   ]
  },
  {
   "cell_type": "code",
   "execution_count": null,
   "metadata": {},
   "outputs": [],
   "source": []
  }
 ],
 "metadata": {
  "kernelspec": {
   "display_name": "Python 2",
   "language": "python",
   "name": "python2"
  },
  "language_info": {
   "codemirror_mode": {
    "name": "ipython",
    "version": 2
   },
   "file_extension": ".py",
   "mimetype": "text/x-python",
   "name": "python",
   "nbconvert_exporter": "python",
   "pygments_lexer": "ipython2",
   "version": "2.7.15rc1"
  }
 },
 "nbformat": 4,
 "nbformat_minor": 2
}
