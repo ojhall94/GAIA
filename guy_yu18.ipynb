{
 "cells": [
  {
   "cell_type": "markdown",
   "metadata": {},
   "source": [
    "# Code for fitting Astero RC data"
   ]
  },
  {
   "cell_type": "code",
   "execution_count": 1,
   "metadata": {},
   "outputs": [],
   "source": [
    "import numpy as np\n",
    "import matplotlib.pyplot as plt\n",
    "import seaborn as sns\n",
    "import matplotlib\n",
    "sns.set_palette('colorblind',20)\n",
    "sns.set_context('notebook')\n",
    "matplotlib.rc('xtick', labelsize=15) \n",
    "matplotlib.rc('ytick', labelsize=15)\n",
    "matplotlib.rc('axes',labelsize=15) \n",
    "import pandas as pd\n",
    "import pystan\n",
    "\n",
    "import os\n",
    "import pickle\n",
    "\n",
    "els = False\n",
    "\n",
    "import sys"
   ]
  },
  {
   "cell_type": "code",
   "execution_count": 2,
   "metadata": {},
   "outputs": [],
   "source": [
    "def read_data(els=False, data_file=''):\n",
    "    \n",
    "    if els and data_file == '':\n",
    "        sfile = '../data/KepxDR2/elsxrcxyu18.csv'\n",
    "    elif data_file != '':\n",
    "        sfile = data_file\n",
    "    else:\n",
    "        sfile = '../data/KepxDR2/rcxyu18.csv'\n",
    "    df = pd.read_csv(sfile)\n",
    "    return df\n",
    "\n",
    "def normal(x, mu, sigma):\n",
    "    return (1/np.sqrt(2*np.pi*sigma**2)) * np.exp(-(x - mu)**2/(2*sigma**2))"
   ]
  },
  {
   "cell_type": "code",
   "execution_count": 3,
   "metadata": {},
   "outputs": [
    {
     "name": "stdout",
     "output_type": "stream",
     "text": [
      "Size: 7497\n"
     ]
    },
    {
     "data": {
      "text/html": [
       "<div>\n",
       "<style scoped>\n",
       "    .dataframe tbody tr th:only-of-type {\n",
       "        vertical-align: middle;\n",
       "    }\n",
       "\n",
       "    .dataframe tbody tr th {\n",
       "        vertical-align: top;\n",
       "    }\n",
       "\n",
       "    .dataframe thead th {\n",
       "        text-align: right;\n",
       "    }\n",
       "</style>\n",
       "<table border=\"1\" class=\"dataframe\">\n",
       "  <thead>\n",
       "    <tr style=\"text-align: right;\">\n",
       "      <th></th>\n",
       "      <th>KICID</th>\n",
       "      <th>kepmag_x</th>\n",
       "      <th>Length_Quarters</th>\n",
       "      <th>Length_days</th>\n",
       "      <th>numax</th>\n",
       "      <th>numax_err</th>\n",
       "      <th>dnu</th>\n",
       "      <th>dnu_err</th>\n",
       "      <th>amplitude</th>\n",
       "      <th>err.2_x</th>\n",
       "      <th>...</th>\n",
       "      <th>BC_GBP</th>\n",
       "      <th>BC_GRP</th>\n",
       "      <th>BC_J</th>\n",
       "      <th>BC_H</th>\n",
       "      <th>BC_K</th>\n",
       "      <th>ast_MKs</th>\n",
       "      <th>ast_MH</th>\n",
       "      <th>ast_MJ</th>\n",
       "      <th>ast_MG</th>\n",
       "      <th>ast_M_err</th>\n",
       "    </tr>\n",
       "  </thead>\n",
       "  <tbody>\n",
       "    <tr>\n",
       "      <th>0</th>\n",
       "      <td>892760</td>\n",
       "      <td>13.23</td>\n",
       "      <td>6</td>\n",
       "      <td>380.8</td>\n",
       "      <td>29.48</td>\n",
       "      <td>0.48</td>\n",
       "      <td>3.962</td>\n",
       "      <td>0.116</td>\n",
       "      <td>149.7</td>\n",
       "      <td>8.3</td>\n",
       "      <td>...</td>\n",
       "      <td>-0.740</td>\n",
       "      <td>0.388</td>\n",
       "      <td>1.206</td>\n",
       "      <td>1.638</td>\n",
       "      <td>1.766</td>\n",
       "      <td>-1.671046</td>\n",
       "      <td>-1.543046</td>\n",
       "      <td>-1.111046</td>\n",
       "      <td>0.343954</td>\n",
       "      <td>0.206767</td>\n",
       "    </tr>\n",
       "    <tr>\n",
       "      <th>1</th>\n",
       "      <td>1026084</td>\n",
       "      <td>12.14</td>\n",
       "      <td>15</td>\n",
       "      <td>1139.0</td>\n",
       "      <td>41.17</td>\n",
       "      <td>0.90</td>\n",
       "      <td>4.414</td>\n",
       "      <td>0.061</td>\n",
       "      <td>63.8</td>\n",
       "      <td>2.9</td>\n",
       "      <td>...</td>\n",
       "      <td>-0.754</td>\n",
       "      <td>0.409</td>\n",
       "      <td>1.252</td>\n",
       "      <td>1.706</td>\n",
       "      <td>1.840</td>\n",
       "      <td>-1.878376</td>\n",
       "      <td>-1.744376</td>\n",
       "      <td>-1.290376</td>\n",
       "      <td>0.205624</td>\n",
       "      <td>0.166498</td>\n",
       "    </tr>\n",
       "  </tbody>\n",
       "</table>\n",
       "<p>2 rows × 170 columns</p>\n",
       "</div>"
      ],
      "text/plain": [
       "     KICID  kepmag_x  Length_Quarters  Length_days  numax  numax_err    dnu  \\\n",
       "0   892760     13.23                6        380.8  29.48       0.48  3.962   \n",
       "1  1026084     12.14               15       1139.0  41.17       0.90  4.414   \n",
       "\n",
       "   dnu_err  amplitude  err.2_x    ...      BC_GBP  BC_GRP   BC_J   BC_H  \\\n",
       "0    0.116      149.7      8.3    ...      -0.740   0.388  1.206  1.638   \n",
       "1    0.061       63.8      2.9    ...      -0.754   0.409  1.252  1.706   \n",
       "\n",
       "    BC_K   ast_MKs    ast_MH    ast_MJ    ast_MG  ast_M_err  \n",
       "0  1.766 -1.671046 -1.543046 -1.111046  0.343954   0.206767  \n",
       "1  1.840 -1.878376 -1.744376 -1.290376  0.205624   0.166498  \n",
       "\n",
       "[2 rows x 170 columns]"
      ]
     },
     "execution_count": 3,
     "metadata": {},
     "output_type": "execute_result"
    }
   ],
   "source": [
    "df = read_data(els, data_file='rcxyu18.csv')\n",
    "print('Size: '+str(len(df)))\n",
    "df.head(2)"
   ]
  },
  {
   "cell_type": "code",
   "execution_count": 4,
   "metadata": {},
   "outputs": [],
   "source": [
    "if els:\n",
    "    df = df[df.dnu <4.5] # Cut in Dnu\n",
    "    sns.distplot(df.ast_MKs[df.elstage=='RC'],label='RC')\n",
    "    sns.distplot(df.ast_MKs[df.elstage=='2CL'],label='2CL')\n",
    "    sns.distplot(df.ast_MKs[df.elstage=='RGB'],label='RGB')\n",
    "    sns.distplot(df.ast_MKs, label='Full')\n",
    "    plt.legend(fontsize=15)\n",
    "    plt.show()\n",
    "    print('Targets: '+str(len(df)))"
   ]
  },
  {
   "cell_type": "code",
   "execution_count": 5,
   "metadata": {},
   "outputs": [
    {
     "name": "stderr",
     "output_type": "stream",
     "text": [
      "/usr/local/Cellar/python3/3.6.4_2/Frameworks/Python.framework/Versions/3.6/lib/python3.6/site-packages/matplotlib/axes/_axes.py:6448: UserWarning: The 'normed' kwarg is deprecated, and has been replaced by the 'density' kwarg.\n",
      "  warnings.warn(\"The 'normed' kwarg is deprecated, and has been \"\n"
     ]
    },
    {
     "data": {
      "image/png": "[encoded data removed]",
      "text/plain": [
       "<Figure size 432x288 with 1 Axes>"
      ]
     },
     "metadata": {},
     "output_type": "display_data"
    },
    {
     "name": "stdout",
     "output_type": "stream",
     "text": [
      "-1.7155484516776585\n"
     ]
    }
   ],
   "source": [
    "'''Step one is figuring out the different distributions we want'''\n",
    "df.head(2)\n",
    "Ks = df.ast_MKs.values\n",
    "x = np.linspace(Ks.min(),Ks.max(),1000)\n",
    "\n",
    "rQ = 0.7\n",
    "rmu = np.median(Ks)\n",
    "rsigma = .1\n",
    "rsigo = 4.*rsigma\n",
    "\n",
    "rfg = normal(x, rmu, rsigma)\n",
    "rbg = normal(x, rmu, rsigo)\n",
    "pp = rQ*rfg + (1-rQ)*rbg\n",
    "\n",
    "sns.distplot(Ks, label='Observed')\n",
    "plt.plot(x,pp, label='Likelihood')\n",
    "plt.show()\n",
    "\n",
    "print(np.median(Ks))"
   ]
  },
  {
   "cell_type": "markdown",
   "metadata": {},
   "source": [
    "## Stan model for asteroseismic values"
   ]
  },
  {
   "cell_type": "code",
   "execution_count": 6,
   "metadata": {},
   "outputs": [
    {
     "name": "stderr",
     "output_type": "stream",
     "text": [
      "INFO:pystan:COMPILING THE C++ CODE FOR MODEL asterostan_d9049c130196e572e3a935a377cfeeaa NOW.\n"
     ]
    },
    {
     "name": "stdout",
     "output_type": "stream",
     "text": [
      "Updating Stan model\n"
     ]
    }
   ],
   "source": [
    "overwrite = True\n",
    "asterostan = '''\n",
    "data {\n",
    "    int<lower = 0> N;\n",
    "    real Mobs[N];\n",
    "    real Munc[N];\n",
    "}\n",
    "parameters {\n",
    "    //Hyperparameters\n",
    "    real mu;\n",
    "    real <lower=0.> sigma;\n",
    "    real <lower=0.5,upper=1.> Q;\n",
    "    real <lower=1.> sigo;\n",
    "\n",
    "    //Latent Parameters\n",
    "    real Mtrue_std[N];\n",
    "}\n",
    "transformed parameters{\n",
    "    real Mtrue[N];\n",
    "    \n",
    "    for (n in 1:N){\n",
    "        Mtrue[n] = mu + sigma * Mtrue_std[n];\n",
    "    }\n",
    "}\n",
    "model {\n",
    "    mu ~ normal(-1.7, 1.0);  //p(theta)\n",
    "    sigma ~ normal(0.0, 1.0); //''\n",
    "    sigo ~ normal(3.0, 2.0);  //''\n",
    "    Q ~ normal(1., 0.1);    //''  \n",
    "    \n",
    "    Mobs ~ normal(Mtrue, Munc); //p(D | theta, alpha)\n",
    "    \n",
    "    //p(alpha | theta)\n",
    "    for (n in 1:N)\n",
    "        target += log_mix(Q,\n",
    "                    normal_lpdf(Mtrue_std[n] | 0., 1.),\n",
    "                    normal_lpdf(Mtrue_std[n] | 0., sigo));\n",
    "}\n",
    "'''\n",
    "model_path = 'asterostan.pkl'\n",
    "if overwrite:\n",
    "    print('Updating Stan model')\n",
    "    sm = pystan.StanModel(model_code = asterostan, model_name='asterostan')\n",
    "    with open(model_path, 'wb') as f:\n",
    "        pickle.dump(sm, f)\n",
    "else:\n",
    "    if os.path.isfile(model_path):\n",
    "        print('Loading in existing Stan Model') \n",
    "        sm = pickle.load(open(model_path, 'rb'))\n",
    "    else:\n",
    "        print('Saving Stan Model') \n",
    "        sm = pystan.StanModel(model_code = asterostan, model_name='asterostan')\n",
    "        with open(model_path, 'wb') as f:\n",
    "            pickle.dump(sm, f)"
   ]
  },
  {
   "cell_type": "code",
   "execution_count": null,
   "metadata": {},
   "outputs": [
    {
     "name": "stderr",
     "output_type": "stream",
     "text": [
      "/usr/local/Cellar/python3/3.6.4_2/Frameworks/Python.framework/Versions/3.6/lib/python3.6/site-packages/pystan/misc.py:399: FutureWarning: Conversion of the second argument of issubdtype from `float` to `np.floating` is deprecated. In future, it will be treated as `np.float64 == np.dtype(float).type`.\n",
      "  elif np.issubdtype(np.asarray(v).dtype, float):\n"
     ]
    }
   ],
   "source": [
    "sel = df\n",
    "Mobs = sel.ast_MKs\n",
    "Munc = sel.ast_M_err.values\n",
    "m = sel.Kmag.values\n",
    "dat = {'N': len(sel),\n",
    "      'Mobs': Mobs,\n",
    "      'Munc' : Munc}\n",
    "\n",
    "init = {'mu': rmu,\n",
    "       'sigma': rsigma,\n",
    "        'Q': rQ,\n",
    "       'sigo': rsigo/rsigma}\n",
    "fit = sm.sampling(data=dat, warmup=10000, iter=12000, chains=4, init=[init,init,init,init])"
   ]
  },
  {
   "cell_type": "code",
   "execution_count": null,
   "metadata": {},
   "outputs": [],
   "source": [
    "import corner\n",
    "chain = np.array([fit['mu'],fit['sigma'],fit['Q'],fit['sigo']])\n",
    "corner.corner(chain.T,labels=['mu','sigma','Q','sigo'],\n",
    "                  quantiles=[0.16, 0.5, 0.84],\\\n",
    "                  show_titles=True, title_kwargs={\"fontsize\": 12})\n",
    "plt.show()"
   ]
  },
  {
   "cell_type": "code",
   "execution_count": null,
   "metadata": {},
   "outputs": [],
   "source": [
    "fit.plot()\n",
    "plt.show()"
   ]
  },
  {
   "cell_type": "code",
   "execution_count": null,
   "metadata": {},
   "outputs": [],
   "source": [
    "print(fit)"
   ]
  },
  {
   "cell_type": "code",
   "execution_count": null,
   "metadata": {},
   "outputs": [],
   "source": [
    "s = fit.summary()\n",
    "print(s['summary'][:,-1])\n",
    "rhat = s['summary'][:,-1]\n",
    "rhatfin = rhat[np.isfinite(rhat)]\n",
    "print('Total number of Rhats: '+str(len(rhat)))\n",
    "print('Total number of Rhats with the NaN values removed: '+str(len(rhatfin)))\n",
    "sns.distplot(rhatfin)\n",
    "plt.show()"
   ]
  },
  {
   "cell_type": "code",
   "execution_count": null,
   "metadata": {},
   "outputs": [],
   "source": [
    "sns.distplot(fit['Mtrue_std'].mean(axis=0), )"
   ]
  },
  {
   "cell_type": "code",
   "execution_count": null,
   "metadata": {},
   "outputs": [],
   "source": []
  }
 ],
 "metadata": {
  "anaconda-cloud": {},
  "kernelspec": {
   "display_name": "Python 3",
   "language": "python",
   "name": "python3"
  },
  "language_info": {
   "codemirror_mode": {
    "name": "ipython",
    "version": 3
   },
   "file_extension": ".py",
   "mimetype": "text/x-python",
   "name": "python",
   "nbconvert_exporter": "python",
   "pygments_lexer": "ipython3",
   "version": "3.6.4"
  }
 },
 "nbformat": 4,
 "nbformat_minor": 2
}
