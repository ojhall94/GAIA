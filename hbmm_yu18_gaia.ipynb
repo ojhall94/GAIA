{
 "cells": [
  {
   "cell_type": "markdown",
   "metadata": {},
   "source": [
    "# Code for fitting Astro RC data"
   ]
  },
  {
   "cell_type": "code",
   "execution_count": 1,
   "metadata": {},
   "outputs": [],
   "source": [
    "#!/bin/env python\n",
    "# -*- coding: utf-8 -*-\n",
    "import numpy as np\n",
    "import matplotlib.pyplot as plt\n",
    "import seaborn as sns\n",
    "import matplotlib\n",
    "sns.set_palette('colorblind')\n",
    "matplotlib.rc('xtick', labelsize=15)\n",
    "matplotlib.rc('ytick', labelsize=15)\n",
    "matplotlib.rc('axes',labelsize=15)\n",
    "\n",
    "import pandas as pd\n",
    "import pystan\n",
    "import corner\n",
    "\n",
    "import pickle\n",
    "import os\n",
    "import sys\n",
    "import glob\n",
    "\n",
    "from omnitool.literature_values import Av_coeffs, hawkvals\n",
    "from omnitool import scalings\n",
    "from omnitool.literature_values import Rsol\n",
    "\n",
    "\n",
    "__outdir__ = os.path.expanduser('~')+'/PhD/Gaia_Project/Output/'\n",
    "__datdir__ = os.path.expanduser('~')+'/PhD/Gaia_Project/data/KepxDR2/'"
   ]
  },
  {
   "cell_type": "code",
   "execution_count": 2,
   "metadata": {},
   "outputs": [],
   "source": [
    "def read_data():\n",
    "    '''Reads in the Yu et al. 2018 data'''\n",
    "    sfile = __datdir__+'rcxyu18.csv'\n",
    "    df = pd.read_csv(sfile)\n",
    "    return df\n",
    "\n",
    "def read_paramdict(majorlabel, minorlabel='', sort='astero'):\n",
    "    '''Reads in results for either:\n",
    "        -A full run series (majorlabel) where the minorlabel is included as a\n",
    "            column in the output.\n",
    "        -A single run (majorlabel and minorlabel).\n",
    "\n",
    "        Returns a pandas dataframe.\n",
    "    '''\n",
    "    loc = __outdir__+majorlabel+'/'\n",
    "\n",
    "    if minorlabel != '':\n",
    "        globlist = glob.glob(loc+sort+'_'+str(float(minorlabel))+'_*pars*.csv')\n",
    "    else:\n",
    "        globlist = glob.glob(loc+sort+'*_*pars*.csv')\n",
    "\n",
    "    minorlabels = [os.path.basename(globloc).split('_')[1] for globloc in globlist]\n",
    "\n",
    "    df = pd.DataFrame()\n",
    "    for n, globloc in enumerate(globlist):\n",
    "        sdf = pd.read_csv(globloc, index_col = 0)\n",
    "        if minorlabels[n] != 'pars.csv':\n",
    "            sdf[majorlabel] = minorlabels[n]\n",
    "        df = df.append(sdf)\n",
    "\n",
    "    return df.sort_values(by=majorlabel)\n",
    "\n",
    "def get_covmatrix(ccd):\n",
    "    #Calculate the sigma for this sample\n",
    "    Draij = np.zeros((len(ccd), len(ccd)))\n",
    "    Ddij = np.zeros_like(Draij)\n",
    "\n",
    "    #There is probably a much faster way to do this... but right now I can't think of one\n",
    "    print('Finding separations, creating cov matrix...')\n",
    "    for i in range(len(ccd)):\n",
    "        for j in range(len(ccd)):\n",
    "            Draij[i, j] = ccd.ra[j] - ccd.ra[i]\n",
    "            Ddij[i, j] = ccd.dec[j] - ccd.dec[j]\n",
    "\n",
    "    thetaij = np.sqrt(Draij**2 + Ddij**2)\n",
    "    Sigmaij = 285*10**-6 * np.exp(-thetaij / 14)\n",
    "    np.fill_diagonal(Sigmaij, np.diag(Sigmaij) + ccd.parallax_error**2)\n",
    "    print('Done.')\n",
    "\n",
    "    return Sigmaij\n",
    "\n",
    "def normal(x, mu, sigma):\n",
    "    return (1/np.sqrt(2*np.pi*sigma**2)) * np.exp(-(x - mu)**2/(2*sigma**2))"
   ]
  },
  {
   "cell_type": "code",
   "execution_count": 3,
   "metadata": {},
   "outputs": [
    {
     "name": "stdout",
     "output_type": "stream",
     "text": [
      "Size: 5578\n"
     ]
    },
    {
     "data": {
      "text/html": [
       "<div>\n",
       "<style scoped>\n",
       "    .dataframe tbody tr th:only-of-type {\n",
       "        vertical-align: middle;\n",
       "    }\n",
       "\n",
       "    .dataframe tbody tr th {\n",
       "        vertical-align: top;\n",
       "    }\n",
       "\n",
       "    .dataframe thead th {\n",
       "        text-align: right;\n",
       "    }\n",
       "</style>\n",
       "<table border=\"1\" class=\"dataframe\">\n",
       "  <thead>\n",
       "    <tr style=\"text-align: right;\">\n",
       "      <th></th>\n",
       "      <th>KICID</th>\n",
       "      <th>kepmag_x</th>\n",
       "      <th>Length_Quarters</th>\n",
       "      <th>Length_days</th>\n",
       "      <th>numax</th>\n",
       "      <th>numax_err</th>\n",
       "      <th>dnu</th>\n",
       "      <th>dnu_err</th>\n",
       "      <th>amplitude</th>\n",
       "      <th>err.2_x</th>\n",
       "      <th>...</th>\n",
       "      <th>Ebv</th>\n",
       "      <th>Aks</th>\n",
       "      <th>Aj</th>\n",
       "      <th>Ah</th>\n",
       "      <th>H17_Ag</th>\n",
       "      <th>L</th>\n",
       "      <th>L_err</th>\n",
       "      <th>Mbol</th>\n",
       "      <th>Mbol_err</th>\n",
       "      <th>Z</th>\n",
       "    </tr>\n",
       "  </thead>\n",
       "  <tbody>\n",
       "    <tr>\n",
       "      <th>0</th>\n",
       "      <td>892760</td>\n",
       "      <td>13.23</td>\n",
       "      <td>6</td>\n",
       "      <td>380.8</td>\n",
       "      <td>29.48</td>\n",
       "      <td>0.48</td>\n",
       "      <td>3.962</td>\n",
       "      <td>0.116</td>\n",
       "      <td>149.7</td>\n",
       "      <td>8.3</td>\n",
       "      <td>...</td>\n",
       "      <td>0.090092</td>\n",
       "      <td>0.016483</td>\n",
       "      <td>0.066545</td>\n",
       "      <td>0.033477</td>\n",
       "      <td>0.256763</td>\n",
       "      <td>72.126040</td>\n",
       "      <td>13.744428</td>\n",
       "      <td>0.10477</td>\n",
       "      <td>0.206899</td>\n",
       "      <td>0.010827</td>\n",
       "    </tr>\n",
       "    <tr>\n",
       "      <th>1</th>\n",
       "      <td>1026084</td>\n",
       "      <td>12.14</td>\n",
       "      <td>15</td>\n",
       "      <td>1139.0</td>\n",
       "      <td>41.17</td>\n",
       "      <td>0.90</td>\n",
       "      <td>4.414</td>\n",
       "      <td>0.061</td>\n",
       "      <td>63.8</td>\n",
       "      <td>2.9</td>\n",
       "      <td>...</td>\n",
       "      <td>0.082530</td>\n",
       "      <td>0.015099</td>\n",
       "      <td>0.060960</td>\n",
       "      <td>0.030667</td>\n",
       "      <td>0.235211</td>\n",
       "      <td>81.549973</td>\n",
       "      <td>12.518103</td>\n",
       "      <td>-0.02856</td>\n",
       "      <td>0.166663</td>\n",
       "      <td>0.013321</td>\n",
       "    </tr>\n",
       "  </tbody>\n",
       "</table>\n",
       "<p>2 rows × 165 columns</p>\n",
       "</div>"
      ],
      "text/plain": [
       "     KICID  kepmag_x  Length_Quarters  Length_days  numax  numax_err    dnu  \\\n",
       "0   892760     13.23                6        380.8  29.48       0.48  3.962   \n",
       "1  1026084     12.14               15       1139.0  41.17       0.90  4.414   \n",
       "\n",
       "   dnu_err  amplitude  err.2_x    ...          Ebv       Aks        Aj  \\\n",
       "0    0.116      149.7      8.3    ...     0.090092  0.016483  0.066545   \n",
       "1    0.061       63.8      2.9    ...     0.082530  0.015099  0.060960   \n",
       "\n",
       "         Ah    H17_Ag          L      L_err     Mbol  Mbol_err         Z  \n",
       "0  0.033477  0.256763  72.126040  13.744428  0.10477  0.206899  0.010827  \n",
       "1  0.030667  0.235211  81.549973  12.518103 -0.02856  0.166663  0.013321  \n",
       "\n",
       "[2 rows x 165 columns]"
      ]
     },
     "execution_count": 3,
     "metadata": {},
     "output_type": "execute_result"
    }
   ],
   "source": [
    "df = read_data()\n",
    "print('Size: '+str(len(df)))\n",
    "df.head(2)"
   ]
  },
  {
   "cell_type": "markdown",
   "metadata": {},
   "source": [
    "## Stan model for astrometric values"
   ]
  },
  {
   "cell_type": "markdown",
   "metadata": {},
   "source": [
    "The model works perfectly in the K-band, so I'm going to read in the existing version, and not worry about changes. The issues are in the data."
   ]
  },
  {
   "cell_type": "code",
   "execution_count": 4,
   "metadata": {},
   "outputs": [],
   "source": [
    "model_path = 'astrostan.pkl'\n",
    "sm = pickle.load(open(model_path, 'rb'))"
   ]
  },
  {
   "cell_type": "code",
   "execution_count": 5,
   "metadata": {},
   "outputs": [],
   "source": [
    "verbose = False\n",
    "# verbose = True\n",
    "if verbose:\n",
    "    print(sm)"
   ]
  },
  {
   "cell_type": "markdown",
   "metadata": {},
   "source": [
    "#### Run the model"
   ]
  },
  {
   "cell_type": "code",
   "execution_count": 47,
   "metadata": {},
   "outputs": [
    {
     "name": "stdout",
     "output_type": "stream",
     "text": [
      "CCD 1: 50\n",
      "Finding separations, creating cov matrix...\n",
      "Done.\n"
     ]
    }
   ],
   "source": [
    "ccdno = 1\n",
    "tempdiff = 0.0\n",
    "\n",
    "ccd = df[df.ccd == ccdno].reset_index()[:50]\n",
    "print('CCD '+str(ccdno)+': '+str(len(ccd)))\n",
    "\n",
    "rlebv = ccd.Ebv.values * 2.740\n",
    "mband = np.ones(len(ccd)) * ccd.GAIAmag.values\n",
    "sel = (mband > 6.) & (mband < 16.5)\n",
    "mband[sel] = 0.0505 + 0.9966*mband[sel]\n",
    "merr = ccd.e_GAIAmag.values\n",
    "\n",
    "astres = read_paramdict('pre-4chainruns/lt_GAIA_tempscale_Clump', 50.0, 'astero')\n",
    "\n",
    "Sigma = get_covmatrix(ccd)\n",
    "Sigpure = np.diag(ccd.parallax_error**2)\n",
    "\n",
    "dat = {'N':len(ccd),\n",
    "        'm': mband,\n",
    "        'm_err': merr * 10.,\n",
    "        'oo': ccd.parallax.values,\n",
    "        'Sigma': Sigma,         #Covariance matrix per Lindegren+18, Zinn+18\n",
    "        'RlEbv': rlebv,\n",
    "        'mu_init': astres['mu'].values[0],\n",
    "        'mu_spread': astres['mu_std'].values[0]}\n",
    "\n",
    "init= {'mu': astres.mu.values[0],\n",
    "        'sigma': astres.sigma.values[0],\n",
    "        'Q': astres.Q.values[0],\n",
    "        'sigo': astres.sigo.values[0],\n",
    "        'L': 1000.,\n",
    "        'oo_zp':-29.}"
   ]
  },
  {
   "cell_type": "code",
   "execution_count": 49,
   "metadata": {},
   "outputs": [
    {
     "data": {
      "text/plain": [
       "{'N': 50,\n",
       " 'RlEbv': array([0.13819351, 0.08380299, 0.11073838, 0.06412687, 0.13286075,\n",
       "        0.13810398, 0.10767364, 0.10742563, 0.10566751, 0.12729325,\n",
       "        0.13896522, 0.11746162, 0.11723899, 0.10552617, 0.12191551,\n",
       "        0.12803471, 0.10776387, 0.14502162, 0.09586183, 0.12603546,\n",
       "        0.10986634, 0.12432721, 0.12621104, 0.10413233, 0.10205208,\n",
       "        0.1007761 , 0.10428441, 0.09517553, 0.10431335, 0.10621826,\n",
       "        0.12654231, 0.13385857, 0.11521506, 0.08889179, 0.1439793 ,\n",
       "        0.11514271, 0.10090549, 0.09625171, 0.09781537, 0.09750006,\n",
       "        0.10707211, 0.14376709, 0.09548091, 0.08020363, 0.10370571,\n",
       "        0.08981278, 0.08981411, 0.17572858, 0.09658231, 0.11221951]),\n",
       " 'Sigma': array([[0.00068496, 0.00028436, 0.00028408, ..., 0.00025141, 0.00028387,\n",
       "         0.00028094],\n",
       "        [0.00028436, 0.00080072, 0.00028471, ..., 0.00025197, 0.0002845 ,\n",
       "         0.00028157],\n",
       "        [0.00028408, 0.00028471, 0.00071155, ..., 0.00025222, 0.00028479,\n",
       "         0.00028186],\n",
       "        ...,\n",
       "        [0.00025141, 0.00025197, 0.00025222, ..., 0.00070387, 0.00025241,\n",
       "         0.00025504],\n",
       "        [0.00028387, 0.0002845 , 0.00028479, ..., 0.00025241, 0.00061347,\n",
       "         0.00028206],\n",
       "        [0.00028094, 0.00028157, 0.00028186, ..., 0.00025504, 0.00028206,\n",
       "         0.00070025]]),\n",
       " 'm': array([12.00902829,  9.2908576 , 12.62810326,  9.1894685 , 11.60715931,\n",
       "        11.78591148, 11.98328412, 12.00861371, 10.92689709, 13.54213794,\n",
       "        13.34538368, 13.83821683, 12.70345618, 13.31835041, 12.96275456,\n",
       "        13.30303765, 10.5453717 , 13.39941983, 13.11259835, 11.47209509,\n",
       "        13.69765836, 13.24137402, 11.30262227, 10.15635387, 11.21160528,\n",
       "        13.48676584, 14.15264912, 12.25800389, 11.62931472, 11.75835748,\n",
       "        13.36725955, 11.39846927, 11.66504682, 10.22333536, 12.59081945,\n",
       "        13.29787925, 11.76947754, 11.65221161, 13.17897889, 12.54601132,\n",
       "        10.41309498, 12.39062245, 10.81383083, 13.05591872, 13.91302861,\n",
       "        13.21255534, 13.24440468, 11.73020054, 12.95736395, 12.10697713]),\n",
       " 'm_err': array([0.003, 0.003, 0.003, 0.003, 0.003, 0.003, 0.003, 0.003, 0.003,\n",
       "        0.02 , 0.02 , 0.02 , 0.003, 0.02 , 0.003, 0.02 , 0.003, 0.02 ,\n",
       "        0.02 , 0.003, 0.02 , 0.02 , 0.003, 0.003, 0.003, 0.02 , 0.02 ,\n",
       "        0.003, 0.003, 0.003, 0.02 , 0.003, 0.003, 0.003, 0.003, 0.02 ,\n",
       "        0.003, 0.003, 0.02 , 0.003, 0.003, 0.003, 0.003, 0.02 , 0.02 ,\n",
       "        0.02 , 0.02 , 0.003, 0.003, 0.003]),\n",
       " 'mu_init': 0.19513677186137424,\n",
       " 'mu_spread': 0.0032605721087607463,\n",
       " 'oo': array([0.52981742, 1.66810863, 0.37142919, 1.97156202, 0.62377011,\n",
       "        0.55128624, 0.4813308 , 0.49577962, 0.80674667, 0.23014377,\n",
       "        0.24206875, 0.16219531, 0.39017343, 0.21917325, 0.35977218,\n",
       "        0.24796966, 1.02381281, 0.21107916, 0.2589049 , 0.64107319,\n",
       "        0.21193741, 0.25260812, 0.55380926, 1.22089862, 0.72273893,\n",
       "        0.19904717, 0.12665435, 0.44636235, 0.56566213, 0.47465725,\n",
       "        0.24755171, 0.6165629 , 0.57528577, 1.24747358, 0.41688789,\n",
       "        0.26296616, 0.58569061, 0.51626236, 0.3009785 , 0.43591325,\n",
       "        0.99798391, 0.46357587, 0.88817835, 0.35422819, 0.21264361,\n",
       "        0.31403598, 0.30544812, 0.54819934, 0.27501931, 0.53631225])}"
      ]
     },
     "execution_count": 49,
     "metadata": {},
     "output_type": "execute_result"
    }
   ],
   "source": [
    "dat"
   ]
  },
  {
   "cell_type": "code",
   "execution_count": null,
   "metadata": {},
   "outputs": [],
   "source": [
    "fit = sm.sampling(data=dat, iter=5000, chains=4, init=[init,init, init, init])"
   ]
  },
  {
   "cell_type": "code",
   "execution_count": null,
   "metadata": {},
   "outputs": [],
   "source": [
    "import corner\n",
    "chain = np.array([fit['mu'],fit['sigma'],fit['Q'],fit['sigo'],fit['L'], fit['oo_zp']])\n",
    "corner.corner(chain.T,\\\n",
    "                labels=[r'$\\mu$(mag)',r'$\\sigma$(mag)','Q',r'$\\sigma_o$(mag)','L(pc)', 'Offset'],\\\n",
    "                quantiles=[0.16, 0.5, 0.84],\\\n",
    "                show_titles=True, title_kwargs={\"fontsize\": 15})\n",
    "plt.show()"
   ]
  },
  {
   "cell_type": "code",
   "execution_count": null,
   "metadata": {},
   "outputs": [],
   "source": [
    "fit.plot()\n",
    "plt.show()"
   ]
  },
  {
   "cell_type": "code",
   "execution_count": null,
   "metadata": {},
   "outputs": [],
   "source": [
    "print(fit)"
   ]
  },
  {
   "cell_type": "code",
   "execution_count": null,
   "metadata": {},
   "outputs": [],
   "source": [
    "s = fit.summary()\n",
    "rhat = s['summary'][:,-1]\n",
    "rhatfin = rhat[np.isfinite(rhat)]\n",
    "print('Total number of Rhats: '+str(len(rhat)))\n",
    "print('Total number of Rhats with the NaN values removed: '+str(len(rhatfin)))\n",
    "print('Total number of Rhats over 1.01: '+str(len(rhat[rhat > 1.01])))\n",
    "print('Total number of Rhats over 1.1: '+str(len(rhat[rhat > 1.1])))\n",
    "sns.distplot(rhatfin)\n",
    "plt.show()"
   ]
  },
  {
   "cell_type": "markdown",
   "metadata": {},
   "source": [
    "### Some further diagnostic plots"
   ]
  },
  {
   "cell_type": "code",
   "execution_count": null,
   "metadata": {},
   "outputs": [],
   "source": [
    "mu = np.median(fit['mu'])\n",
    "sigma = np.median(fit['sigma'])\n",
    "sigo = (np.median(fit['sigo']))* sigma\n",
    "Q = np.median(fit['Q'])\n",
    "Minfd = np.median(fit['M_infd'],axis=0)\n",
    "rinfd = np.median(fit['r_infd'],axis=0)\n",
    "Linfd = np.median(fit['L'],axis=0)\n",
    "\n",
    "x = np.linspace(Minfd.min(), Minfd.max(), 1000)\n",
    "fg = normal(x, mu, sigma)\n",
    "bg = normal(x, mu, sigo)\n",
    "L = Q*fg + (1-Q)*bg"
   ]
  },
  {
   "cell_type": "code",
   "execution_count": null,
   "metadata": {},
   "outputs": [],
   "source": [
    "left, bottom, width, height = 0.1, 0.47, 1., 0.60\n",
    "fig = plt.figure(1, figsize=(8,8))\n",
    "sax = fig.add_axes([left, bottom, width, height])\n",
    "xax = fig.add_axes([left, 0.1, width, 0.3],sharex=sax)\n",
    "\n",
    "sax.scatter(Minfd,mband,s=5,zorder=1000)\n",
    "\n",
    "sns.distplot(Minfd, ax=xax, label='M obs')\n",
    "xax.plot(x,fg,label='Foreground',zorder=999)\n",
    "xax.plot(x,bg,label='Background',zorder=998)\n",
    "xax.plot(x, L,label='True likelihood',zorder=997)\n",
    "xax.legend()\n",
    "\n",
    "sax.grid()\n",
    "xax.grid()\n",
    "\n",
    "sax.set_xlabel('Absmag in K')\n",
    "sax.set_ylabel('App mag in K')\n",
    "xax.set_ylabel('Units arbitrary')"
   ]
  },
  {
   "cell_type": "markdown",
   "metadata": {},
   "source": [
    "The above plot compares the inferred absolute Kband magnitude to the observed absolute Kband magnitude--- there are more data points at the red clump overdensity which is expected, as the points will have been placed there within the constraints of the observational uncertainties. \n",
    "\n",
    "There appears to be some kind of offset still, as there appears to be some correlation around the bisector at the inferred absolute magnitude positions."
   ]
  },
  {
   "cell_type": "code",
   "execution_count": null,
   "metadata": {},
   "outputs": [],
   "source": [
    "fig, ax = plt.subplots(figsize=(8,8))\n",
    "f = np.abs(ccd.parallax_error/ccd.parallax)\n",
    "c = plt.scatter(ccd.r_est,rinfd,c=f, vmin=0., vmax=1.)\n",
    "fig.colorbar(c, label='Fractional parallax uncertainty',extend='max')\n",
    "ax.plot(ccd.r_est, ccd.r_est,c='k',linestyle='-.')\n",
    "ax.set_xlabel('Inferred distance')\n",
    "ax.set_ylabel('Bailer-Jones catalogue distance')\n",
    "plt.show()\n",
    "print('Our L: '+str(Linfd))\n",
    "print('BJ+18 median L: '+str(np.median(ccd.r_length_prior)))"
   ]
  },
  {
   "cell_type": "markdown",
   "metadata": {},
   "source": [
    "Given that our L is smaller, we expect the mode of the prior distribution to be at a **lower distance**, and therefore we expect stars with high fractional uncertainties to be have a **lower inferred distance**. This means we would expect high fractional uncertainty stars to be *below* the bisector. That appears to be the case, although we'll need to run on more stars to confirm."
   ]
  },
  {
   "cell_type": "code",
   "execution_count": null,
   "metadata": {},
   "outputs": [],
   "source": [
    "r = ccd.r_est\n",
    "prior = (1/(2*Linfd**3)) * (r*r) * np.exp(-r/Linfd)\n",
    "\n",
    "sns.distplot(ccd.r_est,label='r est')\n",
    "sns.distplot(rinfd, label='r infd')\n",
    "plt.scatter(r,prior,s=5,label='Prior')\n",
    "plt.legend()\n",
    "plt.show()"
   ]
  },
  {
   "cell_type": "markdown",
   "metadata": {},
   "source": [
    "From this it looks like the best fit value of L does not comply well for the full dataset--- could this be because L varies as a function of galactic position?"
   ]
  }
 ],
 "metadata": {
  "anaconda-cloud": {},
  "kernelspec": {
   "display_name": "Python 2",
   "language": "python",
   "name": "python2"
  },
  "language_info": {
   "codemirror_mode": {
    "name": "ipython",
    "version": 2
   },
   "file_extension": ".py",
   "mimetype": "text/x-python",
   "name": "python",
   "nbconvert_exporter": "python",
   "pygments_lexer": "ipython2",
   "version": "2.7.15rc1"
  }
 },
 "nbformat": 4,
 "nbformat_minor": 2
}
