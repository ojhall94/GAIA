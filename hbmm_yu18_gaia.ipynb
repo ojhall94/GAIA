{
 "cells": [
  {
   "cell_type": "markdown",
   "metadata": {},
   "source": [
    "# Code for fitting Astro RC data"
   ]
  },
  {
   "cell_type": "code",
   "execution_count": 1,
   "metadata": {
    "collapsed": true
   },
   "outputs": [],
   "source": [
    "import numpy as np\n",
    "import matplotlib.pyplot as plt\n",
    "import seaborn as sns\n",
    "import matplotlib\n",
    "sns.set_palette('colorblind',20)\n",
    "sns.set_context('notebook')\n",
    "matplotlib.rc('xtick', labelsize=15) \n",
    "matplotlib.rc('ytick', labelsize=15)\n",
    "matplotlib.rc('axes',labelsize=15) \n",
    "import pandas as pd\n",
    "import pystan\n",
    "\n",
    "import os\n",
    "import pickle\n",
    "\n",
    "els = False\n",
    "\n",
    "import sys"
   ]
  },
  {
   "cell_type": "code",
   "execution_count": 2,
   "metadata": {
    "collapsed": true
   },
   "outputs": [],
   "source": [
    "def read_data():\n",
    "#     sfile = '../data/KepxDR2/rcxyu18.csv'\n",
    "    sfile = '../Data/rcxyu18.csv'\n",
    "    df = pd.read_csv(sfile,index_col=0)\n",
    "    return df\n",
    "    \n",
    "def normal(x, mu, sigma):\n",
    "    return (1/np.sqrt(2*np.pi*sigma**2)) * np.exp(-(x - mu)**2/(2*sigma**2))"
   ]
  },
  {
   "cell_type": "code",
   "execution_count": 3,
   "metadata": {
    "collapsed": false
   },
   "outputs": [
    {
     "name": "stdout",
     "output_type": "stream",
     "text": [
      "Size: 5578\n"
     ]
    },
    {
     "data": {
      "text/html": [
       "<div>\n",
       "<style scoped>\n",
       "    .dataframe tbody tr th:only-of-type {\n",
       "        vertical-align: middle;\n",
       "    }\n",
       "\n",
       "    .dataframe tbody tr th {\n",
       "        vertical-align: top;\n",
       "    }\n",
       "\n",
       "    .dataframe thead th {\n",
       "        text-align: right;\n",
       "    }\n",
       "</style>\n",
       "<table border=\"1\" class=\"dataframe\">\n",
       "  <thead>\n",
       "    <tr style=\"text-align: right;\">\n",
       "      <th></th>\n",
       "      <th>kepmag_x</th>\n",
       "      <th>Length_Quarters</th>\n",
       "      <th>Length_days</th>\n",
       "      <th>numax</th>\n",
       "      <th>numax_err</th>\n",
       "      <th>dnu</th>\n",
       "      <th>dnu_err</th>\n",
       "      <th>amplitude</th>\n",
       "      <th>err.2_x</th>\n",
       "      <th>fwhm</th>\n",
       "      <th>...</th>\n",
       "      <th>BC_GBP</th>\n",
       "      <th>BC_GRP</th>\n",
       "      <th>BC_J</th>\n",
       "      <th>BC_H</th>\n",
       "      <th>BC_K</th>\n",
       "      <th>ast_MKs</th>\n",
       "      <th>ast_MH</th>\n",
       "      <th>ast_MJ</th>\n",
       "      <th>ast_MG</th>\n",
       "      <th>ast_M_err</th>\n",
       "    </tr>\n",
       "    <tr>\n",
       "      <th>KICID</th>\n",
       "      <th></th>\n",
       "      <th></th>\n",
       "      <th></th>\n",
       "      <th></th>\n",
       "      <th></th>\n",
       "      <th></th>\n",
       "      <th></th>\n",
       "      <th></th>\n",
       "      <th></th>\n",
       "      <th></th>\n",
       "      <th></th>\n",
       "      <th></th>\n",
       "      <th></th>\n",
       "      <th></th>\n",
       "      <th></th>\n",
       "      <th></th>\n",
       "      <th></th>\n",
       "      <th></th>\n",
       "      <th></th>\n",
       "      <th></th>\n",
       "      <th></th>\n",
       "    </tr>\n",
       "  </thead>\n",
       "  <tbody>\n",
       "    <tr>\n",
       "      <th>892760</th>\n",
       "      <td>13.23</td>\n",
       "      <td>6</td>\n",
       "      <td>380.8</td>\n",
       "      <td>29.48</td>\n",
       "      <td>0.48</td>\n",
       "      <td>3.962</td>\n",
       "      <td>0.116</td>\n",
       "      <td>149.7</td>\n",
       "      <td>8.3</td>\n",
       "      <td>12.0</td>\n",
       "      <td>...</td>\n",
       "      <td>-0.740</td>\n",
       "      <td>0.388</td>\n",
       "      <td>1.206</td>\n",
       "      <td>1.638</td>\n",
       "      <td>1.766</td>\n",
       "      <td>-1.671046</td>\n",
       "      <td>-1.543046</td>\n",
       "      <td>-1.111046</td>\n",
       "      <td>0.343954</td>\n",
       "      <td>0.206767</td>\n",
       "    </tr>\n",
       "    <tr>\n",
       "      <th>1026084</th>\n",
       "      <td>12.14</td>\n",
       "      <td>15</td>\n",
       "      <td>1139.0</td>\n",
       "      <td>41.17</td>\n",
       "      <td>0.90</td>\n",
       "      <td>4.414</td>\n",
       "      <td>0.061</td>\n",
       "      <td>63.8</td>\n",
       "      <td>2.9</td>\n",
       "      <td>24.8</td>\n",
       "      <td>...</td>\n",
       "      <td>-0.754</td>\n",
       "      <td>0.409</td>\n",
       "      <td>1.252</td>\n",
       "      <td>1.706</td>\n",
       "      <td>1.840</td>\n",
       "      <td>-1.878376</td>\n",
       "      <td>-1.744376</td>\n",
       "      <td>-1.290376</td>\n",
       "      <td>0.205624</td>\n",
       "      <td>0.166498</td>\n",
       "    </tr>\n",
       "  </tbody>\n",
       "</table>\n",
       "<p>2 rows × 166 columns</p>\n",
       "</div>"
      ],
      "text/plain": [
       "         kepmag_x  Length_Quarters  Length_days  numax  numax_err    dnu  \\\n",
       "KICID                                                                      \n",
       "892760      13.23                6        380.8  29.48       0.48  3.962   \n",
       "1026084     12.14               15       1139.0  41.17       0.90  4.414   \n",
       "\n",
       "         dnu_err  amplitude  err.2_x  fwhm    ...      BC_GBP  BC_GRP   BC_J  \\\n",
       "KICID                                         ...                              \n",
       "892760     0.116      149.7      8.3  12.0    ...      -0.740   0.388  1.206   \n",
       "1026084    0.061       63.8      2.9  24.8    ...      -0.754   0.409  1.252   \n",
       "\n",
       "          BC_H   BC_K   ast_MKs    ast_MH    ast_MJ    ast_MG  ast_M_err  \n",
       "KICID                                                                     \n",
       "892760   1.638  1.766 -1.671046 -1.543046 -1.111046  0.343954   0.206767  \n",
       "1026084  1.706  1.840 -1.878376 -1.744376 -1.290376  0.205624   0.166498  \n",
       "\n",
       "[2 rows x 166 columns]"
      ]
     },
     "execution_count": 3,
     "metadata": {},
     "output_type": "execute_result"
    }
   ],
   "source": [
    "df = read_data()\n",
    "print('Size: '+str(len(df)))\n",
    "df.head(2)"
   ]
  },
  {
   "cell_type": "markdown",
   "metadata": {},
   "source": [
    "## Stan model for astrometric values"
   ]
  },
  {
   "cell_type": "code",
   "execution_count": 4,
   "metadata": {
    "collapsed": false
   },
   "outputs": [
    {
     "name": "stdout",
     "output_type": "stream",
     "text": [
      "Loading in existing Stan Model\n",
      "Completed\n"
     ]
    }
   ],
   "source": [
    "overwrite = False\n",
    "asterostan = '''\n",
    "functions {\n",
    "    real bailerjones_lpdf(real r, real L){\n",
    "        return log((1/(2*L^3)) * (r*r) * exp(-r/L));\n",
    "    }\n",
    "}\n",
    "data {\n",
    "    int<lower = 0> N;\n",
    "    real m[N];\n",
    "    real<lower=0> m_err[N];\n",
    "    real oo[N];\n",
    "    real oo_err[N];\n",
    "    real<lower=0> RlEbv[N];\n",
    "    \n",
    "    real mu_init;\n",
    "    real mu_spread;\n",
    "//    real sigma_init;\n",
    "//    real sigma_spread;\n",
    "}\n",
    "parameters {\n",
    "    //Hyperparameters\n",
    "    real mu;\n",
    "    real<lower=0.> sigma;\n",
    "    real<lower=1.> sigo;\n",
    "    real<lower=0.5,upper=1.> Q;\n",
    "    real<lower=.1, upper=4000.> L;\n",
    "    \n",
    "    //Latent parameters\n",
    "    real M_infd_std[N];\n",
    "    real Ai[N];\n",
    "    real<lower = 1.> r_infd[N];\n",
    "    \n",
    "    // Parallax offset\n",
    "    real oo_zp;\n",
    "}\n",
    "transformed parameters{\n",
    "    //Inferred and transformed parameters\n",
    "    real M_infd[N];\n",
    "    \n",
    "    //Operations\n",
    "    for (n in 1:N){\n",
    "        M_infd[n] = mu + sigma * M_infd_std[n]; //Rescale the M fit\n",
    "    }\n",
    "}\n",
    "model {\n",
    "    //Define calculable properties\n",
    "    real m_true[N];\n",
    "    real oo_exp[N];\n",
    "    \n",
    "    //Hyperparameters in true space [p(theta_rc, L)]\n",
    "    mu ~ normal(mu_init, mu_spread); // Prior from seismo\n",
    "    sigma ~ normal(0., 1.); // Spread from seismo\n",
    "    Q ~ normal(1., .25);\n",
    "    sigo ~ normal(3.0, 1.0);\n",
    "    L ~ uniform(0.1, 4000.);\n",
    "    \n",
    "    //Latent parameters [p(alpha_i | theta_rc, L)]\n",
    "    Ai ~ normal(RlEbv, 0.03);\n",
    "    for (n in 1:N){\n",
    "        r_infd[n] ~ bailerjones(L);\n",
    "        target += log_mix(Q,\n",
    "            normal_lpdf(M_infd_std[n] | 0., 1.),\n",
    "            normal_lpdf(M_infd_std[n] | 0., sigo));\n",
    "    }\n",
    "    \n",
    "    //Calculable properties\n",
    "    for (n in 1:N){\n",
    "        m_true[n] = M_infd[n] + 5*log10(r_infd[n]) - 5 + Ai[n];\n",
    "        oo_exp[n] = (1000./r_infd[n]) + oo_zp;\n",
    "    }\n",
    "\n",
    "    //Observables [p(D | theta_rc, L, alpha)]\n",
    "    oo ~ normal(oo_exp, oo_err); //Measurement uncertainty on parallax\n",
    "    m ~ normal(m_true, m_err); //Measurement uncertainty on magnitude\n",
    "    \n",
    "    //\n",
    "    oo_zp ~ normal(0.0, 0.5); // Prior on the offset!\n",
    "    \n",
    "}\n",
    "\n",
    "'''\n",
    "\n",
    "model_path = 'astrostan.pkl'\n",
    "if overwrite:\n",
    "    print('Updating Stan model')\n",
    "    sm = pystan.StanModel(model_code = asterostan, model_name='astrostan')\n",
    "    with open(model_path, 'wb') as f:\n",
    "        pickle.dump(sm, f)\n",
    "else:\n",
    "    if os.path.isfile(model_path):\n",
    "        print('Loading in existing Stan Model') \n",
    "        sm = pickle.load(open(model_path, 'rb'))\n",
    "    else:\n",
    "        print('Saving Stan Model') \n",
    "        sm = pystan.StanModel(model_code = asterostan, model_name='astrostan')\n",
    "        with open(model_path, 'wb') as f:\n",
    "            pickle.dump(sm, f)\n",
    "print('Completed')"
   ]
  },
  {
   "cell_type": "markdown",
   "metadata": {},
   "source": [
    "#### Run the model"
   ]
  },
  {
   "cell_type": "code",
   "execution_count": null,
   "metadata": {
    "collapsed": false
   },
   "outputs": [
    {
     "name": "stderr",
     "output_type": "stream",
     "text": [
      "/home/davies/.local/lib/python3.6/site-packages/pystan/misc.py:399: FutureWarning: Conversion of the second argument of issubdtype from `float` to `np.floating` is deprecated. In future, it will be treated as `np.float64 == np.dtype(float).type`.\n",
      "  elif np.issubdtype(np.asarray(v).dtype, float):\n"
     ]
    }
   ],
   "source": [
    "sel = df[:1000]\n",
    "m = sel.Kmag.values\n",
    "m_err = sel.e_Kmag.values\n",
    "oo = sel.parallax.values\n",
    "oo_err = sel.parallax_error.values\n",
    "RlEbv = sel.Aks.values\n",
    "\n",
    "dat = {'N': len(sel),\n",
    "        'm': m,              #Magnitude in given band\n",
    "        'm_err' : m_err,     #Magnitude error\n",
    "        'oo' : oo,       #Observed parallax\n",
    "        'oo_err' : oo_err,   #Observed parallax error\n",
    "        'RlEbv':RlEbv,   #Reddening\n",
    "        \n",
    "        'mu_init':-1.668,  #Priors from seismo\n",
    "        'mu_spread':0.002}\n",
    "\n",
    "initd = {'mu':-1.668,        #Red clump position\n",
    "        'sigma':0.035,         #Red clump spread\n",
    "        'Q': 0.88,           #Mixture model weighting factor\n",
    "        'sigo':4.,          #Sprea dof the outlier population (as a fn of sigma)\n",
    "        'L':1000.,\n",
    "        'oo_zp':-0.3}        #Distance prior length scale\n",
    "\n",
    "fit = sm.sampling(data=dat, iter=4000, chains=4, init=[initd,initd, initd, initd])"
   ]
  },
  {
   "cell_type": "code",
   "execution_count": null,
   "metadata": {
    "collapsed": false
   },
   "outputs": [],
   "source": [
    "import corner\n",
    "chain = np.array([fit['mu'],fit['sigma'],fit['Q'],fit['sigo'],fit['L'], fit['oo_zp']])\n",
    "corner.corner(chain.T,\\\n",
    "                labels=[r'$\\mu$(mag)',r'$\\sigma$(mag)','Q',r'$\\sigma_o$(mag)','L(pc)', 'Offset'],\\\n",
    "                quantiles=[0.16, 0.5, 0.84],\\\n",
    "                show_titles=True, title_kwargs={\"fontsize\": 15})\n",
    "plt.show()"
   ]
  },
  {
   "cell_type": "code",
   "execution_count": null,
   "metadata": {
    "collapsed": false
   },
   "outputs": [],
   "source": [
    "fit.plot()\n",
    "plt.show()"
   ]
  },
  {
   "cell_type": "code",
   "execution_count": null,
   "metadata": {
    "collapsed": false
   },
   "outputs": [],
   "source": [
    "print(fit)"
   ]
  },
  {
   "cell_type": "code",
   "execution_count": null,
   "metadata": {
    "collapsed": false
   },
   "outputs": [],
   "source": [
    "s = fit.summary()\n",
    "rhat = s['summary'][:,-1]\n",
    "rhatfin = rhat[np.isfinite(rhat)]\n",
    "print('Total number of Rhats: '+str(len(rhat)))\n",
    "print('Total number of Rhats with the NaN values removed: '+str(len(rhatfin)))\n",
    "sns.distplot(rhatfin)\n",
    "plt.show()"
   ]
  },
  {
   "cell_type": "markdown",
   "metadata": {},
   "source": [
    "### Some further diagnostic plots"
   ]
  },
  {
   "cell_type": "code",
   "execution_count": null,
   "metadata": {
    "collapsed": true
   },
   "outputs": [],
   "source": [
    "mu = np.median(fit['mu'])\n",
    "sigma = np.median(fit['sigma'])\n",
    "sigo = (np.median(fit['sigo']))* sigma\n",
    "Q = np.median(fit['Q'])\n",
    "Minfd = np.median(fit['M_infd'],axis=0)\n",
    "rinfd = np.median(fit['r_infd'],axis=0)\n",
    "Linfd = np.median(fit['L'],axis=0)\n",
    "\n",
    "x = np.linspace(Minfd.min(), Minfd.max(), 1000)\n",
    "fg = normal(x, mu, sigma)\n",
    "bg = normal(x, mu, sigo)\n",
    "L = Q*fg + (1-Q)*bg"
   ]
  },
  {
   "cell_type": "code",
   "execution_count": null,
   "metadata": {
    "collapsed": false
   },
   "outputs": [],
   "source": [
    "left, bottom, width, height = 0.1, 0.47, 1., 0.60\n",
    "fig = plt.figure(1, figsize=(8,8))\n",
    "sax = fig.add_axes([left, bottom, width, height])\n",
    "xax = fig.add_axes([left, 0.1, width, 0.3],sharex=sax)\n",
    "\n",
    "sax.scatter(Minfd,m,s=5,zorder=1000)\n",
    "\n",
    "sns.distplot(Minfd, ax=xax, label='M obs')\n",
    "xax.plot(x,fg,label='Foreground',zorder=999)\n",
    "xax.plot(x,bg,label='Background',zorder=998)\n",
    "xax.plot(x, L,label='True likelihood',zorder=997)\n",
    "xax.legend()\n",
    "\n",
    "sax.grid()\n",
    "xax.grid()\n",
    "\n",
    "sax.set_xlabel('Absmag in K')\n",
    "sax.set_ylabel('App mag in K')\n",
    "xax.set_ylabel('Units arbitrary')"
   ]
  },
  {
   "cell_type": "markdown",
   "metadata": {},
   "source": [
    "The above plot compares the inferred absolute Kband magnitude to the observed absolute Kband magnitude--- there are more data points at the red clump overdensity which is expected, as the points will have been placed there within the constraints of the observational uncertainties. \n",
    "\n",
    "There appears to be some kind of offset still, as there appears to be some correlation around the bisector at the inferred absolute magnitude positions."
   ]
  },
  {
   "cell_type": "code",
   "execution_count": null,
   "metadata": {
    "collapsed": false
   },
   "outputs": [],
   "source": [
    "fig, ax = plt.subplots(figsize=(8,8))\n",
    "f = np.abs(sel.parallax_error/sel.parallax)\n",
    "c = plt.scatter(sel.r_est,rinfd,c=f, vmin=0., vmax=1.)\n",
    "fig.colorbar(c, label='Fractional parallax uncertainty',extend='max')\n",
    "ax.plot(sel.r_est, sel.r_est,c='k',linestyle='-.')\n",
    "ax.set_xlabel('Inferred distance')\n",
    "ax.set_ylabel('Bailer-Jones catalogue distance')\n",
    "plt.show()\n",
    "print('Our L: '+str(Linfd))\n",
    "print('BJ+18 median L: '+str(np.median(sel.r_length_prior)))"
   ]
  },
  {
   "cell_type": "markdown",
   "metadata": {},
   "source": [
    "Given that our L is smaller, we expect the mode of the prior distribution to be at a **lower distance**, and therefore we expect stars with high fractional uncertainties to be have a **lower inferred distance**. This means we would expect high fractional uncertainty stars to be *below* the bisector. That appears to be the case, although we'll need to run on more stars to confirm."
   ]
  },
  {
   "cell_type": "code",
   "execution_count": null,
   "metadata": {
    "collapsed": false
   },
   "outputs": [],
   "source": [
    "r = sel.r_est\n",
    "prior = (1/(2*Linfd**3)) * (r*r) * np.exp(-r/Linfd)\n",
    "\n",
    "sns.distplot(sel.r_est,label='r est')\n",
    "sns.distplot(rinfd, label='r infd')\n",
    "plt.scatter(r,prior,s=5,label='Prior')\n",
    "plt.legend()\n",
    "plt.show()"
   ]
  },
  {
   "cell_type": "markdown",
   "metadata": {},
   "source": [
    "From this it looks like the best fit value of L does not comply well for the full dataset--- could this be because L varies as a function of galactic position?"
   ]
  },
  {
   "cell_type": "markdown",
   "metadata": {},
   "source": [
    "### Temporarily redundant code"
   ]
  },
  {
   "cell_type": "code",
   "execution_count": null,
   "metadata": {
    "collapsed": true
   },
   "outputs": [],
   "source": [
    "sys.exit()"
   ]
  },
  {
   "cell_type": "code",
   "execution_count": null,
   "metadata": {
    "collapsed": true
   },
   "outputs": [],
   "source": [
    "L = 1000.\n",
    "r = np.linspace(0.1,8000, 100000)\n",
    "p = (1/(2*L**3))*(r*r) * exp(-r/L)\n",
    "print(p)\n",
    "plt.plot(r, p)\n",
    "plt.show()"
   ]
  },
  {
   "cell_type": "code",
   "execution_count": null,
   "metadata": {
    "collapsed": true
   },
   "outputs": [],
   "source": [
    "'''    //Hyperparameter Uniform priors for testing\n",
    "        mu ~ uniform(-2., -1.);\n",
    "        sigma ~ uniform(0.01, .15);\n",
    "        Q ~ uniform(.8, 1.);\n",
    "        muo ~ uniform(-2, -1.);\n",
    "        sigo ~ normal(1.5, .5);\n",
    "        L ~ uniform(0.1, 4000.);\n",
    "'''"
   ]
  },
  {
   "cell_type": "code",
   "execution_count": null,
   "metadata": {
    "collapsed": true
   },
   "outputs": [],
   "source": [
    "plt.scatter(df.Ak_bj, df.Ak_pl)\n",
    "plt.plot(df.Ak_bj,df.Ak_bj,label='Bisector',c='k',linestyle='-.')\n",
    "plt.plot(df.Ak_bj,df.Ak_bj+0.05, label='+0.05mag',c='k',linestyle='-.')\n",
    "plt.plot(df.Ak_bj,df.Ak_bj-0.05, label='-0.05mag',c='k',linestyle='-.')\n",
    "plt.legend()\n",
    "plt.xlabel('Extinction in K using Bailerjones')\n",
    "plt.ylabel('Extinction in K using 1/parallax')\n",
    "plt.show()"
   ]
  },
  {
   "cell_type": "code",
   "execution_count": null,
   "metadata": {
    "collapsed": true
   },
   "outputs": [],
   "source": [
    "'''Now lets quickly compare the inferred value of M and the omnitool value'''\n",
    "fig, ax = plt.subplots(figsize=(8,8))\n",
    "f = np.abs(sel.parallax_error/sel.parallax)\n",
    "c= ax.scatter(sel.phot_MKs, Minfd,zorder=2,c=f,vmin=0.,vmax=1.)\n",
    "fig.colorbar(c, label='Fractional parallax uncertainty',extend='max')\n",
    "ax.errorbar(sel.phot_MKs, Minfd,xerr=sel.phot_MKs_err,c='grey',fmt='none',alpha=.3,zorder=1)\n",
    "ax.plot(sel.phot_MKs, sel.phot_MKs, c='k',linestyle='-.')\n",
    "ax.set_xlabel('Measured photometric absmag')\n",
    "ax.set_ylabel('Inferred absmag')\n",
    "plt.show()"
   ]
  }
 ],
 "metadata": {
  "anaconda-cloud": {},
  "kernelspec": {
   "display_name": "Python 3",
   "language": "python",
   "name": "python3"
  },
  "language_info": {
   "codemirror_mode": {
    "name": "ipython",
    "version": 3
   },
   "file_extension": ".py",
   "mimetype": "text/x-python",
   "name": "python",
   "nbconvert_exporter": "python",
   "pygments_lexer": "ipython3",
   "version": "3.6.3"
  }
 },
 "nbformat": 4,
 "nbformat_minor": 2
}
