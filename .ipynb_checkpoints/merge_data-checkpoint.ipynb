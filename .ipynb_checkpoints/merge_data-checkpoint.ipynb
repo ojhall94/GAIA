{
 "cells": [
  {
   "cell_type": "code",
   "execution_count": 1,
   "metadata": {},
   "outputs": [
    {
     "name": "stderr",
     "output_type": "stream",
     "text": [
      "/usr/local/lib/python2.7/dist-packages/h5py/__init__.py:36: FutureWarning: Conversion of the second argument of issubdtype from `float` to `np.floating` is deprecated. In future, it will be treated as `np.float64 == np.dtype(float).type`.\n",
      "  from ._conv import register_converters as _register_converters\n"
     ]
    }
   ],
   "source": [
    "import numpy as np\n",
    "import matplotlib.pyplot as plt\n",
    "import pandas as pd\n",
    "import seaborn as sns\n",
    "from astropy.table import Table\n",
    "from omnitool.literature_values import *"
   ]
  },
  {
   "cell_type": "code",
   "execution_count": 2,
   "metadata": {},
   "outputs": [],
   "source": [
    "#Read in Jie Yu\n",
    "def read_yu18():\n",
    "    sfile = '/home/oliver/PhD/Catalogues/RC_catalogues/Yu+18_table1.txt'\n",
    "    cols = ['KICID','numax','err','dnu','err.1']\n",
    "    yu18_1 = pd.read_csv(sfile, usecols=cols, sep='|')\n",
    "\n",
    "    sfile = '/home/oliver/PhD/Catalogues/RC_catalogues/Yu+18_table2.txt'\n",
    "#     cols = ['KICID','Teff','err','logg','err.1_y','Fe/H','err.2','EvoPhase']\n",
    "    yu18_2 = pd.read_csv(sfile, sep='|')\n",
    "    yu18 = pd.merge(yu18_1, yu18_2, on='KICID',how='left')\n",
    "    yu18.rename(columns={'EvoPhase':'stage',\n",
    "                        'err_x':'numax_err',\n",
    "                        'err.1_x':'dnu_err',\n",
    "                        'err_y':'Teff_err',\n",
    "                         'Fe/H':'[Fe/H]',\n",
    "                        'err.2':'[Fe/H]_err',\n",
    "                        'logg':'yu_logg',\n",
    "                        'err.1_y':'yu_logg_err',\n",
    "                        'err.3_y':'M_err',\n",
    "                        'err.4_y':'R_err'},inplace=True) #For consistency\n",
    "    return yu18"
   ]
  },
  {
   "cell_type": "code",
   "execution_count": 3,
   "metadata": {},
   "outputs": [
    {
     "name": "stdout",
     "output_type": "stream",
     "text": [
      "['KICID', 'numax', 'numax_err', 'dnu', 'dnu_err', 'Teff', 'Teff_err', 'yu_logg', 'yu_logg_err', '[Fe/H]', '[Fe/H]_err', 'M_noCorrection', 'err.3', 'R_noCorrection', 'err.4', 'M_RGB', 'err.5', 'R_RGB', 'err.6', 'M_Clump', 'err.7', 'R_Clump', 'err.8', 'stage', 'Unnamed: 20']\n"
     ]
    }
   ],
   "source": [
    "ydf = read_yu18()\n",
    "ydf.head(2)\n",
    "print(list(ydf))"
   ]
  },
  {
   "cell_type": "code",
   "execution_count": 4,
   "metadata": {},
   "outputs": [
    {
     "data": {
      "text/html": [
       "<div>\n",
       "<style scoped>\n",
       "    .dataframe tbody tr th:only-of-type {\n",
       "        vertical-align: middle;\n",
       "    }\n",
       "\n",
       "    .dataframe tbody tr th {\n",
       "        vertical-align: top;\n",
       "    }\n",
       "\n",
       "    .dataframe thead th {\n",
       "        text-align: right;\n",
       "    }\n",
       "</style>\n",
       "<table border=\"1\" class=\"dataframe\">\n",
       "  <thead>\n",
       "    <tr style=\"text-align: right;\">\n",
       "      <th></th>\n",
       "      <th>designation</th>\n",
       "      <th>source_id</th>\n",
       "      <th>gaia_ref_epoch</th>\n",
       "      <th>ra</th>\n",
       "      <th>ra_error</th>\n",
       "      <th>dec</th>\n",
       "      <th>dec_error</th>\n",
       "      <th>parallax</th>\n",
       "      <th>parallax_error</th>\n",
       "      <th>parallax_over_error</th>\n",
       "      <th>...</th>\n",
       "      <th>mass_err2</th>\n",
       "      <th>prov_sec</th>\n",
       "      <th>nconfp</th>\n",
       "      <th>nkoi</th>\n",
       "      <th>ntce</th>\n",
       "      <th>jmag</th>\n",
       "      <th>hmag</th>\n",
       "      <th>kmag</th>\n",
       "      <th>planet?</th>\n",
       "      <th>kepler_gaia_ang_dist</th>\n",
       "    </tr>\n",
       "  </thead>\n",
       "  <tbody>\n",
       "    <tr>\n",
       "      <th>0</th>\n",
       "      <td>Gaia DR2 2050233807328471424</td>\n",
       "      <td>2.050234e+18</td>\n",
       "      <td>2015.5</td>\n",
       "      <td>291.038681</td>\n",
       "      <td>0.035878</td>\n",
       "      <td>36.598031</td>\n",
       "      <td>0.047832</td>\n",
       "      <td>1.493916</td>\n",
       "      <td>0.048328</td>\n",
       "      <td>30.912294</td>\n",
       "      <td>...</td>\n",
       "      <td>-0.475</td>\n",
       "      <td>DSEP</td>\n",
       "      <td>0.0</td>\n",
       "      <td>0.0</td>\n",
       "      <td>0.0</td>\n",
       "      <td>10.126</td>\n",
       "      <td>9.667</td>\n",
       "      <td>9.559</td>\n",
       "      <td>none</td>\n",
       "      <td>0.381502</td>\n",
       "    </tr>\n",
       "    <tr>\n",
       "      <th>1</th>\n",
       "      <td>Gaia DR2 2050233601176543104</td>\n",
       "      <td>2.050234e+18</td>\n",
       "      <td>2015.5</td>\n",
       "      <td>291.043057</td>\n",
       "      <td>0.019919</td>\n",
       "      <td>36.593767</td>\n",
       "      <td>0.027553</td>\n",
       "      <td>2.678194</td>\n",
       "      <td>0.027151</td>\n",
       "      <td>98.642212</td>\n",
       "      <td>...</td>\n",
       "      <td>-0.233</td>\n",
       "      <td>DSEP</td>\n",
       "      <td>0.0</td>\n",
       "      <td>0.0</td>\n",
       "      <td>1.0</td>\n",
       "      <td>11.656</td>\n",
       "      <td>11.193</td>\n",
       "      <td>11.094</td>\n",
       "      <td>none</td>\n",
       "      <td>0.158389</td>\n",
       "    </tr>\n",
       "  </tbody>\n",
       "</table>\n",
       "<p>2 rows × 101 columns</p>\n",
       "</div>"
      ],
      "text/plain": [
       "                    designation     source_id  gaia_ref_epoch          ra  \\\n",
       "0  Gaia DR2 2050233807328471424  2.050234e+18          2015.5  291.038681   \n",
       "1  Gaia DR2 2050233601176543104  2.050234e+18          2015.5  291.043057   \n",
       "\n",
       "   ra_error        dec  dec_error  parallax  parallax_error  \\\n",
       "0  0.035878  36.598031   0.047832  1.493916        0.048328   \n",
       "1  0.019919  36.593767   0.027553  2.678194        0.027151   \n",
       "\n",
       "   parallax_over_error          ...           mass_err2  prov_sec  nconfp  \\\n",
       "0            30.912294          ...              -0.475      DSEP     0.0   \n",
       "1            98.642212          ...              -0.233      DSEP     0.0   \n",
       "\n",
       "   nkoi  ntce    jmag    hmag    kmag  planet?  kepler_gaia_ang_dist  \n",
       "0   0.0   0.0  10.126   9.667   9.559     none              0.381502  \n",
       "1   0.0   1.0  11.656  11.193  11.094     none              0.158389  \n",
       "\n",
       "[2 rows x 101 columns]"
      ]
     },
     "execution_count": 4,
     "metadata": {},
     "output_type": "execute_result"
    }
   ],
   "source": [
    "data = Table.read('../data/KepxDR2/kepler_dr2_1arcsec.fits', format='fits')\n",
    "kdf = data.to_pandas()\n",
    "kdf.rename(columns={'kepid':'KICID'},inplace=True)\n",
    "kdf.head(2)"
   ]
  },
  {
   "cell_type": "code",
   "execution_count": 5,
   "metadata": {},
   "outputs": [],
   "source": [
    "df = kdf"
   ]
  },
  {
   "cell_type": "code",
   "execution_count": 6,
   "metadata": {},
   "outputs": [
    {
     "name": "stdout",
     "output_type": "stream",
     "text": [
      "['KICID', 'numax', 'numax_err', 'dnu', 'dnu_err', 'Teff', 'Teff_err', 'yu_logg', 'yu_logg_err', '[Fe/H]', '[Fe/H]_err', 'M_noCorrection', 'err.3', 'R_noCorrection', 'err.4', 'M_RGB', 'err.5', 'R_RGB', 'err.6', 'M_Clump', 'err.7', 'R_Clump', 'err.8', 'stage', 'Unnamed: 20', 'designation', 'source_id', 'gaia_ref_epoch', 'ra', 'ra_error', 'dec', 'dec_error', 'parallax', 'parallax_error', 'parallax_over_error', 'pmra', 'pmra_error', 'pmdec', 'pmdec_error', 'ra_dec_corr', 'ra_parallax_corr', 'ra_pmra_corr', 'ra_pmdec_corr', 'dec_parallax_corr', 'dec_pmra_corr', 'dec_pmdec_corr', 'parallax_pmra_corr', 'parallax_pmdec_corr', 'pmra_pmdec_corr', 'astrometric_chi2_al', 'astrometric_excess_noise', 'astrometric_excess_noise_sig', 'astrometric_primary_flag', 'duplicated_source', 'phot_g_mean_flux', 'phot_g_mean_flux_error', 'phot_g_mean_mag', 'phot_bp_mean_flux', 'phot_bp_mean_flux_error', 'phot_bp_mean_mag', 'phot_rp_mean_flux', 'phot_rp_mean_flux_error', 'phot_rp_mean_mag', 'bp_rp', 'bp_g', 'g_rp', 'radial_velocity', 'radial_velocity_error', 'phot_variable_flag', 'l', 'b', 'ecl_lon', 'ecl_lat', 'teff_val', 'teff_percentile_lower', 'teff_percentile_upper', 'a_g_val', 'a_g_percentile_lower', 'a_g_percentile_upper', 'e_bp_min_rp_val', 'e_bp_min_rp_percentile_lower', 'e_bp_min_rp_percentile_upper', 'radius_val', 'radius_percentile_lower', 'radius_percentile_upper', 'lum_val', 'lum_percentile_lower', 'lum_percentile_upper', 'r_est', 'r_lo', 'r_hi', 'r_length_prior', 'r_result_flag', 'r_modality_flag', 'tm_designation', 'ra_kepler', 'dec_kepler', 'kepmag', 'teff', 'teff_err1', 'teff_err2', 'teff_prov', 'logg', 'logg_err1', 'logg_err2', 'logg_prov', 'feh', 'feh_err1', 'feh_err2', 'feh_prov', 'radius', 'radius_err1', 'radius_err2', 'mass', 'mass_err1', 'mass_err2', 'prov_sec', 'nconfp', 'nkoi', 'ntce', 'jmag', 'hmag', 'kmag', 'planet?', 'kepler_gaia_ang_dist']\n"
     ]
    }
   ],
   "source": [
    "df = pd.merge(ydf, kdf, on='KICID',how='left')\n",
    "print(list(df))"
   ]
  },
  {
   "cell_type": "code",
   "execution_count": 6,
   "metadata": {},
   "outputs": [
    {
     "ename": "AttributeError",
     "evalue": "'DataFrame' object has no attribute 'Teff'",
     "output_type": "error",
     "traceback": [
      "\u001b[0;31m---------------------------------------------------------------------------\u001b[0m",
      "\u001b[0;31mAttributeError\u001b[0m                            Traceback (most recent call last)",
      "\u001b[0;32m<ipython-input-6-1209ebc136fd>\u001b[0m in \u001b[0;36m<module>\u001b[0;34m()\u001b[0m\n\u001b[0;32m----> 1\u001b[0;31m \u001b[0msns\u001b[0m\u001b[0;34m.\u001b[0m\u001b[0mjointplot\u001b[0m\u001b[0;34m(\u001b[0m\u001b[0mdf\u001b[0m\u001b[0;34m.\u001b[0m\u001b[0mTeff\u001b[0m\u001b[0;34m,\u001b[0m \u001b[0mdf\u001b[0m\u001b[0;34m.\u001b[0m\u001b[0mteff\u001b[0m\u001b[0;34m)\u001b[0m\u001b[0;34m\u001b[0m\u001b[0m\n\u001b[0m\u001b[1;32m      2\u001b[0m \u001b[0mplt\u001b[0m\u001b[0;34m.\u001b[0m\u001b[0mshow\u001b[0m\u001b[0;34m(\u001b[0m\u001b[0;34m)\u001b[0m\u001b[0;34m\u001b[0m\u001b[0m\n\u001b[1;32m      3\u001b[0m \u001b[0msns\u001b[0m\u001b[0;34m.\u001b[0m\u001b[0mjointplot\u001b[0m\u001b[0;34m(\u001b[0m\u001b[0mdf\u001b[0m\u001b[0;34m[\u001b[0m\u001b[0;34m'[Fe/H]'\u001b[0m\u001b[0;34m]\u001b[0m\u001b[0;34m,\u001b[0m \u001b[0mdf\u001b[0m\u001b[0;34m.\u001b[0m\u001b[0mfeh\u001b[0m\u001b[0;34m)\u001b[0m\u001b[0;34m\u001b[0m\u001b[0m\n\u001b[1;32m      4\u001b[0m \u001b[0mplt\u001b[0m\u001b[0;34m.\u001b[0m\u001b[0mshow\u001b[0m\u001b[0;34m(\u001b[0m\u001b[0;34m)\u001b[0m\u001b[0;34m\u001b[0m\u001b[0m\n\u001b[1;32m      5\u001b[0m \u001b[0msns\u001b[0m\u001b[0;34m.\u001b[0m\u001b[0mjointplot\u001b[0m\u001b[0;34m(\u001b[0m\u001b[0mdf\u001b[0m\u001b[0;34m.\u001b[0m\u001b[0myu_logg\u001b[0m\u001b[0;34m,\u001b[0m\u001b[0mdf\u001b[0m\u001b[0;34m.\u001b[0m\u001b[0mlogg\u001b[0m\u001b[0;34m)\u001b[0m\u001b[0;34m\u001b[0m\u001b[0m\n",
      "\u001b[0;32m/usr/local/lib/python2.7/dist-packages/pandas/core/generic.pyc\u001b[0m in \u001b[0;36m__getattr__\u001b[0;34m(self, name)\u001b[0m\n\u001b[1;32m   3612\u001b[0m             \u001b[0;32mif\u001b[0m \u001b[0mname\u001b[0m \u001b[0;32min\u001b[0m \u001b[0mself\u001b[0m\u001b[0;34m.\u001b[0m\u001b[0m_info_axis\u001b[0m\u001b[0;34m:\u001b[0m\u001b[0;34m\u001b[0m\u001b[0m\n\u001b[1;32m   3613\u001b[0m                 \u001b[0;32mreturn\u001b[0m \u001b[0mself\u001b[0m\u001b[0;34m[\u001b[0m\u001b[0mname\u001b[0m\u001b[0;34m]\u001b[0m\u001b[0;34m\u001b[0m\u001b[0m\n\u001b[0;32m-> 3614\u001b[0;31m             \u001b[0;32mreturn\u001b[0m \u001b[0mobject\u001b[0m\u001b[0;34m.\u001b[0m\u001b[0m__getattribute__\u001b[0m\u001b[0;34m(\u001b[0m\u001b[0mself\u001b[0m\u001b[0;34m,\u001b[0m \u001b[0mname\u001b[0m\u001b[0;34m)\u001b[0m\u001b[0;34m\u001b[0m\u001b[0m\n\u001b[0m\u001b[1;32m   3615\u001b[0m \u001b[0;34m\u001b[0m\u001b[0m\n\u001b[1;32m   3616\u001b[0m     \u001b[0;32mdef\u001b[0m \u001b[0m__setattr__\u001b[0m\u001b[0;34m(\u001b[0m\u001b[0mself\u001b[0m\u001b[0;34m,\u001b[0m \u001b[0mname\u001b[0m\u001b[0;34m,\u001b[0m \u001b[0mvalue\u001b[0m\u001b[0;34m)\u001b[0m\u001b[0;34m:\u001b[0m\u001b[0;34m\u001b[0m\u001b[0m\n",
      "\u001b[0;31mAttributeError\u001b[0m: 'DataFrame' object has no attribute 'Teff'"
     ]
    }
   ],
   "source": [
    "sns.jointplot(df.Teff, df.teff)\n",
    "plt.show()\n",
    "sns.jointplot(df['[Fe/H]'], df.feh)\n",
    "plt.show()\n",
    "sns.jointplot(df.yu_logg,df.logg)\n",
    "plt.show()"
   ]
  },
  {
   "cell_type": "code",
   "execution_count": 9,
   "metadata": {},
   "outputs": [
    {
     "data": {
      "text/html": [
       "<div>\n",
       "<style scoped>\n",
       "    .dataframe tbody tr th:only-of-type {\n",
       "        vertical-align: middle;\n",
       "    }\n",
       "\n",
       "    .dataframe tbody tr th {\n",
       "        vertical-align: top;\n",
       "    }\n",
       "\n",
       "    .dataframe thead th {\n",
       "        text-align: right;\n",
       "    }\n",
       "</style>\n",
       "<table border=\"1\" class=\"dataframe\">\n",
       "  <thead>\n",
       "    <tr style=\"text-align: right;\">\n",
       "      <th></th>\n",
       "      <th>KICID</th>\n",
       "      <th>J_MAG_2M</th>\n",
       "      <th>J_MAG_ERR</th>\n",
       "      <th>H_MAG_2M</th>\n",
       "      <th>H_MAG_ERR</th>\n",
       "      <th>K_MAG_2M</th>\n",
       "      <th>K_MAG_ERR</th>\n",
       "    </tr>\n",
       "  </thead>\n",
       "  <tbody>\n",
       "    <tr>\n",
       "      <th>0</th>\n",
       "      <td>10000207</td>\n",
       "      <td>10.811</td>\n",
       "      <td>0.021</td>\n",
       "      <td>10.261</td>\n",
       "      <td>0.017</td>\n",
       "      <td>10.172</td>\n",
       "      <td>0.012</td>\n",
       "    </tr>\n",
       "    <tr>\n",
       "      <th>1</th>\n",
       "      <td>10000547</td>\n",
       "      <td>10.712</td>\n",
       "      <td>0.021</td>\n",
       "      <td>10.247</td>\n",
       "      <td>0.019</td>\n",
       "      <td>10.161</td>\n",
       "      <td>0.014</td>\n",
       "    </tr>\n",
       "  </tbody>\n",
       "</table>\n",
       "</div>"
      ],
      "text/plain": [
       "      KICID  J_MAG_2M  J_MAG_ERR  H_MAG_2M  H_MAG_ERR  K_MAG_2M  K_MAG_ERR\n",
       "0  10000207    10.811      0.021    10.261      0.017    10.172      0.012\n",
       "1  10000547    10.712      0.021    10.247      0.019    10.161      0.014"
      ]
     },
     "execution_count": 9,
     "metadata": {},
     "output_type": "execute_result"
    }
   ],
   "source": [
    "#Now lets read in the KICID and relevant information from APOKASC\n",
    "sfile = '/home/oliver/PhD/Catalogues/APOKASC/APOKASC_cat_v3.6.5.txt'\n",
    "cols= ['KEPLER_ID',\\\n",
    "      'J_MAG_2M', 'J_MAG_ERR', 'H_MAG_2M', 'H_MAG_ERR',\\\n",
    "       'K_MAG_2M', 'K_MAG_ERR']\n",
    "\n",
    "apokasc = pd.read_csv(sfile, usecols=cols, skiprows=644,sep='\\s+')\n",
    "apokasc.rename(columns={'KEPLER_ID':'KICID'},inplace=True)\n",
    "\n",
    "apokasc.head(2)"
   ]
  },
  {
   "cell_type": "code",
   "execution_count": 16,
   "metadata": {},
   "outputs": [
    {
     "name": "stdout",
     "output_type": "stream",
     "text": [
      "11876\n"
     ]
    }
   ],
   "source": [
    "fdf = pd.merge(df, apokasc, on='KICID',how='left')\n",
    "fdf.K_MAG_2M\n",
    "print(len(np.isfinite(apokasc.K_MAG_2M)))"
   ]
  },
  {
   "cell_type": "code",
   "execution_count": 79,
   "metadata": {},
   "outputs": [],
   "source": [
    "df.to_csv('../data/KepxDR2/xyu18.csv')"
   ]
  },
  {
   "cell_type": "code",
   "execution_count": 7,
   "metadata": {},
   "outputs": [
    {
     "data": {
      "image/png": "[encoded data removed]",
      "text/plain": [
       "<matplotlib.figure.Figure at 0x7fa596693190>"
      ]
     },
     "metadata": {},
     "output_type": "display_data"
    },
    {
     "name": "stdout",
     "output_type": "stream",
     "text": [
      "195830\n",
      "195830\n"
     ]
    }
   ],
   "source": [
    "sel = np.isfinite(df.r_est)\n",
    "sns.distplot(df.r_est[sel])\n",
    "plt.show()\n",
    "print(len(df.r_est[sel]))\n",
    "print(len(df.r_est))"
   ]
  },
  {
   "cell_type": "code",
   "execution_count": 33,
   "metadata": {},
   "outputs": [
    {
     "name": "stdout",
     "output_type": "stream",
     "text": [
      "16078\n"
     ]
    }
   ],
   "source": [
    "sel = np.isfinite(df.parallax)\n",
    "print(len(df.parallax[sel]))"
   ]
  },
  {
   "cell_type": "code",
   "execution_count": 8,
   "metadata": {},
   "outputs": [
    {
     "data": {
      "text/plain": [
       "195830"
      ]
     },
     "execution_count": 8,
     "metadata": {},
     "output_type": "execute_result"
    }
   ],
   "source": [
    "len(df)"
   ]
  },
  {
   "cell_type": "code",
   "execution_count": null,
   "metadata": {},
   "outputs": [],
   "source": []
  }
 ],
 "metadata": {
  "kernelspec": {
   "display_name": "Python 2",
   "language": "python",
   "name": "python2"
  },
  "language_info": {
   "codemirror_mode": {
    "name": "ipython",
    "version": 2
   },
   "file_extension": ".py",
   "mimetype": "text/x-python",
   "name": "python",
   "nbconvert_exporter": "python",
   "pygments_lexer": "ipython2",
   "version": "2.7.12"
  }
 },
 "nbformat": 4,
 "nbformat_minor": 2
}
