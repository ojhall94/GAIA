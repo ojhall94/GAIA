{
 "cells": [
  {
   "cell_type": "markdown",
   "metadata": {},
   "source": [
    "## Gaia projects log:\n",
    "\n",
    "### To do list:\n",
    "\n",
    "- Recreate the Hawkins HBMM\n",
    "- Properly treat the dupliates from the Kepler-Gaia-fun sample.\n",
    "- Properly look at the distance dependence of high uncertainty Gaia stars\n",
    "- Use the correct corrections for the RC Radii and thus luminosity (Yu+18)\n",
    "\n",
    "#### Completed:\n",
    "- Read the Yu+18 catalogue for caveats\n",
    "\n",
    "--- The data has a selection effect in Kepler\n",
    "\n",
    "- Investigate weird outliers\n",
    "\n",
    "--- These data are due to a selection effect in Kepler, but belong to the sample nonetheless\n",
    "\n",
    "### Notebooks:\n",
    "##### compare_rc\n",
    "Compares astrometric and steroseismic absolute magnitudes for current caveats\n",
    "##### hbmm_tri\n",
    "A HBMM tested on TRILEGAL data\n",
    "##### merge_data\n",
    "Pulls together the Bedell catalogue with Yu18 (and APOKASC, optionally) and saves out\n",
    "##### hbmm_yu18\n",
    "HBMM application to Yu18 data\n",
    "#####  workbench\n",
    "Workbench for playing around with data\n",
    "\n",
    "### Scripts:\n",
    "##### compare_rc\n",
    "Now redundant"
   ]
  },
  {
   "cell_type": "code",
   "execution_count": null,
   "metadata": {},
   "outputs": [],
   "source": []
  }
 ],
 "metadata": {
  "kernelspec": {
   "display_name": "Python 2",
   "language": "python",
   "name": "python2"
  },
  "language_info": {
   "codemirror_mode": {
    "name": "ipython",
    "version": 2
   },
   "file_extension": ".py",
   "mimetype": "text/x-python",
   "name": "python",
   "nbconvert_exporter": "python",
   "pygments_lexer": "ipython2",
   "version": "2.7.12"
  }
 },
 "nbformat": 4,
 "nbformat_minor": 2
}
