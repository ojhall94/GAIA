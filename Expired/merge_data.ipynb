{
 "cells": [
  {
   "cell_type": "code",
   "execution_count": 1,
   "metadata": {},
   "outputs": [
    {
     "name": "stderr",
     "output_type": "stream",
     "text": [
      "/usr/local/lib/python2.7/dist-packages/h5py/__init__.py:36: FutureWarning: Conversion of the second argument of issubdtype from `float` to `np.floating` is deprecated. In future, it will be treated as `np.float64 == np.dtype(float).type`.\n",
      "  from ._conv import register_converters as _register_converters\n"
     ]
    }
   ],
   "source": [
    "import numpy as np\n",
    "import matplotlib.pyplot as plt\n",
    "import pandas as pd\n",
    "import seaborn as sns\n",
    "from astropy.table import Table\n",
    "from omnitool.literature_values import *"
   ]
  },
  {
   "cell_type": "code",
   "execution_count": 2,
   "metadata": {},
   "outputs": [],
   "source": [
    "#Read in Jie Yu\n",
    "def read_yu18():\n",
    "    sfile = '/home/oliver/PhD/Catalogues/RC_catalogues/Yu+18_table1.txt'\n",
    "#     cols = ['KICID','numax','err','dnu','err.1']\n",
    "    yu18_1 = pd.read_csv(sfile, sep='|')\n",
    "\n",
    "    sfile = '/home/oliver/PhD/Catalogues/RC_catalogues/Yu+18_table2.txt'\n",
    "#     cols = ['KICID','Teff','err','logg','err.1_y','Fe/H','err.2','EvoPhase']\n",
    "    yu18_2 = pd.read_csv(sfile, sep='|')\n",
    "    yu18 = pd.merge(yu18_1, yu18_2, on='KICID',how='left')\n",
    "    yu18.rename(columns={'EvoPhase':'stage',\n",
    "                        'err_x':'numax_err',\n",
    "                        'err.1_x':'dnu_err',\n",
    "                        'err_y':'Teff_err',\n",
    "                         'Fe/H':'[Fe/H]',\n",
    "                        'err.2':'[Fe/H]_err',\n",
    "                        'logg':'yu_logg',\n",
    "                        'err.1_y':'yu_logg_err',\n",
    "                        'err.3_y':'M_err',\n",
    "                        'err.4_y':'R_err'},inplace=True) #For consistency\n",
    "    return yu18"
   ]
  },
  {
   "cell_type": "code",
   "execution_count": 3,
   "metadata": {},
   "outputs": [
    {
     "name": "stdout",
     "output_type": "stream",
     "text": [
      "['KICID', 'kepmag', 'Length_Quarters', 'Length_days', 'numax', 'numax_err', 'dnu', 'dnu_err', 'amplitude', 'err.2_x', 'fwhm', 'err.3_x', 'maxbg', 'err.4_x', 'Unnamed: 14', 'Teff', 'Teff_err', 'yu_logg', 'yu_logg_err', '[Fe/H]', 'err.2_y', 'M_noCorrection', 'M_err', 'R_noCorrection', 'R_err', 'M_RGB', 'err.5', 'R_RGB', 'err.6', 'M_Clump', 'err.7', 'R_Clump', 'err.8', 'stage', 'Unnamed: 20']\n"
     ]
    }
   ],
   "source": [
    "ydf = read_yu18()\n",
    "ydf.head(2)\n",
    "print(list(ydf))"
   ]
  },
  {
   "cell_type": "code",
   "execution_count": 4,
   "metadata": {},
   "outputs": [
    {
     "name": "stdout",
     "output_type": "stream",
     "text": [
      "<Table masked=True length=195830>\n",
      "            name              dtype         unit       n_bad\n",
      "---------------------------- ------- ----------------- -----\n",
      "                 designation   str28                       0\n",
      "                   source_id   int64                       0\n",
      "              gaia_ref_epoch float64                       0\n",
      "                          ra float64               deg     0\n",
      "                    ra_error float64      0.001 arcsec     0\n",
      "                         dec float64               deg     0\n",
      "                   dec_error float64      0.001 arcsec     0\n",
      "                    parallax float64      0.001 arcsec     0\n",
      "              parallax_error float64      0.001 arcsec     0\n",
      "         parallax_over_error float32                       0\n",
      "                        pmra float64 0.001 arcsec / yr     0\n",
      "                  pmra_error float64 0.001 arcsec / yr     0\n",
      "                       pmdec float64 0.001 arcsec / yr     0\n",
      "                 pmdec_error float64 0.001 arcsec / yr     0\n",
      "                 ra_dec_corr float32                       0\n",
      "            ra_parallax_corr float32                       0\n",
      "                ra_pmra_corr float32                       0\n",
      "               ra_pmdec_corr float32                       0\n",
      "           dec_parallax_corr float32                       0\n",
      "               dec_pmra_corr float32                       0\n",
      "              dec_pmdec_corr float32                       0\n",
      "          parallax_pmra_corr float32                       0\n",
      "         parallax_pmdec_corr float32                       0\n",
      "             pmra_pmdec_corr float32                       0\n",
      "         astrometric_chi2_al float32                       0\n",
      "    astrometric_excess_noise float64               mas     0\n",
      "astrometric_excess_noise_sig float64                       0\n",
      "    astrometric_primary_flag    bool                       0\n",
      "           duplicated_source    bool                       0\n",
      "            phot_g_mean_flux float64            ph / s     0\n",
      "      phot_g_mean_flux_error float64            ph / s     0\n",
      "             phot_g_mean_mag float32               mag     0\n",
      "           phot_bp_mean_flux float64            ph / s     0\n",
      "     phot_bp_mean_flux_error float64            ph / s     0\n",
      "            phot_bp_mean_mag float32               mag     0\n",
      "           phot_rp_mean_flux float64            ph / s     0\n",
      "     phot_rp_mean_flux_error float64            ph / s     0\n",
      "            phot_rp_mean_mag float32               mag     0\n",
      "                       bp_rp float32               mag     0\n",
      "                        bp_g float32               mag     0\n",
      "                        g_rp float32               mag     0\n",
      "             radial_velocity float64            km / s     0\n",
      "       radial_velocity_error float64            km / s     0\n",
      "          phot_variable_flag   str13                       0\n",
      "                           l float64               deg     0\n",
      "                           b float64               deg     0\n",
      "                     ecl_lon float64               deg     0\n",
      "                     ecl_lat float64               deg     0\n",
      "                    teff_val float32                 K     0\n",
      "       teff_percentile_lower float32                 K     0\n",
      "       teff_percentile_upper float32                 K     0\n",
      "                     a_g_val float32               mag     0\n",
      "        a_g_percentile_lower float32               mag     0\n",
      "        a_g_percentile_upper float32               mag     0\n",
      "             e_bp_min_rp_val float32               mag     0\n",
      "e_bp_min_rp_percentile_lower float32               mag     0\n",
      "e_bp_min_rp_percentile_upper float32               mag     0\n",
      "                  radius_val float32            solRad     0\n",
      "     radius_percentile_lower float32            solRad     0\n",
      "     radius_percentile_upper float32            solRad     0\n",
      "                     lum_val float32            solLum     0\n",
      "        lum_percentile_lower float32            solLum     0\n",
      "        lum_percentile_upper float32            solLum     0\n",
      "                       r_est float64                pc     0\n",
      "                        r_lo float64                pc     0\n",
      "                        r_hi float64                pc     0\n",
      "              r_length_prior float64                pc     0\n",
      "               r_result_flag   int16                       0\n",
      "             r_modality_flag   int16                       0\n",
      "                       kepid   int64                       0\n",
      "              tm_designation   str25                       0\n",
      "                   ra_kepler float64               deg     0\n",
      "                  dec_kepler float64               deg     0\n",
      "                      kepmag float64                       0\n",
      "                        teff   int64                 K     0\n",
      "                   teff_err1   int64                 K  1513\n",
      "                   teff_err2   int64                 K  1765\n",
      "                   teff_prov    str5                       0\n",
      "                        logg float64                       0\n",
      "                   logg_err1 float64                       0\n",
      "                   logg_err2 float64                       0\n",
      "                   logg_prov    str5                       0\n",
      "                         feh float64                       0\n",
      "                    feh_err1 float64                       0\n",
      "                    feh_err2 float64                       0\n",
      "                    feh_prov    str5                       0\n",
      "                      radius float64            solRad     0\n",
      "                 radius_err1 float64            solRad     0\n",
      "                 radius_err2 float64            solRad     0\n",
      "                        mass float64           solMass     0\n",
      "                   mass_err1 float64           solMass     0\n",
      "                   mass_err2 float64           solMass     0\n",
      "                    prov_sec    str6                       0\n",
      "                      nconfp   int64                       0\n",
      "                        nkoi   int64                       0\n",
      "                        ntce   int64                       0\n",
      "                        jmag float64               mag     0\n",
      "                        hmag float64               mag     0\n",
      "                        kmag float64               mag     0\n",
      "                     planet?    str4                       0\n",
      "        kepler_gaia_ang_dist float64            arcsec     0\n"
     ]
    }
   ],
   "source": [
    "data = Table.read('../data/KepxDR2/kepler_dr2_1arcsec.fits', format='fits')\n",
    "kdf = data.to_pandas()\n",
    "kdf.rename(columns={'kepid':'KICID'},inplace=True)\n",
    "kdf.head(2)\n",
    "data.info()"
   ]
  },
  {
   "cell_type": "code",
   "execution_count": 5,
   "metadata": {},
   "outputs": [
    {
     "name": "stdout",
     "output_type": "stream",
     "text": [
      "16135\n"
     ]
    }
   ],
   "source": [
    "df = pd.merge(ydf, kdf, on='KICID',how='left')\n",
    "print(len(df))"
   ]
  },
  {
   "cell_type": "code",
   "execution_count": null,
   "metadata": {},
   "outputs": [],
   "source": [
    "sns.jointplot(df.Teff, df.teff)\n",
    "plt.show()\n",
    "sns.jointplot(df['[Fe/H]'], df.feh)\n",
    "plt.show()\n",
    "sns.jointplot(df.yu_logg,df.logg)\n",
    "plt.show()"
   ]
  },
  {
   "cell_type": "code",
   "execution_count": null,
   "metadata": {},
   "outputs": [],
   "source": [
    "df.to_csv('../data/KepxDR2/xyu18.csv')"
   ]
  },
  {
   "cell_type": "code",
   "execution_count": 8,
   "metadata": {},
   "outputs": [
    {
     "name": "stdout",
     "output_type": "stream",
     "text": [
      "Selecting only RC stars & existing parallax\n",
      "Before: 16135\n",
      "After: 7692\n"
     ]
    }
   ],
   "source": [
    "'''<<<SELECT RC ONLY STARS>>>'''\n",
    "print('Selecting only RC stars & existing parallax')\n",
    "print('Before: '+str(len(df)))\n",
    "rcdf = df[df.stage==2]\n",
    "rcdf = rcdf[np.isfinite(rcdf.parallax)]\n",
    "print('After: '+str(len(rcdf)))\n",
    "\n",
    "# print('Dropping duplicates')\n",
    "# print('Before: '+str(len(rcdf)))\n",
    "# rcdf.drop_duplicates('KICID',inplace=True)\n",
    "# rcdf = rcdf.reindex()\n",
    "# print('After: '+str(len(rcdf)))\n",
    "\n",
    "# rcdf.to_csv('../data/KepxDR2/RCxyu18.csv')"
   ]
  },
  {
   "cell_type": "code",
   "execution_count": 14,
   "metadata": {},
   "outputs": [
    {
     "data": {
      "text/html": [
       "<div>\n",
       "<style scoped>\n",
       "    .dataframe tbody tr th:only-of-type {\n",
       "        vertical-align: middle;\n",
       "    }\n",
       "\n",
       "    .dataframe tbody tr th {\n",
       "        vertical-align: top;\n",
       "    }\n",
       "\n",
       "    .dataframe thead th {\n",
       "        text-align: right;\n",
       "    }\n",
       "</style>\n",
       "<table border=\"1\" class=\"dataframe\">\n",
       "  <thead>\n",
       "    <tr style=\"text-align: right;\">\n",
       "      <th></th>\n",
       "      <th>KICID</th>\n",
       "      <th>J_MAG_2M</th>\n",
       "      <th>J_MAG_ERR</th>\n",
       "      <th>H_MAG_2M</th>\n",
       "      <th>H_MAG_ERR</th>\n",
       "      <th>K_MAG_2M</th>\n",
       "      <th>K_MAG_ERR</th>\n",
       "    </tr>\n",
       "  </thead>\n",
       "  <tbody>\n",
       "    <tr>\n",
       "      <th>0</th>\n",
       "      <td>10000207</td>\n",
       "      <td>10.811</td>\n",
       "      <td>0.021</td>\n",
       "      <td>10.261</td>\n",
       "      <td>0.017</td>\n",
       "      <td>10.172</td>\n",
       "      <td>0.012</td>\n",
       "    </tr>\n",
       "    <tr>\n",
       "      <th>1</th>\n",
       "      <td>10000547</td>\n",
       "      <td>10.712</td>\n",
       "      <td>0.021</td>\n",
       "      <td>10.247</td>\n",
       "      <td>0.019</td>\n",
       "      <td>10.161</td>\n",
       "      <td>0.014</td>\n",
       "    </tr>\n",
       "  </tbody>\n",
       "</table>\n",
       "</div>"
      ],
      "text/plain": [
       "      KICID  J_MAG_2M  J_MAG_ERR  H_MAG_2M  H_MAG_ERR  K_MAG_2M  K_MAG_ERR\n",
       "0  10000207    10.811      0.021    10.261      0.017    10.172      0.012\n",
       "1  10000547    10.712      0.021    10.247      0.019    10.161      0.014"
      ]
     },
     "execution_count": 14,
     "metadata": {},
     "output_type": "execute_result"
    }
   ],
   "source": [
    "#Now lets read in the KICID and relevant information from APOKASC\n",
    "sfile = '/home/oliver/PhD/Catalogues/APOKASC/APOKASC_cat_v3.6.5.txt'\n",
    "cols= ['KEPLER_ID',\\\n",
    "      'J_MAG_2M', 'J_MAG_ERR', 'H_MAG_2M', 'H_MAG_ERR',\\\n",
    "       'K_MAG_2M', 'K_MAG_ERR']\n",
    "\n",
    "apokasc = pd.read_csv(sfile, usecols=cols, skiprows=644,sep='\\s+')\n",
    "apokasc.rename(columns={'KEPLER_ID':'KICID'},inplace=True)\n",
    "\n",
    "apokasc.head(2)"
   ]
  },
  {
   "cell_type": "code",
   "execution_count": 33,
   "metadata": {},
   "outputs": [],
   "source": [
    "from omnitool import spyglass\n",
    "sg = spyglass()\n",
    "sg.pass_position(rcdf.ra, rcdf.dec, frame='icrs')\n",
    "sg.pass_distance(rcdf.r_est)\n",
    "rcdf['Ebv'] = sg.get_Ebv()"
   ]
  },
  {
   "cell_type": "code",
   "execution_count": 34,
   "metadata": {},
   "outputs": [
    {
     "name": "stdout",
     "output_type": "stream",
     "text": [
      "11876\n",
      "7692\n",
      "Saving\n"
     ]
    }
   ],
   "source": [
    "fdf = pd.merge(rcdf, apokasc, on='KICID',how='left')\n",
    "print(len(np.isfinite(apokasc.K_MAG_2M)))\n",
    "print(len(np.isfinite(fdf.K_MAG_2M)))\n",
    "print('Saving')\n",
    "fdf.to_csv('../data/KepxDR2/RCxyu18_wdupes.csv')"
   ]
  },
  {
   "cell_type": "code",
   "execution_count": 35,
   "metadata": {
    "scrolled": true
   },
   "outputs": [
    {
     "name": "stdout",
     "output_type": "stream",
     "text": [
      "0       0.102378\n",
      "1       0.093784\n",
      "2       0.114852\n",
      "3       0.075924\n",
      "4       0.261683\n",
      "5       0.158485\n",
      "6       0.104443\n",
      "7       0.043564\n",
      "8       0.049708\n",
      "9       0.067402\n",
      "10      0.088036\n",
      "11      0.087720\n",
      "12      0.081256\n",
      "13      0.077898\n",
      "14      0.084563\n",
      "15      0.113927\n",
      "16      0.147160\n",
      "17      0.085268\n",
      "18      0.150913\n",
      "19      0.071231\n",
      "20      0.062592\n",
      "21      0.136890\n",
      "22      0.133993\n",
      "23      0.101761\n",
      "24      0.067036\n",
      "25      0.077226\n",
      "26      0.110622\n",
      "27      0.121745\n",
      "28      0.123917\n",
      "29      0.164447\n",
      "          ...   \n",
      "7662    0.045896\n",
      "7663    0.043901\n",
      "7664    0.039366\n",
      "7665    0.047440\n",
      "7666    0.047429\n",
      "7667    0.037715\n",
      "7668    0.100974\n",
      "7669    0.061386\n",
      "7670    0.061016\n",
      "7671    0.050493\n",
      "7672    0.076319\n",
      "7673    0.083830\n",
      "7674    0.083830\n",
      "7675    0.089298\n",
      "7676    0.078941\n",
      "7677    0.086859\n",
      "7678    0.041475\n",
      "7679    0.052030\n",
      "7680    0.051368\n",
      "7681    0.065243\n",
      "7682    0.043869\n",
      "7683    0.072230\n",
      "7684    0.066825\n",
      "7685    0.065900\n",
      "7686    0.069245\n",
      "7687    0.073474\n",
      "7688    0.043461\n",
      "7689    0.078329\n",
      "7690    0.062734\n",
      "7691    0.086017\n",
      "Name: Ebv, Length: 7692, dtype: float32\n"
     ]
    },
    {
     "ename": "SystemExit",
     "evalue": "",
     "output_type": "error",
     "traceback": [
      "An exception has occurred, use %tb to see the full traceback.\n",
      "\u001b[0;31mSystemExit\u001b[0m\n"
     ]
    },
    {
     "name": "stderr",
     "output_type": "stream",
     "text": [
      "/usr/local/lib/python2.7/dist-packages/IPython/core/interactiveshell.py:2889: UserWarning: To exit: use 'exit', 'quit', or Ctrl-D.\n",
      "  warn(\"To exit: use 'exit', 'quit', or Ctrl-D.\", stacklevel=1)\n"
     ]
    }
   ],
   "source": [
    "print(fdf.Ebv)\n",
    "import sys\n",
    "sys.exit()"
   ]
  },
  {
   "cell_type": "code",
   "execution_count": 37,
   "metadata": {},
   "outputs": [
    {
     "name": "stdout",
     "output_type": "stream",
     "text": [
      "7725\n",
      "7719\n",
      "7728\n",
      "7674\n"
     ]
    }
   ],
   "source": [
    "#Adding the 2MASS read values in\n",
    "sfile = '../data/KepxDR2/MRCxyu18_wdupes_BC.csv'\n",
    "df = pd.read_csv(sfile,index_col=0)\n",
    "print(len(df))\n",
    "inf = pd.read_csv('../data/KepxDR2/asu.tsv',skiprows =52,sep='|')\n",
    "inf['KICID'] = ''\n",
    "inf['KICID']=inf['_1'].apply(lambda x: x[4:])\n",
    "print(len(df.drop_duplicates()))\n",
    "print(len(inf))\n",
    "print(len(inf.drop_duplicates()))"
   ]
  },
  {
   "cell_type": "code",
   "execution_count": 31,
   "metadata": {},
   "outputs": [
    {
     "name": "stdout",
     "output_type": "stream",
     "text": [
      "7728\n",
      "7674\n"
     ]
    }
   ],
   "source": []
  },
  {
   "cell_type": "code",
   "execution_count": null,
   "metadata": {},
   "outputs": [],
   "source": []
  }
 ],
 "metadata": {
  "kernelspec": {
   "display_name": "Python 2",
   "language": "python",
   "name": "python2"
  },
  "language_info": {
   "codemirror_mode": {
    "name": "ipython",
    "version": 2
   },
   "file_extension": ".py",
   "mimetype": "text/x-python",
   "name": "python",
   "nbconvert_exporter": "python",
   "pygments_lexer": "ipython2",
   "version": "2.7.12"
  }
 },
 "nbformat": 4,
 "nbformat_minor": 2
}
