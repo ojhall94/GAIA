{
 "cells": [
  {
   "cell_type": "markdown",
   "metadata": {},
   "source": [
    "To do:\n",
    "- Get a new list of apparent magnitudes, now properly including the H band\n",
    "- Figure out where the BCs come from exactly"
   ]
  },
  {
   "cell_type": "markdown",
   "metadata": {},
   "source": [
    "# Dataset Build\n",
    "\n",
    "This notebook will go through my target selection process step by step to make sure the selections and cuts are fully transparent."
   ]
  },
  {
   "cell_type": "code",
   "execution_count": 1,
   "metadata": {},
   "outputs": [],
   "source": [
    "import numpy as np\n",
    "import matplotlib.pyplot as plt\n",
    "import pandas as pd\n",
    "import seaborn as sns\n",
    "from astropy.table import Table"
   ]
  },
  {
   "cell_type": "markdown",
   "metadata": {},
   "source": [
    "I'll be using the function below to remove duplicates thoughout this code."
   ]
  },
  {
   "cell_type": "code",
   "execution_count": 2,
   "metadata": {},
   "outputs": [],
   "source": [
    "def kill_duplicates(df,ID, sep):\n",
    "    df = df.copy(deep=True)\n",
    "    sel = df.duplicated(ID, keep=False)\n",
    "    s = df[sel]\n",
    "    for idx in range(s[ID].nunique()):\n",
    "        subset = s[s[ID] == s[ID].values[idx]]\n",
    "        lock = True  #Iterate and remove the target of largest separation\n",
    "        while lock:\n",
    "            if len(subset) > 1.:\n",
    "                drop = subset[sep].idxmax()\n",
    "                subset.drop(drop, inplace=True)\n",
    "                s.drop(drop,inplace=True)\n",
    "                df.drop(drop, inplace=True)\n",
    "            elif len(subset == 1.):\n",
    "                lock = False\n",
    "            else:\n",
    "                print('The code shouldnt be here?')\n",
    "    return df"
   ]
  },
  {
   "cell_type": "markdown",
   "metadata": {},
   "source": [
    "### 1) Read in the [Kepler x DR2](https://gaia-kepler.fun/) catalogue (thanks Megan Bedell)"
   ]
  },
  {
   "cell_type": "code",
   "execution_count": 3,
   "metadata": {},
   "outputs": [
    {
     "name": "stdout",
     "output_type": "stream",
     "text": [
      "Targets in Kep x DR2: 195830\n"
     ]
    }
   ],
   "source": [
    "data = Table.read('../data/KepxDR2/kepler_dr2_1arcsec.fits', format='fits')\n",
    "kdf = data.to_pandas()\n",
    "kdf.rename(columns={'kepid':'KICID'},inplace=True)\n",
    "print('Targets in Kep x DR2: '+str(len(kdf)))"
   ]
  },
  {
   "cell_type": "markdown",
   "metadata": {},
   "source": [
    "### 2) Read in the [Yu et al. 2018](http://adsabs.harvard.edu/abs/2018arXiv180204455Y) catalogue"
   ]
  },
  {
   "cell_type": "code",
   "execution_count": 4,
   "metadata": {},
   "outputs": [
    {
     "name": "stdout",
     "output_type": "stream",
     "text": [
      "Targets: 16094\n"
     ]
    }
   ],
   "source": [
    "sfile = '../../Catalogues/RC_catalogues/Yu+18_table1.txt'\n",
    "yu18_1 = pd.read_csv(sfile, sep='|')\n",
    "\n",
    "sfile = '../../Catalogues/RC_catalogues/Yu+18_table2.txt'\n",
    "yu18_2 = pd.read_csv(sfile, sep='|')\n",
    "yu18 = pd.merge(yu18_1, yu18_2, on='KICID',how='left')\n",
    "yu18.rename(columns={'EvoPhase':'stage',\n",
    "                    'err_x':'numax_err',\n",
    "                    'err.1_x':'dnu_err',\n",
    "                    'err_y':'Teff_err',\n",
    "                     'Fe/H':'[Fe/H]',\n",
    "                    'err.2':'[Fe/H]_err',\n",
    "                    'logg':'yu_logg',\n",
    "                    'err.1_y':'yu_logg_err',\n",
    "                    'err.3_y':'M_err',\n",
    "                    'err.4_y':'R_err'},inplace=True) #For consistency\n",
    "print('Targets: '+str(len(yu18)))"
   ]
  },
  {
   "cell_type": "markdown",
   "metadata": {},
   "source": [
    "### 3) Merge the KeplerxDR2 and Yu18 catalogues on KIC"
   ]
  },
  {
   "cell_type": "code",
   "execution_count": 5,
   "metadata": {},
   "outputs": [
    {
     "name": "stdout",
     "output_type": "stream",
     "text": [
      "Targets: 16135\n"
     ]
    }
   ],
   "source": [
    "xyu18 = pd.merge(yu18, kdf, on='KICID',how='left')\n",
    "print('Targets: '+str(len(xyu18)))"
   ]
  },
  {
   "cell_type": "markdown",
   "metadata": {},
   "source": [
    "#### 3.1) Only keep duplicates with the smallest angular separation"
   ]
  },
  {
   "cell_type": "code",
   "execution_count": 6,
   "metadata": {},
   "outputs": [
    {
     "name": "stderr",
     "output_type": "stream",
     "text": [
      "/usr/local/lib/python2.7/dist-packages/ipykernel_launcher.py:11: SettingWithCopyWarning: \n",
      "A value is trying to be set on a copy of a slice from a DataFrame\n",
      "\n",
      "See the caveats in the documentation: http://pandas.pydata.org/pandas-docs/stable/indexing.html#indexing-view-versus-copy\n",
      "  # This is added back by InteractiveShellApp.init_path()\n",
      "/usr/local/lib/python2.7/dist-packages/ipykernel_launcher.py:12: SettingWithCopyWarning: \n",
      "A value is trying to be set on a copy of a slice from a DataFrame\n",
      "\n",
      "See the caveats in the documentation: http://pandas.pydata.org/pandas-docs/stable/indexing.html#indexing-view-versus-copy\n",
      "  if sys.path[0] == '':\n"
     ]
    },
    {
     "name": "stdout",
     "output_type": "stream",
     "text": [
      "Targets: 16094\n"
     ]
    }
   ],
   "source": [
    "xyu18 = kill_duplicates(xyu18, 'KICID', 'kepler_gaia_ang_dist')\n",
    "print('Targets: '+str(len(xyu18)))"
   ]
  },
  {
   "cell_type": "markdown",
   "metadata": {},
   "source": [
    "#### 3.2) Removing any infinite parallax values"
   ]
  },
  {
   "cell_type": "code",
   "execution_count": 7,
   "metadata": {},
   "outputs": [
    {
     "name": "stdout",
     "output_type": "stream",
     "text": [
      "Targets: 16037\n"
     ]
    }
   ],
   "source": [
    "xyu18 = xyu18[np.isfinite(xyu18.parallax)]\n",
    "print('Targets: '+str(len(xyu18)))"
   ]
  },
  {
   "cell_type": "markdown",
   "metadata": {},
   "source": [
    "#### 3.3) Removing any parallax uncertainties above 35%"
   ]
  },
  {
   "cell_type": "code",
   "execution_count": 8,
   "metadata": {},
   "outputs": [
    {
     "name": "stdout",
     "output_type": "stream",
     "text": [
      "Targets: 15822\n"
     ]
    }
   ],
   "source": [
    "xyu18 = xyu18[xyu18.parallax_error/xyu18.parallax < .35]\n",
    "print('Targets: '+str(len(xyu18)))"
   ]
  },
  {
   "cell_type": "markdown",
   "metadata": {},
   "source": [
    "### 4) Select Red Clump stars only"
   ]
  },
  {
   "cell_type": "code",
   "execution_count": 9,
   "metadata": {},
   "outputs": [
    {
     "name": "stdout",
     "output_type": "stream",
     "text": [
      "Targets: 7534\n"
     ]
    }
   ],
   "source": [
    "rcxyu18 = xyu18[xyu18.stage==2]\n",
    "print('Targets: '+str(len(rcxyu18)))"
   ]
  },
  {
   "cell_type": "markdown",
   "metadata": {},
   "source": [
    "### 5) Add photometry from [2MASS](http://vizier.u-strasbg.fr/cgi-bin/VizieR?-source=B/2mass)\n",
    "I'll also remove any data that have negative or otherwise unphysical magnitudes or uncertainties.\n",
    "\n",
    "In addition to the 2MASS photometry, we also use the measure of magnitude in the *Gaia* *G* Band provided with the *Gaia* sample."
   ]
  },
  {
   "cell_type": "markdown",
   "metadata": {},
   "source": [
    "#### 5.1) Read in the data"
   ]
  },
  {
   "cell_type": "code",
   "execution_count": 21,
   "metadata": {},
   "outputs": [
    {
     "name": "stdout",
     "output_type": "stream",
     "text": [
      "Targets in 2MASS: 7727\n"
     ]
    }
   ],
   "source": [
    "twomass = pd.read_csv('../data/KepxDR2/asu.tsv',sep='|',skiprows=52)\n",
    "twomass['KICID'] = ''\n",
    "twomass['KICID'] = twomass['_1'].apply(lambda x: x[4:]).str.strip()\n",
    "twomass = twomass[:-1] #Delete broken final column\n",
    "print('Targets in 2MASS: '+str(len(twomass)))"
   ]
  },
  {
   "cell_type": "markdown",
   "metadata": {},
   "source": [
    "#### 5.2) Remove strange string artefacts and NaN values"
   ]
  },
  {
   "cell_type": "code",
   "execution_count": 22,
   "metadata": {},
   "outputs": [
    {
     "name": "stdout",
     "output_type": "stream",
     "text": [
      "Targets in 2MASS: 7684\n"
     ]
    }
   ],
   "source": [
    "#Kill NaN values for J band mag err (and by association J band mag)\n",
    "twomass['e_Jmag'] = twomass['e_Jmag'].str.strip()\n",
    "twomass.drop(twomass[twomass.e_Jmag == ''].index.values, inplace=True)\n",
    "twomass['e_Jmag'] = twomass.e_Jmag.astype(float)\n",
    "\n",
    "#Kill NaN values for K band mag err (and by association K band mag)\n",
    "twomass.drop(twomass[~np.isfinite(twomass.e_Kmag)].index.values, inplace=True)\n",
    "\n",
    "#Kill NaN values forHK band mag err (and by association K band mag)\n",
    "twomass['e_Hmag'] = twomass['e_Hmag'].str.strip()\n",
    "twomass.drop(twomass[twomass.e_Hmag == ''].index.values, inplace=True)\n",
    "print('Targets in 2MASS: '+str(len(twomass)))"
   ]
  },
  {
   "cell_type": "markdown",
   "metadata": {},
   "source": [
    "#### 5.2) Remove duplicates on angular distance to target"
   ]
  },
  {
   "cell_type": "code",
   "execution_count": 23,
   "metadata": {},
   "outputs": [
    {
     "name": "stderr",
     "output_type": "stream",
     "text": [
      "/usr/local/lib/python2.7/dist-packages/ipykernel_launcher.py:11: SettingWithCopyWarning: \n",
      "A value is trying to be set on a copy of a slice from a DataFrame\n",
      "\n",
      "See the caveats in the documentation: http://pandas.pydata.org/pandas-docs/stable/indexing.html#indexing-view-versus-copy\n",
      "  # This is added back by InteractiveShellApp.init_path()\n",
      "/usr/local/lib/python2.7/dist-packages/ipykernel_launcher.py:12: SettingWithCopyWarning: \n",
      "A value is trying to be set on a copy of a slice from a DataFrame\n",
      "\n",
      "See the caveats in the documentation: http://pandas.pydata.org/pandas-docs/stable/indexing.html#indexing-view-versus-copy\n",
      "  if sys.path[0] == '':\n"
     ]
    },
    {
     "name": "stdout",
     "output_type": "stream",
     "text": [
      "Targets in 2MASS: 7629\n"
     ]
    }
   ],
   "source": [
    "twomass = kill_duplicates(twomass, 'KICID', '_r')\n",
    "print('Targets in 2MASS: '+str(len(twomass)))"
   ]
  },
  {
   "cell_type": "markdown",
   "metadata": {},
   "source": [
    "#### 5.3) Merge with our data"
   ]
  },
  {
   "cell_type": "code",
   "execution_count": 13,
   "metadata": {},
   "outputs": [
    {
     "name": "stdout",
     "output_type": "stream",
     "text": [
      "Targets: 7534\n"
     ]
    },
    {
     "name": "stderr",
     "output_type": "stream",
     "text": [
      "/usr/local/lib/python2.7/dist-packages/ipykernel_launcher.py:1: SettingWithCopyWarning: \n",
      "A value is trying to be set on a copy of a slice from a DataFrame.\n",
      "Try using .loc[row_indexer,col_indexer] = value instead\n",
      "\n",
      "See the caveats in the documentation: http://pandas.pydata.org/pandas-docs/stable/indexing.html#indexing-view-versus-copy\n",
      "  \"\"\"Entry point for launching an IPython kernel.\n"
     ]
    }
   ],
   "source": [
    "rcxyu18['KICID'] = rcxyu18['KICID'].astype(str)\n",
    "rcxyu18 = pd.merge(rcxyu18, twomass, on='KICID',how='left')\n",
    "print('Targets: '+str(len(rcxyu18)))"
   ]
  },
  {
   "cell_type": "markdown",
   "metadata": {},
   "source": [
    "### 6) Get reddening & extinction from [Bayestar 17](http://argonaut.skymaps.info/) ([Green et al. 2018](http://adsabs.harvard.edu/abs/2018AAS...23135002G))\n",
    "\n",
    "We use the [Bailer-Jones estimated distance](https://arxiv.org/abs/1804.10121) to get a measure of the reddening. Any changes in reddening due to using this value over, say, using 1/$\\varpi$, falls within the priors on extinction in our model.\n",
    "\n",
    "For extinction coefficients, please see references on [omnitool.literature_values](https://github.com/ojhall94/omnitool/blob/master/omnitool/literature_values.py)"
   ]
  },
  {
   "cell_type": "code",
   "execution_count": 14,
   "metadata": {},
   "outputs": [
    {
     "name": "stderr",
     "output_type": "stream",
     "text": [
      "/usr/local/lib/python2.7/dist-packages/h5py/__init__.py:36: FutureWarning: Conversion of the second argument of issubdtype from `float` to `np.floating` is deprecated. In future, it will be treated as `np.float64 == np.dtype(float).type`.\n",
      "  from ._conv import register_converters as _register_converters\n"
     ]
    }
   ],
   "source": [
    "from omnitool import spyglass\n",
    "from omnitool.literature_values import Av_coeffs\n",
    "sg = spyglass()\n",
    "sg.pass_position(rcxyu18.ra, rcxyu18.dec, frame='icrs')\n",
    "sg.pass_distance(rcxyu18.r_est)\n",
    "rcxyu18['Ebv'] = sg.get_Ebv()\n",
    "rcxyu18['Aks'] = rcxyu18.Ebv * Av_coeffs['Ks'].values[0]\n",
    "rcxyu18['Aj'] = rcxyu18.Ebv * Av_coeffs['J'].values[0]\n",
    "rcxyu18['Ah'] = rcxyu18.Ebv * Av_coeffs['H'].values[0]\n",
    "rcxyu18['Ag'] = rcxyu18.Ebv * Av_coeffs['G'].values[0]"
   ]
  },
  {
   "cell_type": "markdown",
   "metadata": {},
   "source": [
    "### 7) Calculate (a *basic* value for) the asteroseismic absolute magnitude\n",
    "We'll do this using my omnitool package to run the asteroseismic scaling relations (no corrections to them for now, hence the basic).\n",
    "\n",
    "Bolometric Corrections are taken using the method by Casagrande et al. (??)[**SOURCE?**]"
   ]
  },
  {
   "cell_type": "markdown",
   "metadata": {},
   "source": [
    "#### 7.1) Get the asteroseismic bolometric magnitude"
   ]
  },
  {
   "cell_type": "code",
   "execution_count": 15,
   "metadata": {},
   "outputs": [],
   "source": [
    "from omnitool.literature_values import Rsol, Msol, Lsol, Zsol\n",
    "from omnitool import scalings\n",
    "\n",
    "sc = scalings(rcxyu18, rcxyu18.numax, rcxyu18.dnu, rcxyu18. Teff,\\\n",
    "                      _numax_err = rcxyu18.numax_err, _dnu_err = rcxyu18.dnu_err,\\\n",
    "                      _Teff_err = rcxyu18.Teff_err)\n",
    "rcxyu18['R'] = sc.get_radius()/Rsol\n",
    "rcxyu18['R_err'] = sc.get_radius_err()/Rsol\n",
    "rcxyu18['M'] = sc.get_mass()/Msol\n",
    "rcxyu18['M_err'] = sc.get_mass_err()/Msol\n",
    "rcxyu18['logg'] = sc.get_logg()\n",
    "rcxyu18['logg_err'] = sc.get_logg_err()\n",
    "rcxyu18['L'] = sc.get_luminosity()/Lsol\n",
    "rcxyu18['L_err'] = sc.get_luminosity_err()/Lsol\n",
    "rcxyu18['Mbol'] = sc.get_bolmag()\n",
    "rcxyu18['Mbol_err'] = sc.get_bolmag_err()\n",
    "rcxyu18['Z'] = Zsol * 10 ** rcxyu18['[Fe/H]'].values"
   ]
  },
  {
   "cell_type": "markdown",
   "metadata": {},
   "source": [
    "#### 7.2) Read in the Casagrande Bolometric Corrections\n",
    "We'll make sure to kill any duplicates on angular distance before merging"
   ]
  },
  {
   "cell_type": "code",
   "execution_count": 16,
   "metadata": {},
   "outputs": [
    {
     "name": "stderr",
     "output_type": "stream",
     "text": [
      "/usr/local/lib/python2.7/dist-packages/ipykernel_launcher.py:11: SettingWithCopyWarning: \n",
      "A value is trying to be set on a copy of a slice from a DataFrame\n",
      "\n",
      "See the caveats in the documentation: http://pandas.pydata.org/pandas-docs/stable/indexing.html#indexing-view-versus-copy\n",
      "  # This is added back by InteractiveShellApp.init_path()\n",
      "/usr/local/lib/python2.7/dist-packages/ipykernel_launcher.py:12: SettingWithCopyWarning: \n",
      "A value is trying to be set on a copy of a slice from a DataFrame\n",
      "\n",
      "See the caveats in the documentation: http://pandas.pydata.org/pandas-docs/stable/indexing.html#indexing-view-versus-copy\n",
      "  if sys.path[0] == '':\n"
     ]
    },
    {
     "name": "stdout",
     "output_type": "stream",
     "text": [
      "Targets: 7534\n"
     ]
    }
   ],
   "source": [
    "bcdf = pd.read_csv('../data/KepxDR2/casagrande_bcs.csv')\n",
    "bcdf['KICID'] = bcdf['KICID'].astype(str)\n",
    "bcdf = kill_duplicates(bcdf, 'KICID', 'kepler_gaia_ang_dist')\n",
    "rcxyu18 = pd.merge(rcxyu18, bcdf, on='KICID',how='left')\n",
    "print('Targets: '+str(len(rcxyu18)))"
   ]
  },
  {
   "cell_type": "markdown",
   "metadata": {},
   "source": [
    "#### 7.3) Calculate the absolute magnitudes in J, H and Ks\n",
    "\n",
    "We assume the intrinsic error on the bolometric correction to be of the order of $0.02\\rm mag$"
   ]
  },
  {
   "cell_type": "code",
   "execution_count": 17,
   "metadata": {},
   "outputs": [],
   "source": [
    "err_bc = 0.02#mag\n",
    "rcxyu18['ast_MKs'] = rcxyu18.Mbol - rcxyu18.BC_K\n",
    "rcxyu18['ast_MH'] = rcxyu18.Mbol - rcxyu18.BC_H\n",
    "rcxyu18['ast_MJ'] = rcxyu18.Mbol - rcxyu18.BC_J\n",
    "rcxyu18['ast_MG'] = rcxyu18.Mbol - rcxyu18.BC_GAIA\n",
    "rcxyu18['ast_M_err'] = np.sqrt(rcxyu18.Mbol_err**2 + err_bc**2)"
   ]
  },
  {
   "cell_type": "markdown",
   "metadata": {},
   "source": [
    "### Final count of targets in ours sample:"
   ]
  },
  {
   "cell_type": "code",
   "execution_count": 18,
   "metadata": {},
   "outputs": [
    {
     "name": "stdout",
     "output_type": "stream",
     "text": [
      "7534\n"
     ]
    }
   ],
   "source": [
    "print(str(len(rcxyu18)))"
   ]
  }
 ],
 "metadata": {
  "kernelspec": {
   "display_name": "Python 2",
   "language": "python",
   "name": "python2"
  },
  "language_info": {
   "codemirror_mode": {
    "name": "ipython",
    "version": 2
   },
   "file_extension": ".py",
   "mimetype": "text/x-python",
   "name": "python",
   "nbconvert_exporter": "python",
   "pygments_lexer": "ipython2",
   "version": "2.7.12"
  }
 },
 "nbformat": 4,
 "nbformat_minor": 2
}
